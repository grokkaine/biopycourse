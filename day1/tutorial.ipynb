{
 "cells": [
  {
   "cell_type": "markdown",
   "metadata": {},
   "source": [
    "# Python tutorial\n",
    "\n",
    "- [Basics](#Basics): Math, Variables, Functions, Control flow, Modules\n",
    "- [Data representation](#Data-representation): String, Tuple, List, Set, Dictionary, Objects and Classes\n",
    "- [Standard library modules](#Standard-library-modules): script arguments, file operations, timing, processes, forks, multiprocessing"
   ]
  },
  {
   "cell_type": "markdown",
   "metadata": {},
   "source": [
    "- Beginners in programming have a hard time knowing where to begin and are overwhelmed.\n",
    "- These first steps are not very methodical. Programming language classes take time, start with basic concepts and gradually improve and expand on them. \n",
    "- Universities offer more relaxed programming classes for students, but this is a different type of learning. Students have time for many things, for the rest of us working people there are two or perhaps three steps to learning a new language or a new library, and we learn by doing. The [tutorial](https://docs.python.org/3/tutorial/) is a simple exposure that takes you through some key aspects, next comes the programming guide (or any decent book) where concepts are explained in greater detail and at last there is the [reference library](https://docs.python.org/3/library/index.html), where every detail is supposed to be documented in concise format. Good programmers learn to read the tutorial, read some key aspects from the guide that make their library stand out and only check the reference guide when needed.\n",
    "- No matter how good I would become at teaching basic Python in one or two hours, it fails to compare with reading the default tutorial, which would take much longer time than we have at our disposal. So please understand that there is a trade-off between time and quality. As we learn by doing I would like to invite you to check whenever possible the documentation for Python and for the libraries we are using.\n",
    "- If you want to a certain standard module to be discussed in more depth, mention it in Hackmd/Slack!"
   ]
  },
  {
   "cell_type": "markdown",
   "metadata": {},
   "source": [
    "# Basics"
   ]
  },
  {
   "cell_type": "markdown",
   "metadata": {},
   "source": [
    "### Variables and comments\n",
    "\n",
    "Variable vs type. 'Native' datatypes. Console output."
   ]
  },
  {
   "cell_type": "code",
   "execution_count": 2,
   "metadata": {},
   "outputs": [
    {
     "name": "stdout",
     "output_type": "stream",
     "text": [
      "None\n",
      "1\n",
      "abc\n",
      "['abc', 2, 3, 1.0, 1.2e-05, True]\n"
     ]
    }
   ],
   "source": [
    "# This is a line comment.\n",
    "\"\"\"\n",
    "A multi-line\n",
    "comment.\n",
    "\"\"\"\n",
    "a = None #Just declared an empty object\n",
    "print(a)\n",
    "a = 1\n",
    "print(a)\n",
    "a = 'abc'\n",
    "print(a)\n",
    "b = 3\n",
    "c = [1, 2, 3]\n",
    "a = [a, 2, b, 1., 1.2e-5, True] #This is a list.\n",
    "print(a)"
   ]
  },
  {
   "cell_type": "code",
   "execution_count": 1,
   "metadata": {},
   "outputs": [
    {
     "name": "stdout",
     "output_type": "stream",
     "text": [
      "<class 'int'>\n",
      "1\n",
      "<class 'str'>\n",
      "spam\n"
     ]
    }
   ],
   "source": [
    "## Python is a dynamic language\n",
    "a = 1\n",
    "print(type(a))\n",
    "print(a)\n",
    "a = \"spam\"\n",
    "print(type(a))\n",
    "print(a)"
   ]
  },
  {
   "cell_type": "code",
   "execution_count": 3,
   "metadata": {},
   "outputs": [
    {
     "name": "stdout",
     "output_type": "stream",
     "text": [
      "abc\n"
     ]
    }
   ],
   "source": [
    "a = 1\n",
    "a\n",
    "b = 'abc'\n",
    "print(b)\n",
    "#b"
   ]
  },
  {
   "cell_type": "markdown",
   "metadata": {},
   "source": [
    "Now let us switch the values of two variables."
   ]
  },
  {
   "cell_type": "code",
   "execution_count": 3,
   "metadata": {},
   "outputs": [
    {
     "name": "stdout",
     "output_type": "stream",
     "text": [
      "['abc', 2, 3, 1.0, 1.2e-05, True] 3 [1, 2, 3]\n",
      "['abc', 2, 3, 1.0, 1.2e-05, True] [1, 2, 3] 3\n"
     ]
    }
   ],
   "source": [
    "print(a, b, c)\n",
    "t = c\n",
    "c = b\n",
    "b = t\n",
    "print(a, b, c)"
   ]
  },
  {
   "cell_type": "markdown",
   "metadata": {},
   "source": [
    "### Math operations\n",
    "\n",
    "#### Arithmetic"
   ]
  },
  {
   "cell_type": "code",
   "execution_count": 4,
   "metadata": {},
   "outputs": [
    {
     "name": "stdout",
     "output_type": "stream",
     "text": [
      "14.0\n",
      "0.5\n"
     ]
    }
   ],
   "source": [
    "a = 2\n",
    "b = 1\n",
    "b = a*(5 + b) + 1/0.5\n",
    "print(b)\n",
    "d = 1/a\n",
    "print(d)"
   ]
  },
  {
   "cell_type": "markdown",
   "metadata": {},
   "source": [
    "#### Logical operations:"
   ]
  },
  {
   "cell_type": "code",
   "execution_count": 11,
   "metadata": {},
   "outputs": [
    {
     "name": "stdout",
     "output_type": "stream",
     "text": [
      "False\n",
      "False\n",
      "False\n",
      "True\n",
      "False\n"
     ]
    }
   ],
   "source": [
    "a = True\n",
    "b = 3\n",
    "print(b == 5)\n",
    "print(a == False)\n",
    "print(b < 6 and not a)\n",
    "print(b < 6 or not a)\n",
    "print(b < 6 and (not a or not b == 3))"
   ]
  },
  {
   "cell_type": "code",
   "execution_count": 14,
   "metadata": {},
   "outputs": [
    {
     "name": "stdout",
     "output_type": "stream",
     "text": [
      "False\n"
     ]
    }
   ],
   "source": [
    "print(False and True)"
   ]
  },
  {
   "cell_type": "code",
   "execution_count": 7,
   "metadata": {},
   "outputs": [
    {
     "data": {
      "text/plain": [
       "True"
      ]
     },
     "execution_count": 7,
     "metadata": {},
     "output_type": "execute_result"
    }
   ],
   "source": [
    "True == 1"
   ]
  },
  {
   "cell_type": "markdown",
   "metadata": {},
   "source": [
    "### Functions\n",
    "\n",
    "Functions are a great way to separate code into readable chunks. The exact size and number of functions needed to solve a problem will affect readability.\n",
    "\n",
    "New concepts: indentation, namespaces, global and local scope, default parameters, passing arguments by value or by reference is meaningless in Python, what are mutable and imutable types?"
   ]
  },
  {
   "cell_type": "code",
   "execution_count": 17,
   "metadata": {},
   "outputs": [
    {
     "name": "stdout",
     "output_type": "stream",
     "text": [
      "1 14.0\n"
     ]
    }
   ],
   "source": [
    "## Indentation and function declaration, parameters of a function\n",
    "def operation(a, b):\n",
    "    c = 2*(5 + b) + 1/0.5\n",
    "    a = 1\n",
    "    return a, c\n",
    "\n",
    "a = None\n",
    "mu = 2\n",
    "operation(mu, 1)\n",
    "a, op = operation(a, 1)\n",
    "print(a, op)"
   ]
  },
  {
   "cell_type": "code",
   "execution_count": 4,
   "metadata": {},
   "outputs": [
    {
     "name": "stdout",
     "output_type": "stream",
     "text": [
      "f is called\n",
      "inside the scope of f():\n",
      "a = 4\n",
      "outside the scope of f, a= 1\n",
      "inside the scope of f():\n",
      "a = 4\n",
      "also outside the scope of f, f returns 4\n"
     ]
    }
   ],
   "source": [
    "# Function scope, program workflow\n",
    "def f(a):\n",
    "    print(\"inside the scope of f():\")\n",
    "    a = 4\n",
    "    print(\"a =\", a)\n",
    "    return a\n",
    "a = 1\n",
    "print(\"f is called\")\n",
    "f(a)\n",
    "print(\"outside the scope of f, a=\", a)\n",
    "print(\"also outside the scope of f, f returns\", f(a))"
   ]
  },
  {
   "cell_type": "code",
   "execution_count": 9,
   "metadata": {},
   "outputs": [
    {
     "name": "stdout",
     "output_type": "stream",
     "text": [
      "6\n",
      "7\n"
     ]
    }
   ],
   "source": [
    "## Defining default parameters for a function\n",
    "def f2(a, b=1):\n",
    "    return a + b\n",
    "\n",
    "print(f2(5))\n",
    "print(f2(5, b=2))"
   ]
  },
  {
   "cell_type": "code",
   "execution_count": 6,
   "metadata": {},
   "outputs": [
    {
     "name": "stdout",
     "output_type": "stream",
     "text": [
      "0\n",
      "1\n",
      "f2: 1\n"
     ]
    }
   ],
   "source": [
    "## Globals. Never use them!\n",
    "g = 0\n",
    "\n",
    "def f1():\n",
    "    # Comment bellow to spot the diference\n",
    "    global g # Needed to modify global copy of g\n",
    "    g = 1\n",
    "\n",
    "def f2():\n",
    "    print(\"f2:\",g)\n",
    "\n",
    "print(g)\n",
    "f1()\n",
    "print(g)\n",
    "f2()"
   ]
  },
  {
   "cell_type": "markdown",
   "metadata": {},
   "source": [
    "Task:\n",
    "- Define three functions, f, g and h. Call g and h from inside f. Run f on some value v.\n",
    "- You can also have functions that are defined inside the namespace of another function. Try it!"
   ]
  },
  {
   "cell_type": "markdown",
   "metadata": {},
   "source": [
    "#### Data types\n",
    "\n",
    "Everything is an object in Python, and every object has an ID (or identity), a type, and a value. This means that whenever you assign an expression to a variable, you're not actually copying the value into a memory location denoted by that variable, but you're merely giving a name to the memory location where the value actually exists.\n",
    "\n",
    "- Once created, the ID of an object never changes. It is a unique identifier for it, and it is used behind the scenes by Python to retrieve the object when we want to use it.\n",
    "- The type also never changes. The type tells what operations are supported by the object and the possible values that can be assigned to it.\n",
    "- The value can either change or not. If it can, the object is said to be mutable, while when it cannot, the object is said to be immutable.\n"
   ]
  },
  {
   "cell_type": "code",
   "execution_count": 16,
   "metadata": {},
   "outputs": [
    {
     "data": {
      "text/html": [
       "<img src=\"../img/mutability.png\" width=\"400\" height=\"400\"/>"
      ],
      "text/plain": [
       "<IPython.core.display.Image object>"
      ]
     },
     "execution_count": 16,
     "metadata": {},
     "output_type": "execute_result"
    }
   ],
   "source": [
    "from IPython.display import Image\n",
    "Image(url= \"../img/mutability.png\", width=400, height=400)"
   ]
  },
  {
   "cell_type": "code",
   "execution_count": 8,
   "metadata": {},
   "outputs": [
    {
     "name": "stdout",
     "output_type": "stream",
     "text": [
      "140734864860896\n",
      "<class 'int'>\n",
      "43\n",
      "140734864860864\n",
      "<class 'int'>\n",
      "42\n"
     ]
    }
   ],
   "source": [
    "i = 43\n",
    "print(id(i))\n",
    "print(type(i))\n",
    "print(i)\n",
    "\n",
    "i = 42\n",
    "print(id(i))\n",
    "print(type(i))\n",
    "print(i)"
   ]
  },
  {
   "cell_type": "code",
   "execution_count": 7,
   "metadata": {},
   "outputs": [
    {
     "name": "stdout",
     "output_type": "stream",
     "text": [
      "140734997571296\n",
      "<class 'int'>\n",
      "43\n",
      "140734997571328\n",
      "<class 'int'>\n",
      "44\n"
     ]
    }
   ],
   "source": [
    "i = 43\n",
    "print(id(i))\n",
    "print(type(i))\n",
    "print(i)\n",
    "\n",
    "i = i + 1\n",
    "print(id(i))\n",
    "print(type(i))\n",
    "print(i)"
   ]
  },
  {
   "cell_type": "code",
   "execution_count": 15,
   "metadata": {},
   "outputs": [
    {
     "name": "stdout",
     "output_type": "stream",
     "text": [
      "140734864860896\n",
      "<class 'int'>\n",
      "43\n",
      "140734864860896\n",
      "<class 'int'>\n",
      "43\n"
     ]
    }
   ],
   "source": [
    "# assignments reference the same object as i\n",
    "i = 43\n",
    "print(id(i))\n",
    "print(type(i))\n",
    "print(i)\n",
    "\n",
    "j = i\n",
    "print(id(j))\n",
    "print(type(j))\n",
    "print(j)"
   ]
  },
  {
   "cell_type": "code",
   "execution_count": null,
   "metadata": {},
   "outputs": [],
   "source": [
    "# Task: will j also change?\n",
    "i = 5"
   ]
  },
  {
   "cell_type": "code",
   "execution_count": 9,
   "metadata": {},
   "outputs": [
    {
     "name": "stdout",
     "output_type": "stream",
     "text": [
      "foo foo\n",
      "foo foobar\n"
     ]
    }
   ],
   "source": [
    "# Strings of characters are also immutable, x did not changed its value\n",
    "x = 'foo'\n",
    "y = x\n",
    "print(x, y) # foo\n",
    "y += 'bar'\n",
    "print(x, y) # foo"
   ]
  },
  {
   "cell_type": "code",
   "execution_count": 8,
   "metadata": {},
   "outputs": [
    {
     "name": "stdout",
     "output_type": "stream",
     "text": [
      "[1, 2, 3]\n",
      "1799133954760\n",
      "<class 'list'>\n",
      "[1, 2]\n",
      "1799133954760\n"
     ]
    }
   ],
   "source": [
    "# lists are mutable\n",
    "x = [1, 2, 3]\n",
    "print(x)\n",
    "print(id(x))\n",
    "print(type(x))\n",
    "x.pop()\n",
    "#x = [1, 2, 3]\n",
    "print(x)\n",
    "print(id(x))"
   ]
  },
  {
   "cell_type": "markdown",
   "metadata": {},
   "source": [
    "Question:\n",
    "- Why weren't all data types made mutable only, or immutable only?\n",
    "\n",
    "Below, if ints would have been mutable, you would expect both variables to be updated. But you normally want variables pointing to ints to be independent."
   ]
  },
  {
   "cell_type": "code",
   "execution_count": 11,
   "metadata": {},
   "outputs": [
    {
     "name": "stdout",
     "output_type": "stream",
     "text": [
      "10 5\n"
     ]
    }
   ],
   "source": [
    "a = 5\n",
    "b = a\n",
    "a += 5\n",
    "print(a, b)"
   ]
  },
  {
   "cell_type": "code",
   "execution_count": 52,
   "metadata": {},
   "outputs": [
    {
     "name": "stdout",
     "output_type": "stream",
     "text": [
      "[1, 2, 3] [1, 2, 3]\n",
      "[1, 2, 3, 3, 2, 1] [1, 2, 3, 3, 2, 1]\n"
     ]
    }
   ],
   "source": [
    "## A list however is mutable datatype in Python\n",
    "x = [1, 2, 3]\n",
    "y = x\n",
    "print(x, y) # [1, 2, 3]\n",
    "y += [3, 2, 1]\n",
    "print(x, y) # [1, 2, 3, 3, 2, 1]"
   ]
  },
  {
   "cell_type": "code",
   "execution_count": 10,
   "metadata": {},
   "outputs": [
    {
     "name": "stdout",
     "output_type": "stream",
     "text": [
      "foo\n",
      "foobar\n",
      "foo\n"
     ]
    }
   ],
   "source": [
    "## String mutable? No\n",
    "def func(val):\n",
    "    val += 'bar'\n",
    "    return val\n",
    "\n",
    "x = 'foo'\n",
    "print(x) # foo\n",
    "print(func(x))\n",
    "print(x) # foo"
   ]
  },
  {
   "cell_type": "code",
   "execution_count": 13,
   "metadata": {},
   "outputs": [
    {
     "name": "stdout",
     "output_type": "stream",
     "text": [
      "[1, 2, 3]\n",
      "[1, 2, 3, 3, 2, 1]\n",
      "[1, 2, 3, 3, 2, 1]\n"
     ]
    }
   ],
   "source": [
    "## List mutable? Yes.\n",
    "def func(val):\n",
    "    val += [3, 2, 1]\n",
    "    return val\n",
    "\n",
    "x = [1, 2, 3]\n",
    "print(x) # [1, 2, 3]\n",
    "print(func(x))\n",
    "print(x) # [1, 2, 3, 3, 2, 1]"
   ]
  },
  {
   "cell_type": "markdown",
   "metadata": {},
   "source": [
    "**Control flow**\n",
    "\n",
    "There are two major types of programming languages, procedural and functional. Python is mostly procedural, with very simple functional elements. Procedural languages typicaly have very strong control flow specifications. Programmers spend time specifying how a program should run. In functional languages the time is spent defining the program while how to run it is left to the computer. Scala is the most used functional language in Bioinformatics."
   ]
  },
  {
   "cell_type": "code",
   "execution_count": 54,
   "metadata": {},
   "outputs": [
    {
     "name": "stdout",
     "output_type": "stream",
     "text": [
      "1\n",
      "2\n",
      "3\n"
     ]
    }
   ],
   "source": [
    "# for loops\n",
    "for b in [1, 2, 3]:\n",
    "    print(b)"
   ]
  },
  {
   "cell_type": "code",
   "execution_count": 12,
   "metadata": {},
   "outputs": [
    {
     "name": "stdout",
     "output_type": "stream",
     "text": [
      "1\n",
      "3\n",
      "5\n",
      "7\n",
      "9\n"
     ]
    }
   ],
   "source": [
    "# while, break and continue\n",
    "b = 0\n",
    "while b < 10:\n",
    "    b += 1\n",
    "    a = 2\n",
    "    if b%a == 0:\n",
    "        #break\n",
    "        continue\n",
    "    print(b)\n",
    "\n",
    "# Now do the same, but using the for loop"
   ]
  },
  {
   "cell_type": "code",
   "execution_count": 56,
   "metadata": {},
   "outputs": [
    {
     "name": "stdout",
     "output_type": "stream",
     "text": [
      "something else..\n"
     ]
    }
   ],
   "source": [
    "## if else: use different logical operators and see if it makes sense\n",
    "a = 1\n",
    "if a == 3:\n",
    "    print('3')\n",
    "elif a == 4:\n",
    "    print('4')\n",
    "else:\n",
    "    print('something else..')"
   ]
  },
  {
   "cell_type": "code",
   "execution_count": 64,
   "metadata": {},
   "outputs": [
    {
     "name": "stdout",
     "output_type": "stream",
     "text": [
      "division by zero!\n",
      "executing finally code block..\n"
     ]
    }
   ],
   "source": [
    "## error handling - use sparingly!\n",
    "## python culture: better to apologise than to verify!\n",
    "def divide(x, y):\n",
    "    \"\"\"catches an exception\"\"\"\n",
    "    try:\n",
    "        result = x / y\n",
    "    except ZeroDivisionError:\n",
    "        print(\"division by zero!\")\n",
    "        #raise ZeroDivisionError\n",
    "        #pass\n",
    "    else:\n",
    "        print(\"result is\", result)\n",
    "    finally:\n",
    "        print(\"executing finally code block..\")\n",
    "divide(1,0)"
   ]
  },
  {
   "cell_type": "markdown",
   "metadata": {},
   "source": [
    "# Python modules\n",
    "\n",
    "```\n",
    "import xls\n",
    "\"How can you simply import Excel !?!\"\n",
    "```\n",
    "\n",
    "- How Python is structured:\n",
    "\n",
    "Packages are the way code libraries are distributed. Libraries contain one or several modules. Each module can contain object classes, functions and submodules.\n",
    "\n",
    "- Object introspection.\n",
    "\n",
    "It happens often that some Python code that you require is not well documented. To understand how to use the code one can interogate any object during runtime. Aditionally the code is always located somewhere on your computer.\n"
   ]
  },
  {
   "cell_type": "code",
   "execution_count": 13,
   "metadata": {},
   "outputs": [
    {
     "name": "stdout",
     "output_type": "stream",
     "text": [
      "['In', 'Out', '_', '_1', '_7', '__', '___', '__builtin__', '__builtins__', '__doc__', '__loader__', '__name__', '__package__', '__spec__', '_dh', '_i', '_i1', '_i10', '_i11', '_i12', '_i13', '_i2', '_i3', '_i4', '_i5', '_i6', '_i7', '_i8', '_i9', '_ih', '_ii', '_iii', '_oh', '_sh', 'a', 'b', 'c', 'd', 'exit', 'func', 'get_ipython', 'math', 'quit', 't', 'x']\n",
      "['__doc__', '__file__', '__loader__', '__name__', '__package__', '__spec__', 'acos', 'acosh', 'asin', 'asinh', 'atan', 'atan2', 'atanh', 'ceil', 'copysign', 'cos', 'cosh', 'degrees', 'e', 'erf', 'erfc', 'exp', 'expm1', 'fabs', 'factorial', 'floor', 'fmod', 'frexp', 'fsum', 'gamma', 'gcd', 'hypot', 'inf', 'isclose', 'isfinite', 'isinf', 'isnan', 'ldexp', 'lgamma', 'log', 'log10', 'log1p', 'log2', 'modf', 'nan', 'pi', 'pow', 'radians', 'sin', 'sinh', 'sqrt', 'tan', 'tanh', 'tau', 'trunc']\n",
      "Help on built-in function log in module math:\n",
      "\n",
      "log(...)\n",
      "    log(x[, base])\n",
      "    \n",
      "    Return the logarithm of x to the given base.\n",
      "    If the base not specified, returns the natural logarithm (base e) of x.\n",
      "\n",
      "None\n",
      "<class 'int'>\n",
      "1.12.1\n",
      "/home/sergiu/data/work/course/short/github/biopycourse/day1\n"
     ]
    }
   ],
   "source": [
    "import math\n",
    "print(dir())\n",
    "print(dir(math))\n",
    "print(help(math.log))\n",
    "a = 3\n",
    "print(type(a))\n",
    "import numpy\n",
    "print(numpy.__version__)\n",
    "import os\n",
    "print(os.getcwd())"
   ]
  },
  {
   "cell_type": "markdown",
   "metadata": {},
   "source": [
    "**Task:**\n",
    "\n",
    "- Compute the distance between 2D points.\n",
    "- `d(p1, p2)=sqrt((x1-x2)**2+(y1-y2)**2), where pi(xi,yi)`\n",
    "- Define a module containing a function that computes the euclidian distance. Use the Spyder code editor and save the module on your filesystem.\n",
    "- Import that module into a new code cell bellow.\n",
    "- Make the module location available to Jupyter."
   ]
  },
  {
   "cell_type": "code",
   "execution_count": 32,
   "metadata": {},
   "outputs": [
    {
     "name": "stdout",
     "output_type": "stream",
     "text": [
      "5.315072906367325\n",
      "5.315072906367325\n",
      "5.315072906367325\n"
     ]
    }
   ],
   "source": [
    "\"\"\"\n",
    "%run full(relative)path/distance.py\n",
    "\n",
    "or\n",
    "os.setcwd(path)\n",
    "\n",
    "\"\"\"\n",
    "import distance\n",
    "print(distance.euclidian(1, 2, 4.5 , 6))\n",
    "\n",
    "from distance import euclidian\n",
    "print(euclidian(1, 2, 4.5 , 6))\n",
    "\n",
    "import distance as d\n",
    "print(d.euclidian(1, 2, 4.5 , 6))\n"
   ]
  },
  {
   "cell_type": "code",
   "execution_count": 17,
   "metadata": {},
   "outputs": [
    {
     "name": "stdout",
     "output_type": "stream",
     "text": [
      "['', '/home/sergiu/programs/miniconda3/envs/lts/lib/python36.zip', '/home/sergiu/programs/miniconda3/envs/lts/lib/python3.6', '/home/sergiu/programs/miniconda3/envs/lts/lib/python3.6/lib-dynload', '/home/sergiu/programs/miniconda3/envs/lts/lib/python3.6/site-packages', '/home/sergiu/programs/miniconda3/envs/lts/lib/python3.6/site-packages/setuptools-27.2.0-py3.6.egg', '/home/sergiu/programs/miniconda3/envs/lts/lib/python3.6/site-packages/IPython/extensions', '/home/sergiu/.ipython']\n",
      "['', '/home/sergiu/programs/miniconda3/envs/lts/lib/python36.zip', '/home/sergiu/programs/miniconda3/envs/lts/lib/python3.6', '/home/sergiu/programs/miniconda3/envs/lts/lib/python3.6/lib-dynload', '/home/sergiu/programs/miniconda3/envs/lts/lib/python3.6/site-packages', '/home/sergiu/programs/miniconda3/envs/lts/lib/python3.6/site-packages/setuptools-27.2.0-py3.6.egg', '/home/sergiu/programs/miniconda3/envs/lts/lib/python3.6/site-packages/IPython/extensions', '/home/sergiu/.ipython', '/my/custom/path']\n"
     ]
    }
   ],
   "source": [
    "import sys\n",
    "print(sys.path)\n",
    "sys.path.append('/my/custom/path')\n",
    "print(sys.path)"
   ]
  },
  {
   "cell_type": "markdown",
   "metadata": {},
   "source": [
    "## Data representation\n",
    "\n",
    "\n",
    "### Strings"
   ]
  },
  {
   "cell_type": "code",
   "execution_count": 33,
   "metadata": {},
   "outputs": [
    {
     "name": "stdout",
     "output_type": "stream",
     "text": [
      "Gene IDs are great. My favorite gene ID is At5G001024\n",
      "Genes names \n",
      " 'are great. My favorite gene name is Afldtjahd\n",
      "\n",
      "Gene IDs are great.\n",
      "My favorite genes are At5G001024 and ksdyfngusy.\n",
      "Gene IDs are great.\n",
      "My favorite gene ID is At5G001024\n",
      "['Gene IDs are great', 'My favorite gene ID is At5G001024']\n"
     ]
    }
   ],
   "source": [
    "#String declarations\n",
    "statement = \"Gene IDs are great. My favorite gene ID is\"\n",
    "name = \"At5G001024\"\n",
    "statement = statement + \" \" + name\n",
    "print(statement)\n",
    "\n",
    "statement2 = 'Genes names \\n \\'are great. My favorite gene name is ' + 'Afldtjahd'\n",
    "statement3 = \"\"\"\n",
    "Gene IDs are great.\n",
    "My favorite genes are {} and {}.\"\"\".format(name, 'ksdyfngusy')\n",
    "\n",
    "print(statement2)\n",
    "print(statement3)\n",
    "print('.\\n'.join(statement.split(\". \")))\n",
    "print (statement.split(\". \"))"
   ]
  },
  {
   "cell_type": "code",
   "execution_count": 84,
   "metadata": {},
   "outputs": [
    {
     "name": "stdout",
     "output_type": "stream",
     "text": [
      "at5g001024\n",
      "3\n",
      "At5G001\n",
      "t5G00102\n"
     ]
    }
   ],
   "source": [
    "#String methods\n",
    "name = \"At5G001024\"\n",
    "print(name.lower())\n",
    "print(name.index('G00'))\n",
    "print(name.rstrip('402'))\n",
    "print(name.strip('Add34'))"
   ]
  },
  {
   "cell_type": "code",
   "execution_count": 85,
   "metadata": {},
   "outputs": [
    {
     "name": "stdout",
     "output_type": "stream",
     "text": [
      "Splitting a string: ['Gene', 'IDs', 'are', 'great.', 'My', 'favorite', 'gene', 'ID', 'is', 'At5G001024']\n",
      "Joining into a string: Gene\t IDs\t are\t great.\t My\t favorite\t gene\t ID\t is\t At5G001024\n",
      "Fun: great. favorite are IDs gene Gene At5G001024 My is ID\n"
     ]
    }
   ],
   "source": [
    "#Splits, joins\n",
    "statement = \"Gene IDs are great. My favorite gene ID is At5G001024\"\n",
    "words = statement.split()\n",
    "print(\"Splitting a string:\", words)\n",
    "print(\"Joining into a string:\", \"\\t \".join(words))\n",
    "import random\n",
    "random.shuffle(words)\n",
    "print(\"Fun:\", \" \".join(words))"
   ]
  },
  {
   "cell_type": "code",
   "execution_count": 86,
   "metadata": {},
   "outputs": [
    {
     "name": "stdout",
     "output_type": "stream",
     "text": [
      "Gene IDs are great. My favorite gene ID is At5G001024\n",
      "Gene  blabla At5G0\n"
     ]
    }
   ],
   "source": [
    "#Strings are immutable lists of characters!\n",
    "print(statement)\n",
    "print(statement[0:5] + \" blabla \" + statement[-10:-5])"
   ]
  },
  {
   "cell_type": "markdown",
   "metadata": {},
   "source": [
    "### Tuples\n",
    "\n",
    "A few pros for tuples:\n",
    "- Tuples are faster than lists\n",
    "- Tuples can be keys to dictionaires (they are immutable types)"
   ]
  },
  {
   "cell_type": "code",
   "execution_count": 19,
   "metadata": {},
   "outputs": [
    {
     "name": "stdout",
     "output_type": "stream",
     "text": [
      "spam\n",
      "((1, 'spam', 5), (1, 'one'), 3)\n",
      "7\n"
     ]
    }
   ],
   "source": [
    "#a tupple is an immutable list\n",
    "a = (1, \"spam\", 5)\n",
    "#a.append(\"eggs\")\n",
    "\n",
    "print(a[1])\n",
    "b = (1, \"one\")\n",
    "c = (a, b, 3)\n",
    "print(c)\n",
    "\n",
    "#unpacking a collection into positional arguments\n",
    "def sum(a, b):\n",
    "    return a + b\n",
    "values = (5, 2)\n",
    "s = sum(*values)\n",
    "print(s)"
   ]
  },
  {
   "cell_type": "markdown",
   "metadata": {},
   "source": [
    "## Lists\n"
   ]
  },
  {
   "cell_type": "code",
   "execution_count": 88,
   "metadata": {},
   "outputs": [
    {
     "name": "stdout",
     "output_type": "stream",
     "text": [
      "1\n",
      "[1, 'one', (2, 'two')]\n",
      "[1, 'one', (2, 'two'), 3]\n",
      "[1, 'one', (2, 'two'), 3, 1, 'one']\n"
     ]
    }
   ],
   "source": [
    "a = [1,\"one\",(2,\"two\")]\n",
    "print(a[0])\n",
    "print(a)\n",
    "a.append(3)\n",
    "print(a)\n",
    "b =  a + a[:2]\n",
    "print(b)"
   ]
  },
  {
   "cell_type": "code",
   "execution_count": 89,
   "metadata": {},
   "outputs": [
    {
     "name": "stdout",
     "output_type": "stream",
     "text": [
      "[(2, 'two'), 3, 1]\n",
      "[1, 'one', (2, 'two')]\n",
      "1\n",
      "3\n"
     ]
    }
   ],
   "source": [
    "## slicing and indexing\n",
    "print(b[2:5])\n",
    "del a[-1]\n",
    "print(a)\n",
    "print(a.index(\"one\"))\n",
    "print(len(a))"
   ]
  },
  {
   "cell_type": "code",
   "execution_count": 92,
   "metadata": {},
   "outputs": [
    {
     "name": "stdout",
     "output_type": "stream",
     "text": [
      "[(2, 'two'), 'changed', 1] [2, 'two']\n"
     ]
    }
   ],
   "source": [
    "## not just list size but list elements too are scoping free! (list is mutable)\n",
    "def f(a, b):\n",
    "    a[1] = \"changed\"\n",
    "    b = [1,2]\n",
    "    return\n",
    "a = [(2, 'two'), 3, 1]\n",
    "b = [2, \"two\"]\n",
    "f(a, b)\n",
    "print(a, b)"
   ]
  },
  {
   "cell_type": "code",
   "execution_count": 36,
   "metadata": {},
   "outputs": [
    {
     "name": "stdout",
     "output_type": "stream",
     "text": [
      "[[1, 2, 3, 4], [5, 6, 7, 8], [9, 10, 11, 12]]\n",
      "2\n",
      "[2, 5, 8]\n",
      "0 0 1\n",
      "0 1 2\n",
      "0 2 3\n",
      "0 3 4\n",
      "1 0 5\n",
      "1 1 6\n",
      "1 2 7\n",
      "1 3 8\n",
      "2 0 9\n",
      "2 1 10\n",
      "2 2 11\n",
      "2 3 12\n"
     ]
    }
   ],
   "source": [
    "## matrix\n",
    "matrix = [\n",
    "    [1, 2, 3, 4],\n",
    "    [5, 6, 7, 8],\n",
    "    [9, 10, 11, 12]]\n",
    "\n",
    "print(matrix)\n",
    "print(matrix[0][1])\n",
    "print(list(range(2,10,3)))\n",
    "for x in range(len(matrix)):\n",
    "    for y in range(len(matrix[x])):\n",
    "        print(x,y, matrix[x][y])"
   ]
  },
  {
   "cell_type": "code",
   "execution_count": 94,
   "metadata": {},
   "outputs": [
    {
     "name": "stdout",
     "output_type": "stream",
     "text": [
      "step 0\n",
      "step 1\n",
      "step 2\n",
      "step 3\n",
      "step 4\n"
     ]
    }
   ],
   "source": [
    "## ranges\n",
    "r = range(0, 5)\n",
    "for i in r: print(\"step\", i)"
   ]
  },
  {
   "cell_type": "code",
   "execution_count": 3,
   "metadata": {},
   "outputs": [
    {
     "name": "stdout",
     "output_type": "stream",
     "text": [
      "[0, 2, 4, 6, 8, 10, 12, 14, 16, 18]\n",
      "['12', '18']\n"
     ]
    }
   ],
   "source": [
    "## list comprehensions\n",
    "def f(i):\n",
    "    return 2*i\n",
    "a = [2*i for i in range(10)]\n",
    "a = [f(i) for i in range(10)]\n",
    "print(a)\n",
    "b = [str(e) for e in a[4:] if e%3==0]\n",
    "print(b)"
   ]
  },
  {
   "cell_type": "code",
   "execution_count": 2,
   "metadata": {},
   "outputs": [
    {
     "name": "stdout",
     "output_type": "stream",
     "text": [
      "[('s', '0'), ('s', '1'), ('s', '2'), ('p', '0'), ('p', '1'), ('p', '2'), ('a', '0'), ('a', '1'), ('a', '2'), ('m', '0'), ('m', '1'), ('m', '2')]\n",
      "[('s', '0'), ('p', '0'), ('a', '0'), ('m', '0'), ('s', '1'), ('p', '1'), ('a', '1'), ('m', '1'), ('s', '2'), ('p', '2'), ('a', '2'), ('m', '2')]\n"
     ]
    }
   ],
   "source": [
    "## sorting a list of tupples\n",
    "a = [(str(i), str(j)) for i in a for j in range(3)]\n",
    "print(a)\n",
    "a.sort(key=lambda tup: tup[1])\n",
    "a.sort(key=lambda tup: len(tup[1]), reverse = True)\n",
    "print(a)"
   ]
  },
  {
   "cell_type": "code",
   "execution_count": 40,
   "metadata": {},
   "outputs": [
    {
     "name": "stdout",
     "output_type": "stream",
     "text": [
      "[('a', 'd'), ('b', 'e'), ('c', 'f')]\n",
      "[]\n",
      "[('one', 1), ('two', 2), ('three', 3)]\n",
      "<zip object at 0x7f56500f4fc8>\n",
      "True\n",
      "(1, 2, 3) (4, 5, 6)\n",
      "0 a1\n",
      "1 a2\n",
      "2 a3\n",
      "0 a1\n",
      "1 a2\n",
      "2 a3\n",
      "[0, 1, 2]\n"
     ]
    }
   ],
   "source": [
    "#zipping and enumerating\n",
    "\n",
    "y = zip('abc', 'def')\n",
    "print(list(y)) # y is a generator\n",
    "print(list(y)) # second cast to list, content is empty!\n",
    "\n",
    "print(list(zip(['one', 'two', 'three'], [1, 2, 3])))\n",
    "\n",
    "x = [1, 2, 3]\n",
    "y = [4, 5, 6]\n",
    "zipped = zip(x, y)\n",
    "#print(type(zipped))\n",
    "print(zipped)\n",
    "\n",
    "x2, y2 = zip(*zipped)\n",
    "print (x == list(x2) and y == list(y2))\n",
    "print (x2, y2)\n",
    "\n",
    "alist = ['a1', 'a2', 'a3']\n",
    "for i, e in enumerate(alist): print (i, e) #this is called a one liner\n",
    "for i in range(len(alist)):\n",
    "    print(i, alist[i])\n",
    "print(list(range(len(alist))))"
   ]
  },
  {
   "cell_type": "code",
   "execution_count": 13,
   "metadata": {},
   "outputs": [
    {
     "name": "stdout",
     "output_type": "stream",
     "text": [
      "[2, 2, 9, 4, 9]\n",
      "[2, 2, 9, 4, 9]\n"
     ]
    }
   ],
   "source": [
    "# mapping\n",
    "def f(a):\n",
    "    return max(a)\n",
    "\n",
    "a = [1, 2, 3, 4, 5]\n",
    "b = [2, 2, 9, 0, 9]\n",
    "print(list(map(lambda x: max(x), zip(a, b))))\n",
    "print(list(map(lambda x: f(x), zip(a, b))))\n",
    "#print(list(zip(a, b)))\n"
   ]
  },
  {
   "cell_type": "code",
   "execution_count": 110,
   "metadata": {},
   "outputs": [
    {
     "name": "stdout",
     "output_type": "stream",
     "text": [
      "['e', 'b', ['ab', 'ba']]\n",
      "['a', 'b', ['ab', 'd']]\n",
      "['c', 'b', ['ab', 'd']]\n",
      "['a', 'b', ['ab', 'ba']]\n"
     ]
    }
   ],
   "source": [
    "# deep and shallow copies on mutable objects or collections of mutable objects\n",
    "lst1 = ['a','b',['ab','ba']]\n",
    "lst2 = lst1 #this is a shallow copy of the entire list\n",
    "lst2[0]='e'\n",
    "print(lst1)\n",
    "\n",
    "lst1 = ['a','b',['ab','ba']]\n",
    "lst2 = lst1[:] #this is a shallow copy of each element\n",
    "lst2[0] = 'e'\n",
    "lst2[2][1] = 'd'\n",
    "print(lst1)\n",
    "\n",
    "from copy import deepcopy\n",
    "lst1 = ['a','b',['ab','ba']]\n",
    "lst2 = deepcopy(lst1) #this is a deep copy\n",
    "lst2[2][1] = \"d\"\n",
    "lst2[0] = \"c\";\n",
    "print(lst2)\n",
    "print(lst1)"
   ]
  },
  {
   "cell_type": "markdown",
   "metadata": {},
   "source": [
    "### Sets\n",
    "\n",
    "Sets have no order and cannot include identical elements. Use them when the position of elements is not relevant. Finding elements is faster than in a list. Also set operations are more straightforward. A frozen set has a hash value.\n",
    "\n",
    "#### Task:\n",
    "- Find on the Internet the official reference documentation for the Python sets"
   ]
  },
  {
   "cell_type": "code",
   "execution_count": 111,
   "metadata": {},
   "outputs": [
    {
     "name": "stdout",
     "output_type": "stream",
     "text": [
      "{2, 'three'}\n",
      "True\n"
     ]
    }
   ],
   "source": [
    "# set vs. frozenset\n",
    "s = set()\n",
    "#s = frozenset()\n",
    "s.add(1)\n",
    "s = s | set([2,\"three\"])\n",
    "s |= set([2,\"three\"])\n",
    "s.add(2)\n",
    "s.remove(1)\n",
    "print(s)\n",
    "print(\"three\" in s)"
   ]
  },
  {
   "cell_type": "code",
   "execution_count": 113,
   "metadata": {},
   "outputs": [
    {
     "name": "stdout",
     "output_type": "stream",
     "text": [
      "{0, 1, 2, 3, 4, 5, 6, 7, 8, 9} {5, 6, 7, 8, 9, 10, 11, 12, 13, 14} {8, 9, 5, 6, 7}\n",
      "{0, 1, 2, 3, 4, 5, 6, 7, 8, 9} {5, 6, 7, 8, 9, 10, 11, 12, 13, 14} {0, 1, 2, 3, 4}\n",
      "True\n",
      "{0, 1, 2, 3, 4, 5, 6, 7, 8, 9} {5, 6, 7, 8, 9, 10, 11, 12, 13, 14} {0, 1, 2, 3, 4, 10, 11, 12, 13, 14}\n"
     ]
    }
   ],
   "source": [
    "s1 = set(range(10))\n",
    "s2 = set(range(5,15))\n",
    "s3 = s1 & s2\n",
    "print(s1, s2, s3)\n",
    "s3 = s1 - s2\n",
    "print(s1, s2, s3)\n",
    "print(s3 <= s1)\n",
    "s3 = s1 ^ s2\n",
    "print(s1, s2, s3)"
   ]
  },
  {
   "cell_type": "markdown",
   "metadata": {},
   "source": [
    "### Dictionary\n",
    "\n",
    "- considered one of the most elegant data structure in Python\n",
    "- A set of key: value pairs.\n",
    "- Keys must be hashable elements, values can be any Python datatype.\n",
    "- The keys of the dictionary are hashable i.e. the are generated by hashing function which generates unique result for each unique value supplied to the hash function. This makes a dictionary value retrieval by key much faster than if using a list!\n",
    "TODO: !timeit, sha() function"
   ]
  },
  {
   "cell_type": "code",
   "execution_count": 114,
   "metadata": {},
   "outputs": [
    {
     "data": {
      "text/plain": [
       "{'geneid4': 50,\n",
       " 'geneid5': 60,\n",
       " 'geneid6': 70,\n",
       " 'geneid7': 80,\n",
       " 'geneid8': 90,\n",
       " 'geneid9': 100}"
      ]
     },
     "execution_count": 114,
     "metadata": {},
     "output_type": "execute_result"
    }
   ],
   "source": [
    "d = {'geneid9': 100, 'geneid8': 90, 'geneid7': 80, 'geneid6': 70, 'geneid5': 60, 'geneid4': 50}\n",
    "d"
   ]
  },
  {
   "cell_type": "code",
   "execution_count": 116,
   "metadata": {},
   "outputs": [
    {
     "data": {
      "text/plain": [
       "{'geneid10': 110}"
      ]
     },
     "execution_count": 116,
     "metadata": {},
     "output_type": "execute_result"
    }
   ],
   "source": [
    "d = {}\n",
    "d['geneid10'] = 110\n",
    "d"
   ]
  },
  {
   "cell_type": "code",
   "execution_count": 117,
   "metadata": {},
   "outputs": [
    {
     "name": "stdout",
     "output_type": "stream",
     "text": [
      "{'geneid1': 20, 'geneid3': 40, 'geneid2': 30}\n"
     ]
    }
   ],
   "source": [
    "#Creation: dict(list)\n",
    "genes = ['geneid1', 'geneid2', 'geneid3']\n",
    "values = [20, 30, 40]\n",
    "d = dict(zip(genes, values))\n",
    "print(d)"
   ]
  },
  {
   "cell_type": "code",
   "execution_count": 16,
   "metadata": {},
   "outputs": [
    {
     "name": "stdout",
     "output_type": "stream",
     "text": [
      "{'geneid4': 50, 'geneid5': 60, 'geneid6': 70, 'geneid7': 80, 'geneid8': 90, 'geneid9': 100}\n",
      "dict_keys(['geneid4', 'geneid5', 'geneid6', 'geneid7', 'geneid8', 'geneid9'])\n",
      "dict_values([50, 60, 70, 80, 90, 100])\n",
      "geneid4 50\n",
      "geneid5 60\n",
      "geneid6 70\n",
      "geneid7 80\n",
      "geneid8 90\n",
      "geneid9 100\n"
     ]
    }
   ],
   "source": [
    "#Creation: dictionary comprehensions\n",
    "d2 = { 'geneid'+str(i):10*(i+1) for i in range(4, 10) }\n",
    "print(d2)\n",
    "\n",
    "#Keys and values\n",
    "print(d2.keys())\n",
    "print(d2.values())\n",
    "for k in d2.keys(): print(k, d2[k])\n"
   ]
  },
  {
   "cell_type": "markdown",
   "metadata": {},
   "source": [
    "#### Task:\n",
    "\n",
    "Find the dictionary key corresponding to a certain value. Why is Python not offering a native method for this?"
   ]
  },
  {
   "cell_type": "code",
   "execution_count": 122,
   "metadata": {},
   "outputs": [
    {
     "name": "stdout",
     "output_type": "stream",
     "text": [
      "set()\n"
     ]
    }
   ],
   "source": [
    "d = {'geneid9': 100, 'geneid8': 90, 'geneid7': 90, 'geneid6': 70, 'geneid5': 60, 'geneid4': 50}\n",
    "\n",
    "def getkey(value):\n",
    "    ks = set()\n",
    "    # .. your code here\n",
    "    return ks\n",
    "\n",
    "print(getkey(90))"
   ]
  },
  {
   "cell_type": "markdown",
   "metadata": {},
   "source": [
    "### Objects and Classes\n",
    "\n",
    "Everything is an object in Python and every variable is a reference to an object. References map the adress in memory where an object lies. However this is kept hidden in Python. C was famous for not cleaning up automatically the adress space after alocating memory for its data structures. This was causing memory leaks that makes some programs gain more and more RAM space. Modern languages cleanup dynamically after the scope of a variable ended, something called \"garbage collecting\". However this is afecting their speed of computation.\n",
    "\n",
    "New concepts:\n",
    "- Instantiation, Fields, Methods, Decomposition into classes, Inheritance"
   ]
  },
  {
   "cell_type": "code",
   "execution_count": 18,
   "metadata": {},
   "outputs": [
    {
     "name": "stdout",
     "output_type": "stream",
     "text": [
      "Buffy was created from Ether!\n",
      "*sniffs..\n"
     ]
    }
   ],
   "source": [
    "class Dog(object):\n",
    "    \n",
    "    def __init__(self, name):\n",
    "        self.name = name\n",
    "        return\n",
    "    \n",
    "    def bark_if_called(self, call):\n",
    "        if call[:-1]==self.name:\n",
    "            print(\"Woof Woof!\")\n",
    "        else:\n",
    "            print(\"*sniffs..\")\n",
    "        return\n",
    "    \n",
    "    def get_ball(self):\n",
    "        print(self.name + \" brings back ball\")\n",
    "\n",
    "d = Dog(\"Buffy\")\n",
    "print(d.name, \"was created from Ether!\") #name is an attribute\n",
    "\n",
    "d.bark_if_called(\"Bambi!\") #bark_if_called is a method\n",
    "#dog.bark_if_called(\"Buffy!\")\n"
   ]
  },
  {
   "cell_type": "code",
   "execution_count": 19,
   "metadata": {},
   "outputs": [
    {
     "name": "stdout",
     "output_type": "stream",
     "text": [
      "*sniffs..\n",
      "Woof Woof!\n",
      "*drools\n",
      "Georgie brings back ball\n",
      "*hates you\n",
      "Georgie\n"
     ]
    }
   ],
   "source": [
    "class PitBull(Dog):\n",
    "    \n",
    "    def get_ball(self):\n",
    "        super(PitBull, self).get_ball()\n",
    "        print(\"*hates you\")\n",
    "        return\n",
    "    \n",
    "    def chew_boots(self):\n",
    "        print(\"*drools\")\n",
    "        return\n",
    "\n",
    "d2 = PitBull(\"Georgie\")\n",
    "\n",
    "d2.bark_if_called(\"Loopie!\")\n",
    "d2.bark_if_called(\"Georgie!\")\n",
    "\n",
    "d2.chew_boots()\n",
    "#d.chew_boots()\n",
    "\n",
    "d2.get_ball()\n",
    "print(d2.name)"
   ]
  },
  {
   "cell_type": "markdown",
   "metadata": {},
   "source": [
    "### Decorators"
   ]
  },
  {
   "cell_type": "code",
   "execution_count": 1,
   "metadata": {},
   "outputs": [
    {
     "name": "stdout",
     "output_type": "stream",
     "text": [
      "222\n",
      "1\n",
      "2\n",
      "3\n",
      "4\n",
      "5\n"
     ]
    }
   ],
   "source": [
    "from time import sleep\n",
    "\n",
    "\n",
    "def sleep_decorator(function):\n",
    "\n",
    "    \"\"\"\n",
    "    Limits how fast the function is\n",
    "    called.\n",
    "    \"\"\"\n",
    "\n",
    "    def wrapper(*args, **kwargs):\n",
    "        sleep(2)\n",
    "        return function(*args, **kwargs)\n",
    "    return wrapper\n",
    "\n",
    "\n",
    "@sleep_decorator\n",
    "def print_number(num):\n",
    "    return num\n",
    "\n",
    "print(print_number(222))\n",
    "\n",
    "for num in range(1, 6):\n",
    "    print(print_number(num))"
   ]
  },
  {
   "cell_type": "markdown",
   "metadata": {},
   "source": [
    "## Standard library modules"
   ]
  },
  {
   "cell_type": "markdown",
   "metadata": {},
   "source": [
    "https://docs.python.org/3/library/\n",
    "\n",
    "- sys - system-specific parameters and functions\n",
    "- os - operating system interface\n",
    "- shutil - shell utilities\n",
    "- math - mathematical functions and constants\n",
    "- random - pseudorandom number generator\n",
    "- timeit - time it\n",
    "- format - number and text formating\n",
    "- zlib - file archiving\n",
    "- ... etc ...\n",
    "\n",
    "Reccomendation: Take time to explore the [Python module of the week](https://pymotw.com/3/). It is a very good way to learn why Python comes \"with batteries included\"."
   ]
  },
  {
   "cell_type": "markdown",
   "metadata": {},
   "source": [
    "### The sys module. Command line arguments."
   ]
  },
  {
   "cell_type": "code",
   "execution_count": 137,
   "metadata": {},
   "outputs": [
    {
     "name": "stdout",
     "output_type": "stream",
     "text": [
      "['/home/sergiun/programs/anaconda3/envs/py35/lib/python3.5/site-packages/ipykernel/__main__.py', '-f', '/run/user/1000/jupyter/kernel-13c582f7-e031-4ca3-8c2e-ec3cc87d2d2c.json']\n"
     ]
    },
    {
     "ename": "SystemExit",
     "evalue": "",
     "output_type": "error",
     "traceback": [
      "An exception has occurred, use %tb to see the full traceback.\n",
      "\u001b[1;31mSystemExit\u001b[0m\n"
     ]
    },
    {
     "name": "stderr",
     "output_type": "stream",
     "text": [
      "To exit: use 'exit', 'quit', or Ctrl-D.\n"
     ]
    }
   ],
   "source": [
    "import sys\n",
    "print(sys.argv)\n",
    "sys.exit()\n",
    "\n",
    "##getopt, sys.exit()\n",
    "##getopt.getopt(args, options[, long_options])\n",
    "# import getopt\n",
    "# try:\n",
    "#     opts, args = getopt.getopt(sys.argv[1:],\"hi:o:\",[\"ifile=\",\"ofile=\"])\n",
    "# except getopt.GetoptError:\n",
    "#     print 'test.py -i <inputfile> -o <outputfile>'\n",
    "#     sys.exit(2)\n",
    "# for opt, arg in opts:\n",
    "#     if opt == '-h':\n",
    "#         print 'test.py -i <inputfile> -o <outputfile>'\n",
    "#         sys.exit()\n",
    "#     elif opt in (\"-i\", \"--ifile\"):\n",
    "#         inputfile = arg\n",
    "#     elif opt in (\"-o\", \"--ofile\"):\n",
    "#         outputfile = arg\n",
    "# print inputfile, outputfile\n",
    "\n"
   ]
  },
  {
   "cell_type": "markdown",
   "metadata": {},
   "source": [
    "#### Task:\n",
    "   - Create a second script that contains command line arguments and imports the distance module above. If an -n 8 is provided in the arguments, it must generate 8 random points and compute a matrix of all pair distances."
   ]
  },
  {
   "cell_type": "markdown",
   "metadata": {},
   "source": [
    "### os module: File operations\n",
    "\n",
    "The working directory, file IO, copy, rename and delete\n"
   ]
  },
  {
   "cell_type": "code",
   "execution_count": 139,
   "metadata": {},
   "outputs": [
    {
     "name": "stdout",
     "output_type": "stream",
     "text": [
      "/home/sergiun/projects/work/course\n",
      "One line of text\n",
      "\n",
      "Another line of text\n",
      "\n",
      "testfile2.txt\n",
      "testfile1.txt\n",
      "['testdir/file1.txt', 'testdir/file2.txt']\n"
     ]
    }
   ],
   "source": [
    "import os\n",
    "print(os.getcwd())\n",
    "#os.chdir(newpath)\n",
    "os.system('mkdir testdir')\n",
    "\n",
    "f = open('testfile.txt','wt')\n",
    "f.write('One line of text\\n')\n",
    "f.write('Another line of text\\n')\n",
    "f.close()\n",
    "\n",
    "import shutil\n",
    "#shutil.copy('testfile.txt', 'testdir/')\n",
    "shutil.copyfile('testfile.txt', 'testdir/testfile1.txt')\n",
    "shutil.copyfile('testfile.txt', 'testdir/testfile2.txt')\n",
    "\n",
    "with open('testdir/testfile1.txt','rt') as f:\n",
    "    for l in f: print(l)\n",
    "\n",
    "for fn in os.listdir(\"testdir/\"):\n",
    "    print(fn)\n",
    "    #fpath = os.path.join(dirpath,filename)\n",
    "    os.rename('testdir/'+fn, 'testdir/file'+fn[-5]+'.txt')\n",
    "\n",
    "import glob\n",
    "print (glob.glob('testdir/*'))\n",
    "\n",
    "os.remove('testdir/file2.txt')\n",
    "#os.rmdir('testdir')\n",
    "#shutil.rmtree(path)"
   ]
  },
  {
   "cell_type": "markdown",
   "metadata": {},
   "source": [
    "#### Task:\n",
    "- Add a function to save the random vectors and the generated matrix into a file."
   ]
  },
  {
   "cell_type": "markdown",
   "metadata": {},
   "source": [
    "### Timing"
   ]
  },
  {
   "cell_type": "code",
   "execution_count": 43,
   "metadata": {},
   "outputs": [
    {
     "name": "stdout",
     "output_type": "stream",
     "text": [
      "0:00:06.661880\n"
     ]
    }
   ],
   "source": [
    "from datetime import datetime\n",
    "startTime = datetime.now()\n",
    "\n",
    "n = 10**8\n",
    "for i in range(n):\n",
    "    continue\n",
    "\n",
    "print datetime.now() - startTime"
   ]
  },
  {
   "cell_type": "markdown",
   "metadata": {},
   "source": [
    "### Processes\n",
    "\n",
    "Launching a process, Paralellization: shared resources, clusters, clouds"
   ]
  },
  {
   "cell_type": "code",
   "execution_count": 46,
   "metadata": {},
   "outputs": [
    {
     "name": "stdout",
     "output_type": "stream",
     "text": [
      "0\n"
     ]
    }
   ],
   "source": [
    "import os\n",
    "\n",
    "#print os.system('/path/yourshellscript.sh args')\n",
    "subprocess.run([\"ls\", \"-l\", \"/dev/null\"], stdout=subprocess.PIPE)\n",
    "subprocess.run(\"exit 1\", shell=True, check=True)\n",
    "\n",
    "from subprocess import call\n",
    "call([\"ls\", \"-l\"])\n"
   ]
  },
  {
   "cell_type": "code",
   "execution_count": null,
   "metadata": {},
   "outputs": [],
   "source": [
    "\n",
    "args = ['/path/yourshellscript.sh', '-arg1', 'value1', '-arg2', 'value2']\n",
    "p = Popen(args, shell=True, bufsize=bufsize, \n",
    "          stdin=PIPE, stdout=PIPE, stderr=PIPE, close_fds=True)\n",
    "p.wait()\n",
    "(child_stdin, child_stdout, child_stderr) = (p.stdin, p.stdout, p.stderr)\n"
   ]
  },
  {
   "cell_type": "code",
   "execution_count": null,
   "metadata": {},
   "outputs": [],
   "source": [
    "# def child():\n",
    "#    print 'A new child ',  os.getpid( )\n",
    "#    os._exit(0)  \n",
    "\n",
    "# def parent():\n",
    "#    while True:\n",
    "#       newpid = os.fork()\n",
    "#       if newpid == 0:\n",
    "#          child()\n",
    "#       else:\n",
    "#          pids = (os.getpid(), newpid)\n",
    "#          print \"parent: %d, child: %d\" % pids\n",
    "#       if raw_input( ) == 'q': break\n",
    "\n",
    "# parent()"
   ]
  },
  {
   "cell_type": "markdown",
   "metadata": {},
   "source": [
    "How to do the equivalent of shell piping in Python? This is the basic step of an automated pipeline.\n",
    "\n",
    "`cat test.txt | grep something`\n",
    "\n",
    "**Task**:\n",
    "- Test this!\n",
    "- Uncomment `p1.stdout.close()`. Why is it not working?\n",
    "- What are signals? Read about SIGPIPE."
   ]
  },
  {
   "cell_type": "code",
   "execution_count": null,
   "metadata": {},
   "outputs": [],
   "source": [
    "\n",
    "p1 = Popen([\"cat\", \"test.txt\"], stdout=PIPE)\n",
    "p2 = Popen([\"grep\", \"something\"], stdin=p1.stdout, stdout=PIPE)\n",
    "p1.stdout.close()\n",
    "output = p2.communicate()[0]"
   ]
  },
  {
   "cell_type": "markdown",
   "metadata": {},
   "source": [
    "Questions:\n",
    "- What are the Python's native datatypes? Have a look at the Python online documentation for each datatype.\n",
    "- How many data types does Python have?\n",
    "- Python is a \"dynamic\" language. What does it mean?\n",
    "- Python is an \"interpreted\" language. What does it mean?\n",
    "- Which data strutures are mutable and which are immutable. When does this matters?\n",
    "- What is \"hash\" and how does it influences set and dictionary operations?\n",
    "- What are the most important Python libraries for you? Read through Anaconda's collection of libraries and check out some of them."
   ]
  },
  {
   "cell_type": "markdown",
   "metadata": {},
   "source": [
    "Task. Explain why this happens:"
   ]
  },
  {
   "cell_type": "code",
   "execution_count": 17,
   "metadata": {},
   "outputs": [
    {
     "name": "stdout",
     "output_type": "stream",
     "text": [
      "[0]\n",
      "[0, 1]\n",
      "[0, 1, 2]\n"
     ]
    }
   ],
   "source": [
    "def run(l=[]):\n",
    "    l.append(len(l))\n",
    "    return l\n",
    "\n",
    "print(run())\n",
    "print(run())\n",
    "print(run())"
   ]
  },
  {
   "cell_type": "markdown",
   "metadata": {},
   "source": [
    "Task.\n",
    "\n",
    "dic = {'a':[1,2,3], 'b':[4,5,6,7]}\n",
    "\n",
    "Using list comprehension, return:\n",
    "\n",
    "[1, 2, 3, 4, 5, 6, 7]\n",
    "['a', 'a', 'a', 'b', 'b', 'b', 'b']"
   ]
  }
 ],
 "metadata": {
  "kernelspec": {
   "display_name": "Python 3",
   "language": "python",
   "name": "python3"
  },
  "language_info": {
   "codemirror_mode": {
    "name": "ipython",
    "version": 3
   },
   "file_extension": ".py",
   "mimetype": "text/x-python",
   "name": "python",
   "nbconvert_exporter": "python",
   "pygments_lexer": "ipython3",
   "version": "3.7.10"
  }
 },
 "nbformat": 4,
 "nbformat_minor": 4
}
