{
 "cells": [
  {
   "cell_type": "markdown",
   "metadata": {},
   "source": [
    "# DevOps"
   ]
  },
  {
   "cell_type": "markdown",
   "metadata": {},
   "source": [
    "## Reproducible research\n",
    "\n",
    "A large majority of published results today are not reproducible. Two of my colleagues are preparing a longer course on the subject.\n",
    "\n",
    "[https://bitbucket.org/scilifelab-lts/reproducible_research_example](https://bitbucket.org/scilifelab-lts/reproducible_research_example)\n",
    "\n",
    "- Mention types of reproducibility\n",
    "- Get the course git link!"
   ]
  },
  {
   "cell_type": "markdown",
   "metadata": {},
   "source": [
    "## What are devops?\n",
    "\n",
    "From a more restricted data science point of view, [DevOps](https://en.wikipedia.org/wiki/DevOps) are less concerned with automating the production of software. For a researcher, the main interest is research reproducibility, but also data management and backup.\n",
    "\n",
    "- Do you need this?\n",
    "- Data scientist, data engineer, data analyst.\n",
    "- \"Orchestration\" and \"data lake\"."
   ]
  },
  {
   "cell_type": "markdown",
   "metadata": {},
   "source": [
    "## How to source your code\n",
    "\n",
    "- What is the difference between source code and a script?\n",
    "- Discussion on how to source python code.\n",
    "- Importance of design patterns.\n",
    "- Python style guide.\n",
    "- Software versioning milestones."
   ]
  },
  {
   "cell_type": "markdown",
   "metadata": {},
   "source": [
    "## Using source editors. What matters?\n",
    "\n",
    "Editors for Python range from any simple raw text editor to the most complex IDE (integrated development environment).\n",
    "\n",
    "In the first cathegory I reccommend Notepad and Notepad++ for Windows, Emacs for MacOS and Linux, and nano, vim, geany for Linux.\n",
    "\n",
    "Among IDEs, Spyder is a simpler editor with an interface similar to Matlab and native integration of the IPython interpreter, and we will use that for the purpose of this class. A much more complex favorite of mine is PyCharm from JetBrains, that has a community edition. The one I use more frequently is Atom, built by the git community.\n",
    "\n",
    "What matters:\n",
    "- Using the editor most appropriate to the complexity of the task.\n",
    "- Full feature editors make it easier to write good code!\n",
    "- Syntax and style linting.\n",
    "- Code refactoring.\n",
    "- Git/svn integration.\n",
    "- Remote development."
   ]
  },
  {
   "cell_type": "code",
   "execution_count": null,
   "metadata": {
    "collapsed": true
   },
   "outputs": [],
   "source": [
    "# standard format for editing of files"
   ]
  },
  {
   "cell_type": "markdown",
   "metadata": {},
   "source": [
    "Task:\n",
    "\n",
    "Create a 'src' folder inside your working directory. Use a raw test editor to make a hello world program inside and run it on the command line. Now open the same file inside your favorite editor and run it inside the interpreter embedded into it.\n",
    "\n",
    "Now write a function called hello_world() and load it here using a module call."
   ]
  },
  {
   "cell_type": "code",
   "execution_count": 30,
   "metadata": {
    "collapsed": false,
    "scrolled": true
   },
   "outputs": [
    {
     "ename": "AttributeError",
     "evalue": "module 'hello' has no attribute 'hello_world'",
     "output_type": "error",
     "traceback": [
      "\u001b[0;31m---------------------------------------------------------------------------\u001b[0m",
      "\u001b[0;31mAttributeError\u001b[0m                            Traceback (most recent call last)",
      "\u001b[0;32m<ipython-input-30-8f1486a2985d>\u001b[0m in \u001b[0;36m<module>\u001b[0;34m()\u001b[0m\n\u001b[1;32m      3\u001b[0m \u001b[0;34m\u001b[0m\u001b[0m\n\u001b[1;32m      4\u001b[0m \u001b[0;32mimport\u001b[0m \u001b[0mhello\u001b[0m\u001b[0;34m\u001b[0m\u001b[0m\n\u001b[0;32m----> 5\u001b[0;31m \u001b[0mhello\u001b[0m\u001b[0;34m.\u001b[0m\u001b[0mhello_world\u001b[0m\u001b[0;34m(\u001b[0m\u001b[0;34m)\u001b[0m\u001b[0;34m\u001b[0m\u001b[0m\n\u001b[0m",
      "\u001b[0;31mAttributeError\u001b[0m: module 'hello' has no attribute 'hello_world'"
     ]
    }
   ],
   "source": [
    "import sys\n",
    "sys.path.append(\"/Users/salendrapradh/biopycourse/scr\")\n",
    "\n",
    "import hello \n",
    "hello.hello()"
   ]
  },
  {
   "cell_type": "code",
   "execution_count": 1,
   "metadata": {
    "collapsed": false
   },
   "outputs": [
    {
     "data": {
      "text/plain": [
       "['',\n",
       " '/Users/salendrapradh/anaconda/envs/pycourse/lib/python35.zip',\n",
       " '/Users/salendrapradh/anaconda/envs/pycourse/lib/python3.5',\n",
       " '/Users/salendrapradh/anaconda/envs/pycourse/lib/python3.5/plat-darwin',\n",
       " '/Users/salendrapradh/anaconda/envs/pycourse/lib/python3.5/lib-dynload',\n",
       " '/Users/salendrapradh/anaconda/envs/pycourse/lib/python3.5/site-packages',\n",
       " '/Users/salendrapradh/anaconda/envs/pycourse/lib/python3.5/site-packages/Sphinx-1.5.1-py3.5.egg',\n",
       " '/Users/salendrapradh/anaconda/envs/pycourse/lib/python3.5/site-packages/aeosa',\n",
       " '/Users/salendrapradh/anaconda/envs/pycourse/lib/python3.5/site-packages/setuptools-27.2.0-py3.5.egg',\n",
       " '/Users/salendrapradh/anaconda/envs/pycourse/lib/python3.5/site-packages/IPython/extensions',\n",
       " '/Users/salendrapradh/.ipython']"
      ]
     },
     "execution_count": 1,
     "metadata": {},
     "output_type": "execute_result"
    }
   ],
   "source": [
    "import sys\n",
    "sys.path"
   ]
  },
  {
   "cell_type": "code",
   "execution_count": 3,
   "metadata": {
    "collapsed": true
   },
   "outputs": [],
   "source": [
    "sys.path.append(\"/custom/path\")"
   ]
  },
  {
   "cell_type": "code",
   "execution_count": 25,
   "metadata": {
    "collapsed": false
   },
   "outputs": [
    {
     "data": {
      "text/plain": [
       "['',\n",
       " '/Users/salendrapradh/anaconda/envs/pycourse/lib/python35.zip',\n",
       " '/Users/salendrapradh/anaconda/envs/pycourse/lib/python3.5',\n",
       " '/Users/salendrapradh/anaconda/envs/pycourse/lib/python3.5/plat-darwin',\n",
       " '/Users/salendrapradh/anaconda/envs/pycourse/lib/python3.5/lib-dynload',\n",
       " '/Users/salendrapradh/anaconda/envs/pycourse/lib/python3.5/site-packages',\n",
       " '/Users/salendrapradh/anaconda/envs/pycourse/lib/python3.5/site-packages/Sphinx-1.5.1-py3.5.egg',\n",
       " '/Users/salendrapradh/anaconda/envs/pycourse/lib/python3.5/site-packages/aeosa',\n",
       " '/Users/salendrapradh/anaconda/envs/pycourse/lib/python3.5/site-packages/setuptools-27.2.0-py3.5.egg',\n",
       " '/Users/salendrapradh/anaconda/envs/pycourse/lib/python3.5/site-packages/IPython/extensions',\n",
       " '/Users/salendrapradh/.ipython',\n",
       " '/custom/path',\n",
       " '/Users/salendrapradh/biopycourse/scr',\n",
       " '/Users/salendrapradh/biopycourse/scr',\n",
       " '/Users/salendrapradh/biopycourse/scr',\n",
       " '/Users/salendrapradh/biopycourse/scr',\n",
       " '/Users/salendrapradh/biopycourse/scr',\n",
       " '/Users/salendrapradh/biopycourse/scr',\n",
       " '/Users/salendrapradh/biopycourse/scr',\n",
       " '/Users/salendrapradh/biopycourse/scr',\n",
       " '/Users/salendrapradh/biopycourse/scr',\n",
       " '/Users/salendrapradh/biopycourse/scr',\n",
       " '/Users/salendrapradh/biopycourse/scr',\n",
       " '/Users/salendrapradh/biopycourse/scr',\n",
       " '/Users/salendrapradh/biopycourse/scr',\n",
       " '/Users/salendrapradh/biopycourse/scr',\n",
       " '/Users/salendrapradh/biopycourse/scr',\n",
       " '/Users/salendrapradh/biopycourse/scr',\n",
       " '/Users/salendrapradh/biopycourse/scr',\n",
       " '/Users/salendrapradh/biopycourse/scr',\n",
       " '/Users/salendrapradh/biopycourse/scr']"
      ]
     },
     "execution_count": 25,
     "metadata": {},
     "output_type": "execute_result"
    }
   ],
   "source": [
    "sys.path"
   ]
  },
  {
   "cell_type": "code",
   "execution_count": 26,
   "metadata": {
    "collapsed": false
   },
   "outputs": [
    {
     "ename": "ImportError",
     "evalue": "No module named 'myfancymodule'",
     "output_type": "error",
     "traceback": [
      "\u001b[0;31m---------------------------------------------------------------------------\u001b[0m",
      "\u001b[0;31mImportError\u001b[0m                               Traceback (most recent call last)",
      "\u001b[0;32m<ipython-input-26-a46c63b11ef7>\u001b[0m in \u001b[0;36m<module>\u001b[0;34m()\u001b[0m\n\u001b[0;32m----> 1\u001b[0;31m \u001b[0;32mimport\u001b[0m \u001b[0mmyfancymodule\u001b[0m\u001b[0;34m\u001b[0m\u001b[0m\n\u001b[0m\u001b[1;32m      2\u001b[0m \u001b[0mmyfancymodule\u001b[0m\u001b[0;34m.\u001b[0m\u001b[0mhello_world\u001b[0m\u001b[0;34m(\u001b[0m\u001b[0;34m)\u001b[0m\u001b[0;34m\u001b[0m\u001b[0m\n",
      "\u001b[0;31mImportError\u001b[0m: No module named 'myfancymodule'"
     ]
    }
   ],
   "source": [
    "import myfancymodule\n",
    "myfancymodule.hello_world()"
   ]
  },
  {
   "cell_type": "markdown",
   "metadata": {},
   "source": [
    "Discussion:\n",
    "- Do you see a benefit to this approach?\n",
    "- How much of the code should be sourced and how much should be kept on a notebook?"
   ]
  },
  {
   "cell_type": "markdown",
   "metadata": {},
   "source": [
    "## Distributed version control using git\n",
    "\n",
    "- Git - a svn for the distributed computing age.\n",
    "- Collaborative editing.\n",
    "- History: subversion, mercurial, git and bitbucket.\n",
    "\n",
    "### Exercise\n",
    "\n",
    "Let us now add the sourced code to our own git repositories!\n",
    "\n",
    "```\n",
    "git init\n",
    "git status\n",
    "```\n",
    "\n",
    "**stage:** Now make a change to your source code and run git status again. To tell Git to start tracking changes made to your file, we first need to add it to the staging area by using git add. \n",
    "```\n",
    "git add your_file\n",
    "# git add .\n",
    "# git log\n",
    "# git reset your_file\n",
    "git status\n",
    "```\n",
    "\n",
    "**commit, checkout:** Notice how Git says changes to be committed? The files listed here are in the Staging Area, and they are not in the repository yet. We could add or remove files from the stage before we store them in the repository. To store our staged changes we run the commit command with a message describing what we've changed. Files can be changed back to how they were at the last commit by using the command: \n",
    "\n",
    "```\n",
    "git commit -m \"I modified the hello function\"\n",
    "# git checkout -- your_file\n",
    "```\n",
    "\n",
    "**push, origin, master:** To push a local repo to the GitHub server we'll need to add a remote repository. This command takes a remote name and a repository URL. The push command tells Git where to put our commits when we're ready, and now we're ready. So let's push our local changes to our origin repo (on GitHub).\n",
    "\n",
    "The name of our remote is \"origin\" and the default local branch name is \"master\". The -u tells Git to remember the parameters, so that next time we can simply run git push and Git will know what to do. Go ahead and push it!\n",
    "\n",
    "```\n",
    "git remote add origin https://github.com/urreponame/urreponame.git\n",
    "git push -u origin master\n",
    "# git push is sufficient afterwards\n",
    "```\n",
    "\n",
    "**pull** Let's pretend some time has passed. We've invited other people to our GitHub project who have pulled your changes, made their own commits, and pushed them. We can check for changes on our GitHub repository and pull down any new changes by running pull. Let's take a look at what is  different from our last commit by using the git diff command. In this case we want the diff of our most recent commit, which we can refer to using the HEAD pointer. diff can also be used for files newly staged.\n",
    "\n",
    "```\n",
    "git pull origin master\n",
    "git diff HEAD\n",
    "# git diff --staged\n",
    "```\n",
    "\n",
    "**branching and merging** When developers are working on a feature or bug they'll often create a copy (aka. branch) of their code they can make separate commits to. Then when they're done they can merge this branch back into their main master branch. Why is this better? Because it avoids situations of incidental modifications to other files. Branching often allows you to track changes.\n",
    "\n",
    "Now if you type git branch you'll see two local branches: a main branch named master and your new branch. You can switch branches using the git checkout <branch> command. After making your changes on the branch you just need to switch back to the master branch so you can copy (or merge) your changes from the branch back into the master branch. Go ahead and checkout the master branch:\n",
    "\n",
    "```\n",
    "git branch nameit\n",
    "git checkout nameit\n",
    "# git rm some_file\n",
    "# etc..\n",
    "# git commit -m \"removed some_file\"\n",
    "git checkout master\n",
    "git merge nameit\n",
    "# delete the branch\n",
    "git branch -d nameit\n",
    "```"
   ]
  },
  {
   "cell_type": "markdown",
   "metadata": {},
   "source": [
    "## Development vs production\n",
    "\n",
    "- Why are they separated?\n",
    "- How does it impact on the reproducibility if the development and production is not separated?\n",
    "- Bring forward the issue of having different projects using the same directory. What is to do?"
   ]
  },
  {
   "cell_type": "markdown",
   "metadata": {},
   "source": [
    "## When do we need containers? Using Docker."
   ]
  },
  {
   "cell_type": "markdown",
   "metadata": {},
   "source": [
    "- Separating the environment from the operating system\n",
    "- Virtualization, VirtualBox, VMWare\n",
    "- Containers, Docker, Singularity, Vagrant\n",
    "- DockerHub\n",
    "- Backup the code, the data and the environment\n",
    "\n",
    "```\n",
    "$ sudo docker run hello-world\n",
    "Unable to find image 'hello-world:latest' locally\n",
    "latest: Pulling from library/hello-world\n",
    "78445dd45222: Pull complete \n",
    "Digest: sha256:c5515758d4c5e1e838e9cd307f6c6a0d620b5e07e6f927b07d05f6d12a1ac8d7\n",
    "Status: Downloaded newer image for hello-world:latest\n",
    "\n",
    "Hello from Docker!\n",
    "This message shows that your installation appears to be working correctly.\n",
    "\n",
    "To generate this message, Docker took the following steps:\n",
    " 1. The Docker client contacted the Docker daemon.\n",
    " 2. The Docker daemon pulled the \"hello-world\" image from the Docker Hub.\n",
    " 3. The Docker daemon created a new container from that image which runs the\n",
    "    executable that produces the output you are currently reading.\n",
    " 4. The Docker daemon streamed that output to the Docker client, which sent it\n",
    "    to your terminal.\n",
    "\n",
    "To try something more ambitious, you can run an Ubuntu container with:\n",
    " $ docker run -it ubuntu bash\n",
    "\n",
    "Share images, automate workflows, and more with a free Docker ID:\n",
    " https://cloud.docker.com/\n",
    "\n",
    "For more examples and ideas, visit:\n",
    " https://docs.docker.com/engine/userguide/\n",
    "\n",
    "```"
   ]
  },
  {
   "cell_type": "markdown",
   "metadata": {},
   "source": [
    "### The Dockerfile\n",
    "\n",
    "```\n",
    "# Use an official Python runtime as a base image\n",
    "FROM python:2.7-slim\n",
    "\n",
    "# Set the working directory to /app\n",
    "WORKDIR /app\n",
    "\n",
    "# Copy the current directory contents into the container at /app\n",
    "ADD . /app\n",
    "\n",
    "# Install any needed packages specified in requirements.txt\n",
    "RUN pip install -r requirements.txt\n",
    "\n",
    "# Make port 80 available to the world outside this container\n",
    "EXPOSE 80\n",
    "\n",
    "# Define environment variable\n",
    "ENV NAME World\n",
    "\n",
    "# Run app.py when the container launches\n",
    "CMD [\"python\", \"app.py\"]\n",
    "```"
   ]
  },
  {
   "cell_type": "markdown",
   "metadata": {},
   "source": [
    "Build the image:\n",
    "\n",
    "```\n",
    "$ ls\n",
    "Dockerfile\t\tapp.py\t\t\trequirements.txt\n",
    "$ docker build -t friendlyhello .\n",
    "$ docker images\n",
    "\n",
    "REPOSITORY            TAG                 IMAGE ID\n",
    "friendlyhello         latest              326387cea398\n",
    "```\n",
    "\n",
    "Run the image:\n",
    "\n",
    "```\n",
    "docker run -d -p 4000:80 friendlyhello\n",
    "$ docker ps\n",
    "CONTAINER ID        IMAGE               COMMAND             CREATED\n",
    "1fa4ab2cf395        friendlyhello       \"python app.py\"     28 seconds ago\n",
    "$ docker stop 1fa4ab2cf395\n",
    "```\n",
    "\n",
    "Publish on the docker hub:\n",
    "\n",
    "```\n",
    "# signup at cloud.docker.com\n",
    "docker tag friendlyhello username/repository:tag\n",
    "docker push username/repository:tag\n",
    "```\n",
    "\n",
    "Now go to any machine in Milky Way having Docker installed and access to Internet and run:\n",
    "\n",
    "```\n",
    "docker run -p 4000:80 username/repository:tag\n",
    "```\n"
   ]
  },
  {
   "cell_type": "markdown",
   "metadata": {},
   "source": [
    "## Speed: Profiling, IPython, JIT\n",
    "\n",
    "The Python standard library contains the cProfile module for determining the time that takes every Python function when running the code. The pstats module allows to read the profiling results. Third party profiling libraries include in particular line_profiler for profiling code line after line, and memory_profiler for profiling memory usage. All these tools are very powerful and extremely useful when optimizing some code, but they might not be very easy to use at first."
   ]
  },
  {
   "cell_type": "code",
   "execution_count": 7,
   "metadata": {
    "collapsed": false
   },
   "outputs": [
    {
     "name": "stdout",
     "output_type": "stream",
     "text": [
      "Writing script.py\n"
     ]
    }
   ],
   "source": [
    "%%writefile script.py\n",
    "import numpy as np\n",
    "import numpy.random as rdn\n",
    "\n",
    "# uncomment for line_profiler\n",
    "# @profile\n",
    "def test():\n",
    "    a = rdn.randn(100000)\n",
    "    b = np.repeat(a, 100)\n",
    "\n",
    "test()"
   ]
  },
  {
   "cell_type": "code",
   "execution_count": 8,
   "metadata": {
    "collapsed": true
   },
   "outputs": [],
   "source": [
    "!python -m cProfile -o prof script.py"
   ]
  },
  {
   "cell_type": "code",
   "execution_count": null,
   "metadata": {
    "collapsed": true
   },
   "outputs": [],
   "source": [
    "$ pip install ipython\n",
    "$ ipython --version\n",
    "0.13.1\n",
    "$ pip install line-profiler\n",
    "$ pip install psutil\n",
    "$ pip install memory_profiler\n"
   ]
  },
  {
   "cell_type": "code",
   "execution_count": 1,
   "metadata": {
    "collapsed": true
   },
   "outputs": [],
   "source": [
    "%timeit?"
   ]
  },
  {
   "cell_type": "code",
   "execution_count": null,
   "metadata": {
    "collapsed": true
   },
   "outputs": [],
   "source": [
    "%run -t slow_functions.py"
   ]
  },
  {
   "cell_type": "code",
   "execution_count": 2,
   "metadata": {
    "collapsed": false
   },
   "outputs": [
    {
     "name": "stdout",
     "output_type": "stream",
     "text": [
      "CPU times: user 406 ms, sys: 2.48 ms, total: 408 ms\n",
      "Wall time: 407 ms\n",
      "1000 loops, best of 3: 26.3 ns per loop\n"
     ]
    }
   ],
   "source": [
    "%time {1 for i in range(10*1000000)}\n",
    "%timeit -n 1000 10*1000000"
   ]
  },
  {
   "cell_type": "code",
   "execution_count": null,
   "metadata": {
    "collapsed": true
   },
   "outputs": [],
   "source": [
    "def foo(n):\n",
    "    phrase = 'repeat me'\n",
    "    pmul = phrase * n\n",
    "    pjoi = ''.join([phrase for x in xrange(n)])\n",
    "    pinc = ''\n",
    "    for x in xrange(n):\n",
    "        pinc += phrase\n",
    "    del pmul, pjoi, pinc"
   ]
  },
  {
   "cell_type": "code",
   "execution_count": 14,
   "metadata": {
    "collapsed": false
   },
   "outputs": [
    {
     "name": "stderr",
     "output_type": "stream",
     "text": [
      "ERROR:root:Line magic function `%lprun` not found.\n"
     ]
    }
   ],
   "source": [
    "#%load_ext line_profiler\n",
    "%lprun -f foo foo(100000)"
   ]
  },
  {
   "cell_type": "markdown",
   "metadata": {},
   "source": [
    "- %time & %timeit: See how long a script takes to run (one time, or averaged over a bunch of runs).\n",
    "- %prun: See how long it took each function in a script to run.\n",
    "- %lprun: See how long it took each line in a function to run.\n",
    "- %mprun & %memit: See how much memory a script uses (line-by-line, or averaged over a bunch of runs)."
   ]
  },
  {
   "cell_type": "markdown",
   "metadata": {},
   "source": [
    "# Robustness: unit testing\n",
    "\n",
    "https://jeffknupp.com/blog/2013/12/09/improve-your-python-understanding-unit-testing/"
   ]
  },
  {
   "cell_type": "markdown",
   "metadata": {},
   "source": [
    "# Documentation: pydoc and Sphinx\n",
    "\n",
    "http://docs.readthedocs.io/en/latest/getting_started.html"
   ]
  }
 ],
 "metadata": {
  "anaconda-cloud": {},
  "kernelspec": {
   "display_name": "Python [pycourse]",
   "language": "python",
   "name": "Python [pycourse]"
  },
  "language_info": {
   "codemirror_mode": {
    "name": "ipython",
    "version": 3
   },
   "file_extension": ".py",
   "mimetype": "text/x-python",
   "name": "python",
   "nbconvert_exporter": "python",
   "pygments_lexer": "ipython3",
   "version": "3.5.2"
  }
 },
 "nbformat": 4,
 "nbformat_minor": 2
}
