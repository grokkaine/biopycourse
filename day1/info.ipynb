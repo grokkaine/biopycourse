{
 "cells": [
  {
   "cell_type": "markdown",
   "metadata": {},
   "source": [
    "# Course Information"
   ]
  },
  {
   "cell_type": "markdown",
   "metadata": {},
   "source": [
    "- [About the course](#About-the-course)\n",
    "- [About us](#About-us)\n",
    "- [About you](#About-you)\n",
    "- [Venue, credits, requirements](#Venue,-credits,-requirements)\n",
    "- [Bibliography](#Bibliography)"
   ]
  },
  {
   "cell_type": "markdown",
   "metadata": {},
   "source": [
    "### About the course"
   ]
  },
  {
   "cell_type": "markdown",
   "metadata": {},
   "source": [
    "This course is intended to be interactive (you will learn by doing things in groups and by watching me do it live and talking about it). I will use Jupyter, an environment that allows us to do everything in real time on the browser, so you will work locally on your computer and my working is visible on the projected screen. It basically allows you to take your own notes on the lecture notes, and run/modify the programs on your lecture notes. You will receive the course material before the course starts.\n",
    "\n",
    "[jupyter.org](jupyter.org)\n",
    "\n",
    "This is a short course that introduces the participants to using Python in the broad fields of molecular biology and biochemistry. It was designed to be done in less than a week.\n",
    "\n",
    "- day 1: tech intros, standard python (the advanced bits), handling data and plots\n",
    "- day 2: scientific computing, statistics and machine learning\n",
    "- day 3: deep learning and data engineering\n",
    "- day 4: free day, trip, dinner\n",
    "- day 5: choose a task or get help with your project\n",
    "\n",
    "**Some defensive statements**\n",
    "- Contrary to kids, who take life as it comes, adults have expectations.\n",
    "- I lacked the time to prepare the environment and managing our environment is a very useful exercise for everyone. Thus, we will do it together!\n",
    "- Some slides are antiquated and some are new and cool. Bear with me!\n",
    "- The course was not intended for an online audience, and while we made some efforts it is still in a transit state.\n",
    "- So far it was a one man show, with invited speakers and teaching assistants, please do not compare it to your favorite mega-course.\n",
    "- \"I could not finish the task\" This is sometimes intended by design, you will have a better idea about your limits if you test them.\n",
    "- \"I did not understand this\" It is fine to ask anytime if of general interest, but use the hackmd and slack channel otherwise.\n",
    "- This course will not guarantee you will be an advanced programmer in three days. Today learning to program is as important as learning to write. But it takes years to become a good programmer. What is important is to persevere!\n",
    "- \"I came here *only* because I was interested in subject_X and I barely touched the surface!\" NBIS/SciLifeLab/Elixir offers short targeted courses on a large ranged to subjects, where you have the chance to apply. But will you know what you need if you did not attended this course?\n"
   ]
  },
  {
   "cell_type": "markdown",
   "metadata": {},
   "source": [
    "### About us"
   ]
  },
  {
   "cell_type": "markdown",
   "metadata": {},
   "source": [
    "The creator and organizer of this course is Sergiu Netotea, researcher in bioinformatics at Chalmers, Gothenburg. Sergiu is member of NBIS (National Bioinformatics Infrastructure for Sweden), working in the long term support branch. NBIS is a national infrastructure project for Sweden, offering various Bioinformatics services. This is his staff page:\n",
    "\n",
    "[https://nbis.se/about/staff/sergiu-netotea/](https://nbis.se/about/staff/sergiu-netotea/)\n",
    "\n",
    "\n",
    "Brief course history:\n",
    "- April 2015 First time held at the Chemistry department of Umeå University, Umeå, Sweden. The format was 3 days, one day introduction, a second day scientific computing and a third day of practice.\n",
    "- April 2016: Second time held at the Molecular Biology department of Umeå University, Umeå, Sweden.\n",
    "- May 2017: Chalmers Institute of Technology, Göteborg.\n",
    "- June 2018: SciLifeLab, Stockholm\n",
    "- May 2019: Chalmers Institute of Technology, Göteborg\n",
    "- May 2021: Online\n",
    "\n",
    "**What is new**\n",
    "\n",
    "- 2021:\n",
    "    - the course is held online and was organized by my coleague Ashfaq Ali\n",
    "    - the content was expanded with several chapters of deep learning\n",
    "    - additional changes were made for an online audience\n"
   ]
  },
  {
   "cell_type": "markdown",
   "metadata": {},
   "source": [
    "### About you"
   ]
  },
  {
   "cell_type": "markdown",
   "metadata": {},
   "source": [
    "We expect you to work in fields related to molecular biology and biochemistry, but more distant studies of ecology and clinical medicine are of course welcome. If you have a computer science or mathematics background, this course is still useful because it introduces to you data science for biology.\n",
    "\n",
    "This course has the secondary aim to establish working connections between NBIS and the participants. So if you have a special interest to bioinformatics and scientific programming in your work we would like to hear it and perhaps make suggestions.\n",
    "\n",
    "Common interests in this course include:\n",
    "- people that learned basic Python and have difficulties doing anything, because a language is also a technology\n",
    "- people that want to get a grip on data science (numerical computing, stats, ML, deep learning etc)\n",
    "- people that need to program a tool or a library but lack the ability or want to become more efficient\n",
    "- people that need to handle data and perform basic analysis on cloud or on clusters\n",
    "- people that just need easy course credits\n",
    "\n",
    "As you can see, we need to accomodate for our different needs!"
   ]
  },
  {
   "cell_type": "markdown",
   "metadata": {},
   "source": [
    "### Venue, credits, requirements"
   ]
  },
  {
   "cell_type": "markdown",
   "metadata": {},
   "source": [
    "This is handled now on SciLifeLab anouncement page:\n",
    "- https://www.scilifelab.se/event/quick-and-clean-advanced-python-for-data-science-in-biology-online"
   ]
  },
  {
   "cell_type": "markdown",
   "metadata": {},
   "source": [
    "### References (TODO: needs updating)"
   ]
  },
  {
   "cell_type": "markdown",
   "metadata": {},
   "source": [
    "We do not ask you to learn or read anything before the course starts or after it ends. But for those who wish to improve we recommend the following books:\n",
    "\n",
    "- [Python for Biologists: A complete programming course for beginners](http://www.amazon.com/Python-Biologists-complete-programming-beginners/dp/1492346136/) This book will take you slowly through programming with Python reinforcing good programming skills.\n",
    "\n",
    "- [Practical Computing for Biologists](http://www.amazon.com/Practical-Computing-Biologists-Steven-Haddock/dp/0878933913/)\n",
    "\n",
    "- [Python for Biologists](http://pythonforbiologists.com/index.php/books/)\n",
    "\n",
    "- [Learning Python: Interactive computing and Visualization](https://www.amazon.com/Learning-IPython-Interactive-Computing-Visualization/dp/1783986980): also contains lots of free notebooks\n",
    "\n",
    "- [The Elements of Statistical Learning](https://web.stanford.edu/~hastie/ElemStatLearn/) Math and statistics heavy book of ML (Bayesian methods in particular)\n",
    "\n",
    "- [Tom Mitchell's Machine Learning](http://www.cs.cmu.edu/~tom/mlbook.html) Another famous book of ML.\n",
    "\n",
    "- [http://www.deeplearningbook.org/](http://www.deeplearningbook.org/) The DL Bible\n",
    "\n",
    "As Python is surrounded by a whole computing galaxy, this book is an introduction to it having Python in its center.\n",
    "\n",
    "- [Python for Data Analysis](http://shop.oreilly.com/product/0636920023784.do) Not strictly for researchers, this book is a slow introduction to Python's \"scientific computing stack\".\n",
    "\n",
    "\n",
    "We reccommend you to follow other NBIS and SciLifeLab courses as well:\n",
    "\n",
    "- [https://wiki.bils.se/wiki/Training](https://wiki.bils.se/wiki/Training)\n",
    "- [http://www.scilifelab.se/education/courses/](http://www.scilifelab.se/education/courses/)\n",
    "\n",
    "\n",
    "When you get stuck, I recommend you to use this venue for getting help:\n",
    "\n",
    "- [http://stackoverflow.com/questions/tagged/python](http://stackoverflow.com/questions/tagged/python)\n",
    "\n",
    "And I recommend this forum for biology related Python dillemas:\n",
    "\n",
    "- [https://www.biostars.org/](https://www.biostars.org/)\n",
    "\n",
    "If you like blogs, this is a famous blog on scientific computing with Python:\n",
    "\n",
    "- [http://glowingpython.blogspot.se/](http://glowingpython.blogspot.se/)\n",
    "\n",
    "Here is a nice collection of online IPython notebooks teaching various subjects in data science:\n",
    "\n",
    "- [https://github.com/ipython/ipython/wiki/A-gallery-of-interesting-IPython-Notebooks](https://github.com/ipython/ipython/wiki/A-gallery-of-interesting-IPython-Notebooks)\n",
    "\n",
    "And not in the least, we also recommend you to learn other languages, if for no other reason but to understand just how awesome Python in comparison. My magic stack is Js, C, Python, Closure and Julia. People around me also like R, C++, Java, Matlab, Perl and I also use them, but I would not jump in the water to rescue them."
   ]
  },
  {
   "cell_type": "code",
   "execution_count": null,
   "metadata": {},
   "outputs": [],
   "source": []
  }
 ],
 "metadata": {
  "kernelspec": {
   "display_name": "Python 3",
   "language": "python",
   "name": "python3"
  },
  "language_info": {
   "codemirror_mode": {
    "name": "ipython",
    "version": 3
   },
   "file_extension": ".py",
   "mimetype": "text/x-python",
   "name": "python",
   "nbconvert_exporter": "python",
   "pygments_lexer": "ipython3",
   "version": "3.7.10"
  }
 },
 "nbformat": 4,
 "nbformat_minor": 4
}
