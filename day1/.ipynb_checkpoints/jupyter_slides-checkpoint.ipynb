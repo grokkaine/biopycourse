{
 "cells": [
  {
   "cell_type": "markdown",
   "metadata": {
    "slideshow": {
     "slide_type": "slide"
    }
   },
   "source": [
    "\n",
    "# <center>Example slide show</center>\n",
    "#### _<center>(NBIS Python course)</center>_\n"
   ]
  },
  {
   "cell_type": "markdown",
   "metadata": {
    "slideshow": {
     "slide_type": "fragment"
    }
   },
   "source": [
    "\n",
    "### _Sergiu Netotea_\n"
   ]
  },
  {
   "cell_type": "markdown",
   "metadata": {
    "slideshow": {
     "slide_type": "skip"
    }
   },
   "source": [
    "Notes:\n",
    "\n",
    "http://www.slideviper.oquanta.info/tutorial/slideshow_tutorial_slides.html"
   ]
  },
  {
   "cell_type": "markdown",
   "metadata": {
    "slideshow": {
     "slide_type": "slide"
    }
   },
   "source": [
    "# General overview:\n",
    "+ Item 1\n",
    "+ Item 2\n",
    "+ Item 3"
   ]
  },
  {
   "cell_type": "markdown",
   "metadata": {
    "slideshow": {
     "slide_type": "subslide"
    }
   },
   "source": [
    "### CRISPRs!\n",
    "\n",
    "+ Clustered\n",
    "+ Regularly Interspaced ~~Palindromic~~ Repeats\n",
    "    - separated by short (30bp) bits of non-coding DNA (spacers)\n",
    "    - derives in microbes from exposures to a bacteriophage virus or plasmid\n",
    "    - the process being guided by two highly conserved enzymes, Cas 1 and 2.\n",
    "    - 24 to 48 bp, with dyad symetry but not truly palindromic\n",
    "+ are contained in 40% of the sequenced bacterial genomes and 90% of sequenced archaea\n",
    "+ New spacers added _always_ at the leader sequence end (thus it provides a mechanism for evolutionary studies in prokariotes).\n",
    "+ Pairs with Cas9 nuclease can be RNA guided for precise genome editing. (Yay UmU!)\n",
    "+ The most common microbial defense system. Co-evolution bacteria-viruses."
   ]
  },
  {
   "cell_type": "code",
   "execution_count": 1,
   "metadata": {
    "slideshow": {
     "slide_type": "fragment"
    }
   },
   "outputs": [
    {
     "name": "stdout",
     "output_type": "stream",
     "text": [
      "Hello World!\n"
     ]
    }
   ],
   "source": [
    "print(\"Hello World!\")"
   ]
  },
  {
   "cell_type": "markdown",
   "metadata": {
    "slideshow": {
     "slide_type": "fragment"
    }
   },
   "source": [
    "![structure](https://upload.wikimedia.org/wikipedia/commons/b/b3/SimpleCRISPR.jpg)"
   ]
  },
  {
   "cell_type": "markdown",
   "metadata": {
    "slideshow": {
     "slide_type": "subslide"
    }
   },
   "source": [
    "![CRISPR mechanism](https://upload.wikimedia.org/wikipedia/commons/5/5f/Crispr.png)"
   ]
  },
  {
   "cell_type": "code",
   "execution_count": null,
   "metadata": {
    "collapsed": true
   },
   "outputs": [],
   "source": []
  }
 ],
 "metadata": {
  "celltoolbar": "Slideshow",
  "hide_input": false,
  "kernelspec": {
   "display_name": "Python 3",
   "language": "python",
   "name": "python3"
  },
  "language_info": {
   "codemirror_mode": {
    "name": "ipython",
    "version": 3
   },
   "file_extension": ".py",
   "mimetype": "text/x-python",
   "name": "python",
   "nbconvert_exporter": "python",
   "pygments_lexer": "ipython3",
   "version": "3.7.3"
  }
 },
 "nbformat": 4,
 "nbformat_minor": 2
}
