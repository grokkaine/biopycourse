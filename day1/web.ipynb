{
 "cells": [
  {
   "cell_type": "markdown",
   "metadata": {},
   "source": [
    "# Python and the web"
   ]
  },
  {
   "cell_type": "markdown",
   "metadata": {},
   "source": [
    "As a general purpose language, Python is very popular for server side scripting. If Javascript rules as the scripting language of the web client, on the web server Python is ubiquitous due to it's fast prototyping. Only very recently Javascript started to also be popular, with frameworks like node.js.\n",
    "\n",
    "Why would this matter for you?\n",
    "- You can present your research interactively.\n",
    "- Interactivity also helps you work with your own data.\n",
    "- A web interface allows anyone to inspect your data or your findings.\n",
    "- It allows you to link your data to public datasets and the opposite.\n",
    "\n",
    "\n",
    "### Flask\n",
    "\n",
    "Flask is a very capable microframework widely used for web development.\n",
    "\n",
    "[http://flask.pocoo.org/](http://flask.pocoo.org/)\n",
    "\n",
    "Run the data/flasktest.py file and open the browser at :http://0.0.0.0:5001/hello\n"
   ]
  },
  {
   "cell_type": "code",
   "execution_count": 2,
   "metadata": {
    "collapsed": true
   },
   "outputs": [],
   "source": [
    "# Do not run this cell!\n",
    "from flask import Flask\n",
    "app = Flask(\"the_flask_module\")\n",
    "\n",
    "@app.route(\"/hello\")\n",
    "def hello_page():\n",
    "    return \"I'm a hello page\"\n",
    "\n",
    "@app.route(\"/hello/details\")\n",
    "def hello_deeper():\n",
    "    return \"I'm a details page\"\n",
    "\n",
    "app.run(host=\"0.0.0.0\", port=5001)"
   ]
  },
  {
   "cell_type": "markdown",
   "metadata": {},
   "source": [
    "### Django\n",
    "\n",
    "Worth just mentioning [Django](https://docs.djangoproject.com/en/1.7/) is a similarly popular yet more mature web framework that was amont the first to use a model-view-controller architecture wich simplifies reusability. One can write entire websites only from python code and html templates, although in general Javascript is also used for complex websites along with manual database configurations.\n",
    "\n",
    "### Interaction\n",
    "\n",
    "While it is possible to turn Jupyter into an interactive web form with buttons and other standard widgets, we will not have time to do this.\n",
    "\n",
    "We will also learn how to use Python to create interactive web plots inside the plotting chapter."
   ]
  },
  {
   "cell_type": "markdown",
   "metadata": {},
   "source": [
    "# Python and the databases\n",
    "\n",
    "Why would you ever need to know database interaction through Python?\n",
    "\n",
    "- Almost every piece of biological or even scientific data is stored in a database.\n",
    "- Relational databases can be interogated with a very simple query language called SQL.\n",
    "- Most programs are mere interfaces to databases.\n",
    "- Stop pushing buttons, a bit of Python and a bit of SQL is all you need to bring you to the data!\n",
    "\n",
    "### SQLite\n",
    "\n",
    "This is a very simple database. Most R annotation packages to not do anything but download a SQLite database into your computers. It is faster to directly interogate it through Python than to learn how to use a package specific set of functions. \n",
    "\n",
    "The code bellow creates a test database with a table of SNPs and inserts a few records."
   ]
  },
  {
   "cell_type": "code",
   "execution_count": 4,
   "metadata": {
    "collapsed": true
   },
   "outputs": [],
   "source": [
    "import sqlite3 as lite\n",
    "import sys\n",
    "\n",
    "snps = (\n",
    "    (1, 'Gene1', 52642),\n",
    "    (2, 'Gene2', 57127),\n",
    "    (3, 'Gene3', 9000),\n",
    "    (4, 'Gene4', 29000)\n",
    ")\n",
    "\n",
    "\n",
    "con = lite.connect('test.db')\n",
    "\n",
    "with con:\n",
    "    cur = con.cursor()    \n",
    "    cur.execute(\"DROP TABLE IF EXISTS snps\")\n",
    "    cur.execute(\"CREATE TABLE snps(Id INT, GeneSYM TEXT, NucleodidePos INT)\")\n",
    "    cur.executemany(\"INSERT INTO snps VALUES(?, ?, ?)\", snps)"
   ]
  },
  {
   "cell_type": "markdown",
   "metadata": {},
   "source": [
    "Now let us interogate the database:"
   ]
  },
  {
   "cell_type": "code",
   "execution_count": 6,
   "metadata": {
    "collapsed": false
   },
   "outputs": [
    {
     "name": "stdout",
     "output_type": "stream",
     "text": [
      "(1, 'Gene1', 52642)\n",
      "(2, 'Gene2', 57127)\n",
      "(3, 'Gene3', 9000)\n",
      "(4, 'Gene4', 29000)\n"
     ]
    }
   ],
   "source": [
    "import sqlite3 as lite\n",
    "import sys\n",
    "\n",
    "\n",
    "con = lite.connect('test.db')\n",
    "\n",
    "with con:    \n",
    "    \n",
    "    cur = con.cursor()    \n",
    "    cur.execute(\"SELECT * FROM snps\")\n",
    "\n",
    "    rows = cur.fetchall()\n",
    "\n",
    "    for row in rows:\n",
    "        print(row)"
   ]
  },
  {
   "cell_type": "markdown",
   "metadata": {},
   "source": [
    "SQL is an interogation language that can get relatively complex and it falls out of the scope of this course. However in data science it is extremely useful to be able to operate databases because relational databases allow for very fast data access and operations, together with data compression. However there are many other database types, used predominantly in big data, such as document databases, graph databases and others, also known as NoSQL databases, and Python can bridge to them all."
   ]
  },
  {
   "cell_type": "markdown",
   "metadata": {},
   "source": [
    "### Remote API calls example\n",
    "\n",
    "Getting information as fast as possible into our Python data structures is vital. Only as a last resource should one program his own downloaders and parsers. When this is not found in Python, it can be possible to call libraries from Perl or Python or access web records with specified API calls. BioPython wraps a few API calls such as Entrez resources. Entrez is a federated search engine over various NCBI and NIH resource databases. "
   ]
  },
  {
   "cell_type": "code",
   "execution_count": 3,
   "metadata": {
    "collapsed": false,
    "scrolled": true
   },
   "outputs": [
    {
     "name": "stdout",
     "output_type": "stream",
     "text": [
      "dict_keys(['DbList'])\n",
      "['pubmed', 'protein', 'nuccore', 'nucleotide', 'nucgss', 'nucest', 'structure', 'genome', 'annotinfo', 'assembly', 'bioproject', 'biosample', 'blastdbinfo', 'books', 'cdd', 'clinvar', 'clone', 'gap', 'gapplus', 'grasp', 'dbvar', 'epigenomics', 'gene', 'gds', 'geoprofiles', 'homologene', 'medgen', 'mesh', 'ncbisearch', 'nlmcatalog', 'omim', 'orgtrack', 'pmc', 'popset', 'probe', 'proteinclusters', 'pcassay', 'biosystems', 'pccompound', 'pcsubstance', 'pubmedhealth', 'seqannot', 'snp', 'sra', 'taxonomy', 'unigene', 'gencoll', 'gtr']\n"
     ]
    }
   ],
   "source": [
    "from Bio import Entrez\n",
    "Entrez.email = \"your@mail.here\"     # Always tell NCBI who you are\n",
    "handle = Entrez.einfo()\n",
    "#result = handle.read()\n",
    "record = Entrez.read(handle)\n",
    "print(record.keys())\n",
    "print(record[\"DbList\"])"
   ]
  },
  {
   "cell_type": "markdown",
   "metadata": {},
   "source": [
    "**[BioPython](http://biopython.org/wiki/Main_Page)**\n",
    "\n",
    "So let us for example find the exact lineage for this amazing breed of bacteria that changed both plants and atmosphere in the earlier days of our planet... As biologists that try to learn Python, I hope you will love BioPython at least as much as I do. A number of programmers created Bio::Perl which is to date containing a few more modules than BioPython, however I got the feeling the Python version is more updated. It is unfortunate that we don't have time to explore it in a great detail. \n",
    "We will use it again over the course. \n",
    "\n",
    "Aside from BioPython, web API can be ofered by virtually any website and with a little effort one can either download an Python access package or program his own. Functional annotation for example, is weakly covered in Python, but [DAVID](http://david.abcc.ncifcrf.gov/content.jsp?file=WS.html) is another API independent from BioPython.\n",
    "\n",
    "First, install with:\n",
    "\n",
    "```\n",
    "conda install -c https://conda.anaconda.org/anaconda biopython\n",
    "```"
   ]
  },
  {
   "cell_type": "code",
   "execution_count": 9,
   "metadata": {
    "collapsed": false
   },
   "outputs": [
    {
     "name": "stdout",
     "output_type": "stream",
     "text": [
      "['1142']\n",
      "dict_keys(['UpdateDate', 'ParentTaxId', 'GeneticCode', 'TaxId', 'ScientificName', 'OtherNames', 'CreateDate', 'PubDate', 'MitoGeneticCode', 'LineageEx', 'Lineage', 'Rank', 'Division'])\n",
      "cellular organisms; Bacteria; Terrabacteria group; Cyanobacteria/Melainabacteria group; Cyanobacteria; Oscillatoriophycideae; Chroococcales\n"
     ]
    }
   ],
   "source": [
    "from Bio import Entrez\n",
    "Entrez.email = \"your@mail.here\"     # Always tell NCBI who you are\n",
    "handle = Entrez.esearch(db=\"Taxonomy\", term=\"Synechocystis\")\n",
    "record = Entrez.read(handle)\n",
    "print(record[\"IdList\"])\n",
    "#assuming only one record is returned\n",
    "handle = Entrez.efetch(db=\"Taxonomy\", id=record[\"IdList\"][0], retmode=\"xml\")\n",
    "records = Entrez.read(handle)\n",
    "print(records[0].keys())\n",
    "print(records[0][\"Lineage\"])"
   ]
  },
  {
   "cell_type": "code",
   "execution_count": null,
   "metadata": {
    "collapsed": true
   },
   "outputs": [],
   "source": []
  }
 ],
 "metadata": {
  "anaconda-cloud": {},
  "kernelspec": {
   "display_name": "Python [pycourse]",
   "language": "python",
   "name": "Python [pycourse]"
  },
  "language_info": {
   "codemirror_mode": {
    "name": "ipython",
    "version": 3
   },
   "file_extension": ".py",
   "mimetype": "text/x-python",
   "name": "python",
   "nbconvert_exporter": "python",
   "pygments_lexer": "ipython3",
   "version": "3.5.2"
  }
 },
 "nbformat": 4,
 "nbformat_minor": 1
}
