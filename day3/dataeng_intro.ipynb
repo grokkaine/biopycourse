{
 "cells": [
  {
   "cell_type": "markdown",
   "metadata": {},
   "source": [
    "# Gentle introduction (to data engineering)\n",
    "\n",
    "- PC architecture\n",
    "- Grid architecture, HPC\n",
    "- Cloud, distributed computing\n",
    "- Hadoop and Spark\n",
    "- Spinning instances, the need for containers\n",
    "- Serverless.\n",
    "- Internet ofthings, IoT\n",
    "- Quantum computing (No Python here(yet))"
   ]
  },
  {
   "cell_type": "code",
   "execution_count": null,
   "metadata": {},
   "outputs": [],
   "source": []
  }
 ],
 "metadata": {
  "kernelspec": {
   "display_name": "Python 3",
   "language": "python",
   "name": "python3"
  },
  "language_info": {
   "codemirror_mode": {
    "name": "ipython",
    "version": 3
   },
   "file_extension": ".py",
   "mimetype": "text/x-python",
   "name": "python",
   "nbconvert_exporter": "python",
   "pygments_lexer": "ipython3",
   "version": "3.7.3"
  }
 },
 "nbformat": 4,
 "nbformat_minor": 2
}
