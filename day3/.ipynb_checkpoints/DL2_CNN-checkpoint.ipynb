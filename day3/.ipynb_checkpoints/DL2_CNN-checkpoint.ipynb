{
 "cells": [
  {
   "cell_type": "markdown",
   "id": "e2013597-ce30-45a6-920b-fc2c81e4262e",
   "metadata": {},
   "source": [
    "# Deep learning 2. Convolutional Neural Networks"
   ]
  },
  {
   "cell_type": "markdown",
   "id": "b17a1dcd-636a-490d-8888-0c1cc869e074",
   "metadata": {},
   "source": [
    "- The dense FFN used before contained 600000 parameters. These are expensive to train!\n",
    "- A picture is not a flat array of numbers, it is a 2D matrix with multiple color channels. Convolution kernels are able to find 2D hidden features.\n",
    "- A CNN's layers are operating on a 3D tensor of shape (height, width, channels). A colored imaged usually has three channels (RGB) but more are possible. We have grayscale thus only one channel.\n",
    "- The width and height dimensions tend to shrink as we go deeper in the network. Why? NNs are efective information filters.\n",
    "\n",
    "Why is this important for a biologist?\n",
    "- Sight is our main sense. Labelling pictures is much easier than other types of data!\n",
    "- Most biological data can be converted to image format. (including genomics, transcriptomics, etc)\n",
    "- Spatial transcriptomics, as well as some single cell data have multi-channel and spatial features. \n",
    "- Microscopy is biology too!"
   ]
  },
  {
   "cell_type": "code",
   "execution_count": 1,
   "id": "2831eb0e-25a7-440b-8240-b636cfe067c8",
   "metadata": {},
   "outputs": [],
   "source": [
    "from tensorflow.keras.datasets import mnist\n",
    "from tensorflow.keras.utils import to_categorical\n",
    "\n",
    "(train_images, train_labels), (test_images, test_labels) = mnist.load_data()\n",
    "train_images = train_images.reshape((60000, 28, 28, 1))\n",
    "train_images = train_images.astype('float32') / 255\n",
    "test_images = test_images.reshape((10000, 28, 28, 1))\n",
    "test_images = test_images.astype('float32') / 255\n",
    "train_labels = to_categorical(train_labels)\n",
    "test_labels = to_categorical(test_labels)\n"
   ]
  },
  {
   "cell_type": "code",
   "execution_count": 3,
   "id": "7f6966f5-45c1-4563-87b8-68a43f543b39",
   "metadata": {},
   "outputs": [
    {
     "data": {
      "text/plain": [
       "(60000, 28, 28, 1)"
      ]
     },
     "execution_count": 3,
     "metadata": {},
     "output_type": "execute_result"
    }
   ],
   "source": [
    "print(train_images.shape)"
   ]
  },
  {
   "cell_type": "markdown",
   "id": "4b095872-4b0c-4342-a1c9-c2c05e44ee63",
   "metadata": {},
   "source": [
    "### Method:\n",
    "\n",
    "- The convolutional network will filter the image in a sequence, gradually expanding the complexity of hidden features and eliminating the noise via the \"downsampling bottleneck\".\n",
    "- A CNN's filtering principle is based on the idea of functional convolution, this is a mathematical way of comparing two functions in a temporal manner by sliding one over the other.\n",
    "- Parts: convolution, pooling and classification"
   ]
  },
  {
   "cell_type": "code",
   "execution_count": 13,
   "id": "15631da0-b970-4a7a-ac13-362450194954",
   "metadata": {},
   "outputs": [
    {
     "data": {
      "text/html": [
       "<img src=\"../img/cnn.png\" width=\"400\" height=\"400\"/>"
      ],
      "text/plain": [
       "<IPython.core.display.Image object>"
      ]
     },
     "execution_count": 13,
     "metadata": {},
     "output_type": "execute_result"
    }
   ],
   "source": [
    "from IPython.display import Image\n",
    "Image(url= \"../img/cnn.png\", width=400, height=400)"
   ]
  },
  {
   "cell_type": "code",
   "execution_count": 11,
   "id": "026c2998-1f70-4f54-809c-5407399d331b",
   "metadata": {},
   "outputs": [
    {
     "data": {
      "text/html": [
       "<img src=\"../img/convolution.png\" width=\"400\" height=\"400\"/>"
      ],
      "text/plain": [
       "<IPython.core.display.Image object>"
      ]
     },
     "execution_count": 11,
     "metadata": {},
     "output_type": "execute_result"
    }
   ],
   "source": [
    "Image(url= \"../img/convolution.png\", width=400, height=400)"
   ]
  },
  {
   "cell_type": "code",
   "execution_count": 12,
   "id": "dd592300-1812-4c7d-bb6d-6a225d1a0dba",
   "metadata": {},
   "outputs": [
    {
     "data": {
      "text/html": [
       "<img src=\"../img/pooling.png\" width=\"400\" height=\"400\"/>"
      ],
      "text/plain": [
       "<IPython.core.display.Image object>"
      ]
     },
     "execution_count": 12,
     "metadata": {},
     "output_type": "execute_result"
    }
   ],
   "source": [
    "Image(url= \"../img/pooling.png\", width=400, height=400)"
   ]
  },
  {
   "cell_type": "markdown",
   "id": "a3489654-5cde-47e1-9f8e-ff99c3ff0d1c",
   "metadata": {},
   "source": [
    "The layers:\n",
    "- The first block: 32 number of kernels (convolutional filters) each of 3 x 3 size followed by a max pooling operation with pool size of 2 x 2.\n",
    "- The second block: 64 number of kernels each of 3 x 3 size followed by a max pooling operation with pool size of 2 x 2 and a dropout of 20% to ensure the regularization and thus avoiding overfitting of the model.\n",
    "- classification block: flattening operation which transforms the data to 1 dimensional so as to feed it to fully connected or dense layer. The first dense layer consists of 128 neurons with relu activation while the final output layer consist of 10 neurons with softmax activation which will output the probability for each of the 10 classes.\n"
   ]
  },
  {
   "cell_type": "code",
   "execution_count": 2,
   "id": "da3b1f73-8def-4700-a211-2c7b425a213b",
   "metadata": {},
   "outputs": [
    {
     "name": "stdout",
     "output_type": "stream",
     "text": [
      "Model: \"sequential\"\n",
      "_________________________________________________________________\n",
      "Layer (type)                 Output Shape              Param #   \n",
      "=================================================================\n",
      "conv2d (Conv2D)              (None, 26, 26, 32)        320       \n",
      "_________________________________________________________________\n",
      "max_pooling2d (MaxPooling2D) (None, 13, 13, 32)        0         \n",
      "_________________________________________________________________\n",
      "conv2d_1 (Conv2D)            (None, 11, 11, 64)        18496     \n",
      "_________________________________________________________________\n",
      "max_pooling2d_1 (MaxPooling2 (None, 5, 5, 64)          0         \n",
      "_________________________________________________________________\n",
      "dropout (Dropout)            (None, 5, 5, 64)          0         \n",
      "_________________________________________________________________\n",
      "flatten (Flatten)            (None, 1600)              0         \n",
      "_________________________________________________________________\n",
      "dense (Dense)                (None, 128)               204928    \n",
      "_________________________________________________________________\n",
      "dense_1 (Dense)              (None, 10)                1290      \n",
      "=================================================================\n",
      "Total params: 225,034\n",
      "Trainable params: 225,034\n",
      "Non-trainable params: 0\n",
      "_________________________________________________________________\n"
     ]
    }
   ],
   "source": [
    "#from tensorflow.keras import layers\n",
    "from tensorflow.keras.layers import Conv2D, MaxPooling2D, Dropout, Flatten, Dense\n",
    "from tensorflow.keras import models\n",
    "\n",
    "model = models.Sequential()\n",
    "\n",
    "# first block\n",
    "model.add(Conv2D(32, kernel_size=(3, 3), input_shape=(28, 28, 1), activation='relu'))\n",
    "model.add(MaxPooling2D(pool_size=(2,2)))\n",
    "\n",
    "# second block\n",
    "model.add(Conv2D(64, kernel_size=(3,3), activation='relu'))\n",
    "model.add(MaxPooling2D(pool_size=(2,2)))\n",
    "model.add(Dropout(0.2))\n",
    "\n",
    "# flattening followed by dense layer and final output layer\n",
    "model.add(Flatten())\n",
    "model.add(Dense(128, activation='relu'))\n",
    "model.add(Dense(10,activation='softmax'))\n",
    "\n",
    "model.summary()"
   ]
  },
  {
   "cell_type": "markdown",
   "id": "6c314daa-75d9-40e9-beb7-491c584633bd",
   "metadata": {},
   "source": [
    "- Loss:\n",
    "    - Many functions are possible (mean square error, maximum likelihood)\n",
    "    - cross-entropy loss (or log loss): sum for all predicted classes $- \\sum_c y_c log(p_c)$, where $y_c$ is a binary inndication of classification success and $p_c$ is the probability value of the model prediction\n",
    "\n",
    "\n",
    "- Optimizers:\n",
    "    - SGD: slower, classic, can get stuck in local minima, uses momentum to avoid small valleys\n",
    "    - rmsprop (root mean square propagation): batches contain bias noise, weights are adjusted ortogonal to bias, leading to faster convergence.\n",
    "    - Adam: combines the above\n",
    "    - Read more at: https://medium.com/analytics-vidhya/momentum-rmsprop-and-adam-optimizer-5769721b4b19\n",
    "\n",
    "\n",
    "- Learning rate ($\\alpha$): Gradient descent algorithms multiply the magnitude of the gradient (the rate of error change with respect to each weight) by a scalar known as learning rate (also sometimes called step size) to determine the next point. $w_{ij} = w_{ij} + \\alpha \\frac{dE}{dw_{ij}}$\n"
   ]
  },
  {
   "cell_type": "code",
   "execution_count": 3,
   "id": "665ff698-d588-41a0-b18c-c80906ec0136",
   "metadata": {},
   "outputs": [
    {
     "name": "stdout",
     "output_type": "stream",
     "text": [
      "Epoch 1/5\n",
      "469/469 [==============================] - 25s 54ms/step - loss: 0.1480 - accuracy: 0.9551 - val_loss: 0.0514 - val_accuracy: 0.9853\n",
      "Epoch 2/5\n",
      "469/469 [==============================] - 25s 54ms/step - loss: 0.0620 - accuracy: 0.9810 - val_loss: 0.0436 - val_accuracy: 0.9863\n",
      "Epoch 3/5\n",
      "469/469 [==============================] - 26s 55ms/step - loss: 0.0571 - accuracy: 0.9824 - val_loss: 0.0452 - val_accuracy: 0.9864\n",
      "Epoch 4/5\n",
      "469/469 [==============================] - 25s 54ms/step - loss: 0.0477 - accuracy: 0.9852 - val_loss: 0.0398 - val_accuracy: 0.9879\n",
      "Epoch 5/5\n",
      "469/469 [==============================] - 25s 54ms/step - loss: 0.0445 - accuracy: 0.9863 - val_loss: 0.0647 - val_accuracy: 0.9845\n"
     ]
    }
   ],
   "source": [
    "from tensorflow.keras.optimizers import Adam\n",
    "\n",
    "# compiling the model\n",
    "model.compile(loss='categorical_crossentropy',  optimizer=Adam(lr=0.01), metrics=['accuracy'])\n",
    "\n",
    "# train the model training dataset\n",
    "history = model.fit(train_images, train_labels, epochs=5, validation_data=(test_images, test_labels), batch_size=128)\n",
    "\n",
    "# save the model\n",
    "model.save('cnn.h5')"
   ]
  },
  {
   "cell_type": "code",
   "execution_count": 4,
   "id": "63c27aa9-c7d8-495b-962f-995bd5246981",
   "metadata": {},
   "outputs": [
    {
     "name": "stdout",
     "output_type": "stream",
     "text": [
      "313/313 [==============================] - 1s 4ms/step - loss: 0.0647 - accuracy: 0.9845\n",
      "0.06469543278217316 0.984499990940094\n"
     ]
    }
   ],
   "source": [
    "test_loss, test_acc = model.evaluate(test_images, test_labels)\n",
    "print(test_loss, test_acc)"
   ]
  },
  {
   "cell_type": "code",
   "execution_count": 5,
   "id": "f3a49d07-019e-4bc5-8d0b-c7638242b9a4",
   "metadata": {},
   "outputs": [
    {
     "name": "stdout",
     "output_type": "stream",
     "text": [
      "dict_keys(['loss', 'accuracy', 'val_loss', 'val_accuracy'])\n"
     ]
    },
    {
     "data": {
      "image/png": "[encoded data removed]",
      "text/plain": [
       "<Figure size 432x288 with 1 Axes>"
      ]
     },
     "metadata": {
      "needs_background": "light"
     },
     "output_type": "display_data"
    },
    {
     "data": {
      "image/png": "[encoded data removed]",
      "text/plain": [
       "<Figure size 432x288 with 1 Axes>"
      ]
     },
     "metadata": {
      "needs_background": "light"
     },
     "output_type": "display_data"
    }
   ],
   "source": [
    "%matplotlib inline\n",
    "import matplotlib.pyplot as plt\n",
    "print(history.history.keys())\n",
    "#  Ploting the accuracy graph\n",
    "plt.plot(history.history['accuracy'])\n",
    "plt.plot(history.history['val_accuracy'])\n",
    "plt.title('model accuracy')\n",
    "plt.ylabel('accuracy')\n",
    "plt.xlabel('epoch')\n",
    "plt.legend(['train', 'val'], loc='best')\n",
    "plt.show()\n",
    "# Ploting the loss graph\n",
    "plt.plot(history.history['loss'])\n",
    "plt.plot(history.history['val_loss'])\n",
    "plt.title('model loss')\n",
    "plt.ylabel('loss')\n",
    "plt.xlabel('epoch')\n",
    "plt.legend(['train', 'val'], loc='best')\n",
    "plt.show()"
   ]
  },
  {
   "cell_type": "markdown",
   "id": "2349ee8c-fba6-4cba-850f-6bb791053fd5",
   "metadata": {},
   "source": [
    "### Good fit vs overfitting and underfitting\n",
    "\n",
    "- Good fit:\n",
    "    - Training loss and Validation loss are close to each other with validation loss being slightly greater than the training loss.\n",
    "    - Initially decreasing training and validation loss and a pretty flat training and validation loss after some point till the end.\n",
    "\n",
    "\n",
    "- Overfitting: Overfit models are similar to school kids that spend so much time learning that they are not able to generalize their knowledge, or hyperspecialists that cannot think outside their fields. If a model is over trained on the data it typically shows a perfect training set score and a gradually worsening test score. This is because it learned so much the training data noise that it fails to spot the signal in the test data. Can you spot above when the model overfits?\n",
    "    - How to avoid: Don't use complex models for small simple datasets. Regularization.\n",
    "    - How to spot:\n",
    "        - Training loss and Validation loss are far away from each other.\n",
    "        - Gradually decreasing validation loss (without flattening) upon adding training examples.\n",
    "        - Very low training loss that’s very slightly increasing upon adding training examples.\n",
    "\n",
    "\n",
    "- Underfitting: The model doesn't learn from the data, giving a low score on both the training set and test/validation set.\n",
    "    - How to avoid: Don't use simple models for a complex problem. Clean the noise from the dataset so that the signal is easier to capture by the model. (It may also be that the signal is missing or is misslabeled)\n",
    "    - How to spot:\n",
    "        - Increasing training loss upon adding training examples.\n",
    "        - Training loss and validation loss are close to each other at the end.\n",
    "        - Sudden dip in the training loss and validation loss at the end (not always).\n",
    "\n",
    "\n",
    "- This is a general ML problem, read here how you can use scikit learn to evaluare the loss/acc curves for any iterative learning algorithm:\n",
    "https://towardsdatascience.com/learning-curve-to-identify-overfitting-underfitting-problems-133177f38df5\n",
    "\n",
    "\n",
    "### How do we improve model convergence?\n",
    "\n",
    "- Epochs: increase the number until the validation accuracy starts to decrease, even when the accuracy of the training data continues to increase (this is when we detect a potential overfitting).\n",
    "- Batches: A small number of samples per batch will avoid RAM issues.\n",
    "- Learning rate: if too big, the algorithm might converge fast to a local minimum, or bounce on the gradient well. If too small the convergence will be slower but better.\n",
    "- Choice of optimization methods and their parameters. (there are drawbacks to all)\n",
    "- Hyperparametrization. Note that there are also model specific hyper-parameters. Can you find them in this case (CNN)?\n",
    "\n",
    "Further read:\n",
    "- https://towardsdatascience.com/learning-process-of-a-deep-neural-network-5a9768d7a651\n",
    "\n",
    "**Task:** now retrain the model with a batch size of 32, 10 epochs, and no learning rate constraints (use defaults). Notice improvements in model fitting?\n"
   ]
  },
  {
   "cell_type": "markdown",
   "id": "7b3a3c3e-65b8-4f1a-8659-d3cd84d4a0af",
   "metadata": {},
   "source": [
    "### Regularization\n",
    "\n",
    "- Large datasets cause overfitting! A common reason is having large weights in the network. They can result in small changes in the input having drastic effects in the output. More generally, you want to insure that your model is able to keep up with a certain level of input noise.\n",
    "- Regularization is a general ML problem, but in the NN context the main approaches are batch normalization and dropout layers.\n",
    "\n",
    "**Batch normalization**: normalize the inputs of each layer in such a way that, they have a mean activation output zero and a unit standard deviation.\n",
    "- This reduces the eliptical curvature of the error surface, helping gradient descent.\n",
    "- Since the normalization is only done batch wise, the normalization layers will still feed regular noise in the model!\n",
    "\n",
    "**Dropout**\n",
    "- By popular vote: A healthy mind is a mind that can forget.\n",
    "- A single model can be used to simulate having a large number of different network architectures by randomly dropping out nodes during training.\n",
    "- This makes the neurons less reliant on small perturbations from other neurons.\n",
    "\n",
    "**Task:**\n",
    "- apply a batch normalization layer\n",
    "- parametrise the dropout rate and measure loss.\n",
    "\n",
    "\n",
    "Further read:\n",
    "- https://medium.com/analytics-vidhya/everything-you-need-to-know-about-regularizer-eb477b0c82ba\n",
    "- https://www.analyticsvidhya.com/blog/2021/03/introduction-to-batch-normalization/"
   ]
  },
  {
   "cell_type": "code",
   "execution_count": null,
   "id": "c11c58e7-0ed5-4075-81be-c8c712189df6",
   "metadata": {},
   "outputs": [],
   "source": []
  }
 ],
 "metadata": {
  "kernelspec": {
   "display_name": "Python 3",
   "language": "python",
   "name": "python3"
  },
  "language_info": {
   "codemirror_mode": {
    "name": "ipython",
    "version": 3
   },
   "file_extension": ".py",
   "mimetype": "text/x-python",
   "name": "python",
   "nbconvert_exporter": "python",
   "pygments_lexer": "ipython3",
   "version": "3.7.10"
  }
 },
 "nbformat": 4,
 "nbformat_minor": 5
}
