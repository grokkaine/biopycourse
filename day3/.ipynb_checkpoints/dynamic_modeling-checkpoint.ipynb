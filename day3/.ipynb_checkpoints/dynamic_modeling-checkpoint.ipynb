{
 "cells": [
  {
   "cell_type": "markdown",
   "metadata": {},
   "source": [
    "# Dynamic modeling\n",
    "\n",
    "- Load a curated SBML model\n",
    "- Plot the model\n",
    "- Solve the model\n",
    "- Peak identification\n",
    "- Pathway studies\n",
    "\n",
    "#### Obs.\n",
    "This should be general enough to be performed on any similar models on the Biomodels database.\n"
   ]
  },
  {
   "cell_type": "code",
   "execution_count": null,
   "metadata": {
    "collapsed": true
   },
   "outputs": [],
   "source": [
    "## Here you should call the whole task, to be completed in one single call.\n",
    "import DM\n",
    "DM.run()"
   ]
  },
  {
   "cell_type": "markdown",
   "metadata": {},
   "source": [
    "### Load a dynamical model\n",
    "\n",
    "Use the biomodels database to load a dynamical model. Here is one example:\n",
    "\n",
    "[http://www.ebi.ac.uk/biomodels-main/BIOMD0000000006](http://www.ebi.ac.uk/biomodels-main/BIOMD0000000006)\n",
    "\n",
    "To parse the model either use BeautifulSoup, or the standard XML parser.\n"
   ]
  },
  {
   "cell_type": "code",
   "execution_count": null,
   "metadata": {
    "collapsed": true
   },
   "outputs": [],
   "source": [
    "import DM\n",
    "model_link = \"\"\n",
    "DM.load_model()"
   ]
  },
  {
   "cell_type": "markdown",
   "metadata": {},
   "source": [
    "### Plot the model\n",
    "\n",
    "Parametrize the model and plot all species independently starting from a given concentration and parameters dictionary. Use for example odeint from scipy.\n",
    "\n",
    "Save plots and actual values in files in the project's data folder."
   ]
  },
  {
   "cell_type": "code",
   "execution_count": null,
   "metadata": {
    "collapsed": false
   },
   "outputs": [],
   "source": [
    "inidic = {} #dictionary of innitial concentrations and parameter values\n",
    "DM.plot()"
   ]
  },
  {
   "cell_type": "markdown",
   "metadata": {},
   "source": [
    "### Solve the model\n",
    "\n",
    "Solve the ODE system describing this model either using scipy or [PyDST](https://wiki.python.org/moin/PyDSTool). Plot the results.\n",
    "\n",
    "Optionally, you can further investigate the model with [PySCeS](http://pysces.sourceforge.net/). Save the results as you see fit."
   ]
  },
  {
   "cell_type": "code",
   "execution_count": null,
   "metadata": {
    "collapsed": true
   },
   "outputs": [],
   "source": [
    "DM.solve()"
   ]
  },
  {
   "cell_type": "markdown",
   "metadata": {},
   "source": [
    "### Peak identification\n",
    "\n",
    "Identify concentration peaks using scipy's pakages for optimization."
   ]
  },
  {
   "cell_type": "code",
   "execution_count": null,
   "metadata": {
    "collapsed": true
   },
   "outputs": [],
   "source": [
    "DM.get_peaks()"
   ]
  },
  {
   "cell_type": "markdown",
   "metadata": {},
   "source": [
    "### Pathway studies\n",
    "\n",
    "Try to annotate your model automatically using the Entrez database through BioPython. Plot the model plus annotations as a graph and save it in graphml."
   ]
  },
  {
   "cell_type": "code",
   "execution_count": null,
   "metadata": {
    "collapsed": true
   },
   "outputs": [],
   "source": [
    "DM.annotations()"
   ]
  }
 ],
 "metadata": {
  "kernelspec": {
   "display_name": "Python 3",
   "language": "python",
   "name": "python3"
  },
  "language_info": {
   "codemirror_mode": {
    "name": "ipython",
    "version": 3
   },
   "file_extension": ".py",
   "mimetype": "text/x-python",
   "name": "python",
   "nbconvert_exporter": "python",
   "pygments_lexer": "ipython3",
   "version": "3.5.1"
  }
 },
 "nbformat": 4,
 "nbformat_minor": 0
}
