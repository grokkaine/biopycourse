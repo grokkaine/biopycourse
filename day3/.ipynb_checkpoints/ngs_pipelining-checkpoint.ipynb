{
 "cells": [
  {
   "cell_type": "markdown",
   "metadata": {},
   "source": [
    "# NGS pipelining in the cloud\n",
    "\n",
    "- Download the necessary FASTQ files\n",
    "- Open a cloud instance and install required programs\n",
    "- Make a pipeline in Python/Snakemake/Nextflow to run a RNA-Seq gene expression study\n",
    "- Perform simple DE in Python (T-test based) or in R (edgeR, through Python)\n",
    "- Functional enrichment, expression plots\n",
    "\n",
    "This exercise will teach you how to run a simple RNA-Seq pipeline on a cloud. We will use the Amazon cloud. Note that you will have to potentially pay for the use of the Amazon cloud, but I will teach you how to properly monitor your usage statistics and payment amounts. Also note that it is not expensive, but credit card data is required to open your Amazon account.\n",
    "\n",
    "To figure out the pricing, go here:\n",
    "\n",
    "[https://aws.amazon.com/ec2/pricing/](https://aws.amazon.com/ec2/pricing/)\n",
    "\n",
    "Note that you will not be using the instance for eight hours fully, and that setup/development can be done on the cheapest instance available."
   ]
  },
  {
   "cell_type": "markdown",
   "metadata": {},
   "source": [
    "### Open a cloud instance and install required programs\n",
    "\n",
    "Use the EC2 interface to gain access to a small server. \n",
    "\n",
    "If possible use this image:\n",
    "\n",
    "http://thecloudmarket.com/image/ami-9bcb9cf2--cloudbiolinux-ubuntu-13-04-2013-08-28"
   ]
  },
  {
   "cell_type": "markdown",
   "metadata": {},
   "source": [
    "### Make relevant plots from the FASTQ file using BioPython\n",
    "\n",
    "Follow the example bellow as an inspiration."
   ]
  },
  {
   "cell_type": "code",
   "execution_count": null,
   "metadata": {
    "collapsed": true
   },
   "outputs": [],
   "source": [
    "from Bio import SeqIO\n",
    "count = 0\n",
    "for rec in SeqIO.parse(\"SRR020192.fastq\", \"fastq\"):\n",
    "  count += 1\n",
    "print \"%i reads\" % count\n",
    "\n",
    "quality = [(rec, min(rec.letter_annotations[\"phred_quality\"])) for rec in SeqIO.parse(\"SRR020192.fastq\", \"fastq\")]\n",
    "count = SeqIO.write(quality, \"good_quality.fastq\", \"fastq\")\n"
   ]
  },
  {
   "cell_type": "markdown",
   "metadata": {},
   "source": [
    "### Setup the pipeline\n",
    "\n",
    "Use this small pipelining example, in which I run two programs sequentially from Python. Use it as a template for your pipeline."
   ]
  },
  {
   "cell_type": "code",
   "execution_count": null,
   "metadata": {
    "collapsed": true
   },
   "outputs": [],
   "source": [
    "from subprocess import Popen, PIPE\n",
    "\n",
    "class Command( object ):\n",
    "    def __init__( self, text ):\n",
    "        self.args = text.split()\n",
    "    def execute( self ):\n",
    "        p = Popen(self.args, shell = False, stdin=None, stdout=PIPE, stderr=None)\n",
    "        #result = p.communicate()[0]\n",
    "        #print result\n",
    "        status = p.wait()\n",
    "        self.stdin, self.stdout, self.stderr = p.stdin, p.stdout, p.stderr\n",
    "        \n",
    "t1 = \"makeblastdb -in data/ecoli_prom.fasta -dbtype nucl -out out/promdb\"\n",
    "t2 = \"blastn -db out/promdb -query out/promoter.fasta\"\n",
    "\n",
    "pipeline = [Command(t1), Command(t2)]\n",
    "\n",
    "for c in pipeline:\n",
    "    print \"Running command:\", \" \".join(c.args)\n",
    "    c.execute()\n",
    "    print \"Input:\", c.stdin\n",
    "    print \"Output:\", c.stdout\n",
    "    print \"Error:\", c.stderr"
   ]
  },
  {
   "cell_type": "markdown",
   "metadata": {},
   "source": [
    "### Mapping\n",
    "\n",
    "We next have to map those reads back on what generated them, in RNA-Seq case we deal with RNA transcripts. We have several options:\n",
    "\n",
    "- De novo assembly. Use when you have no reference genome, or very poor annotations for it. Assembly will be difficult and incomplete.\n",
    "- Genome mapping. You might discover novel transcribed regions, especially useful to find gene models for species without annotations. Difficult to obtain accurate transcript expression estimates.\n",
    "- Transcriptome mapping: more contiguous mapped regions, faster mapping, problems with multiple transcripts for the same gene (reads map equally well on them).\n",
    "\n",
    "A simplified set of commands to perform genome mapping is:\n",
    "\n",
    "```\n",
    "# index the reference genome\n",
    "bowtie-build genome.fa genome.toplevel\n",
    "\n",
    "# align the single reads\n",
    "tophat genome.toplevel file_1.1.fastq,file_1.2.fastq\n",
    "```\n",
    "Question: What are bowtie and tophat doing? Look for their manual. How are single reads and paired end reads treated? Find out how to output in a specific location.\n",
    "\n",
    "Task: Inside your 'lab' folder you have a few fastq files that were greatly trimmed down to speed computation for classroom purposes. Run the above mapping onto them sequentially. For this purpose create a small python script. Warning: I intentionally wrote the commands above in an overly simplified manner to give you some sense of the real skills required in sequencing: patience and problem solving!\n",
    "\n",
    "ftp://ftp.ensembl.org/pub/release-75/fasta/homo_sapiens/dna/Homo_sapiens.GRCh37.75.dna.chromosome.4.fa.gz\n",
    "\n",
    "ftp://ftp.ensembl.org/pub/release-75/gtf/homo_sapiens/Homo_sapiens.GRCh37.75.gtf.gz\n",
    "\n",
    "**SAM, BAM file formats**\n",
    "\n",
    "This is the standard way of representing the results from the alignment step. It contains the same information as in the fastq file, plus some extra fields providing mapping information, for example, the coordinates where each of the reads was aligned. A SAM file is a plain text file with the information spread across different columns, and a BAM file is just its compressed version in binary format. In order to save disk space, we will typically work with BAM files; however, we can easily transform a BAM file into SAM format using samtools:\n",
    "\n",
    "(do not run)\n",
    "\n",
    "samtools view -h -o file.sam file.bam\n",
    "\n",
    "We can now inspect the first lines of the file with standard Unix commands:\n",
    "\n",
    "head -n20 file.sam\n",
    "\n",
    "Alternatively, we can directly inspect the contents of a BAM file with the following samtools command:\n",
    "\n",
    "samtools view file.bam | head\n",
    "\n",
    "**Visualization with IGV**\n",
    "\n",
    "http://www.broadinstitute.org/igv/\n",
    "\n",
    "Download and install IGV.\n",
    "\n",
    "- Load the reference genome: Genomes > Load genome from file > genome.fa\n",
    "- Load the BAM file: File > Load from file > file.bam. (First index with samtools index bam_file)\n",
    "- Load the annotations: File > Load from file > genome.gtf\n",
    "\n",
    "Can you find meaningful information? Look for examle for structural variants.\n",
    "\n",
    "http://www.broadinstitute.org/igv/AlignmentData"
   ]
  },
  {
   "cell_type": "markdown",
   "metadata": {},
   "source": [
    "### Normalizing counts and differential expression\n",
    "\n",
    "Normalization is concerned with having the counts relate based on the size of the templates (gene and library sizes). Differential expression will finally give you sets of genes that differ in expression among samples. Gene expression in RNA-Seq jargon means simply normalized read counts.\n",
    "\n",
    "But in case we manage to reach here we can try to following:\n",
    "\n",
    "Here is a helpful link to an NGS course I once helped supervise in Umeå:\n",
    "http://uppnex.se/twiki/do/view/Courses/NgsIntro1411/RNASeqMap\n",
    "\n",
    "Cufflinks output: The first two files contain basic information about expressed genes and transcripts, respectively - those known from the annotation file as well as novel loci identified by cufflinks -and the strength of their expression, given in FPKM. FPKM stands for ‘Fragments Per Kilobase of exon per Million fragments mapped’ and is a normalized measure of transcript abundance. That is the short explanation. The longer version for the more mathematically inclined among us can be found at http://www.nature.com/nmeth/journal/v5/n7/abs/nmeth.1226.html .\n",
    "\n",
    "Cuffmerge: is a tool that takes cufflinks-derived annotation files (known & ‘novel’ loci) and reconciles them into a consensus annotation, discarding e.g. spuriously transcribed loci and merging overlapping loci into larger transcription units where possible.\n",
    "\n",
    "Cuffdiff takes aligned reads from two or more samples, estimates comparable expression values and performs statistical analysis of the resulting data to determine which genes exhibit significantly different activity profiles between any two samples. The nitty-gritty details of the underlying mathematics can be found here:http://cufflinks.cbcb.umd.edu/howitworks.html.\n",
    "\n",
    "### The finer points\n",
    "\n",
    "Verify your results by plotting the count values and by performing your own simpler DE study using Z-testing and FDR under scipy and scikit learn."
   ]
  },
  {
   "cell_type": "code",
   "execution_count": null,
   "metadata": {
    "collapsed": true
   },
   "outputs": [],
   "source": [
    "samtools view accepted_hits.bam | htseq-count \\\n",
    "    --mode=intersection-nonempty \\\n",
    "    --stranded=no \\\n",
    "    --type=exon \\\n",
    "    --idattr=gene_id - \\\n",
    "    ../genome.gtf > htseq_count.out\n",
    "    \n",
    "#Assembly and transcript calling\n",
    "cufflinks -o my_output_folder -p 8 -g genome.gtf my_infile.bam\n",
    "#Cuffmerge: Reconciling different transcript models\n",
    "cuffmerge -o merged -g reference/genes.gtf -p 8 -s reference/genome.fa transcripts.txt\n",
    "#Differential expression analysis\n",
    "cuffdiff -o cuffdiff.out -L rat,human -p 8 -u merged.gtf rat.bam human.bam"
   ]
  },
  {
   "cell_type": "markdown",
   "metadata": {},
   "source": [
    "### Galaxy\n",
    "\n",
    "For finer points, setup Galagy and run your pipelining script through it.\n",
    "\n",
    "Apart from pipelining, Galaxy contains a number of data analysis and visualization options. There are a number of public servers as well as a main server, available here: [https://wiki.galaxyproject.org/Main](https://wiki.galaxyproject.org/Main).\n",
    "\n",
    "The use of Galaxy is through web, thus it reduces the frustrations associated with command line linux environments, but for the fine tunning or for anything else than a simple project, Galaxy is usually installed locally and it is heavily tuned to the particular NGS project a user is involved with.\n",
    "\n",
    "Your instanced BioLinux comes with Galaxy installed by default, so for learning or small scale projects you can use the cloud instance too."
   ]
  },
  {
   "cell_type": "code",
   "execution_count": null,
   "metadata": {
    "collapsed": true
   },
   "outputs": [],
   "source": []
  }
 ],
 "metadata": {
  "kernelspec": {
   "display_name": "Python [default]",
   "language": "python",
   "name": "python3"
  },
  "language_info": {
   "codemirror_mode": {
    "name": "ipython",
    "version": 3
   },
   "file_extension": ".py",
   "mimetype": "text/x-python",
   "name": "python",
   "nbconvert_exporter": "python",
   "pygments_lexer": "ipython3",
   "version": "3.5.3"
  }
 },
 "nbformat": 4,
 "nbformat_minor": 1
}
