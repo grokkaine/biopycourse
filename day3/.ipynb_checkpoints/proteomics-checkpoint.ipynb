{
 "cells": [
  {
   "cell_type": "markdown",
   "metadata": {},
   "source": [
    "# Task: Proteomics"
   ]
  },
  {
   "cell_type": "markdown",
   "metadata": {},
   "source": [
    "For this study we are interested in finding out protein families having a high similarity, then picking up a pair of proteins and performing structural alignment in a PyMol (MMTK might also be used). See this for a general reference to protein similarity networks: [\n",
    "http://www.ncbi.nlm.nih.gov/pmc/articles/PMC3031030/](\n",
    "http://www.ncbi.nlm.nih.gov/pmc/articles/PMC3031030/).\n",
    "\n",
    "For the first part of our study we perform a BLAST global alignment on the human proteome. You have the peptide data in your folder. Read how to do this here:\n",
    "[https://www.biostars.org/p/6541/](https://www.biostars.org/p/6541/)\n",
    "\n",
    "You then select a few high scoring candidate pairs and choose one such pair. Perform structural alignment on Python/PyMol. "
   ]
  },
  {
   "cell_type": "markdown",
   "metadata": {},
   "source": [
    "A way to perform structural alignment in BioPython is taken from [this blog](http://combichem.blogspot.se/2013/08/aligning-pdb-structures-with-biopython.html) of a Danish computational chemist. It is neat, but I would prefer if you try instead to use PyMol and make a nice visualization of the aligned structures as well. Use this for functional alignment: [http://www.pymolwiki.org/index.php/Align](http://www.pymolwiki.org/index.php/Align) Alternatively you can open the BioPython output in any visualization program, preferably from Python."
   ]
  },
  {
   "cell_type": "code",
   "execution_count": null,
   "metadata": {
    "collapsed": false
   },
   "outputs": [],
   "source": [
    "import Bio.PDB\n",
    " \n",
    "# Select what residues numbers you wish to align\n",
    "# and put them in a list\n",
    "start_id = 1\n",
    "end_id   = 70\n",
    "atoms_to_be_aligned = range(start_id, end_id + 1)\n",
    " \n",
    "# Start the parser\n",
    "pdb_parser = Bio.PDB.PDBParser(QUIET = True)\n",
    " \n",
    "# Get the structures\n",
    "ref_structure = pdb_parser.get_structure(\"reference\", \"1D3Z.pdb\")\n",
    "sample_structure = pdb_parser.get_structure(\"samle\", \"1UBQ.pdb\")\n",
    " \n",
    "# Use the first model in the pdb-files for alignment\n",
    "# Change the number 0 if you want to align to another structure\n",
    "ref_model    = ref_structure[0]\n",
    "sample_model = sample_structure[0]\n",
    " \n",
    "# Make a list of the atoms (in the structures) you wish to align.\n",
    "# In this case we use CA atoms whose index is in the specified range\n",
    "ref_atoms = []\n",
    "sample_atoms = []\n",
    " \n",
    "# Iterate of all chains in the model in order to find all residues\n",
    "for ref_chain in ref_model:\n",
    "  # Iterate of all residues in each model in order to find proper atoms\n",
    "  for ref_res in ref_chain:\n",
    "    # Check if residue number ( .get_id() ) is in the list\n",
    "    if ref_res.get_id()[1] in atoms_to_be_aligned:\n",
    "      # Append CA atom to list\n",
    "      ref_atoms.append(ref_res['CA'])\n",
    " \n",
    "# Do the same for the sample structure\n",
    "for sample_chain in sample_model:\n",
    "  for sample_res in sample_chain:\n",
    "    if sample_res.get_id()[1] in atoms_to_be_aligned:\n",
    "      sample_atoms.append(sample_res['CA'])\n",
    " \n",
    "# Now we initiate the superimposer:\n",
    "super_imposer = Bio.PDB.Superimposer()\n",
    "super_imposer.set_atoms(ref_atoms, sample_atoms)\n",
    "super_imposer.apply(sample_model.get_atoms())\n",
    " \n",
    "# Print RMSD:\n",
    "print super_imposer.rms\n",
    " \n",
    "# Save the aligned version of 1UBQ.pdb\n",
    "io = Bio.PDB.PDBIO()\n",
    "io.set_structure(sample_structure) \n",
    "io.save(\"1UBQ_aligned.pdb\")"
   ]
  }
 ],
 "metadata": {
  "kernelspec": {
   "display_name": "Python 3",
   "language": "python",
   "name": "python3"
  },
  "language_info": {
   "codemirror_mode": {
    "name": "ipython",
    "version": 3
   },
   "file_extension": ".py",
   "mimetype": "text/x-python",
   "name": "python",
   "nbconvert_exporter": "python",
   "pygments_lexer": "ipython3",
   "version": "3.5.1"
  }
 },
 "nbformat": 4,
 "nbformat_minor": 0
}
