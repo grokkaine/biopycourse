{
 "cells": [
  {
   "cell_type": "markdown",
   "metadata": {},
   "source": [
    "# Metabolic analysis"
   ]
  },
  {
   "cell_type": "markdown",
   "metadata": {},
   "source": [
    "- For this task you have to install a Python package for constraint based modeling of metabolism, called [cobrapy](https://github.com/opencobra/cobrapy). Load the EColi reconstructed model. Use [this documentation link](https://cobrapy.readthedocs.org/en/latest/getting_started.html) to get the metabolic reactions and the genes associated to them.\n",
    "\n",
    "- Read the reactions into a network having the metabolites as nodes, and find out the most central metabolites both in terms of degree and in terms of betweeness centrality. Find all genes associated to reactions containing them. Perform GO enrichment on the set of genes looking in particular at cellular components. Are the central metabolites active in particular locations inside the cell?\n",
    "\n",
    "Extra points:\n",
    "\n",
    "- Run a flux balance analysis and put the flux values into the network as well. How are the results changing?"
   ]
  },
  {
   "cell_type": "markdown",
   "metadata": {},
   "source": [
    "Metabolic pathway assembly and display\n",
    "\n",
    "http://biopython.org/DIST/docs/api/Bio.KEGG-module.html\n",
    "\n",
    "http://armchairbiology.blogspot.co.uk/2013/02/keggwatch-part-iii.html\n",
    "\n",
    "pysces\n",
    "http://cbmpy.sourceforge.net/\n",
    "\n",
    "old but useful\n",
    "http://frank-fbergmann.blogspot.se/2013/04/flux-balance-tools.html\n",
    "\n",
    "Flux balance analysis\n",
    "http://cobrapy.readthedocs.org/en/latest/getting_started.html\n",
    "\n"
   ]
  },
  {
   "cell_type": "code",
   "execution_count": null,
   "metadata": {
    "collapsed": false
   },
   "outputs": [],
   "source": []
  }
 ],
 "metadata": {
  "kernelspec": {
   "display_name": "Python 3",
   "language": "python",
   "name": "python3"
  },
  "language_info": {
   "codemirror_mode": {
    "name": "ipython",
    "version": 3
   },
   "file_extension": ".py",
   "mimetype": "text/x-python",
   "name": "python",
   "nbconvert_exporter": "python",
   "pygments_lexer": "ipython3",
   "version": "3.5.1"
  }
 },
 "nbformat": 4,
 "nbformat_minor": 0
}
