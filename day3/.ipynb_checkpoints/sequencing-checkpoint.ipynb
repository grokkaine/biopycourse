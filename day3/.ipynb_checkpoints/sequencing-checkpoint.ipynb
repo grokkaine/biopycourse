{
 "cells": [
  {
   "cell_type": "markdown",
   "metadata": {},
   "source": [
    "# Sequencing"
   ]
  },
  {
   "cell_type": "markdown",
   "metadata": {},
   "source": [
    "### Task description"
   ]
  },
  {
   "cell_type": "markdown",
   "metadata": {},
   "source": [
    "Find out EColi's public genome, extract the intergenic regions, perform local alignment of promoter regions through BLAST and try to find potential regulatory candidate binding sites. Select automatically candidate pairs of genes that share one or several binding sites. Find homologs of the genes into two other organisms that are philogenetic relatives and scan for the same binding sites.\n",
    "\n",
    "Alternatively translate the sequences and scan for proteins having similar sequence in the other species.\n",
    "\n",
    "Further study:\n",
    "\n",
    "- Compute the philogenetic distance between the three bacteria, for example by coalescent simulation.\n",
    "- Use the [http://etetoolkit.org/](http://etetoolkit.org/) for a nice display.\n",
    "- Find a way to deal with the operons.\n",
    "- Try to find binding sites in a more accurate manner, possibly by confirming them with tools like STEME, TAMO or MOODS.\n",
    "- Try to make this more realistic if you have the proper background into sequencing and regulomics, use positional weight matrices, compute philogenetic distances etc.\n",
    "- If you think you found something then let me know, maybe we publish it!\n",
    "- Use another organism if you hate EColi!\n",
    "\n",
    "Observation:\n",
    "\n",
    "- The details below will not help you directly but it may inspire you.\n",
    "- Extracting promoter regions is one of the scripts that is part of the BioPython cookbooks and it originates from a blogpost:\n",
    "[http://bytesizebio.net/2010/02/11/short-bioinformatic-hacks-reading-between-the-genes/](http://bytesizebio.net/2010/02/11/short-bioinformatic-hacks-reading-between-the-genes/)"
   ]
  },
  {
   "cell_type": "code",
   "execution_count": null,
   "metadata": {
    "collapsed": false
   },
   "outputs": [],
   "source": []
  },
  {
   "cell_type": "markdown",
   "metadata": {},
   "source": [
    "Helpful notes:\n",
    "\n",
    "- Making a command pipeline\n",
    "- Manipulate sequences in BioPython\n",
    "- Phylogeny and population genetics"
   ]
  },
  {
   "cell_type": "markdown",
   "metadata": {},
   "source": []
  },
  {
   "cell_type": "markdown",
   "metadata": {},
   "source": [
    "### Making a command pipeline"
   ]
  },
  {
   "cell_type": "markdown",
   "metadata": {},
   "source": [
    "One of the most important steps in sequencing is external running sequencing programs ... in a sequence. This is also known as a command pipeline. There are various pipelines created for sequencing and some are more general while others very specific. In this course we will learn how to run two BLAST commands in sequence using Python.\n",
    "\n",
    "Installing BLAST on your local machine or server is up to you and falls out of the scope of this class. In Ubuntu Linux I download and install BLAST with:\n",
    "\n",
    "sudo apt-get install ncbi-blast+\n",
    "\n",
    "The following commands will create a database from a fasta file describing a complete set of sequences, and will query an input sequence against this database:\n",
    "\n",
    "makeblastdb -in sample.fa -dbtype 'prot' -out NewDb\n",
    "blastp -db NewDb -query somesequence.fasta\n",
    "\n",
    "http://www.rocksclusters.org/roll-documentation/bio/5.4/blast_usage.html\n"
   ]
  },
  {
   "cell_type": "code",
   "execution_count": null,
   "metadata": {
    "collapsed": false
   },
   "outputs": [
    {
     "name": "stdout",
     "output_type": "stream",
     "text": [
      "Running command: makeblastdb -in data/Homo_sapiens.GRCh38.pep.all.fa -dbtype prot -out data/hudb\n",
      "Input:"
     ]
    }
   ],
   "source": [
    "from subprocess import Popen, PIPE\n",
    "\n",
    "class Command( object ):\n",
    "    def __init__( self, text ):\n",
    "        self.args = text.split()\n",
    "    def execute( self ):\n",
    "        p = Popen(self.args, shell = False, stdin=None, stdout=PIPE, stderr=None)\n",
    "        #result = p.communicate()[0]\n",
    "        #print result\n",
    "        status = p.wait()\n",
    "        self.stdin, self.stdout, self.stderr = p.stdin, p.stdout, p.stderr\n",
    "        \n",
    "t1 = \"makeblastdb -in data/Homo_sapiens.GRCh38.pep.all.fa -dbtype prot -out data/hudb\"\n",
    "t2 = \"blastp -db data/hudb -query data/peptide.fasta\"\n",
    "\n",
    "pipeline = [Command(t1), Command(t2)]\n",
    "\n",
    "for c in pipeline:\n",
    "    print \"Running command:\", \" \".join(c.args)\n",
    "    c.execute()\n",
    "    print \"Input:\", c.stdin\n",
    "    print \"Output:\", c.stdout\n",
    "    print \"Error:\", c.stderr"
   ]
  },
  {
   "cell_type": "markdown",
   "metadata": {},
   "source": [
    "Next we are doing something similar, but we use the biopython module. We can perform a local search using Biopython, but instead we will perform blast alignment through a remote API call.\n",
    "\n",
    "http://biopython.org/DIST/docs/api/Bio.Blast.NCBIWWW-module.html\n",
    "\n",
    "http://www.ebi.ac.uk/Tools/sss/ncbiblast/help/index-protein.html\n",
    "\n",
    "http://nbviewer.ipython.org/url/www.csc.kth.se/~ksahlin/teaching/dd2404/lectures/lect4.ipynb"
   ]
  },
  {
   "cell_type": "code",
   "execution_count": 3,
   "metadata": {
    "collapsed": false
   },
   "outputs": [],
   "source": [
    "from Bio.Blast import NCBIWWW\n",
    "from Bio import SeqIO\n",
    "record = SeqIO.read(\"data/peptide.fasta\", format=\"fasta\")\n",
    "result_handle = NCBIWWW.qblast(\"blastp\", \"uniprotkb\", record.seq)\n",
    "# # save the result\n",
    "# save_file = open(\"/tmp/my_blast.xml\", \"w\")\n",
    "# save_file.write(result_handle.read())\n",
    "# save_file.close()\n",
    "# result_handle.close()\n",
    "# result_handle = open(\"/tmp/my_blast.xml\")\n",
    "from Bio.Blast import NCBIXML\n",
    "blast_record = NCBIXML.read(result_handle)\n",
    "#dir(blast_record)\n",
    "E_VALUE_THRESH = 0.04\n",
    "for alignment in blast_record.alignments:\n",
    "    for hsp in alignment.hsps:\n",
    "        if hsp.expect < E_VALUE_THRESH:\n",
    "            print '****Alignment****'\n",
    "            print 'sequence:', alignment.title\n",
    "            print 'length:', alignment.length\n",
    "            print 'e value:', hsp.expect\n",
    "            print hsp.query[0:75] + '...'\n",
    "            print hsp.match[0:75] + '...'\n",
    "            print hsp.sbjct[0:75] + '...'"
   ]
  },
  {
   "cell_type": "markdown",
   "metadata": {},
   "source": [
    "### Manipulate sequences in Bioython"
   ]
  },
  {
   "cell_type": "markdown",
   "metadata": {},
   "source": [
    "Biopython has functionality related to sequencing, alignments, mutiple format file handling and population genetics.\n",
    "\n",
    "http://biopython.org/DIST/docs/tutorial/Tutorial.html\n",
    "\n",
    "Later:\n",
    "\n",
    "Read a genebank record and analize it. Understand the structure of a few objects:\n",
    "\n",
    "Seq:\n",
    "\n",
    "http://biopython.org/wiki/Seq\n",
    "\n",
    "SeqRecord\n",
    "\n",
    "http://biopython.org/wiki/SeqRecord\n",
    "\n",
    "SeqFeature\n",
    "\n",
    "http://biopython.org/DIST/docs/api/Bio.SeqFeature.SeqFeature-class.html\n",
    "\n",
    "Next convert it to fasta and have a look at the SeqIO submodule:\n",
    "\n",
    "http://biopython.org/wiki/SeqIO\n",
    "\n",
    "http://nbviewer.ipython.org/github/tiagoantao/biopython-notebook/blob/master/notebooks/04%20-%20Sequence%20Annotation%20objects.ipynb"
   ]
  },
  {
   "cell_type": "code",
   "execution_count": null,
   "metadata": {
    "collapsed": true
   },
   "outputs": [],
   "source": [
    "from Bio.Seq import Seq\n",
    "my_seq = Seq(\"AGTACACTGGT\")\n",
    "from Bio.Alphabet import generic_dna\n",
    "my_dna = Seq(\"AGTACACTGGT\", generic_dna)\n",
    "my_dna.find(\"ACT\")\n",
    "my_dna.count(\"A\")\n",
    "my_dna.complement()\n",
    "my_dna.reverse_complement()\n",
    "my_rna = my_dna.transcribe()\n",
    "my_rna.back_transcribe()\n",
    "\n",
    "cdna = Seq(\"ATGGCCATTGTAATGGGCCGCTGAAAGGGTGCCCGATAG\", generic_dna)\n",
    "cdna.translate()\n",
    "coding_dna.translate(to_stop=True)\n",
    "\n",
    "from Bio import SeqIO\n",
    "# for index, record in enumerate(SeqIO.parse(open(\"data/ls_orchid.gbk\"), \"genbank\")) :\n",
    "#     print \"index %i, ID = %s, length %i, with %i features\" \\\n",
    "#         % (index, record.id, len(record.seq), len(record.features))\n",
    "\n",
    "record = SeqIO.parse(open(\"data/ls_orchid.gbk\"), \"genbank\")[0]\n",
    "dir(record)\n",
    "print record.seq\n",
    "print record.seq.__class__\n",
    "print record.id, record.name, record.description\n",
    "\n",
    "#sequencing project info\n",
    "print record.dbxrefs\n",
    "print record.dbxrefs.__class__\n",
    "print record.annotations\n",
    "print record.annotations.__class__\n",
    "print record.annotations[\"source\"]\n",
    "print record.annotations[\"references\"].__class__\n",
    "print len(record.annotations[\"references\"])\n",
    "for ref in record.annotations[\"references\"] : print ref.authors\n",
    "record.reverse_complement(id=\"test\")\n",
    "\n",
    "#SeqFeatures\n",
    "print record.features.__class__\n",
    "print len(record.features)\n",
    "\n",
    "#Slicing\n",
    "sub_record = record[4300:4800]\n",
    "print len(sub_record.features)\n",
    "sub_record.description = \"subset of ...\"\n",
    "print(sub_record.format(\"genbank\"))\n",
    "\n",
    "##Format convertion\n",
    "print record.format(\"fasta\")\n",
    "\n",
    "from Bio.Seq import Seq\n",
    "from Bio.SeqRecord import SeqRecord\n",
    "from Bio.Alphabet import IUPAC\n",
    "record = SeqRecord(Seq(\"MKQHKAMIVALIVICITAVVAALVTRKDLCEVHIRTGQTEVAVF\",\n",
    "                   IUPAC.protein),\n",
    "                   id=\"YP_025292.1\", name=\"HokC\",\n",
    "                   description=\"toxic membrane protein, small\")\n",
    "print record\n",
    "SeqIO.write(record, 'customrecord.fasta', \"fasta\")\n",
    "\n"
   ]
  },
  {
   "cell_type": "markdown",
   "metadata": {},
   "source": [
    "Extra task: Convert FASTQ to FASTA\n",
    "\n",
    "zcat input_file.fastq.gz | awk 'NR%4==1{printf \">%s\\n\", substr($0,2)}NR%4==2{print}' > output_file.fa"
   ]
  },
  {
   "cell_type": "markdown",
   "metadata": {},
   "source": [
    "### Philogeny and population genetics"
   ]
  },
  {
   "cell_type": "markdown",
   "metadata": {},
   "source": [
    "It the Biopython tutorial there is a nice introduction to the method of coalescent simulation. However chances are that you will want a particular type of study that will not be found in Biopython. You could for example manipulate your data in Biopython up to a point and then use either an external program or a different python module. In this next example, we will perform coalescent simulation using a software called FFPopSim, for which a Python binding exists, but it may be too cumbersome to install for the purpose of class.\n",
    "\n",
    "http://webdav.tuebingen.mpg.de/interference/coalescence.html\n",
    "\n",
    "http://webdav.tuebingen.mpg.de/ffpopsim/pkg/doc/python/html/Requirements.html#building-requirements\n",
    "\n",
    "simuPOP\n",
    "\n",
    "http://simupop.sourceforge.net/Main/HomePage\n",
    "\n",
    "egglib-py\n",
    "\n",
    "http://www.biomedcentral.com/1471-2156/13/27\n",
    "\n"
   ]
  },
  {
   "cell_type": "code",
   "execution_count": null,
   "metadata": {
    "collapsed": false
   },
   "outputs": [],
   "source": []
  }
 ],
 "metadata": {
  "kernelspec": {
   "display_name": "Python 3",
   "language": "python",
   "name": "python3"
  },
  "language_info": {
   "codemirror_mode": {
    "name": "ipython",
    "version": 3
   },
   "file_extension": ".py",
   "mimetype": "text/x-python",
   "name": "python",
   "nbconvert_exporter": "python",
   "pygments_lexer": "ipython3",
   "version": "3.5.1"
  }
 },
 "nbformat": 4,
 "nbformat_minor": 0
}
