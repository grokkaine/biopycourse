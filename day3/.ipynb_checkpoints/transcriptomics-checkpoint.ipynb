{
 "cells": [
  {
   "cell_type": "markdown",
   "metadata": {},
   "source": [
    "# Transcriptomics\n",
    "\n",
    "- Extract the promoter regions using biopython\n",
    "- Investigate de-novo motifs on clusters of genes using meme or steme\n",
    "- Use TransFac database to search for motif occurences on selected genes\n",
    "- Save the found motifs and related data\n",
    "- Test which of the motif occurences on your selected genes is significant\n"
   ]
  },
  {
   "cell_type": "code",
   "execution_count": null,
   "metadata": {
    "collapsed": false
   },
   "outputs": [],
   "source": [
    "import TR\n",
    "TR.run() #the task must run from a single access point"
   ]
  },
  {
   "cell_type": "markdown",
   "metadata": {},
   "source": [
    "### Extract the promoter regions using biopython\n",
    "\n",
    "There are a few transcriptional regulatory modules for Yeast listed here:\n",
    "\n",
    "[http://www.jaist.ac.jp/~h-pham/regulation/inf_TRMs.htm](http://www.jaist.ac.jp/~h-pham/regulation/inf_TRMs.htm#Regs)\n",
    "\n",
    "Using BioPython, extract the promoter regions of these genes. To download the full genome automatically, adapt the code bellow to your needs.\n",
    "\n",
    "Alternatively, if you can fish out the nucleotide positions for every gene and have a local genome you can also do this in standard Python."
   ]
  },
  {
   "cell_type": "code",
   "execution_count": null,
   "metadata": {
    "collapsed": true
   },
   "outputs": [],
   "source": [
    "from Bio import Entrez\n",
    "Entrez.email = \"sn@mail.at\"\n",
    "handle = Entrez.esearch(db='nuccore', term='escherichia coli[orgn] AND complete genome[title]')\n",
    "genome_ids = Entrez.read(handle)['IdList']\n",
    "print genome_ids\n",
    "handle = Entrez.efetch(db=\"nuccore\", id=['556503834'], rettype=\"gbwithparts\", retmode=\"txt\")\n",
    "#print \"First 2000 characters:\"\n",
    "#print(handle.read()[:2000])#first 2000 characters\n",
    "handle2 = Entrez.efetch(db=\"nucleotide\", id=['556503834'], rettype=\"fasta\", retmode=\"txt\")\n",
    "print(handle2.read()[:500])\n",
    "fout = open(\"data/ecoli.gbk\", \"w\")\n",
    "fout.write(handle.read())\n",
    "fout.close()\n",
    "#handle.close()\n",
    "print(\"Saved\")"
   ]
  },
  {
   "cell_type": "markdown",
   "metadata": {},
   "source": [
    "To extract the genomic regions, again adapt the helper code bellow:\n"
   ]
  },
  {
   "cell_type": "code",
   "execution_count": null,
   "metadata": {
    "collapsed": true
   },
   "outputs": [],
   "source": [
    "import Bio\n",
    "from Bio import SeqIO, SeqFeature, SeqRecord\n",
    "import os\n",
    "\n",
    "gbf = \"data/ecoli.gbk\"\n",
    "promoters = []\n",
    "\n",
    "record = SeqIO.parse(open(gbf), \"genbank\").next()\n",
    "dnaseq = record.seq # seq is an attribute of the record object containing the actual nucleotide sequence as a string\n",
    "\n",
    "## We fill the CDS list first\n",
    "cds = []#CDS features list\n",
    "for feature in record.features:\n",
    "    if feature.type == 'CDS':\n",
    "        #print dir(feature)\n",
    "        #print feature\n",
    "        #print feature.qualifiers\n",
    "        #break\n",
    "        try:\n",
    "            mystart = feature.location._start.position\n",
    "            myend = feature.location._end.position\n",
    "            ## we annotate the promoters with the NumProt id of coresponding to the referenced gene\n",
    "            ## how did I knew this, by simple object interogation - uncomment the lines above to understand it\n",
    "            pid = feature.qualifiers['protein_id'][0]\n",
    "            if feature.strand == 1:\n",
    "                cds.append((mystart,myend,pid))\n",
    "        except Exception:\n",
    "            pass # being careless about the CDSes spanning multiple locations!\n",
    "\n",
    "## Extract the promoter regions in a list of SeqRecord objects\n",
    "for i,pospair in enumerate(cds):\n",
    "    start, end, pid = pospair\n",
    "    pseq = dnaseq[start-400:start] # dnaseq is a string, so we can slice it directly\n",
    "    promid = 'p_'+ pid\n",
    "    pdesc = \"%s, 400 bp upstream promoter, %d-%d\" % (record.name, start-400, start)\n",
    "    ## Note that BioPython named a class with the same name as its module, this is frequent in OOP and somewhat funny \n",
    "    prec = SeqRecord.SeqRecord(pseq, id=promid, description = pdesc)\n",
    "    promoters.append(prec)\n",
    "\n",
    "## Write all promoters on file\n",
    "outpath = \"data/ecoli_prom.fasta\"\n",
    "SeqIO.write(promoters, open(outpath,\"w\"), \"fasta\")\n",
    "print \"Done!\""
   ]
  },
  {
   "cell_type": "code",
   "execution_count": null,
   "metadata": {
    "collapsed": true
   },
   "outputs": [],
   "source": [
    "import TR\n",
    "genelist = []\n",
    "TR.extract_promoters(genelist, nnuc = 400)"
   ]
  },
  {
   "cell_type": "markdown",
   "metadata": {},
   "source": [
    "### Investigate de-novo motifs on clusters of genes using meme or steme\n",
    "\n",
    "De-novo TFBS hunt is not that hard once you manage to install a proper program. But the installation itself can be tedious. This is an optional step, but in case you want to do it I reccommend STEME:\n",
    "\n",
    "[https://pythonhosted.org/STEME/](https://pythonhosted.org/STEME/)\n",
    "\n",
    "It will install as a Python module with pip, however it has a fairly complex set of other required programs and libraries."
   ]
  },
  {
   "cell_type": "code",
   "execution_count": null,
   "metadata": {
    "collapsed": true
   },
   "outputs": [],
   "source": [
    "TF.de_novo(genelist)"
   ]
  },
  {
   "cell_type": "markdown",
   "metadata": {},
   "source": [
    "### Use a TransFac consensus file to search for motif occurences on selected genes\n",
    "\n",
    "[http://www.yeastract.com/download.php](http://www.yeastract.com/download.php)\n",
    "\n",
    "The link above contains motifs in Transfac format. Use Biopython or standard python to read the consensus matrices. Now match them over your input promoter.\n",
    "\n",
    "To do that, read carefully the following tutorial on BioPython's motif module and then try to use it:\n",
    "\n",
    "[http://biopython.org/DIST/docs/tutorial/Tutorial.html#htoc213](http://biopython.org/DIST/docs/tutorial/Tutorial.html#htoc213)\n",
    "\n",
    "Second observation, if you need to match motifs from a database on a grand scale, I reccommend this tool, having bindings for Python:\n",
    "\n",
    "https://github.com/jhkorhonen/MOODS/wiki/Getting-started"
   ]
  },
  {
   "cell_type": "code",
   "execution_count": null,
   "metadata": {
    "collapsed": true
   },
   "outputs": [],
   "source": [
    "TR.search(genelist)"
   ]
  },
  {
   "cell_type": "markdown",
   "metadata": {},
   "source": [
    "### Save the found motifs and related data\n",
    "\n",
    "The optimal way to save your data would be a matrix of promoters vs motifs detailing the occurence positions. Additional files could contain information on matches and the motifs themselves and optionally save their logo image."
   ]
  },
  {
   "cell_type": "code",
   "execution_count": null,
   "metadata": {
    "collapsed": true
   },
   "outputs": [],
   "source": [
    "TR.save()"
   ]
  },
  {
   "cell_type": "markdown",
   "metadata": {},
   "source": [
    "### Test which of the motif occurences on your selected genes is significant\n",
    "\n",
    "A simple significance test would construct a matching background for the entire genome and compute a P-value based on a Fischer test (how many matches for a motif in the selected genes compared to the background).\n",
    "\n",
    "[http://docs.scipy.org/doc/scipy-0.14.0/reference/generated/scipy.stats.fisher_exact.html](http://docs.scipy.org/doc/scipy-0.14.0/reference/generated/scipy.stats.fisher_exact.html)"
   ]
  },
  {
   "cell_type": "code",
   "execution_count": null,
   "metadata": {
    "collapsed": true
   },
   "outputs": [],
   "source": [
    "input_motif_id=\"\"\n",
    "TR.significance(genelist, input_motif_id)"
   ]
  },
  {
   "cell_type": "markdown",
   "metadata": {},
   "source": [
    "Now run the significance test for all gene lists and motifs and see if you can find some relevant associations."
   ]
  },
  {
   "cell_type": "code",
   "execution_count": null,
   "metadata": {
    "collapsed": true
   },
   "outputs": [],
   "source": []
  }
 ],
 "metadata": {
  "kernelspec": {
   "display_name": "Python 3",
   "language": "python",
   "name": "python3"
  },
  "language_info": {
   "codemirror_mode": {
    "name": "ipython",
    "version": 3
   },
   "file_extension": ".py",
   "mimetype": "text/x-python",
   "name": "python",
   "nbconvert_exporter": "python",
   "pygments_lexer": "ipython3",
   "version": "3.5.1"
  }
 },
 "nbformat": 4,
 "nbformat_minor": 0
}
