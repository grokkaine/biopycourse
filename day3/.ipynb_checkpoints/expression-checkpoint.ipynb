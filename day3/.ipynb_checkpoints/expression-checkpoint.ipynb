{
 "cells": [
  {
   "cell_type": "markdown",
   "metadata": {},
   "source": [
    "# Gene expression\n"
   ]
  },
  {
   "cell_type": "markdown",
   "metadata": {},
   "source": [
    "- Use R through Rpy2 to download and normalize a GEO experiment of your own choosing. Alternatively use the supplied gene expression dataset. It is also possible to parse the SOFT file that you can download directly from GEO, then do a mean centering and unit variance normalization with scikit-learn.\n",
    "\n",
    "- Cluster the data using one of your favorite methods from Scikit-learn or other packages. I suggest Kmeans. \n",
    "\n",
    "- Now we would like to know in which samples do these clusters have a particularly high expression. Let's call them characteristic samples. Figure out a test method, or use this one: compute zscores for every gene across the samples (row based zscores). Add the zscores for all the genes belonging to a group and order the samples by the cumulative zscores. (Normally it would require a high average and low variance, or a cummulative significance study, but a simple ordering will do)\n",
    "\n",
    "- Compute the Pearson correlation between all pairs of genes. Store the result in a matrix.\n",
    "\n",
    "- Form a co-expression network by traversing the matrix and adding a link between two gene pairs that have a correlation value above an established threshold. Use the weighted network and compute the minimum spanning tree.\n",
    "\n",
    "- Plot the network by coloring the genes in each cluster with a different color. Do you see any particular color clusters or are the colors uniformly distributed in the network? In case there is a clear color cluster output its characteristic samples.\n",
    "\n",
    "Finer points:\n",
    "\n",
    "- Work with the scipy stack, keep your expression data in a pandas dataframe.\n",
    "\n",
    "- Use [https://github.com/tanghaibao/goatools](https://github.com/tanghaibao/goatools) to perform GO enrichment of each cluster or other hunftional enrichment. Alternatively use topGO, calling it from R.\n",
    "\n",
    "- Plot the gene expression using the [XKCDfier](https://jakevdp.github.io/blog/2012/10/07/xkcd-style-plots-in-matplotlib/)"
   ]
  },
  {
   "cell_type": "code",
   "execution_count": null,
   "metadata": {},
   "outputs": [],
   "source": [
    "import GE\n",
    "GE.run()"
   ]
  }
 ],
 "metadata": {
  "kernelspec": {
   "display_name": "Python [default]",
   "language": "python",
   "name": "python3"
  },
  "language_info": {
   "codemirror_mode": {
    "name": "ipython",
    "version": 3
   },
   "file_extension": ".py",
   "mimetype": "text/x-python",
   "name": "python",
   "nbconvert_exporter": "python",
   "pygments_lexer": "ipython3",
   "version": "3.5.3"
  }
 },
 "nbformat": 4,
 "nbformat_minor": 1
}
