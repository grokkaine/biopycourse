{
 "cells": [
  {
   "cell_type": "markdown",
   "metadata": {},
   "source": [
    "## Snakemake\n",
    "\n",
    "```\n",
    "conda install -c bioconda snakemake\n",
    "conda install graphviz\n",
    "```"
   ]
  },
  {
   "cell_type": "code",
   "execution_count": null,
   "metadata": {
    "collapsed": true
   },
   "outputs": [],
   "source": [
    "SAMPLES = ['ctl1', 'ctl2']\n",
    "\n",
    "wdir = \"/home/sergiu/data/work/course/short/data/snake/\"\n",
    "\n",
    "rule all:\n",
    "    input:\n",
    "        'merged.txt'\n",
    "\n",
    "rule acounts:\n",
    "    input:\n",
    "        file='{sample}.fastq'\n",
    "    output:\n",
    "        '{sample}_counts.txt'\n",
    "    run:\n",
    "        with open(input.file, 'r') as f:\n",
    "            nc = [str(l.count('A')) for l in f if not l[0]=='@']\n",
    "        data = ', '.join(nc)+'\\n'\n",
    "        with open(output[0], 'w') as f: f.write(data)\n",
    "\n",
    "rule merge:\n",
    "    input:\n",
    "        counts=expand('{sample}_counts.txt',sample=SAMPLES)\n",
    "    output:\n",
    "        'merged.txt'\n",
    "    shell:\n",
    "        \"\"\"\n",
    "        for f in {input.counts}\n",
    "        do\n",
    "\t\t\tcat $f >> {output}\n",
    "\t\tdone\n",
    "        \"\"\""
   ]
  },
  {
   "cell_type": "code",
   "execution_count": null,
   "metadata": {
    "collapsed": true
   },
   "outputs": [],
   "source": [
    "snakemake --dag merged.txt | dot -Tsvg > dag.svg"
   ]
  },
  {
   "cell_type": "markdown",
   "metadata": {},
   "source": [
    "## Nextflow"
   ]
  },
  {
   "cell_type": "code",
   "execution_count": 2,
   "metadata": {},
   "outputs": [
    {
     "ename": "IndentationError",
     "evalue": "unexpected indent (<ipython-input-2-d94d806386de>, line 8)",
     "output_type": "error",
     "traceback": [
      "\u001b[0;36m  File \u001b[0;32m\"<ipython-input-2-d94d806386de>\"\u001b[0;36m, line \u001b[0;32m8\u001b[0m\n\u001b[0;31m    * A trivial Perl script producing a list of numbers pair\u001b[0m\n\u001b[0m    ^\u001b[0m\n\u001b[0;31mIndentationError\u001b[0m\u001b[0;31m:\u001b[0m unexpected indent\n"
     ]
    }
   ],
   "source": [
    "\n",
    "\n",
    "#!/usr/bin/env nextflow\n",
    " \n",
    "params.range = 100\n",
    " \n",
    "/*\n",
    " * A trivial Perl script producing a list of numbers pair\n",
    " */\n",
    "process perlTask {\n",
    "    output:\n",
    "    stdout randNums\n",
    " \n",
    "    shell:\n",
    "    '''\n",
    "    #!/usr/bin/env perl\n",
    "    use strict;\n",
    "    use warnings;\n",
    " \n",
    "    my $count;\n",
    "    my $range = !{params.range};\n",
    "    for ($count = 0; $count < 10; $count++) {\n",
    "        print rand($range) . ', ' . rand($range) . \"\\n\";\n",
    "    }\n",
    "    '''\n",
    "}\n",
    " \n",
    " \n",
    "/*\n",
    " * A Python script task which parses the output of the previous script\n",
    " */\n",
    "process pyTask {\n",
    "    echo true\n",
    " \n",
    "    input:\n",
    "    stdin randNums\n",
    " \n",
    "    '''\n",
    "    #!/usr/bin/env python\n",
    "    import sys\n",
    " \n",
    "    x = 0\n",
    "    y = 0\n",
    "    lines = 0\n",
    "    for line in sys.stdin:\n",
    "        items = line.strip().split(\",\")\n",
    "        x = x+ float(items[0])\n",
    "        y = y+ float(items[1])\n",
    "        lines = lines+1\n",
    " \n",
    "    print \"avg: %s - %s\" % ( x/lines, y/lines )\n",
    "    '''\n",
    " \n",
    "}"
   ]
  },
  {
   "cell_type": "code",
   "execution_count": null,
   "metadata": {
    "collapsed": true
   },
   "outputs": [],
   "source": []
  }
 ],
 "metadata": {
  "kernelspec": {
   "display_name": "Python 3",
   "language": "python",
   "name": "python3"
  },
  "language_info": {
   "codemirror_mode": {
    "name": "ipython",
    "version": 3
   },
   "file_extension": ".py",
   "mimetype": "text/x-python",
   "name": "python",
   "nbconvert_exporter": "python",
   "pygments_lexer": "ipython3",
   "version": "3.5.3"
  }
 },
 "nbformat": 4,
 "nbformat_minor": 2
}
