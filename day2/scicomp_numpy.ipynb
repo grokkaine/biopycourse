{
 "cells": [
  {
   "cell_type": "markdown",
   "metadata": {},
   "source": [
    "# Scientific computing\n",
    "\n",
    "- Numpy: advanced array operations, multidimensional arrays\n",
    "- Scipy: scientific computing by examples\n",
    "    - singular value decomposition, with scipy.linalg\n",
    "    - scipy.signal and scipy.fftpack: Signal theory\n",
    "    - scipy.optimize: Local and global optimization, fitting and root finding\n",
    "    - scipy.interpolate: Cubic interpolation\n",
    "    - scipy.integrate: Integration and ODE solvers\n",
    "    - scipy.ndimage - Image processing\n",
    "- Simpy: symbolic math"
   ]
  },
  {
   "cell_type": "markdown",
   "metadata": {},
   "source": [
    "## Numpy\n",
    "\n",
    "- using numpy improves RAM space and speed\n",
    "- numpy enforces strong typing, while Python is a dynamic typed language\n",
    "- translates in Numpy using less heap space for representing data\n",
    "- multidimensional array operations are the core of scientific computing\n",
    "\n",
    "Further reading:\n",
    "- https://docs.scipy.org/doc/numpy/user/basics.html"
   ]
  },
  {
   "cell_type": "code",
   "execution_count": 1,
   "metadata": {},
   "outputs": [
    {
     "name": "stdout",
     "output_type": "stream",
     "text": [
      "293 µs ± 1.46 µs per loop (mean ± std. dev. of 7 runs, 1000 loops each)\n",
      "1.46 µs ± 19.3 ns per loop (mean ± std. dev. of 7 runs, 1000000 loops each)\n",
      "<class 'int'>\n",
      "int32\n"
     ]
    }
   ],
   "source": [
    "import numpy as np\n",
    "L = range(1000)\n",
    "%timeit [i**2 for i in L]\n",
    "a = np.arange(1000)\n",
    "%timeit a**2\n",
    "print(type(L[1]))\n",
    "print(a.dtype)"
   ]
  },
  {
   "cell_type": "code",
   "execution_count": 2,
   "metadata": {},
   "outputs": [],
   "source": [
    "import numpy as np\n",
    "##Get help!\n",
    "#np.lookfor('create array')\n",
    "#np.array?\n",
    "#np.arr*?"
   ]
  },
  {
   "cell_type": "code",
   "execution_count": 10,
   "metadata": {},
   "outputs": [
    {
     "name": "stdout",
     "output_type": "stream",
     "text": [
      "a:\n",
      " [0 1 2 3]\n",
      "b:\n",
      " [[0 1 2]\n",
      " [3 4 5]]\n",
      "b.shape:\n",
      " (2, 3)\n"
     ]
    }
   ],
   "source": [
    "a = np.array([0, 1, 2, 3])\n",
    "print(\"a:\\n\", a)\n",
    "b = np.array([[0, 1, 2], [3, 4, 5]])\n",
    "print(\"b:\\n\", b)\n",
    "\n",
    "print(\"b.shape:\\n\", b.shape)"
   ]
  },
  {
   "cell_type": "markdown",
   "metadata": {},
   "source": [
    "#### Data types\n",
    "\n",
    "There are 5 basic numerical types representing booleans (bool), integers (int), unsigned integers (uint) floating point (float) and complex. Those with numbers in their name indicate the bitsize of the type (i.e. how many bits are needed to represent a single value in memory). "
   ]
  },
  {
   "cell_type": "code",
   "execution_count": 6,
   "metadata": {},
   "outputs": [
    {
     "name": "stdout",
     "output_type": "stream",
     "text": [
      "np.float32(1.0) : 1.0\n",
      "np.arange(3, dtype=np.uint8) : [0 1 2]\n"
     ]
    }
   ],
   "source": [
    "print(\"np.float32(1.0) :\", np.float32(1.0))\n",
    "print(\"np.arange(3, dtype=np.uint8) :\", np.arange(3, dtype=np.uint8))"
   ]
  },
  {
   "cell_type": "code",
   "execution_count": 8,
   "metadata": {},
   "outputs": [
    {
     "name": "stdout",
     "output_type": "stream",
     "text": [
      "[1. 2. 3.]\n"
     ]
    }
   ],
   "source": [
    "z = np.array([1, 2, 3], dtype='f')\n",
    "print(z)"
   ]
  },
  {
   "cell_type": "code",
   "execution_count": 9,
   "metadata": {},
   "outputs": [
    {
     "name": "stdout",
     "output_type": "stream",
     "text": [
      "[0 1 2]\n",
      "[0. 1. 2.]\n",
      "uint8\n"
     ]
    }
   ],
   "source": [
    "z = np.arange(3, dtype=np.uint8)\n",
    "print(z)\n",
    "print(z.astype(float))\n",
    "print(z.dtype)"
   ]
  },
  {
   "cell_type": "markdown",
   "metadata": {},
   "source": [
    "#### Array creation"
   ]
  },
  {
   "cell_type": "code",
   "execution_count": 12,
   "metadata": {},
   "outputs": [
    {
     "name": "stdout",
     "output_type": "stream",
     "text": [
      "[2 3 1 0]\n",
      "\n",
      "[[1. 2.]\n",
      " [0. 0.]\n",
      " [1. 3.]]\n"
     ]
    }
   ],
   "source": [
    "# extrinsic\n",
    "x = np.array([2,3,1,0])\n",
    "print(x)\n",
    "print()\n",
    "x = np.array([[ 1., 2.], [ 0., 0.], [ 1., 3.]])\n",
    "print(x)"
   ]
  },
  {
   "cell_type": "code",
   "execution_count": 13,
   "metadata": {},
   "outputs": [
    {
     "name": "stdout",
     "output_type": "stream",
     "text": [
      "[1 3 5 7]\n",
      "[0.  0.2 0.4 0.6 0.8 1. ]\n"
     ]
    }
   ],
   "source": [
    "#intrinsic\n",
    "b = np.arange(1, 9, 2)\n",
    "print(b)\n",
    "c = np.linspace(0, 1, 6)\n",
    "print(c)"
   ]
  },
  {
   "cell_type": "code",
   "execution_count": 14,
   "metadata": {},
   "outputs": [
    {
     "name": "stdout",
     "output_type": "stream",
     "text": [
      "[[ 0  1  2  3  4  5  6]\n",
      " [ 7  8  9 10 11 12 13]\n",
      " [14 15 16 17 18 19 20]\n",
      " [21 22 23 24 25 26 27]\n",
      " [28 29 30 31 32 33 34]]\n"
     ]
    }
   ],
   "source": [
    "print(np.arange(35).reshape(5,7))"
   ]
  },
  {
   "cell_type": "code",
   "execution_count": 15,
   "metadata": {},
   "outputs": [
    {
     "name": "stdout",
     "output_type": "stream",
     "text": [
      "[[0.9670321  0.41898259 0.20363724 0.35449615 0.16035759 0.71796865\n",
      "  0.91560078]\n",
      " [0.7941912  0.11327121 0.39895543 0.1938332  0.25015112 0.7301424\n",
      "  0.8902718 ]\n",
      " [0.38559724 0.80936697 0.87522364 0.2348649  0.50799691 0.96275272\n",
      "  0.25653361]\n",
      " [0.11539546 0.29497229 0.82328139 0.47741048 0.08609102 0.39704512\n",
      "  0.5578069 ]\n",
      " [0.72175903 0.77159655 0.4940947  0.16196267 0.405733   0.1140635\n",
      "  0.94903288]]\n"
     ]
    }
   ],
   "source": [
    "x = np.random.rand(35).reshape(5,7)\n",
    "print(x)"
   ]
  },
  {
   "cell_type": "code",
   "execution_count": 16,
   "metadata": {},
   "outputs": [
    {
     "name": "stdout",
     "output_type": "stream",
     "text": [
      "Populating the interactive namespace from numpy and matplotlib\n"
     ]
    },
    {
     "data": {
      "text/plain": [
       "<matplotlib.colorbar.Colorbar at 0x13a6ab54b08>"
      ]
     },
     "execution_count": 16,
     "metadata": {},
     "output_type": "execute_result"
    },
    {
     "data": {
      "image/png": "[encoded data removed]",
      "text/plain": [
       "<Figure size 432x288 with 2 Axes>"
      ]
     },
     "metadata": {
      "needs_background": "light"
     },
     "output_type": "display_data"
    }
   ],
   "source": [
    "%pylab inline\n",
    "import matplotlib.pyplot as plt\n",
    "\n",
    "image = np.random.rand(30, 30)\n",
    "plt.imshow(image, cmap=plt.cm.hot)    \n",
    "plt.colorbar()    "
   ]
  },
  {
   "cell_type": "markdown",
   "metadata": {},
   "source": [
    "#### Indexing, slicing and selection"
   ]
  },
  {
   "cell_type": "code",
   "execution_count": 17,
   "metadata": {},
   "outputs": [
    {
     "name": "stdout",
     "output_type": "stream",
     "text": [
      "[0 1 2 3 4 5 6 7 8 9]\n",
      "0 2 9 7\n",
      "[2 3 4] [2 3 4 5 6 7 8 9] [0 1 2 3 4 5 6 7] [0 2 4 6 8] [2 4 6 8]\n"
     ]
    }
   ],
   "source": [
    "a = np.arange(10)\n",
    "print(a)\n",
    "print(a[0], a[2], a[-1], a[-3])\n",
    "print(a[2:5], a[2:], a[:-2], a[::2], a[2::2])"
   ]
  },
  {
   "cell_type": "code",
   "execution_count": 18,
   "metadata": {},
   "outputs": [
    {
     "name": "stdout",
     "output_type": "stream",
     "text": [
      "[[ 0  0  0]\n",
      " [ 0  1  0]\n",
      " [ 0 10  2]]\n",
      "1\n"
     ]
    }
   ],
   "source": [
    "a = np.diag(np.arange(3))\n",
    "a[2, 1] = 10 # !third line, !second column\n",
    "\n",
    "print(a)\n",
    "print(a[1, 1])\n",
    "#print(a[1])\n",
    "#print(a[:,1], a[1,:])\n",
    "#print(a[1:,1:])"
   ]
  },
  {
   "cell_type": "code",
   "execution_count": 20,
   "metadata": {},
   "outputs": [
    {
     "name": "stdout",
     "output_type": "stream",
     "text": [
      "[10  9  8  7  6  5  4  3  2]\n",
      "\n",
      "[7 7 4 2]\n",
      "\n",
      "[[9 9]\n",
      " [8 7]]\n"
     ]
    }
   ],
   "source": [
    "# array indexes\n",
    "x = np.arange(10,1,-1)\n",
    "print(x)\n",
    "print()\n",
    "print(x[np.array([3,3,-3,8])])\n",
    "print()\n",
    "print(x[np.array([[1,1],[2,3]])])"
   ]
  },
  {
   "cell_type": "code",
   "execution_count": 25,
   "metadata": {},
   "outputs": [
    {
     "name": "stdout",
     "output_type": "stream",
     "text": [
      "[18 10  3 15 12  1  6  2  3  4]\n",
      "[ True False  True  True  True False  True False  True False]\n",
      "[18  3 15 12  6  3]\n",
      "[-1 10 -1 -1 -1  1 -1  2 -1  4]\n"
     ]
    }
   ],
   "source": [
    "# 10 random numbers 0 - 20\n",
    "a = np.random.randint(0, 20, 10)\n",
    "print(a)\n",
    "print(a%3==0)\n",
    "print(a[a%3==0])\n",
    "\n",
    "a[a % 3 == 0] = -1\n",
    "print(a)"
   ]
  },
  {
   "cell_type": "code",
   "execution_count": 26,
   "metadata": {},
   "outputs": [
    {
     "name": "stdout",
     "output_type": "stream",
     "text": [
      "[ 0 10 20 30 40 50 60 70 80 90]\n",
      "[[30 40]\n",
      " [90 70]]\n"
     ]
    }
   ],
   "source": [
    "a = np.arange(0, 100, 10)\n",
    "print(a)\n",
    "\n",
    "idx = np.array([[3,4],[9,7]])\n",
    "print(a[idx])"
   ]
  },
  {
   "cell_type": "markdown",
   "metadata": {},
   "source": [
    "Task:\n",
    "- What does this do:"
   ]
  },
  {
   "cell_type": "code",
   "execution_count": 6,
   "metadata": {},
   "outputs": [
    {
     "name": "stdout",
     "output_type": "stream",
     "text": [
      "[False False  True  True False  True False  True False False False  True\n",
      " False  True False False False  True False  True False False False  True\n",
      " False False False False False  True False  True False False False False\n",
      " False  True False False False  True False  True False False False  True\n",
      " False False False False False  True False False False False False  True\n",
      " False  True False False False False False  True False False False  True\n",
      " False  True False False False False False  True False False False  True\n",
      " False False False False False  True False False False False False False\n",
      " False  True False False]\n"
     ]
    }
   ],
   "source": [
    "# How does it work?\n",
    "# Print the primes!\n",
    "def get_primes():\n",
    "    primes = np.ones((100,), dtype=bool)\n",
    "    primes[:2] = 0\n",
    "    N_max = int(np.sqrt(len(primes)))\n",
    "    for j in range(2, N_max):\n",
    "        primes[2*j::j] = 0\n",
    "    return primes\n",
    "print(get_primes())\n"
   ]
  },
  {
   "cell_type": "markdown",
   "metadata": {},
   "source": [
    "#### Broadcasting, assignment, structured arrays"
   ]
  },
  {
   "cell_type": "code",
   "execution_count": 27,
   "metadata": {},
   "outputs": [
    {
     "name": "stdout",
     "output_type": "stream",
     "text": [
      "True\n",
      "False\n"
     ]
    }
   ],
   "source": [
    "a = np.arange(10)\n",
    "b = a\n",
    "print(np.may_share_memory(a, b))\n",
    "\n",
    "a = np.arange(10)\n",
    "c = a.copy()  # force a copy\n",
    "print(np.may_share_memory(a, c))"
   ]
  },
  {
   "cell_type": "code",
   "execution_count": 28,
   "metadata": {},
   "outputs": [
    {
     "name": "stdout",
     "output_type": "stream",
     "text": [
      "a:  [1 2 3 4]\n",
      "a + 1, 2**a:  [2 3 4 5] [ 2  4  8 16]\n",
      "2**(a + 1) - a:  [ 3  6 13 28]\n"
     ]
    }
   ],
   "source": [
    "#Array operations\n",
    "a = np.array([1, 2, 3, 4])\n",
    "print(\"a: \", a)\n",
    "print(\"a + 1, 2**a: \", a + 1, 2**a)\n",
    "print (\"2**(a + 1) - a: \", 2**(a + 1) - a)"
   ]
  },
  {
   "cell_type": "code",
   "execution_count": 31,
   "metadata": {},
   "outputs": [
    {
     "name": "stdout",
     "output_type": "stream",
     "text": [
      "a:  [1 2 3 4]\n",
      "b:  [2. 2. 2. 2.]\n",
      "a - b, a * b:  [-1.  0.  1.  2.] [2. 4. 6. 8.]\n"
     ]
    }
   ],
   "source": [
    "a = np.array([1, 2, 3, 4])\n",
    "b = np.ones(4)+1\n",
    "print(\"a: \",a)\n",
    "print(\"b: \",b)\n",
    "print(\"a - b, a * b: \", a - b, a * b)"
   ]
  },
  {
   "cell_type": "code",
   "execution_count": 34,
   "metadata": {},
   "outputs": [
    {
     "name": "stdout",
     "output_type": "stream",
     "text": [
      "[[1. 1. 1.]\n",
      " [1. 1. 1.]\n",
      " [1. 1. 1.]]\n",
      "[[3. 3. 3.]\n",
      " [3. 3. 3.]\n",
      " [3. 3. 3.]]\n"
     ]
    }
   ],
   "source": [
    "c = np.ones((3, 3))\n",
    "print(c)\n",
    "print(2*c + 1)"
   ]
  },
  {
   "cell_type": "code",
   "execution_count": 46,
   "metadata": {},
   "outputs": [
    {
     "name": "stdout",
     "output_type": "stream",
     "text": [
      "[[2. 2.]\n",
      " [2. 2.]\n",
      " [2. 2.]]\n",
      "\n",
      "[[2. 2. 2.]\n",
      " [2. 2. 2.]]\n",
      "\n",
      "[[8. 8. 8.]\n",
      " [8. 8. 8.]\n",
      " [8. 8. 8.]]\n"
     ]
    }
   ],
   "source": [
    "# matrix multiplication\n",
    "a = np.ones((3, 2)) + 1\n",
    "b = np.ones((2, 3)) + 1\n",
    "c = a.dot(b)\n",
    "print(a, b, c, sep=\"\\n\\n\")"
   ]
  },
  {
   "cell_type": "code",
   "execution_count": 39,
   "metadata": {},
   "outputs": [
    {
     "name": "stdout",
     "output_type": "stream",
     "text": [
      "[ 0.          0.84147098  0.90929743  0.14112001 -0.7568025 ]\n",
      "[      -inf 0.         0.69314718 1.09861229 1.38629436]\n",
      "[ 1.          2.71828183  7.3890561  20.08553692 54.59815003]\n"
     ]
    },
    {
     "name": "stderr",
     "output_type": "stream",
     "text": [
      "D:\\programs\\anaconda\\envs\\biopy37\\lib\\site-packages\\ipykernel_launcher.py:3: RuntimeWarning: divide by zero encountered in log\n",
      "  This is separate from the ipykernel package so we can avoid doing imports until\n"
     ]
    }
   ],
   "source": [
    "a = np.arange(5)\n",
    "print(np.sin(a))\n",
    "print(np.log(a))\n",
    "print(np.exp(a))"
   ]
  },
  {
   "cell_type": "code",
   "execution_count": 45,
   "metadata": {},
   "outputs": [
    {
     "name": "stdout",
     "output_type": "stream",
     "text": [
      "[1 2 3]\n",
      "\n",
      "[[1]\n",
      " [2]\n",
      " [3]]\n",
      "\n",
      "[[1 2 3]]\n"
     ]
    }
   ],
   "source": [
    "# shape manipulation\n",
    "x = np.array([1, 2, 3])\n",
    "y = x[:, np.newaxis]\n",
    "z = x[np.newaxis, :]\n",
    "print(x, y, z, sep='\\n\\n')"
   ]
  },
  {
   "cell_type": "code",
   "execution_count": 47,
   "metadata": {},
   "outputs": [
    {
     "name": "stdout",
     "output_type": "stream",
     "text": [
      "[[1 2 3]\n",
      " [4 5 6]]\n",
      "[1 2 3 4 5 6]\n"
     ]
    }
   ],
   "source": [
    "# flatten\n",
    "a = np.array([[1, 2, 3], [4, 5, 6]])\n",
    "print(a)\n",
    "print(a.ravel())"
   ]
  },
  {
   "cell_type": "code",
   "execution_count": 49,
   "metadata": {},
   "outputs": [
    {
     "name": "stdout",
     "output_type": "stream",
     "text": [
      "[[4 3 5]\n",
      " [1 2 1]]\n",
      "[[3 4 5]\n",
      " [1 1 2]]\n"
     ]
    }
   ],
   "source": [
    "# sorting matrices\n",
    "a = np.array([[4, 3, 5], [1, 2, 1]])\n",
    "b = np.sort(a, axis=1) #sorting per row\n",
    "print(a)\n",
    "print(b)"
   ]
  },
  {
   "cell_type": "code",
   "execution_count": 50,
   "metadata": {},
   "outputs": [
    {
     "name": "stdout",
     "output_type": "stream",
     "text": [
      "[2 3 1 0] [1 2 3 4]\n"
     ]
    }
   ],
   "source": [
    "# sorting arguments\n",
    "a = np.array([4, 3, 1, 2])\n",
    "j = np.argsort(a)\n",
    "print(j, a[j])"
   ]
  },
  {
   "cell_type": "markdown",
   "metadata": {},
   "source": [
    "#### Reductions"
   ]
  },
  {
   "cell_type": "code",
   "execution_count": 53,
   "metadata": {},
   "outputs": [
    {
     "name": "stdout",
     "output_type": "stream",
     "text": [
      "10 10 10\n"
     ]
    }
   ],
   "source": [
    "# unidimensional\n",
    "x = np.array([1, 2, 3, 4])\n",
    "print(np.sum(x), x.sum(), x.sum(axis=0))"
   ]
  },
  {
   "cell_type": "code",
   "execution_count": 57,
   "metadata": {},
   "outputs": [
    {
     "name": "stdout",
     "output_type": "stream",
     "text": [
      "[[1 1]\n",
      " [2 2]]\n",
      "[3 3]\n",
      "[2 4]\n"
     ]
    }
   ],
   "source": [
    "# multidimensional\n",
    "x = np.array([[1, 1], [2, 2]])\n",
    "print(x)\n",
    "print(x.sum(axis=0))   # rows (first dimension)\n",
    "print(x.sum(axis=1))   # columns (second dimension)"
   ]
  },
  {
   "cell_type": "code",
   "execution_count": 109,
   "metadata": {},
   "outputs": [
    {
     "name": "stdout",
     "output_type": "stream",
     "text": [
      "[1 3 2]\n",
      "1 3 0 1\n",
      "False True\n",
      "1.75 0.82915619758885 1.5 [2. 5.]\n"
     ]
    }
   ],
   "source": [
    "x = np.array([1, 3, 2])\n",
    "print(x)\n",
    "print(x.min(), x.max(), x.argmin(), x.argmax())\n",
    "\n",
    "print(np.all([True, True, False]), np.any([True, True, False]))\n",
    "\n",
    "x = np.array([1, 2, 3, 1])\n",
    "y = np.array([[1, 2, 3], [5, 6, 1]])\n",
    "print(x.mean(), x.std(), np.median(x), np.median(y, axis=-1))"
   ]
  },
  {
   "cell_type": "code",
   "execution_count": 108,
   "metadata": {},
   "outputs": [
    {
     "name": "stdout",
     "output_type": "stream",
     "text": [
      "False True\n",
      "True\n"
     ]
    }
   ],
   "source": [
    "a = np.zeros((100, 100))\n",
    "print(np.any(a != 0), np.all(a == a))\n",
    "\n",
    "a = np.array([1, 2, 3, 2])\n",
    "b = np.array([2, 2, 3, 2])\n",
    "c = np.array([6, 4, 4, 5])\n",
    "print(((a <= b) & (b <= c)).all())"
   ]
  },
  {
   "cell_type": "markdown",
   "metadata": {},
   "source": [
    "**Tricksy task:**\n",
    "- Replace all values greater than 25 with 9 and all values smaller than 10 with 29."
   ]
  },
  {
   "cell_type": "code",
   "execution_count": 60,
   "metadata": {},
   "outputs": [
    {
     "name": "stdout",
     "output_type": "stream",
     "text": [
      "[38 14 27 19 20 12 24 18 45 25]\n"
     ]
    }
   ],
   "source": [
    "a = np.random.randint(0, 50, 10)\n",
    "print(a)"
   ]
  },
  {
   "cell_type": "markdown",
   "metadata": {},
   "source": [
    "### Sympy"
   ]
  },
  {
   "cell_type": "markdown",
   "metadata": {},
   "source": [
    "Symbolic math is sometimes important, especially if we are weak at calculus or if we need to perform automated calculus on long formulas. We are briefly going through a few test cases, to get the feel of it. Symbolic math is especially developed for [Mathematica](http://www.wolfram.com/mathematica/?source=nav), or [Sage](http://www.sagemath.org/) which is an open-source equivalent."
   ]
  },
  {
   "cell_type": "code",
   "execution_count": 2,
   "metadata": {},
   "outputs": [
    {
     "name": "stdout",
     "output_type": "stream",
     "text": [
      "2*sqrt(2)\n",
      "2.82842712475\n"
     ]
    }
   ],
   "source": [
    "import sympy\n",
    "print sympy.sqrt(8)\n",
    "import math\n",
    "print math.sqrt(8)"
   ]
  },
  {
   "cell_type": "code",
   "execution_count": 11,
   "metadata": {},
   "outputs": [
    {
     "name": "stdout",
     "output_type": "stream",
     "text": [
      "x + 2*y\n",
      "x*(x + 2*y)\n",
      "x**2 + 2*x*y\n",
      "x*(x + 2*y)\n",
      "2*y*z**t + z**(2*t)\n",
      "z**t*(2*y + z**t)\n"
     ]
    }
   ],
   "source": [
    "from sympy import symbols\n",
    "x, y, z, t = symbols('x y z t')\n",
    "expr = x + 2*y\n",
    "print expr\n",
    "print x * expr\n",
    "from sympy import expand, factor, simplify\n",
    "expanded_expr = expand(x*expr)\n",
    "print expanded_expr\n",
    "print factor(expanded_expr)\n",
    "exp = expanded_expr.subs(x, z**t)\n",
    "print exp\n",
    "print simplify(exp)"
   ]
  },
  {
   "cell_type": "markdown",
   "metadata": {},
   "source": [
    "In the scipy.optimize paragraph we needed the Hessian matrix for a function f. Here is how you can obtain it in sympy:"
   ]
  },
  {
   "cell_type": "code",
   "execution_count": 3,
   "metadata": {},
   "outputs": [
    {
     "name": "stdout",
     "output_type": "stream",
     "text": [
      "Matrix([[12*x**2 - 4*y + 1.0, -4*x], [-4*x, 2]])\n"
     ]
    },
    {
     "data": {
      "text/latex": [
       "\\left[\\begin{matrix}12 x^{2} - 4 y + 1.0 & - 4 x\\\\- 4 x & 2\\end{matrix}\\right]"
      ],
      "text/plain": [
       "<IPython.core.display.Latex object>"
      ]
     },
     "execution_count": 3,
     "metadata": {},
     "output_type": "execute_result"
    }
   ],
   "source": [
    "import sympy\n",
    "x, y = sympy.symbols('x y')\n",
    "f = .5*(1 - x)**2 + (y - x**2)**2\n",
    "h = sympy.hessian(f, [x,y])\n",
    "print(h)\n",
    "from IPython.display import Latex\n",
    "Latex(sympy.latex(h))\n"
   ]
  },
  {
   "cell_type": "code",
   "execution_count": 4,
   "metadata": {},
   "outputs": [
    {
     "data": {
      "text/html": [
       "<iframe src=http://en.wikipedia.org/wiki/Hessian_matrix width=700 height=350></iframe>"
      ],
      "text/plain": [
       "<IPython.core.display.HTML object>"
      ]
     },
     "execution_count": 4,
     "metadata": {},
     "output_type": "execute_result"
    }
   ],
   "source": [
    "from IPython.display import HTML\n",
    "HTML('<iframe src=http://en.wikipedia.org/wiki/Hessian_matrix width=700 height=350></iframe>')"
   ]
  },
  {
   "cell_type": "code",
   "execution_count": null,
   "metadata": {
    "collapsed": true,
    "jupyter": {
     "outputs_hidden": true
    }
   },
   "outputs": [],
   "source": []
  }
 ],
 "metadata": {
  "kernelspec": {
   "display_name": "Python 3",
   "language": "python",
   "name": "python3"
  },
  "language_info": {
   "codemirror_mode": {
    "name": "ipython",
    "version": 3
   },
   "file_extension": ".py",
   "mimetype": "text/x-python",
   "name": "python",
   "nbconvert_exporter": "python",
   "pygments_lexer": "ipython3",
   "version": "3.7.10"
  }
 },
 "nbformat": 4,
 "nbformat_minor": 4
}
