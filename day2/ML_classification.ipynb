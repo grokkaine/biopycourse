{
 "cells": [
  {
   "cell_type": "markdown",
   "metadata": {},
   "source": [
    "**Classification problems, an SVC example**\n",
    "\n",
    "Typically for machine learning, PLS methods have been developed to cover multiple ML classes and thus perform well in classification or feature selection problems, and have been applied notably in chemometrics.\n",
    "\n",
    "Although I could not find a good cheminformatics training set for multiple regression, I got inspired by [this blog post](https://iwatobipen.wordpress.com/2013/09/01/pls-regression-using-scikit-learn/) and thought I could try to exemplify the next class of ML problems, with the help of a cheminformatics package with Python bindings. This package is particularly easy to install on Linux and Mac, but it is not necessary for you to install it, because I am saving the outputs.\n",
    "\n",
    "```\n",
    "On Ubuntu Linux the instalation is a one-liner\n",
    "sudo apt-get install python-rdkit librdkit1 rdkit-data\n",
    "```\n",
    "\n",
    "If you download the rdkit package, you will find a ML dataset that contains as target the solubility levels for a number of molecules. Test data is also provided, and documentation is available on the same location.\n"
   ]
  },
  {
   "cell_type": "code",
   "execution_count": null,
   "metadata": {
    "collapsed": true,
    "jupyter": {
     "outputs_hidden": true
    }
   },
   "outputs": [],
   "source": [
    "import warnings\n",
    "warnings.filterwarnings('ignore')\n",
    "\n",
    "from sklearn.cross_decomposition import PLSCanonical, PLSRegression\n",
    "from sklearn import metrics\n",
    "import numpy as np\n",
    "import urllib\n",
    "import os\n",
    "\n",
    "os.chdir('/home/sergiun/data/work/course')\n",
    "#urllib.urlretrieve(\"https://github.com/rdkit/rdkit/blob/master/Docs/Book/data/solubility.train.sdf\", \"data/solubility.train.sdf\")\n",
    "#urllib.urlretrieve(\"https://github.com/rdkit/rdkit/blob/master/Docs/Book/data/solubility.test.sdf\", \"data/solubility.test.sdf\")\n",
    "\n",
    "from rdkit import Chem\n",
    "from rdkit.Chem import Descriptors\n",
    "from rdkit.ML.Descriptors import MoleculeDescriptors\n",
    "nms = [ x[0] for x in Descriptors._descList ]\n",
    "\n",
    "def calculator( mols ):\n",
    "    calc = MoleculeDescriptors.MolecularDescriptorCalculator( nms )\n",
    "    res = [ calc.CalcDescriptors( mol ) for mol in mols ]\n",
    "    return res\n",
    "\n",
    "trainMols = [ mol for mol in Chem.SDMolSupplier(\"data/solubility.train.sdf\") if mol is not None]\n",
    "testMols =  [ mol for mol in Chem.SDMolSupplier(\"data/solubility.test.sdf\") if mol is not None]\n",
    " \n",
    "X_train = calculator( trainMols )\n",
    "X_test = calculator( testMols )\n",
    "\n",
    "classes = { '(A) low':0, '(B) medium':1, '(C) high':2 }\n",
    "Y_train = [ classes[mol.GetProp('SOL_classification')] for mol in trainMols ]\n",
    "Y_test = [ classes[mol.GetProp('SOL_classification')] for mol in testMols ]\n",
    "\n",
    "import pickle\n",
    "with open(\"data/plsr.pkl\",'w') as f:\n",
    "    pickle.dump((X_train, X_test, Y_train, Y_test), f)"
   ]
  },
  {
   "cell_type": "markdown",
   "metadata": {},
   "source": [
    "**SVC**\n",
    "\n",
    "Although I could use a variant of PLS called PLS-DA to solve this classification problem, we will use another important class of algorithms called support vector machines. Support vector classification or SVC, operate by constructing higher dimensional hyperspaces where they search for [hiperplanes separating the classes through](http://en.wikipedia.org/wiki/Support_vector_machine) linear programming.\n",
    "\n",
    "We verify our results with a [confusion matrix](http://en.wikipedia.org/wiki/Confusion_matrix).\n",
    "\n",
    "Task: explore results with different other kernels. Which one fits best and why?"
   ]
  },
  {
   "cell_type": "code",
   "execution_count": 3,
   "metadata": {},
   "outputs": [
    {
     "name": "stdout",
     "output_type": "stream",
     "text": [
      "1025 0\n",
      "1025 4\n",
      "1024 0\n",
      "1024 0\n"
     ]
    }
   ],
   "source": [
    "import pickle\n",
    "import numpy as np\n",
    "\n",
    "with open(\"data/plsr.pkl\",'r') as f:\n",
    "    X_train, X_test, Y_train, Y_test = pickle.load(f)\n",
    "\n",
    "##one row in X_train contained nan values\n",
    "Y_train = np.array(Y_train)\n",
    "X_train = np.array(X_train)\n",
    "print len(Y_train), np.sum(np.isnan(Y_train))\n",
    "print len(X_train), np.sum(np.isnan(X_train))\n",
    "nanl = np.isnan(X_train)\n",
    "Y_train = Y_train[~np.isnan(X_train).any(axis=1)]\n",
    "X_train = X_train[~np.isnan(X_train).any(axis=1)]\n",
    "print len(Y_train), np.sum(np.isnan(Y_train))\n",
    "print len(X_train), np.sum(np.isnan(X_train))"
   ]
  },
  {
   "cell_type": "code",
   "execution_count": 6,
   "metadata": {},
   "outputs": [
    {
     "name": "stdout",
     "output_type": "stream",
     "text": [
      "Score: 0.727626459144\n",
      "Confusion matrix, without normalization\n",
      "[[96  6  0]\n",
      " [45 64  6]\n",
      " [ 8  5 27]]\n"
     ]
    },
    {
     "data": {
      "image/png": "[encoded data removed]",
      "text/plain": [
       "<matplotlib.figure.Figure at 0x7f1623d75510>"
      ]
     },
     "metadata": {},
     "output_type": "display_data"
    }
   ],
   "source": [
    "%matplotlib inline\n",
    "\n",
    "from sklearn import svm, metrics\n",
    "import matplotlib.pyplot as plt\n",
    "\n",
    "svc = svm.SVC( gamma=0.001, C=100. )\n",
    "svc.fit( X_train, Y_train )\n",
    "Y_pred = svc.predict( X_test )\n",
    "s = svc.score( X_test, Y_test )\n",
    "print \"Score:\", s\n",
    "\n",
    "def plot_confusion_matrix(cm, title='Confusion matrix', cmap=plt.cm.Blues):\n",
    "    plt.imshow(cm, interpolation='nearest', cmap=cmap)\n",
    "    plt.title(title)\n",
    "    plt.colorbar()\n",
    "    plt.tight_layout()\n",
    "    plt.ylabel('True label')\n",
    "    plt.xlabel('Predicted label')\n",
    "    \n",
    "cm = metrics.confusion_matrix( Y_test, Y_pred )\n",
    "print('Confusion matrix, without normalization')\n",
    "print(cm)\n",
    "plt.figure()\n",
    "plot_confusion_matrix(cm)\n",
    "\n",
    "\n"
   ]
  },
  {
   "cell_type": "code",
   "execution_count": null,
   "metadata": {},
   "outputs": [],
   "source": []
  }
 ],
 "metadata": {
  "kernelspec": {
   "display_name": "Python 3",
   "language": "python",
   "name": "python3"
  },
  "language_info": {
   "codemirror_mode": {
    "name": "ipython",
    "version": 3
   },
   "file_extension": ".py",
   "mimetype": "text/x-python",
   "name": "python",
   "nbconvert_exporter": "python",
   "pygments_lexer": "ipython3",
   "version": "3.7.10"
  }
 },
 "nbformat": 4,
 "nbformat_minor": 4
}
