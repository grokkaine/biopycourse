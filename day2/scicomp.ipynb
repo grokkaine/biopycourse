{
 "cells": [
  {
   "cell_type": "markdown",
   "metadata": {},
   "source": [
    "# Scientific computing"
   ]
  },
  {
   "cell_type": "markdown",
   "metadata": {},
   "source": [
    "Numpy: advanced array operations\n",
    "\n",
    "Scipy introduction: from linear algebra to image analisys\n",
    "\n",
    "Simpy: symbolic math\n",
    "\n",
    "Further reading:\n",
    "\n",
    "- [https://scipy-lectures.github.io/index.html](https://scipy-lectures.github.io/index.html) - served as my main inspiration source for this chapter.\n",
    "- [http://docs.scipy.org/doc/scipy-0.15.1/reference/](http://docs.scipy.org/doc/scipy-0.15.1/reference/) - The Scipy reference guide, containing a very good tutorial for each of the libraries.\n",
    "- [http://www.scipy.org/topical-software.html](http://www.scipy.org/topical-software.html) This page is containing links to some of the most common Python modules. However it is far from complete, for example PIL, a library commonly used in image processing in Python, is not listed.\n"
   ]
  },
  {
   "cell_type": "markdown",
   "metadata": {},
   "source": [
    "### Numpy"
   ]
  },
  {
   "cell_type": "markdown",
   "metadata": {},
   "source": [
    "Most of the time when doing scientific computing speed is critical. There are several reasons Numpy is much faster than standard Python. The most important is that Numpy enforces strong typing, while Python is a dynamic typed language. That translates in Numpy using less heap space for representing data. Because array operations are the core of scientific computing, we will look at this library in greater depth."
   ]
  },
  {
   "cell_type": "code",
   "execution_count": 1,
   "metadata": {
    "collapsed": false
   },
   "outputs": [
    {
     "name": "stdout",
     "output_type": "stream",
     "text": [
      "1000 loops, best of 3: 332 µs per loop\n",
      "The slowest run took 44.93 times longer than the fastest. This could mean that an intermediate result is being cached.\n",
      "1000000 loops, best of 3: 1.21 µs per loop\n",
      "<class 'int'>\n",
      "int64\n"
     ]
    }
   ],
   "source": [
    "import numpy as np\n",
    "L = range(1000)\n",
    "%timeit [i**2 for i in L]\n",
    "a = np.arange(1000)\n",
    "%timeit a**2\n",
    "print(type(L[1]))\n",
    "print(a.dtype)"
   ]
  },
  {
   "cell_type": "code",
<<<<<<< HEAD
   "execution_count": 2,
=======
   "execution_count": 3,
>>>>>>> upstream/master
   "metadata": {
    "collapsed": true
   },
   "outputs": [],
   "source": [
    "import numpy as np\n",
    "##Get help!\n",
    "#np.lookfor('create array')\n",
    "#np.array?\n",
    "#np.arr*?"
   ]
  },
  {
   "cell_type": "code",
   "execution_count": 3,
   "metadata": {
    "collapsed": false
   },
   "outputs": [
    {
     "name": "stdout",
     "output_type": "stream",
     "text": [
      "[0 1 2 3]\n",
      "[[0 1 2]\n",
      " [3 4 5]]\n",
      "2 (2, 3) 2\n"
     ]
    }
   ],
   "source": [
    "a = np.array([0, 1, 2, 3])\n",
    "b = np.array([[0, 1, 2], [3, 4, 5]])\n",
    "c = np.array([[[1], [2]], [[3], [4]]])\n",
    "print(a)\n",
    "print(b)\n",
    "print(b.ndim, b.shape, len(b))"
   ]
  },
  {
   "cell_type": "code",
   "execution_count": 4,
   "metadata": {
    "collapsed": false
   },
   "outputs": [
    {
     "name": "stdout",
     "output_type": "stream",
     "text": [
      "Populating the interactive namespace from numpy and matplotlib\n",
      "[1 3 5 7] [ 0.   0.2  0.4  0.6  0.8  1. ]\n",
      "[[ 1.  1.  1.]\n",
      " [ 1.  1.  1.]\n",
      " [ 1.  1.  1.]] [[ 0.  0.]\n",
      " [ 0.  0.]] [[ 1.  0.  0.]\n",
      " [ 0.  1.  0.]\n",
      " [ 0.  0.  1.]]\n",
      "[ 0.56890833  0.54564386  0.2254017   0.50441209] [ 0.90166487 -0.3190977  -1.67640025  0.9238023 ] [[1 0 0 0]\n",
      " [0 2 0 0]\n",
      " [0 0 3 0]\n",
      " [0 0 0 4]]\n"
     ]
    },
    {
     "data": {
      "text/plain": [
       "<matplotlib.colorbar.Colorbar at 0x110497da0>"
      ]
     },
     "execution_count": 4,
     "metadata": {},
     "output_type": "execute_result"
    },
    {
     "data": {
      "image/png": "iVBORw0KGgoAAAANSUhEUgAAAS4AAAD8CAYAAADJwUnTAAAABHNCSVQICAgIfAhkiAAAAAlwSFlz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\njksIUTrkuIQQpUOOSwhROv4/20gKdsmlUGwAAAAASUVORK5CYII=\n",
      "text/plain": [
       "<matplotlib.figure.Figure at 0x10c00aba8>"
      ]
     },
     "metadata": {},
     "output_type": "display_data"
    }
   ],
   "source": [
    "##Array/Matrix creation\n",
    "%pylab inline\n",
    "import matplotlib.pyplot as plt\n",
    "\n",
    "b = np.arange(1, 9, 2)\n",
    "c = np.linspace(0, 1, 6)\n",
    "print (b, c)\n",
    "a = np.ones((3, 3))\n",
    "b = np.zeros((2, 2))\n",
    "c = np.eye(3)\n",
    "print (a, b, c)\n",
    "d = np.diag(np.array([1, 2, 3, 4]))\n",
    "a = np.random.rand(4)       # uniform in [0, 1]\n",
    "b = np.random.randn(4)      # Gaussian\n",
    "print (a, b, d)\n",
    "#np.random.seed(1234)\n",
    "image = np.random.rand(30, 30)\n",
    "plt.imshow(image, cmap=plt.cm.hot)    \n",
    "plt.colorbar()    "
   ]
  },
  {
   "cell_type": "code",
   "execution_count": 6,
   "metadata": {
    "collapsed": false
   },
   "outputs": [
    {
     "name": "stdout",
     "output_type": "stream",
     "text": [
      "0 2 9\n",
      "[2 3 4] [2 3 4 5 6 7 8 9] [0 1 2 3 4 5 6 7] [0 2 4 6 8] [2 4 6 8]\n",
      "[[0 0 0]\n",
      " [0 1 0]\n",
      " [0 0 2]]\n",
      "1\n",
      "[0 1 0]\n",
      "[ 0  1 10]\n",
      "[[0]\n",
      " [2]]\n",
      "[[ 0]\n",
      " [10]\n",
      " [20]\n",
      " [30]\n",
      " [40]\n",
      " [50]]\n",
      "[[ 0  1  2  3  4  5]\n",
      " [10 11 12 13 14 15]\n",
      " [20 21 22 23 24 25]\n",
      " [30 31 32 33 34 35]\n",
      " [40 41 42 43 44 45]\n",
      " [50 51 52 53 54 55]]\n",
      "[[20 22 24]\n",
      " [40 42 44]]\n"
     ]
    }
   ],
   "source": [
    "# Indexing, Slicing and Selection\n",
    "a = np.arange(10)\n",
    "print (a[0], a[2], a[-1])\n",
    "print (a[2:5], a[2:], a[:-2], a[::2], a[2::2])\n",
    "a = np.diag(np.arange(3))\n",
    "print (a)\n",
    "print (a[1, 1])\n",
    "a[2, 1] = 10 # third line, second column\n",
    "print (a[1])\n",
    "print (a[:,1])\n",
    "print (a[1:,2:])\n",
    "m = np.arange(6) + np.arange(0, 51, 10)[:, np.newaxis]\n",
    "print (np.arange(0, 51, 10)[:, np.newaxis])\n",
    "print (m)\n",
    "print (m[2::2,::2])"
   ]
  },
  {
   "cell_type": "code",
   "execution_count": 7,
   "metadata": {
    "collapsed": false
   },
   "outputs": [
    {
     "name": "stdout",
     "output_type": "stream",
     "text": [
      "[12  2  4  6  8] [12  1  2  3  4  5  6  7  8  9]\n",
      "True\n",
      "[0 1 2 3 4 5 6 7 8 9] [12  2  4  6  8]\n",
      "False\n"
     ]
    }
   ],
   "source": [
    "a = np.arange(10)\n",
    "b = a[::2]\n",
    "b[0] = 12\n",
    "print (b, a)\n",
    "print (np.may_share_memory(a, b))\n",
    "\n",
    "a = np.arange(10)\n",
    "c = a[::2].copy()  # force a copy\n",
    "c[0] = 12\n",
    "print (a, c)\n",
    "print (np.may_share_memory(a, c))"
   ]
  },
  {
   "cell_type": "code",
   "execution_count": 14,
   "metadata": {
    "collapsed": false
   },
   "outputs": [
    {
     "name": "stdout",
     "output_type": "stream",
     "text": [
      "[20  6 17  0 14  1 11 13  8 14  8 17 16  5 15]\n",
      "[False  True False  True False False False False False False False False\n",
      " False False  True]\n",
      "[ 6  0 15]\n",
      "[20 -1 17 -1 14  1 11 13  8 14  8 17 16  5 -1]\n",
      "[20 30 20 40 20]\n",
      "[   0   10   20   30   40   50   60 -100   80 -100]\n",
      "[[30 40]\n",
      " [90 70]]\n"
     ]
    },
    {
     "name": "stderr",
     "output_type": "stream",
     "text": [
      "/Users/salendrapradh/anaconda/envs/pycourse/lib/python3.5/site-packages/ipykernel/__main__.py:1: DeprecationWarning: This function is deprecated. Please call randint(0, 20 + 1) instead\n",
      "  if __name__ == '__main__':\n"
     ]
    }
   ],
   "source": [
    "a = np.random.random_integers(0, 20, 15)\n",
    "print (a)\n",
    "print (a%3==0)\n",
    "print (a[a%3==0])\n",
    "a[a % 3 == 0] = -1\n",
    "print (a)\n",
    "\n",
    "a = np.arange(0, 100, 10)\n",
    "print (a[[2, 3, 2, 4, 2]])\n",
    "a[[9, 7]] = -100\n",
    "print (a)\n",
    "\n",
    "a = np.arange(0,100,10)\n",
    "idx = np.array([[3,4],[9,7]])\n",
    "print (a[idx])"
   ]
  },
  {
   "cell_type": "code",
   "execution_count": 16,
   "metadata": {
    "collapsed": false
   },
   "outputs": [
    {
     "name": "stdout",
     "output_type": "stream",
     "text": [
      "[[ 0  1  2  3  4  5]\n",
      " [10 11 12 13 14 15]\n",
      " [20 21 22 23 24 25]\n",
      " [30 31 32 33 34 35]\n",
      " [40 41 42 43 44 45]\n",
      " [50 51 52 53 54 55]]\n",
      "[ 1 12 23 34 45]\n",
      "[21 53]\n",
      "[[31 33]\n",
      " [41 43]\n",
      " [51 53]]\n"
     ]
    }
   ],
   "source": [
    "m = np.arange(6) + np.arange(0, 51, 10)[:, np.newaxis]\n",
    "print (m)\n",
    "print (m[(0,1,2,3,4),(1,2,3,4,5)])\n",
    "print (m[[2,5], [1,3]])\n",
    "print (m[3:,[1,3]])\n"
   ]
  },
  {
   "cell_type": "code",
   "execution_count": 6,
   "metadata": {
    "collapsed": false
   },
   "outputs": [
    {
     "name": "stdout",
     "output_type": "stream",
     "text": [
      "[False False  True  True False  True False  True False False False  True\n",
      " False  True False False False  True False  True False False False  True\n",
      " False False False False False  True False  True False False False False\n",
      " False  True False False False  True False  True False False False  True\n",
      " False False False False False  True False False False False False  True\n",
      " False  True False False False False False  True False False False  True\n",
      " False  True False False False False False  True False False False  True\n",
      " False False False False False  True False False False False False False\n",
      " False  True False False]\n"
     ]
    }
   ],
   "source": [
    "\n",
    "def get_primes():\n",
    "    primes = np.ones((100,), dtype=bool)\n",
    "    primes[:2] = 0\n",
    "    N_max = int(np.sqrt(len(primes)))\n",
    "    for j in range(2, N_max):\n",
    "        primes[2*j::j] = 0\n",
    "    return primes\n",
    "print(get_primes())\n"
   ]
  },
  {
   "cell_type": "code",
   "execution_count": 24,
   "metadata": {
    "collapsed": false
   },
   "outputs": [
    {
     "name": "stdout",
     "output_type": "stream",
     "text": [
      "[[ 0.  1.  1.]\n",
      " [ 0.  0.  1.]\n",
      " [ 0.  0.  0.]]\n",
      "[[ 0.  0.  0.]\n",
      " [ 1.  0.  0.]\n",
      " [ 1.  1.  0.]]\n"
     ]
    }
   ],
   "source": [
    "a = np.triu(np.ones((3, 3)), 1)\n",
    "print a\n",
    "print a.T"
   ]
  },
  {
   "cell_type": "code",
   "execution_count": 40,
   "metadata": {
    "collapsed": false
   },
   "outputs": [
    {
     "name": "stdout",
     "output_type": "stream",
     "text": [
      "[2 3 4 5] [ 2  4  8 16]\n",
      "[-1.  0.  1.  2.] [ 2.  4.  6.  8.]\n",
      "[ 2  3  6 13 28]\n",
      "[[ 3.  3.  3.]\n",
      " [ 3.  3.  3.]\n",
      " [ 3.  3.  3.]] [[ 1.  1.  1.]\n",
      " [ 1.  1.  1.]\n",
      " [ 1.  1.  1.]] [[ 2.  2.  2.]\n",
      " [ 2.  2.  2.]\n",
      " [ 2.  2.  2.]]\n",
      "[[ 3.  3.  3.]\n",
      " [ 3.  3.  3.]\n",
      " [ 3.  3.  3.]]\n",
      "[ 0.          0.84147098  0.90929743  0.14112001 -0.7568025 ] [       -inf  0.          0.69314718  1.09861229  1.38629436] [  1.           2.71828183   7.3890561   20.08553692  54.59815003]\n",
      "[[ 0.  1.  1.]\n",
      " [ 0.  0.  1.]\n",
      " [ 0.  0.  0.]] [[ 0.  0.  0.]\n",
      " [ 1.  0.  0.]\n",
      " [ 1.  1.  0.]]\n",
      "10 10 10\n",
      "[3 3] 3\n",
      "[2 4] 2\n",
      "[[[ 0.77710864  0.42473141]\n",
      "  [ 0.27735134  0.17435609]]\n",
      "\n",
      " [[ 0.99553147  0.05230577]\n",
      "  [ 0.96649186  0.75504016]]] 0.45170742645 0.45170742645\n",
      "1 3 0 1\n",
      "False True\n",
      "False True\n",
      "True\n",
      "1.75 0.829156197589 1.5 [ 2.  5.]\n"
     ]
    }
   ],
   "source": [
    "#Array operations\n",
    "a = np.array([1, 2, 3, 4])\n",
    "print a + 1, 2**a\n",
    "b = np.ones(4) + 1\n",
    "print a - b, a * b\n",
    "\n",
    "j = np.arange(5)\n",
    "print 2**(j + 1) - j\n",
    "\n",
    "c = np.ones((3, 3))\n",
    "print 2*c + 1, c * c, c + c\n",
    "print c.dot(c) #matrix multiplication!\n",
    "\n",
    "a = np.arange(5)\n",
    "print np.sin(a), np.log(a), np.exp(a)\n",
    "\n",
    "a = np.triu(np.ones((3, 3)), 1)\n",
    "print a, a.T\n",
    "\n"
   ]
  },
  {
   "cell_type": "code",
<<<<<<< HEAD
   "execution_count": null,
   "metadata": {
    "collapsed": true
   },
   "outputs": [],
=======
   "execution_count": 3,
   "metadata": {},
   "outputs": [
    {
     "ename": "SyntaxError",
     "evalue": "invalid syntax (<ipython-input-3-fe8d8bbcf130>, line 5)",
     "output_type": "error",
     "traceback": [
      "\u001b[0;36m  File \u001b[0;32m\"<ipython-input-3-fe8d8bbcf130>\"\u001b[0;36m, line \u001b[0;32m5\u001b[0m\n\u001b[0;31m    print np.sum(x), x.sum(), x.sum(axis=0)\u001b[0m\n\u001b[0m           ^\u001b[0m\n\u001b[0;31mSyntaxError\u001b[0m\u001b[0;31m:\u001b[0m invalid syntax\n"
     ]
    }
   ],
>>>>>>> upstream/master
   "source": [
    "##Reductions\n",
    "import numpy as np\n",
    "\n",
    "x = np.array([1, 2, 3, 4])\n",
    "print np.sum(x), x.sum(), x.sum(axis=0)\n",
    "\n",
    "x = np.array([[1, 1], [2, 2]])\n",
    "print x.sum(axis=0), x[:, 0].sum()   # columns (first dimension)\n",
    "print x.sum(axis=1), x[0, :].sum()  # rows (second dimension)\n",
    "\n",
    "x = np.random.rand(2,2,2)\n",
    "print x, x.sum(axis=2)[0,1], x[0,1,:].sum()\n",
    "\n",
    "x = np.array([1, 3, 2])\n",
    "print x.min(), x.max(), x.argmin(), x.argmax()\n",
    "print np.all([True, True, False]), np.any([True, True, False])\n",
    "a = np.zeros((100, 100))\n",
    "print np.any(a != 0), np.all(a == a)\n",
    "a = np.array([1, 2, 3, 2])\n",
    "b = np.array([2, 2, 3, 2])\n",
    "c = np.array([6, 4, 4, 5])\n",
    "print ((a <= b) & (b <= c)).all()\n",
    "\n",
    "x = np.array([1, 2, 3, 1])\n",
    "y = np.array([[1, 2, 3], [5, 6, 1]])\n",
    "print x.mean(), x.std(), np.median(x), np.median(y, axis=-1)"
   ]
  },
  {
   "cell_type": "code",
   "execution_count": 8,
   "metadata": {
    "collapsed": false
   },
   "outputs": [
    {
     "name": "stdout",
     "output_type": "stream",
     "text": [
      "10 10 10\n",
      "[[1 1]\n",
      " [2 2]]\n",
      "[3 3] 3\n",
      "[2 4] 2\n"
     ]
    }
   ],
   "source": [
    "x = np.array([1, 2, 3, 4])\n",
    "print(np.sum(x), x.sum(), x.sum(axis=0))\n",
    "\n",
    "x = np.array([[1, 1], [2, 2]])\n",
    "print(x)\n",
    "print(x.sum(axis=0), x[:, 0].sum())   # columns (first dimension)\n",
    "print(x.sum(axis=1), x[0, :].sum())  # rows (second dimension)\n"
   ]
  },
  {
   "cell_type": "code",
   "execution_count": 9,
   "metadata": {
    "collapsed": false
   },
   "outputs": [
    {
     "name": "stdout",
     "output_type": "stream",
     "text": [
      "False True\n"
     ]
    }
   ],
   "source": [
    "a = np.zeros((100, 100))\n",
    "print(np.any(a != 0), np.all(a == a))"
   ]
  },
  {
   "cell_type": "code",
   "execution_count": 43,
   "metadata": {
    "collapsed": false
   },
   "outputs": [
    {
     "name": "stdout",
     "output_type": "stream",
     "text": [
      "[[ 0  1  2]\n",
      " [10 11 12]\n",
      " [20 21 22]\n",
      " [30 31 32]]\n",
      "(4,)\n",
      "(4, 1)\n",
      "[[ 0]\n",
      " [10]\n",
      " [20]\n",
      " [30]] [0 1 2] [[ 0  1  2]\n",
      " [10 11 12]\n",
      " [20 21 22]\n",
      " [30 31 32]]\n",
      "[[ 2.  2.  2.  2.  2.]\n",
      " [ 1.  1.  1.  1.  1.]\n",
      " [ 1.  1.  1.  1.  1.]\n",
      " [ 1.  1.  1.  1.  1.]]\n"
     ]
    }
   ],
   "source": [
    "##Broadcasting\n",
    "a = np.tile(np.arange(0, 40, 10), (3, 1)).T\n",
    "b = np.array([0, 1, 2])\n",
    "print a+b\n",
    "\n",
    "a = np.arange(0, 40, 10)\n",
    "print a.shape\n",
    "a = a[:, np.newaxis]  # adds a new axis -> 2D array\n",
    "print a.shape\n",
    "print a, b, a+b\n",
    "\n",
    "a = np.ones((4, 5))\n",
    "a[0] = 2\n",
    "print a\n",
    "\n",
    "x, y = np.ogrid[0:5, 0:5]\n",
    "x, y = np.mgrid[0:5, 0:5]"
   ]
  },
  {
   "cell_type": "code",
   "execution_count": 14,
   "metadata": {
    "collapsed": false
   },
   "outputs": [
    {
     "name": "stdout",
     "output_type": "stream",
     "text": [
      "(4,)\n",
      "[ 0 10 20 30]\n",
      "(4, 1)\n",
      "[[ 0]\n",
      " [10]\n",
      " [20]\n",
      " [30]]\n",
      "[0 1 2]\n",
      "[[ 0  1  2]\n",
      " [10 11 12]\n",
      " [20 21 22]\n",
      " [30 31 32]]\n"
     ]
    }
   ],
   "source": [
    "a = np.arange(0, 40, 10)\n",
    "b = np.array([0, 1, 2])\n",
    "print(a.shape)\n",
    "print(a)\n",
    "a = a[:, np.newaxis]  # adds a new axis -> 2D array\n",
    "print(a.shape)\n",
    "print(a)\n",
    "print(b)\n",
    "print(a+b)"
   ]
  },
  {
   "cell_type": "code",
   "execution_count": 27,
   "metadata": {
    "collapsed": false
   },
   "outputs": [
    {
     "name": "stdout",
     "output_type": "stream",
     "text": [
      "[[0]\n",
      " [1]\n",
      " [2]\n",
      " [3]\n",
      " [4]]\n",
      "[[0 1 2 3 4]]\n",
      "[[0 0 0 0 0]\n",
      " [1 1 1 1 1]\n",
      " [2 2 2 2 2]\n",
      " [3 3 3 3 3]\n",
      " [4 4 4 4 4]]\n",
      "[[0 1 2 3 4]\n",
      " [0 1 2 3 4]\n",
      " [0 1 2 3 4]\n",
      " [0 1 2 3 4]\n",
      " [0 1 2 3 4]]\n"
     ]
    }
   ],
   "source": [
    "x, y = np.ogrid[0:5, 0:5]\n",
    "print x\n",
    "print y\n",
    "x, y = np.mgrid[0:5, 0:5]\n",
    "print x\n",
    "print y"
   ]
  },
  {
   "cell_type": "code",
   "execution_count": 29,
   "metadata": {
    "collapsed": false
   },
   "outputs": [
    {
     "name": "stdout",
     "output_type": "stream",
     "text": [
      "[1 2 3 4 5 6] [1 4 2 5 3 6]\n",
      "[[1 2 3]\n",
      " [4 5 6]]\n",
      "[1 2 3] [[1]\n",
      " [2]\n",
      " [3]] [[1 2 3]]\n",
      "(4, 3, 2) 5\n",
      "(3, 2, 4) 5\n",
      "None\n"
     ]
    }
   ],
   "source": [
    "##Shape manipulations\n",
    "a = np.array([[1, 2, 3], [4, 5, 6]])\n",
    "print a.ravel(), a.T.ravel()\n",
    "b = a.ravel()\n",
    "b = b.reshape((2, 3)) #!reshape may return a copy!\n",
    "print b\n",
    "\n",
    "z = np.array([1, 2, 3])\n",
    "print z, z[:, np.newaxis], z[np.newaxis, :]\n",
    "\n",
    "a = np.arange(4*3*2).reshape(4, 3, 2)\n",
    "print a.shape, a[0, 2, 1]\n",
    "b = a.transpose(1, 2, 0)\n",
    "print b.shape, b[2, 1, 0]\n",
    "a = np.arange(4)\n",
    "print a.resize((8,))\n"
   ]
  },
  {
   "cell_type": "code",
   "execution_count": 30,
   "metadata": {
    "collapsed": false
   },
   "outputs": [
    {
     "name": "stdout",
     "output_type": "stream",
     "text": [
      "[[3 4 5]\n",
      " [1 1 2]]\n",
      "None\n",
      "[2 3 1 0] [1 2 3 4]\n",
      "0 2\n"
     ]
    }
   ],
   "source": [
    "##Sorting\n",
    "\n",
    "a = np.array([[4, 3, 5], [1, 2, 1]])\n",
    "b = np.sort(a, axis=1)\n",
    "print b\n",
    "print a.sort(axis=1)\n",
    "\n",
    "a = np.array([4, 3, 1, 2])\n",
    "j = np.argsort(a)\n",
    "print j, a[j]\n",
    "a = np.array([4, 3, 1, 2])\n",
    "print np.argmax(a), np.argmin(a)\n"
   ]
  },
  {
   "cell_type": "markdown",
   "metadata": {},
   "source": [
    "### Scipy"
   ]
  },
  {
   "cell_type": "markdown",
   "metadata": {},
   "source": [
    "Scipy is Python's favorite library for scientific computing. Some of its functionality overlaps with Numpy and Scikit-learn, but in general Scipy modules are viewed as the equivalent of Matlab's standard toolboxes. One is supposed to use it in conjunction with the so call \"Scipy-stack\" so for example it is best to deal array functionality with Numpy and machine learning with Scikit-learn. We will quickly go through several more common uses of Scipy, while it is good to keep in mind that we are barely scratching the skin of actual scientific computing.\n",
    "http://www.c3se.chalmers.se/common/python_course_2012/Lecture5_SciPy_2012.pdf"
   ]
  },
  {
   "cell_type": "markdown",
   "metadata": {},
   "source": [
    "##### [scipy.linalg](http://docs.scipy.org/doc/scipy/reference/linalg.html#scipy.linalg) - Singuar Value Decomposition"
   ]
  },
  {
   "cell_type": "markdown",
   "metadata": {},
   "source": [
    "There are three main uses of this module: solving linear equations, solving eigenvalues problems and matrix factorizations.\n",
    "\n",
    "\n",
    "One of the most common techniques for data summarization is Singuar Value Decomposition (SVD) and Partial Component Analysis (PCA). We will solve one SVD task here, and a PCA task later in the machine learning section. Keep in mind that most machine learning algorithms in scikit-learn are wrappers for the basic functions in this scipy module. From the linear algebra perspective PCA is a matrix decomposition method. Several other such methods are available in the linalg module.\n",
    "\n",
    "If X is a matrix with each variable in a column and each observation in a row then the SVD is\n",
    "$$X = U S V$$\n",
    "where the columns of U are orthogonal (left singular vectors), the columns of V are orthogonal (right singluar vectors) and S is a diagonal matrix of zeroes with main diagonal s (singular values).\n",
    "\n",
    "In the example below, most of the variation in the dataset is explained by the first two singular values, corresponding to the first two features.\n",
    "\n",
    "Obs:\n",
    "\n",
    "scipy.linalg.orth(A) - uses SVD to find an orthonormal basis for A."
   ]
  },
  {
   "cell_type": "code",
   "execution_count": 3,
   "metadata": {
    "collapsed": false
   },
   "outputs": [
    {
     "name": "stdout",
     "output_type": "stream",
     "text": [
      "['sepal length (cm)', 'sepal width (cm)', 'petal length (cm)', 'petal width (cm)'] ['setosa' 'versicolor' 'virginica']\n",
      "Iris Plants Database\n",
      "====================\n",
      "\n",
      "Notes\n",
      "-----\n",
      "Data Set Characteristics:\n",
      "    :Number of Instances: 150 (50 in each of three classes)\n",
      "    :Number of Attributes: 4 numeric, predictive attributes and the class\n",
      "    :Attribute Information:\n",
      "        - sepal length in cm\n",
      "        - sepal width in cm\n",
      "        - petal length in cm\n",
      "        - petal width in cm\n",
      "        - class:\n",
      "                - Iris-Setosa\n",
      "                - Iris-Versicolour\n",
      "                - Iris-Virginica\n",
      "    :Summary Statistics:\n",
      "\n",
      "    ============== ==== ==== ======= ===== ====================\n",
      "                    Min  Max   Mean    SD   Class Correlation\n",
      "    ============== ==== ==== ======= ===== ====================\n",
      "    sepal length:   4.3  7.9   5.84   0.83    0.7826\n",
      "    sepal width:    2.0  4.4   3.05   0.43   -0.4194\n",
      "    petal length:   1.0  6.9   3.76   1.76    0.9490  (high!)\n",
      "    petal width:    0.1  2.5   1.20  0.76     0.9565  (high!)\n",
      "    ============== ==== ==== ======= ===== ====================\n",
      "\n",
      "    :Missing Attribute Values: None\n",
      "    :Class Distribution: 33.3% for each of 3 classes.\n",
      "    :Creator: R.A. Fisher\n",
      "    :Donor: Michael Marshall (MARSHALL%PLU@io.arc.nasa.gov)\n",
      "    :Date: July, 1988\n",
      "\n",
      "This is a copy of UCI ML iris datasets.\n",
      "http://archive.ics.uci.edu/ml/datasets/Iris\n",
      "\n",
      "The famous Iris database, first used by Sir R.A Fisher\n",
      "\n",
      "This is perhaps the best known database to be found in the\n",
      "pattern recognition literature.  Fisher's paper is a classic in the field and\n",
      "is referenced frequently to this day.  (See Duda & Hart, for example.)  The\n",
      "data set contains 3 classes of 50 instances each, where each class refers to a\n",
      "type of iris plant.  One class is linearly separable from the other 2; the\n",
      "latter are NOT linearly separable from each other.\n",
      "\n",
      "References\n",
      "----------\n",
      "   - Fisher,R.A. \"The use of multiple measurements in taxonomic problems\"\n",
      "     Annual Eugenics, 7, Part II, 179-188 (1936); also in \"Contributions to\n",
      "     Mathematical Statistics\" (John Wiley, NY, 1950).\n",
      "   - Duda,R.O., & Hart,P.E. (1973) Pattern Classification and Scene Analysis.\n",
      "     (Q327.D83) John Wiley & Sons.  ISBN 0-471-22361-1.  See page 218.\n",
      "   - Dasarathy, B.V. (1980) \"Nosing Around the Neighborhood: A New System\n",
      "     Structure and Classification Rule for Recognition in Partially Exposed\n",
      "     Environments\".  IEEE Transactions on Pattern Analysis and Machine\n",
      "     Intelligence, Vol. PAMI-2, No. 1, 67-71.\n",
      "   - Gates, G.W. (1972) \"The Reduced Nearest Neighbor Rule\".  IEEE Transactions\n",
      "     on Information Theory, May 1972, 431-433.\n",
      "   - See also: 1988 MLC Proceedings, 54-64.  Cheeseman et al\"s AUTOCLASS II\n",
      "     conceptual clustering system finds 3 classes in the data.\n",
      "   - Many, many more ...\n",
      "\n",
      "(150, 150) (4, 4) (4,)\n",
      "[ 95.95066751  17.72295328   3.46929666   1.87891236]\n",
      "True\n"
     ]
    },
    {
     "name": "stderr",
     "output_type": "stream",
     "text": [
      "/Users/salendrapradh/anaconda/envs/pycourse/lib/python3.5/site-packages/matplotlib/axes/_axes.py:545: UserWarning: No labelled objects found. Use label='...' kwarg on individual plots.\n",
      "  warnings.warn(\"No labelled objects found. \"\n"
     ]
    },
    {
     "data": {
      "image/png": "iVBORw0KGgoAAAANSUhEUgAAA4oAAAFACAYAAAD6YYIDAAAABHNCSVQICAgIfAhkiAAAAAlwSFlz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\nDC608+LyAAAAAElFTkSuQmCC\n",
      "text/plain": [
       "<matplotlib.figure.Figure at 0x106b1d9e8>"
      ]
     },
     "metadata": {},
     "output_type": "display_data"
    }
   ],
   "source": [
    "%matplotlib inline\n",
    "import matplotlib.pyplot as plt\n",
    "import numpy as np\n",
    "from scipy import linalg\n",
    "from sklearn.datasets import load_iris\n",
    "\n",
    "iris = load_iris()\n",
    "print (iris.feature_names, iris.target_names)\n",
    "print (iris.DESCR)\n",
    "#print iris.data\n",
    "A = iris.data\n",
    "U, s, V = linalg.svd(A)\n",
    "print (U.shape, V.shape, s.shape)\n",
    "print (s)\n",
    "#a = U.dot(eye())\n",
    "S = linalg.diagsvd(s, 150, 4)\n",
    "At = np.dot(U, np.dot(S, V))\n",
    "print (np.allclose(A, At))\n",
    "\n",
    "fig, axes = plt.subplots(1, 2, figsize=(15,5))\n",
    "\n",
    "# fig = plt.figure()\n",
    "ax1 = axes[0]\n",
    "colors = np.array(['blue','red','black'])\n",
    "labels = np.array(['setosa','versicolour','verginica'])\n",
    "ax1.scatter(U[:,0], U[:,1], color = colors[iris.target])\n",
    "ax1.set_xlabel(\"First singular vector\")\n",
    "ax1.set_ylabel(\"Second singular vector\")\n",
    "ax1.legend()\n",
    "\n",
    "ax2 = axes[1]\n",
    "colors = np.array(['blue','red','black'])\n",
    "labels = np.array(['setosa','versicolour','verginica'])\n",
    "ax2.scatter(A[:,0], A[:,1], color = colors[iris.target])\n",
    "ax2.set_xlabel(\"First feature vector\")\n",
    "ax2.set_ylabel(\"Second feature vector\")\n",
    "ax2.legend()\n",
    "\n",
    "\n"
   ]
  },
  {
   "cell_type": "code",
   "execution_count": 15,
   "metadata": {
    "collapsed": true
   },
   "outputs": [],
   "source": [
    "#np.allclose?"
   ]
  },
  {
   "cell_type": "markdown",
   "metadata": {},
   "source": [
    "###### scipy.signal and scipy.fftpack: Signal theory"
   ]
  },
  {
   "cell_type": "markdown",
   "metadata": {},
   "source": [
    "Signal processing is useful in order to interpret the data of many measuring instruments. We are performing a simple example, but for those that want to learn more applications of Python for signal processing I reccomend a number of online IPython courses.\n",
    "\n",
    "- [http://nbviewer.ipython.org/github/calebmadrigal/FourierTalkOSCON/tree/master/](http://nbviewer.ipython.org/github/calebmadrigal/FourierTalkOSCON/tree/master/): Basic entry level course focused only on FFT\n",
    "\n",
    "- [http://nbviewer.ipython.org/github/unpingco/Python-for-Signal-Processing/tree/master/](http://nbviewer.ipython.org/github/unpingco/Python-for-Signal-Processing/tree/master/): A more complex and complete course of signal processing with Python.\n",
    "\n",
    "A small example would be a noisy signal whose frequency is unknown to the observer, who only knows the sampling time step. The signal is supposed to come from a real function so the Fourier transform will be symmetric. The scipy.fftpack.fftfreq() function will generate the sampling frequencies and scipy.fftpack.fft() will compute the fast Fourier transform:"
   ]
  },
  {
   "cell_type": "code",
   "execution_count": 17,
   "metadata": {
    "collapsed": false
   },
   "outputs": [
    {
     "name": "stdout",
     "output_type": "stream",
     "text": [
      "91\n",
      "Determined frequency: 0.1998001998\n"
     ]
    },
    {
     "name": "stderr",
     "output_type": "stream",
     "text": [
      "/home/sergiun/programs/anaconda3/envs/py35/lib/python3.5/site-packages/numpy/core/numeric.py:474: ComplexWarning: Casting complex values to real discards the imaginary part\n",
      "  return array(a, dtype, copy=False, order=order)\n"
     ]
    },
    {
     "data": {
      "text/plain": [
       "<matplotlib.text.Text at 0x7fc9bbc96240>"
      ]
     },
     "execution_count": 17,
     "metadata": {},
     "output_type": "execute_result"
    },
    {
     "data": {
      "image/png": "iVBORw0KGgoAAAANSUhEUgAAAYQAAAEKCAYAAAASByJ7AAAABHNCSVQICAgIfAhkiAAAAAlwSFlz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\njhBOITgcDocDAPB/bgeBu88DJkAAAAAASUVORK5CYII=\n",
      "text/plain": [
       "<matplotlib.figure.Figure at 0x7fc9bbcd84e0>"
      ]
     },
     "metadata": {},
     "output_type": "display_data"
    }
   ],
   "source": [
    "%matplotlib inline\n",
    "import numpy as np\n",
    "from scipy import fftpack\n",
    "import matplotlib.pyplot as plt\n",
    "\n",
    "time_step = 0.22\n",
    "period = 5.\n",
    "time_vec = np.arange(0, 20, time_step)\n",
    "sig = np.sin(2 * np.pi / period * time_vec) + 0.5 * np.random.randn(time_vec.size)\n",
    "\n",
    "from scipy import fftpack\n",
    "\n",
    "#print(sig.size)\n",
    "sample_freq = fftpack.fftfreq(sig.size, d=time_step)\n",
    "sig_fft = fftpack.fft(sig)\n",
    "pidxs = np.where(sample_freq > 0)\n",
    "freqs, power = sample_freq[pidxs], np.abs(sig_fft)[pidxs]\n",
    "freq = freqs[power.argmax()]\n",
    "print(\"Determined frequency:\",freq)\n",
    "\n",
    "sig_fft[np.abs(sample_freq) > freq] = 0\n",
    "main_sig = fftpack.ifft(sig_fft)#Discrete inverse Fourier transform\n",
    "\n",
    "fig = plt.figure()\n",
    "\n",
    "ax1 = fig.add_subplot(311)\n",
    "ax1.plot(time_vec,sig)\n",
    "ax1.set_title('Signal')\n",
    "\n",
    "ax2 = fig.add_subplot(312)\n",
    "ax2.plot(freqs, power)\n",
    "ax2.set_xlabel('Frequency [Hz]')\n",
    "ax2.set_ylabel('power')\n",
    "ax2.set_title('Peak frequency')\n",
    "\n",
    "ax3 = fig.add_subplot(313)\n",
    "ax3.plot(time_vec,main_sig)\n",
    "ax1.set_title('Cleaned signal')"
   ]
  },
  {
   "cell_type": "markdown",
   "metadata": {},
   "source": [
    "###### scipy.optimize: Local and global optimization, fitting and root finding"
   ]
  },
  {
   "cell_type": "markdown",
   "metadata": {},
   "source": [
    "In the statistics chapter we already used this package for line fitting. We estimated the parameters of a function by performing an error minimization. An optimization problem complexity is dependent on several factors:\n",
    "- Do you intend a local or a global optimization?\n",
    "- Is the function linear or nonlinear?\n",
    "- Is the function convex or not?\n",
    "- Can a gradient be computed?\n",
    "- Can the Hessian matrix be computed?\n",
    "- Do we perform optimization under constraints?\n",
    "Scipy does not cover all solvers efficiently but there are several Python packages specialized for certain classes of optimization problems. In general though heavy optimization is solved with dedicated programs, many of whom have language bindings for Python.\n",
    "\n",
    "To exemplify, we use Newton's optimization to find the minima of a nonlinear function."
   ]
  },
  {
   "cell_type": "code",
   "execution_count": 35,
   "metadata": {
    "collapsed": false
   },
   "outputs": [
    {
     "name": "stdout",
     "output_type": "stream",
     "text": [
      "Optimization terminated successfully.\n",
      "         Current function value: 0.000000\n",
      "         Iterations: 9\n",
      "         Function evaluations: 11\n",
      "         Gradient evaluations: 51\n",
      "         Hessian evaluations: 0\n",
      "[ 1.  1.]\n",
      "Optimization terminated successfully.\n",
      "         Current function value: 0.000000\n",
      "         Iterations: 9\n",
      "         Function evaluations: 11\n",
      "         Gradient evaluations: 19\n",
      "         Hessian evaluations: 9\n",
      "[ 1.  1.]\n"
     ]
    },
    {
     "data": {
      "image/png": "iVBORw0KGgoAAAANSUhEUgAAAVUAAADtCAYAAAAP4uaCAAAABHNCSVQICAgIfAhkiAAAAAlwSFlz\nAAALEgAACxIB0t1+/AAAIABJREFUeJzsvXmYJHWV7v+JiFyqKmtputlEGu0BERBFQDabbmhk68GV\nZe7MDwQRQWAEcUMFxhlQYcRxg5FlUGnXqxdFdoYGRmkEWQShrw7eAYHupnqhl1pyz9h+f0R+I78R\nGblHZlVWx/s89VRlVmQsubx5vue85z0QIUKECBEiRIgQIUKECBEiRIgQIUKECBEiRIgQIUKECBEi\nRIgQIUKECBHKUOr907Ztu1cnEiFChP6Goih1+WR7gTrTJxAhQoQIcwkRqUaIECFCiIhINUKECBFC\nRESqESJEiBAiIlKNECFChBARkWqECBEihIiIVCNEiBAhRESkGiFChAghIiLVCBEiRAgREalGiBAh\nQoiISDVChAgRQkREqhEiRIgQIiJSnYOwbRvDMIj8cCJE6D1iM30CEcKDbduYpkmpVKJYLKIoCrZt\nk0gkSCQSqKqKqqpEZkIRInQPEanOEViWha7rTE5OkkqlUBQFVVXJZrMAlEoll0w1TSMej6NpGpqm\noShKRLQRIoSEiFT7HGKpbxgG4JBrNpvFsiyXKE3TJBaLoaqqu02hUHD3oSgKsVgMTdPc7cS2ESJE\naA2RSXWfQiz1Re7Utm0KhQLFYpHBwUF36Z/P59E0Ddu2sSwLVVXRNM39LYhX/F/cVlXVJVo5oo0Q\noRYik2oHUaTahxBLfcuyAGdpn8/nSSQSbtQpCFRRFJLJJKqqusRpmqabe7Vtu4pkxWejVCp5jiu2\nicVibkQbfY4iRPAiItU+gn+pb5omuVwORVEYGRkhFouh63rNxyuK4kadApZluUSr6zqmabr5WJls\nxfEzmYxLrBDlZyNE8CMi1T6Af6kPkM/nKZVKDA0NuRFqOxD5U0GSIpVgmiaWZVEqldyoV0S7gnTB\nm5+1bTswmo3ysxG2J0SkOsvhX+rruk4ulyORSDA2NlZFWJ1GiuLx8n5F2kCOaEulUlU0Kx4jtpHz\ns4Joo/xshLmOiFRnKWzbRtd1stksAwMDWJZFLpfDtm2Gh4eJx+N1HysgCladQE4bGIbhLvcFyRqG\n0TA/q+u6JzUhomNBtFF+NsJcQUSqswwiKhTRqVhai6p+MpmcFeQTRn5WFNgsy3KJOsrPRuh3RKQ6\niyCiU0FGpmkCDlkFLfVnG1rNzwqCFfcF6Wf9aYPZ/hxEiBCR6iyAv6pv2zbZbNYl1eHh4bb2OdNR\nXjP5WdM0PXpav37Wn58VkrEoPxthtiIi1RmGiOBE3rNYLFIoFBgYGCCVSjE5OdkSQcrkMxshpw3i\n8bibj00kEliWFeVnI/Q9IlKdIQQt9bPZLJqmMTo66slVtrPvfoKIPmXUys8GqQ1EflY0K5imiaZp\nJJNJj6wrItoIvUBEqj2GyDGKSMu2bXK5HIZhMDQ0RDwejz78NM7PFovFqvys+FvXdU/kD8H52agQ\nFqEbiEi1h6jVXppMJhkbGwv8gAtJVCcf/tkcuTZ7bc3kZ0XaQN7Wn58VeWuxzyg/GyFsRKTaA4hC\nVCaTcT/I/vbSsOAnhblMEv78LOAWvRRFqZmflVMrYhu/kUyUn43QLiJS7SKCnKR0XadQKHTcXtro\nuNsr5AhVEK0/P1soFJrKz4qoN6jtNiLaCLUQkWqXENReWiwW0TStJc1pGB1R2zvazc/KOtpMJgPg\nEnVQ2iAi2ggQkWroCDKNFu2lyWQSIBKwzzDq5Wf9toiCXMXfsr9BlJ+NEISIVENCkJOUbBqdTCYp\nFouuoL9biD7I7SGo7VaOZuX0gdzdVSs/K/K4UX52+0NEqiHAv9Q3DINcLkcsFuu4vTRa/reOsLrJ\nZP2sZVkumTabnwU8+lnAU1iL8rNzExGpdoCgpX4+n8c0TVKpVJWTVK8Icja0qM5VdKKfBVxCFvpZ\n0zRJJpORkcwcQkSqbUCQqfAUBW976fDw8Kz5UESRbnfRTn5W/BbbRIMY5xYiUm0RYqlfLBbdfGmz\n7aXtEFxEirMDrfov1MvPyvpZcNJFcqOC/KUdDWLsP0Sk2iSCnKREv77QnM4GRB+02anT9fsbiPeT\naKltNj8rQ5BrVAibXYhItQFk02jxYRXtpUDN9tIgRDnVanTrXGf79Yu0gZh2C978rFCSNJufFdcb\nGX3PPKJETR2ICEJ2P0qn0+7AvV5EBp0Q8WyM2PoV3SB//z5FbjYejzMwMMDQ0BCpVModMW6aJoVC\ngWw2Sz6fd7/oBdEKo+90Os3k5CTT09N86UtfYtOmTaGed4T6iCLVANRyktJ13V3qW5bVFml1m+hE\nm6WwyhP3RfKd/kSj/Kws5fM3Kmiaxh//+MeoyNVjRM+2D8I0WhBqqVRienoaRVGYN29eRzOiuklo\ntm1TLBbdqDqVSjE4OOges1gsks1myeVyFAoF98MYRbP9B5GfTSQSDA4OMjQ0xODgIPF43E1XFYtF\nFi9ezPj4OD/84Q/5/e9/z6pVq1i2bBkAL730EkceeSRLly7lwgsvdN8Ht9xyC4cccghHHHEE9957\nL+CMQz/llFNYunQpJ510Elu2bJmxa+8HRKRahojwisWi+8YUS/2RkRFSqVTVUq0XhNTMcUzTJJPJ\nUCgUSCQSrlGLnIsLWkrm83l3KVkqlTzdYP2MblxDL5b/7UK81rFYjGQy6Rp033zzzQwMDPDSSy9x\n6qmnctZZZ7n62E9/+tNcffXVrFq1Ctu2ufPOO9m4cSPXX389jz/+OA888ABf/OIXKZVK3HjjjRxw\nwAGsWrWKM888k6985Ssdn/NcxnZPqoJM5ZlQuVyOdDrNwMBAqNZ8YROxsLmbnp4mFosxOjqKqqpu\nwUMcUz6+pmkkEgl3XIswxpafBzmaFTOk+g3bc5pDtMjuv//+aJrGjTfeyPXXX8+DDz7ovpbPPvss\nS5cuBWD58uU89NBDPP300yxevJh4PM7o6Ch77bUXq1ev5rHHHuPEE08E4MQTT+Shhx6asWvrB2zX\nOVWRkxIEkkgkyOVyJBKJhu2lM60fNQyDbDaLoigdjV8J6hAKEq6LyrNM2BE6Q7eUD+L1kV+rk08+\nmVdffbVqG4CRkRGmpqaYnp5mbGws8P7R0VHPfRFqY7skVVlzKoutLctieHi4qr200b66KanyP0ZE\np8ViMdCTtVOyDyqMyIYiIl9XKpU8xiJzvQjWb18k/veEH3LAMD09zbx58xgdHSWdTrv3p9PpqvvF\nfRFqY7ta/gvyLBaLrog/n8+7TvGjo6NNE+pMEIiu60xNTWFZFmNjYw2LZmERQVC+bmBgAE3TPDKf\nXC7nPreiIj2XMFtzqvX2W2v/Bx54II888ggA999/P0uXLuXQQw/l0UcfpVgsMjU1xQsvvMD+++/P\n4sWLue+++zzbRqiN7SZSleUnYtSGcJJKpVIeAXWzaHV+VLtRpG3bZDIZdzhgM91b3UxP1BpjIlIG\n9aaf9uLLqJ+aH7qJUqkUaOoD8I1vfINzzz2XUqnEfvvtx6mnnoqiKFx88cUsWbIEy7K4+uqrSSaT\nXHDBBZx11lksWbKEZDLJz372s5m4nL5B3Xee3W9rngA04yQl8pNyPqkZTExMtGTtZ9s2ExMTzJ8/\nv+ntM5kMuq6TTCYZGhpqSBb5fB7btonFYm7xSVGU0Npo8/k88Xi8YfHO3x0kUgjynChVVV3Fgegq\nCgOZTKZKrdEJbNsmm82Guk9o/rlsFeL6t23bxkUXXcTdd98d6v5rQYm+yYA5HKkGmUaH7STVSeTZ\n6Nimabqjq5PJJKlUqqX9zzRk9yZ/NCtWDUJtIbad7f3rs/W8ZMivfSaTYWRkZAbPZvvEnCRV/1Jf\nGJ/UcpLqpea0EWzbplAouOTfqu2b/xgzrVKQEWQqInTB4m85mpWdm/qB0GYTFEVxI9YIvcWcIlV/\ni6ZoLxW5yHg8HvjhbJd4wiasIJmUWM7PRcjRrEhPyJIuYX8HBBJtv6Pbud9MJsPw8HDX9h8hGHOC\nVGUnqenpaQYHB93caTKZbMlJqtsIKm41kkl1gg0TevkvgzftMvujFr+ky++sXyqVqpyb5Gi2X7qp\nugX5XLPZbLT8nwH0Pan6l/rgdESpqtp0N9RMRqq6rpPNZkOZZyUwMTmJaTvXrSkapt1eY8BsQCvO\n+n7/0dmObre+9mOkOoxqZ+iKHG8CaK5C3CH6llSDTKNFVb/ZSnnQPntl5SdGVzeSSSmK0lDz+fra\nvwJgKuWXU/W+rJpiYtoaazZl+yJabYRGDQrgRGlBPqT9EnGGgX4k1QwW9w6+NfT9npT/fzuEvtMa\n6EtSFctAESXquu62l4qRwK18eDpxnWo1UhV5X2F+0k5qYvLlP7l/m2ocDTCriNTAtGNomJj0b6Ta\nLGQC1XWdVCrlIVp/NNvKSJJeiPS7sc9sNsvOO+8c6v57AW2wC+/XfPi7rIW+IlVhGi0KUSLas23b\nXepnMpm29t2qkL8dCHOSYrHYslFL/r8fw9IcaZKqOVGt5SdS28BUYmiWEUCycytabYRmGhTk8SVz\nMZrNZDIsWrRopk+jZWiD/ZPCCUJfkKrfNBpwCzuDg4Oeds1e5kebfYwsk1IUhVQqVZdQjWccH0tb\ni6PEEsQAS42jmrpLrAKapTvRaiCRbl/RKtSP/oSky28eI6JZkZv3Nyh06zy7td9+L1TFR3ryXlWB\n7wF7AxZwLmACK8q3/wT8I2CX/3ceYABfAe6tt+NZT6p+d3O5vTSosNNLXWYzx/LLpDKZTNWH3nrs\n/7h/27EkSISrGiWsmDffqpklTC2BahktRavr0gtYOLKVR14c5Ki39HA9NEtRL5oNalAQJjJhRrPd\njIr7lVS1RE8i1eOBFHAkcCxwNQ4fXgasAm4EPgA8AVwEHAwMAr8DHgRK1bt0MGtJNchJKpfLedpL\ngzBbNKe1ZFKKoqA9dCs2OOQZT6IAtkSkimF4bgOolt5WtLoutzMLh17ntcyOALw6vWMo1zZXEdSg\noOu6+8UuD+ObjQ0K/V79B1DjPYlU88AYTqv+GA5JHoZDqAD34xCvCTwG6OWfl4B3AH+oteNZR6oi\nUshkMm6Lo9xhFEZ7ab1jt4JaRCzLpEYf+A9n3/E4NjAST0BC6nPXiw6xBhCpYurYWrxutBqE8dJu\nvDGxntfyuwKwJrNL5XGKjWkrbUer3SiszGYZlJBzqarKwMAA4I1mgxoUmolmu+2lCv3bphof6Amp\nPgYMAH8BFgDvA2T7rTQO2Y4CUwH318SsI1XAjQbEyI9a7aVBaEaCVOtxnaL43c8DoCYTpAAlkcAu\n//agVHSI1TA8S30AxShix4JJVkSr3vucFMA4e/BG1rJW3wOANcXdK9uoNpalEFMtDGv2EthshZ8A\ng6JZmWhnut2233OqYUSqf5iY4pnJumbal+IQ6+XA7sBvAPnDNQpMAtOA/CSO4Ghea2LWkaqI/gSx\nplKplhyWerX8n7rq4wBoyQSZ8m8ANR78lNq6jlLLq7UcrQaeVzlalSFSABsSi3hD6RXWqnsCsMZ6\nM6piYdkqMcXCsNVAIu00Wp3NmInup0YNCiKaFZKudqc0NAM58s9ms325/NfinX/xH7bzDhy2c0Wa\nesua1/ybpHAIExySjAF/BI4CHgGWAw8DTwFfBZI4ke2+OEWsmph1pAq4hZ14PN6yZV0nudGgx639\n6IeIDzqkFhtwzkVLOre1geBzs4ol1GQCu1SqilJtvYQST1SiVfncy9GpiFZliBTAxtG9Me1Kl9S6\n+F5Odd/WXAIVxOp5vC9aHd8Sw7KAtzT55ERoCY0aFIS8TnT/+dttw4Bpml0l8G5BS/SElr4O3Ao8\nihOhfhF4BrgFSAD/DfwSp/p/XXk7FaeQVbNIBbOUVEdHR8nn8263VKtoh1TXnPYBAJdAK0QaR8/r\nxAfjGIWSS6wCZrGElky4vwPPJ4BcXQSkAAQEyb6+436YxDyyKKE7jSkmRo021KBodc2WJOWCNgA/\neWyEMxanAx8fwUFY0a88D0xEr8lksma7bSsNCrXOdTYUz1pFGJFqE5gEPhRw/9EB932v/NMUZiWp\ndvJtXe9xDw2/w/07MT9OYr5z+fGUQ6DJkYRLoOJ3EMyi7karfli6gRqPudGqDJECcKNVGQEFq827\nHVBpPQVXbyoIVYZLsgHR6tqtQxgSkWoamCaoKlhWRKwzhUbRbCcNCv2s0FBj/Rddy5jVpNrt3Ghp\nm+ESay0YBZ3YQA1yLZTQBjqIUsspgMybDmB4zfNM7HGgs19JFiV0p0GoF62umRhBrtfFNDBM0FQw\nrQqxRpgZ1HqP1ppuW6/dVvbcnQuRqhrr72LqrCRV6K3eVM/qxFNxiukSyZFgAqyXAhAQ5CqiVRmC\nXOWCVX7vd7myqOlF73J1poHdURiYxBpGqy9PVJLzIhLVVBvTCv5wqSqMbyjx9duTfO7kYp1nqT/Q\n7X76MNHMPptpt5XngQlviWb3PxsRS85aWmoKs/YroRukemxmtft3aZseuA04BCr/DoJZdP5nFmrn\nrK1i9f/Mtx1KaZ9DKO55AODoTWtBs5xjaHbt3PJ4ZgfWTM9nPD3Gmsl5aErt50ysqjQV1m802LTZ\nYP1G3f3wff32JIVCwRW69/MSci5DSLqSySSDg4OkUikGBwddUn3yySdZtGgRr7zyCp/97Gf55S9/\n6dYnDjroIJYtW8ayZcs455xzeOmllzjyyCNZunQpF154ofua33LLLRxyyCEcccQR3Htv3a7M0KHG\ntNB/eolZ+ZXQTcNhP0QKQESrQRApgPp51uAUgPrOwwCwNEf8DwS2lwoNajPR6nhuR8wGetOYZmOY\nSlW0unGz6dzWFEzTdn+L5/v6+8a46G+nqiRA/eZVOtsRZvQrS7qKxSJHHXUUjz/+OJ/85CeZP38+\nt912GyeffDKFQgGA3/zmN+5j3//+93P11VezdOlSLrjgAu68804OP/xwrr/+ep555hny+TxHHnkk\nxx13XGjDIxshyql2CTPVbipSAPUIVKQA/AWr1GEOgRJz7rNiCTB097YfQm9arztKtKCuL+6KYamY\ndvUHMabaGJbiEqnQoYrbG7eCYdhQpnWXaH3Eum1rHtO0+dKKONeeP+DJ5QlBO1QIodX5Wf2K2d71\nVQu77747l112mXv7+eefJ5fLccIJJ2AYBl/96ld59tlnWbrUaSRavnw5K1euRNM0Fi9eTDweJx6P\ns9dee7F69Wre9a539eS8a2m9Q8ZZwEfKfw8CB+D4AHyHuWqo0gmpQu1I4NjMalcFUNqmk5hfQ5Bf\nRiWXWl2w2nHpYRXCTCRAL4G/ql+GIFDFKGHHamzji1Y32Ls7RGrIUiqHMDXVwrRUNwIVxCpj/HUF\ns8nmsq1bcs7+ywR76U0m156vVRVNRLTjz+W1a53XT6NKwkS3cr8CQX3/qVSKz33uc5xzzjm8+OKL\nnHjiiZ7/j4yMMDU1xfT0tGdcu7i/V+hRpPrD8g/Av+NIpr7EXDVU8c9vavXN16o3ajMpgD2OPxSl\n/A2qJBrMqC9Hp0E9+wIiBSDIduPAInYtvALAa7FFniKUXy4liDUIMc1mzSbpseVqfyymYBiVqFRE\nq9u2FTBNC0VVsC3vl9j5V09z02Wj7m3XEKZcNJHbM/2V6Zka0re9krQMRVECSXXvvfdmr732AuAt\nb3kLCxYs4I9//KP7/+npaebNm8fo6CjpdEVil06n2WGHnhnn93r5/y5gP+ATwL8wFw1VBBpFnN3G\nXic5Sx01mUCtl0sSy/tSyYlW62zTKFp9Lem84bGriTQIcrT6yqaycbUliNR2ZVN+Yp3YVsKU9Faa\npnqIVdMUJrdmgWpilSHn8oIq0/KQvtno6NQsuhVVhp1S8DtU+fv+b731VlavXs13v/td1q9fTzqd\n5vjjj+eRRx7hqKOO4v777+c973kPhx56KJdffjnFYpFCocALL7zA/vvvH+q51kOPJVWXAVeW/5Zf\n5LllqCLQrTEncgoA4ICPHgSAGo8HFpusUgk1kcDWDZR4DLtUrB2tihRAnVyqwKaxvStdUjZ1u6P8\nJLt+YoDddiiwfiKBZUE8Brohy6gUD7Fu2VLClHIBmqpiWpaUV3WIdXoih1WOWBVVITOR4cOfz/Lj\nr72h7rUI1DKCrjVyWkS7EcJFUN//Oeecw9lnn+3mUG+99VYWLFjAueeeS6lUYr/99uPUU09FURQu\nvvhilixZgmVZXH311T0rUoHzOewUj726gcfWbGi02Twck+pHyrflZFnbhip1WcueoXe70NpNTk4y\nMjLScv/y1NRUXXd9y7KYuOyj7m2RKxUvpmuOkky4XVEiWvWnAFxhfyxeiVTj0n04Bautu73DFfGb\nasyddipIVSz3BamKbij3fktl3eQwu43leWWLMw5FcKQIOnXDe9ssk+P6DQ6RCVK1pbeOaVlMbM5i\nlV9qq7xNeqIylkZOC9xy5Q4ezWSr8KcMhNRHbsvsJGUgcr3Cpi8M5PN54vF4S+NvGqFQKHT0PAZB\nFBSHhob48Y9/TCwW47zzzgtt/42ghBPO21uuPDeE3Xix4z/fAtV8937gPcAny7fvAr6BQ7I34Riq\nrMLJoR6CY6jyBE5Rq79yqgJhKwAEWedyuab3JdpN/dFqIEQKoBytTr9hPwwtUSWNgupRJ416+ddN\nOlHHuomhSpW/vKwX0ak/Wt28xcC0bFRNwZKiUUWtEOvUhONSpSoKlm2Tm85j2U4qABxCVVSFQsbZ\n7szPbeCn39y96vyahT9lkM/n3UGNtVozW0kZdLsAFOY+u12oWrhwYaj77xXU3pnA7A38Vbr9Geaq\noYpAmI5TpmmSzWYrQwL/dQVbv/ARoKJDtXQdNR6v23bq7r+cAvC3oWbe/E4Aj++pqz31jToRxBoE\n0bs/Pj2CZStSm2m52l+DWLdsMzHNyrWLNICfWCe25dznSI2pTG/LSMd2omRBroVM3kOyp134EgB3\n3LJv3eeoWdRLGQQVwMIeadLsOfYDZC/VVKo/BzyqvXGpAvg33+0XmcuGKuJ3J7Iq8A7dGxgYYGBg\noOkPiBul+qJVPwpvcXKylhavVPXL8qiYWcKooUEVENHqhuwOvCE1wYbMPE91X1VsD7EGYcPrprvs\n9+tPBbFObMt7lvKKorhkKp5rNaZiGc6OirlClSJAL5ZQFBXbtvjguS9glAzu+eHb6z+RLaKR0Yjf\nBNrf/94P6MV46tHR4ALjbIfSh3aFMmYlqQp0uvz3D93z52YX1IlW68He5wDXONpuIN4XqBWtbijs\nyBsGtrgzpNalFzS8PhGtvr7N9kSlIloNwuQ2Z/leqfCrTG1No5YjUMuqdFUVcgX3cWJ7vdxyK24r\niopRnm773rP+L3Y5n3Dvjw5oeP7toJbRiL//XZCKaZpzatx0q+jX+VQQkWrX0GmrarFYxDRNz9C9\nViCnABIHOfIqW4tj1xD3Q0Xg32y0KmZIjed2cqv6fi2q225ajlY3bVM87lL+qFTulnp9k5M7FgUq\nsU1mOo9lWiiqil1mYVVVyExlPeenKCrFXPVkAEMaFa6oCpZ0Qied+bwnur3vJ++s+Xx1An80Kwpg\nIootFAqhaWbDjirv/1MKSHHCfuHaLfoj1b4l1RCLdzOBWUuq0F6kWiqV0HUdVVUDR1g3g+HDDnH+\nKFfv5TNQ9BJ2POGOORG/m41W19pvAsC0NNdE2u/KX0vkv2mbClTrT6vaTbcVnH5+KSoVxJqdLhem\nNNUlVoDsVBZVVbGsSpGqmCu4/7ctC0P3GrtYPu9Af6oA4G/PeM553tTKdXQjmpULYJqmkUgkZp1m\n9uG/DDVM44SFaPk/c5jVpArNV14tyyKXy2EYhlv0aIZQF/zrCuw7r6/cIbeblrWmgkibgT9a3Rjf\nwyOTEkTaLMa3xMrX13jbLZsr1n2uUYpErBNbnPypqipYlo2qqWQmfDnV8nNWyHmLUzKhKqqKqXsd\nvIII1f9/sb+Tzny+fMzK86CoCnffGq7AvFnNrN+bNEyS/d1LjrRL/nI0TFjy5k0oSriFJDlSTafT\n/RupRoYq3YGIIBpNRpVlUslkkrGxMXfpF/o5iei0RrQqY8PQXlV+pzI01awbrW6cjHvMpMWyPqYp\nGKY3Wt24qejbt1fYn57MO1IqKfLPpXMeorMtm1K+iGV7n2+jKMT6DhFb5RBLFKsakan73EmRqkym\n8v/ed/af3MhYHBPCVRkEpQxkzay/ACYaFFol2j+8GqvqhLNsBcOE5ftnyWRqPDAk5PP5vq3+07tI\n9Ys4o6njOP3/jwErmKuGKtBYxlIlkypHJM2Qsec4H7ioEq36tKbNdEYJbB7d09Mh5dee+iedCmLd\nND3ALqMFNkwNeMyk/S79rmxqq8GOC2Jsm9C9+dSybEpgcmtFjytSAPlMdREKoFRwiFmWUxk+P1jL\naLzcD4JMqIBb1ArSI4ocr0yuHzz3Bc82YZJsvTZboZkFJ0ffSDP77NpgMjBtBcN0tl++f7ZrHWT+\n1td+UkPIUJr8vHWIo4EjgHfjTFa9FDiZuWqoIlBPxF9PJtUNL1Z/dDqx496YZS1q0BypVjE+MdjS\n9lu2OsvxqkKVprB1s1NwquRNFdKT3iKUpmlOrrFQiXIF+ZXyzn0iGjVK3lyqIMUgE5Yg2FLbq3ss\nRQ2+XyICy7dvEbl2i2Sd8/KmDERaSVXVmprZv2x0ziumKBi2imUpGJbqWjUapsKrG1TOWZapOlaY\nEBF1v7f+9iinejzwf4E7cFpSPwecw1w3VAkix0YyKYGO3lS+aDX7xn1JjTsf5Mnd3h7YIeWHiFJr\nRasb08Meq76KmF+I+70zpfyifs+xyoQ6NVnAMi13qQ4OsU5vy1Scu8rElJt2olhBnG5xKlvw7Ns0\nTE+KwJbSA+1Gqv7lvzcNUR2pCgSRrGXZvP+c//bc/6ubwpu7LYhP7n23LIuXX9cBu9wKrGBaWiCh\nvrJBwzSpItReoG/lZL0h1Z2AhcB7gb8B7mZ7MVQR5ChmpJdKpYYyqXbeTJ4UQADSCysC94o7v2Mg\n7WpPa8zgRkXvAAAgAElEQVSR2pibx65Dk2zKjnqJtOyBWsmXeol164SFbkjdUTXc+rdtrcieRHSa\nSxfc6rwgH0VRyKXLZCpFmbJ0SpCb7l/6N1HpbxZupKvUXp7alhVIrPL9Zo0S+snn/T/3/MJsTFi7\nySFGJ1def2m9dnOckm5jmvCRpVPYdqUA1i3nNXm/fUuo0HS6rR5W/elFVv35pXqbbAFewMmT/g9Q\nAN4o/b9tQ5W+IFVRiIrFYk3JpDp2/9+r3GoqFZ+CRqA0g/GsI+Yfz7TmR7lpizcn7Hfrn5oqelyn\nAI9lH1RylpZpoqoKuXTefe6EdKpUKJYjRa90Sr7dKaHKkahAULTq/s8XtVbvz/Ld9p6PbVvu/oXS\nANqTcm3a7Hx+pnJTaAqe4qOITuUo9a+vD2KaUNJtxtcX+cwH0xQKpidl0O1RQZZl9TephhCpLj1g\nH5YesI97+6v/5wH/Jr/DMVL5JrAbMIRjoHIUjqHK8vLtp4CvAkkcQ5V9cYpYNTFrSVW88UzTJJfL\nkUqlmnb0afdNmznmI8TXPld3m5hVwlATNaPVTcUd2SW5hU2F+Y7WtIZDv//26xMVUb9p4Rad4jHF\nE60CTE05OU/ZB3WqTKZuVCpFooVcmTilSKleLlVArvRDdbTaLPyE6pyDVTNS9ZNkVaFLysUGEar4\n7c/ZCs2sQK3GhImNrwE4rzNglj8mpq05P6geQn15yzCm5aRrTBPWvlZEL1n80+kGzufQWwATzly5\nXC5UzayIVDOZDENDQ23vZ8bRm+X/vcBSHNJUgQuBV5nLhirFYpFMWXcyNjbW0pstrEjA1Zz6tKe1\nsL7odEitL+zU0nE2TwSL+v3EOjVZMZeWfVAnt2bdZT9UiDWfraQFPJV+H3nKsinAI50SqEeocuQY\nvGSvjlShuTSAeHwQ6p+THfi3fL7L/79n3ft++XVHKG+qMYdIhU0jMUy0QHnc2okRirrqEur4Bp1S\nyeILp1V/5uQCmGmaFAoFkslkVzSz/dxNBYDaM0nV5wPuOzrgvv43VAHnzTU8PEw6ne7ZUkZRFJS9\nDsV+6am628nR6mvKm8Gk3AElilPlFlPRGRUQra7dXPZaraH8EsTqyKaqzaXBIdaJzVnXtk/VHHLK\nTPjaTcuEKkenQjolDFIE/LlUudIPfrLynnwQocqPrQXbp40NIll/ZOt/jGfbGucot+UC3HlN+TVQ\nY1BecYBXzSFDRKl/3TYfywLDdGaArdtgoJcsPndyMfBx1ddit62ZrfdZkCPVvibV3kiquoZZS6pi\nBhK0ntgP04fVH62+nljoMZTW8M+PCibWTVMJdhkrsWkq3pRTPzhu/SAv8x0fVEGsUxN511VKVSqy\nKUGigjjzWW9xqtZy39D1mpV+cV/l7/rRadDjGpGru30Nwgy6v15+tzr3anHflZUvDcuwMctjbUzV\n+0E21IQnSn15aidMS8GwFJdQXx23MC2bS95b7Y/QCP73c7Oa2Vo+s42G/vUVojbV7qFb41QaYeBt\nSyj8+VHPfZuG96zbIVUP6ycGyr/LUwRqmEpvm6jIpmQPVKgQ6/RUoapApcZU0hNZN1IV2tR82Vha\nyKbAITZXh9pGpT+oeFRPBhUm/OTc6LwEVl76OraYwmAmsLW4x+9WwFRjmErMQ6ivTO+CYSkeQl27\nAUq6xfrxDNec271rbsVnVi7eptPpqvlU/QS7d8v/rmBWkypUCLIX7kIyGb8+Vq11rKU9rZ526tze\nND0QaCgdhG2TDpH5PVBlYp32F6gUhex0Htuq1qbm0jmve7+iust/QX4VO7/mKv31iKsZdFKAqref\noPN66OJXXCK1KQ9F9A1bNGMJLDWGqcY92uN1hTdgWE41X8CwFNZudF6L18ZzfPkjNo1kVTXPv833\ncy2fWUGyAP/2b//GXXfdxdjYGLfffjuLFy9ml112CdyfZVlceOGFrF69mmQyyfe+9z323HPPtq4p\nTPhbvvsNs5ZUOzGq7rSCCrDH7ruy9rWNLT9+Q9q77Grk1L9t0qzKq/qJ1YlOvYSTzxbdwpTIFYpC\nk186pZeqCydV0WmDSn8zhNpsjrWyffDr2sqSXuChc8sqFzcf5xCof2qtiFLNgGm2rxqLMGzVJVRH\nxK+wZpNGSYfx8Rz/8uHOvljChvCZFR1yF1xwAYlEgt///vd873vf4+677+bWW28NfOwdd9xBqVTi\n8ccf58knn+Qzn/kMd9xxR4+vIADR8r+76DQ/2m6k6j+mX9AvR6tr0/MBPL6n9bB1MthcWpApOLIp\nmVzE/4R1H+BZ7gvZlHwd/pypiAyNYsklYH8LqrO/1gnVj26kAuTzePDvHq30iCcSTgOhcBKLJ9wo\nFcCOxbFiiaoIyFJjrNHe4kijDM1DqK9uTmKaUCzZbNhY5PK/97pydXQdXXT9T6VSjI6OcvLJJ3PO\nOefUfcxjjz3GiSeeCMBhhx3GH/5Qs/Oyp+jh8v9ZKt1SLwPXMNcNVSDcolMzj7EsC13XyWazzJ83\nzLbJ6vbC1/Pz2Hlwkk25sbqG0v65Ulsn7arlf5C59ObN1S79QtRfsehzlvuiQ0psD7hO/f6Clbvc\nL9+WC1NQIVN/ztJfNW8GrUettav0Av+5/H53uq2IRF3EE1VVYzvmJVdwZoetTe2HYWtYtuoR7xuW\nyprNA5iWUyxcN+7oTT97chrHS6M/kMvl2HXXXRtuNz097fFc1TTNVRzMJKzeLP/FuN1l0n13MZcN\nVcKYU9Xq42zbRtd1dF13W2GHh4fdNICGyWu5nQFYn51fd1+CWLdOqRieQXxeY2mAqSmdsbG4q0OV\n/6eoCtPbch6jaUVRyE7lysdR3QF9smyqmUq/DDk6bSZn2Spa2YfY9q7DfoaWTEhO8AGetv6ZYfEA\nIi1HqetGy36tAW+LddsGKemOROq19TqG4ehNnVEt3Zsl1Y19Nlv9Hx0dJZ2uTB+YDYQK9EqnegBO\nF9UDODx4OXAQc9lQRSDMiar1IEtWRkdHPW8uWczfyKVfRKsgnPqDPVCDiBUqcqlsWs6ZViJWgMx0\nzjOgT1VUd66UXOk3dEOqzCvufc7tcv+8XntZGwaZtoO7DvtZ1X3ywEUlkfDaw9WJUtfvfCCA4xxm\nO1pTOUp9ZesopgWWpfDaBoOSbvH5U5rTm85WZDKZpqr/ixcv5u677+a0007jiSee4B3veEcPzq4x\nerT8zwJfB74PvAX4T9//566hShgTVevBsizy+Ty6rrsdLv5v68P30njiperuHT+xbpmOuWMyZP9T\nGROTBjvMizE1pVe5TqmawoTkgeqXSGWmhLNUZfIpQN43Qjqo0g/BxSlZUO+NVmeeUP1jwlX/2PAa\nUeq2N77DkUW5XVGa22Jq2BqvTu5Q7oJyItM14xamafOp97euN20HvZik2kyk+qEPfYgHH3yQxYsX\nA9QsaPUaltI5qf7uD8/xuz88X2+T/8GJOsEZTb0VOFD6/9w0VBHo1vJfGLXE43HGxsbQdd3ty64H\nEa3K2DTlREpuHrWGYz84XVJQ7ToFFZcpv0QqM5mtmnxaKNv0idlSQGClX0SjtYpT7fb09wJKPN5U\nlJp+8ztdaZQgVFm8b9oar04tKGtOHUId32RTLNlcfFIu4MgOuuUoNRtIVVEUbrzxxlDPIwyEkVN9\n92GH8G4xaw742n/8yL/J2TjL+H/EMVQZAVYylw1VBLrRACDPs5KNWuodyx+tbs4k3WW+aQVrUAWx\nbpv0eqHK5+ZOOE0Xq4g1n61U9FVN81j55TMFj0GKUfQu4+VKvwzZHxUcQg0S07dTnOoUrUap+b0O\nwtLiHq2pHKECvJbdqSzaF68VrNvk6E3XrcvylY9273pmCplMpm+H/kHPlv/fB26lkkM9GydanbuG\nKtD58j/ocf7otJWJAYfvpXHns5VvUb//qSBWeVrmlm0+Ub/PCxVgerro2UaWTcmEVyyU3L/bqfTL\n6KbIPyz4RxUriQT62w4DwNQSVYQqY21+N1dnKjSnr2xwzE/Wr8/zz2fMXHTei+V/P3dUhbH8bwIG\n8OGA+48OuG9uGKoItDpvqhZqRaet4gMH6R5i9WPblM38MYXJKcsh2JiCYXijUvF7erryheeMPPGO\njxYpgELG68YfZJAi7q90SUndQJI/KniLU92o9HcKOUpVEwmUAw/HhkqfvkSoMtaYb8bQVacIJRHq\nmtcdw+j1Gwpc8Q+N0zsyurX87yaKxSLJZHKmT6NttONbPJsw688+jEi1VCqRzWZJJBJ1bQTbOZYc\nrW7c6ty3bapMoiJylYg1k9ZdlykBTVOZ3pZz3aagQqzFXLEqCvVX+h0y1asIUR4rDdVdU0EGJTOx\n7Afv0j/5zoOx40lsrdzzTkUWZWq+VlM1zlr+BsMsC/clQl23JYFhwGvri3z+1OKsIcduRaqiwOof\nANhv6FGk2jXMalLtdPlvWRaZTAbDMBgeHm4YnTZ7LH+0um3aK5WSIe6bni4hOEweIT01UY5OJbcp\ngGzaW4lWVKVCptLSXyZOfzSqytGqVJySybTZ4X3dxEMX/D8cbTWVrqgyRDeUDEuLsy75FqcAJQn3\nLVvl1S2DWFY5dzpe4qK/ncI60CKbtdy+edkUeq6hnwf+CViRoUp30S6pChefZDLZssl1M/jAQTq3\nPFz5sNcymBaVfsC17pueKpTP0fJcnxpTK6L+8tJfyKoK2YKnnx/A9BBq7cKU/P9ui/zDgByluvdp\nccbH9qs4hfneEuOTQxR1x0VqfJMh2fFVO++XSqWmvUq7nf/sxj47nSAw04gi1S6jVVIVuVNd14nF\nYqRSqa4d69z3lAKJdWrKKE/ZRPqfysS2fNV9glgBstN5j2OUqPKLc4MyOUhkqvoMpmXdaaPilD9K\nlY/dKzhRahk1otQN8/f33G+IsSaWxprJEQxToagrrN9koutWWW9a7Vfqt9EzTdNtSy4UCh5zEtlO\nrx8ISibVfo9Wa5mE9wtm9dm3uvwXudNkMsng4GBTmtMgdBJJTE2Xq/2Sdd9kmUzdyr9c0c+XPHpU\n2XnKL+oXGlS5BVUW9NfqmpJzqfUc853jdJdQG3oAlKPU19/gDOkz1ZjTCUVFvL92ar5Hb7p2g01J\nN7nkvfnyCJ7GX6SCZN3jSl6l8ngTAUG4YRBsN0nPMIyaY9v7BT2OVHcGngHeg2OksoK5bqgCjd+E\nlmWRzWYxTZORkRFisZhr4NsK2vnAfOyYItf+yvs0ytZ9kxMFt73UNCt9/bl0paIvi/pLeefDLPr5\noZI79begBqFWcQqqC1NBudSwo1V5fzKhKqrCynP/u7JhPMG2PQ4CcOVRphrDtCsC/lendyzLoxxC\nHX9doViyufCEbPn62ierWuNN8vk8lmVRKBQ8E1E7mSEljhcm5FEq/SynArDa9KltA3HgZpyWVQVn\nsurcNVQRaDSTR+hOk8kkw8PDoRmxtPKmP/eYzdzyXxV/ADHtVESlgrw0TXVlU/7jAZQKlddJGKXo\nZVG/G50qqqdryt/DLwhazqXWKkTV+l8YhOqPSOXbYnR2+k2VkdGWTKRKzCXUtVnHeb/icaowvlmh\npMN576l2EINwCMs/3iQWi7mRrGVZFItFLMvyFL6aKX51e2meyWRaSnnNRpi9o6Wv45DnF8u3576h\nirz89xOdiE4ty3KjU/9je+FuJc7p0lMMrv1VzCVU8C73BZn6zVFM06KYl8i03M9fzDn7kVtQgwpT\nZrmqXyuX6smZ+pb/tcm2tWi13pJe1svK5/jLL0vu9ZKAX+TTxvO7YFrlxoUyoa7brKHrNucsCybT\nbkOkAAQaFb/828voVqTa95NU6Vmk+hFgM05r6hdxIlX5RZmbhipQ/earF53OFAQRf/5Uk8u+7/2f\npilMTxaqzFEc9/5C1X4EmdYqTAFVXVMCpuuHWq01bWbpX3Vd5f0Ej52unktVXfiqvC4iOrUtO5BQ\nATaYb3TlUaalYtoq67YmKZYcRcWZR1Zs6mYD6s2QciwDTU9aoVu5Tv/Qv75f/tudk+pTTz7O008+\nXm+Ts3HypccC7wR+CMiz5ee2oYocrdaLToMe0+6xWoVQHTgRqxMpZKZFtOk1RxFtqP4xKIWy0B8q\npCeMpEVhKsjOT/YEgMrSX2wj0gZ+fap8nJrPR82x0/7lveL+liNS/xyqWCKGXw+1Qdndozc1LZXX\nJgYp6mAYjln0F06r227dNbSSCgrKy/oH9QmUSqWO87JBx+/7SarQ9oBNGQcfuoSDD13i3r7x+m/6\nNzlK+vs3wPk46YC5bagiv9mKxSKFQoGBgQEGBgYavhF7TarpdNrt2Lr6HOfcLv5WJRUgCC+bLlRV\n+RuJ+sX//FV98LacWpbtiVAbEWa7ov96o6ZlQlVjIjq1iJUbL7795d2huIZNyTd5pFGCUF+bGMK0\nFIo6jG/Q+fQHCoHHCbyeWdZSGkSypmlSKBRcKVeYxS+YA+OpAbN3hSoZNvAZ5rqhCjhLWtu2KRaL\nDaNTGZ2YWzcL27bJ5XLYtk0qlarqt77uUyku/laWfNZLrh5Rf6bgLudrFaZM3cCyvdGpP5cqL/0h\nOB/qb0+VybG5dEDtD7sqLW21MplalkMYYpDbt7+8O0Agoa6dGC53Qim8Oi6L9+cO5OLXwIDTlGBZ\nlhvNiuJXM00JMuaSmQqEs/xvEfJIlaMD/j93DFUsy2J6ehpVVRkaGmqaUGV0MvyvHgzDIJPJEIvF\n3A9BEK77VIpzv+I1PhHEKfKr4JCaqZuewpQs1ld9hSi/YYqAd9ZTdXW/lk41aFx0LRKVo1H/YwWh\nAsTildfrW1e+sXK+ZUJdOzmGaSsYptMJtW6jzYUnZLxWwTOMbke/opjlb0oQeVnRlCCrDPzFL/kc\n0+k0O+ywQ9fOtxeYAVINFbOaVDVNY2xsjGw22/Jju+HDCrjaxWKxSCqVIpFIMDU1VXN7gFuucOZZ\nnfuVbd5KfzkN4Ean7lA/1VPBF6RV5dzvy6VagbpTpUoBULmW2tX9oKq9bVuBy3tAWuJaaJLHQjxZ\n7bewbnoHx3XfVtiwRaFYtPn4cVlnatAcR6Mv7HrFL8MwKBaLVcUveZ+5XI6FCxd29Rq6DcOKSLWr\nEMufXmlO68EwDLLZLKqqMjY25mljbOb8brliPmdevtG9LXSpMvH5i0wCelH35FLlUSi2bbmE2orL\nlD/i9JOmZ1tVQaF6iQ/O0l+cf0yy7YuXHfsv/sRerC9/L5qWE5mu3+rIo/7XIRv7PgfYKlpdOQU1\nJcjFL/Hee/jhh9myZQsHHXRQV867V+j3SLW/z74B2iHjoMeI6DSdTjMwMMDw8HDb1mo/+uqufO+f\nqyexig9J5Twc1ypDN8p+qAqKqmAZptslZduWG23KjlRBlfl6+VD5mEGPUWMaiqqiqCpaTHMJVYvH\n3ag0nkwQTyZQFZXEQJLEQJLB4UEu/sRelWsse5uu36px5pFpPnp0uBKpfjE/6QRyQ8LAwICby1cU\nhWeeeYY777yTU089leOOO46VK1e6j7Ntmze+8Y0sW7aMZcuWcfnllwPwxBNPcPjhh3PkkUdy1VVX\nudtfeeWVHHbYYSxevJinn366p9do2kroP73ErI9UobOiU6ekapqmm34YHR0NzJ220zDw758fYnR0\nV/7+M2t99n0Kpm5UxqjUyKX6c6VBS/+q4wbkTf33+9tK5cBVvnZ56R8vR6fit6IoJAYTfOzM3dxt\n1pa9TU9/9+zSmvYa3SJpTdO49NJLGR8f5+yzz2Zqaorddqs8/3/96185+OCDueuuuzyPu+CCC7j9\n9ttZtGgRJ510Es899xyWZbFq1SqefPJJ1q1bxymnnMJTTz0V+jnXghkt/7uLTj1V24VQHOTz+YYy\nrnbOT2z/82/sAcCpF78MVLqmggpRYmnvkmEdg5RmuqL8JCtHuP7lvft3rCLil/Ol8UQCRVUYGHIU\nEMtP2oONk87/Sgac9q6pvjZO7hdkMhl23313lixZ4rn/mWeeYXx8nGOOOYbBwUG+9a1vseuuu1Is\nFlm0aBEAJ5xwAg899BDJZJLjjz8egIULF2IYBlu3bmXBggU9uQazN8t/DUc+tTeObOp8oMj2YqjS\nS82pbG7dTJNBOwgi519e9zcAfOiC/3Hvq8ikyoUonzeqLOpXfQQp51hlBHVCyc0J/kjcX4wS0q7E\ngEOe8WS8TKaOROjE5btXzt+C9ZtMzj1mK/m85e6jm91FYUK8d8KMLHsxn+rOO+/k+9/3tvbdcMMN\nXHbZZZxyyik89thjnHHGGfz617/2DAgcGRnh5ZdfZmBgwEOgIyMjTE1N9YxUrd4s19+LQ55H4gj+\nry7fP/cNVaBCdO08rlVSFcl/kTtt5gMQpib21zfu7f79/vNeALxOU9BYUyqnAvzKADkClQtdqq8T\nSg2QRtmW7ZKpqqrEE06kOjA8wGAqyT77VXLF45tMPn7sVPk4cXfFEdRdpOu6W5CcTfnLfoGfVC+4\n4AIuueQSzzb5fN4NDhYvXsz69esZGRkhna6kY6anp5k3bx6JRMJzfzqdZt68eT24Egem1ZP3wJ3A\nPeW/34zTenosIRiqzPr1WKfL/2YfJ6JTXdeJx+MMDQ117QPezHnZts3//tYe/OjaN3jvD5JNKaqX\nEFXF/fHfJz/G/Z+moWoaiqqgJWJoiZhbqBKRaDyZIDk0gKZpDA4PkhxKMjQ6yNDoICPzhlxC3bjF\n4ri9N3DO0Vvda5RlQQCxWMxNqYDzRZbP58nlchQKBbdvvp2Uymwn5W6fo3j/+nHVVVfx7W9/G4Dn\nn3+ePfbYg9HRURKJBC+//DK2bbNy5UqWLl3K4sWLeeCBB7Btm7Vr12JZFvPnVxdXuwWj7EYW5k8N\nmDjL/e8AP2V7MVSB7ndH6bpONpslHo+3ZW4d9vkJ6ZamaYyMjPDrm99KoVBwbec+/OnxGudRLZEK\nul9GkNYUQJOE+yJ3mhhwClEDQ0k0TWVoJMm8+YPsMM/5/wXHO11QljXi6ip1XXct8uTuID/JxuNx\nj1xISIXCbOFsFf1A0lA96C/onL/whS9wxhlncN999xGLxVixYgUAN910E6effjqmaXLCCSdwyCGH\nALBkyRKOOOIILMvihhtu6Ml1CIQRqf7pmd/yp2ceaWbTjwC74PT4D0j3t22oUvfs7Vkwl8EwDAqF\nAvl83pP/aQaCmERE5IdoM9V13R1bXSqV3JbYZpHL5VAUhcHBwaa2tyyLqampqs4X27YpFAoUCgUG\nBweJxWLuB1t01yQSCVRVdUnr9EvW1TxO3bbSFsgUIFkm1KGRQYZHvc/nNefWz4/K4nXDMNxWTEG2\nglDd8y7LhizL8mgyG5GsIPFmX4dGsCyLfD4fqj+pEO8nEonGGzeJQqGApmnEYjGWL1/O7373uxn5\nMlDCOaj9qyfNxlu1iFMO08DLdx8GdgeuwSHQ54AXcXKrjwA34RiqrMLJoR6CQ7pP4LSp9H9ONezl\nv4hOY7EYo6OjHVWmw4hURfoBcAld7DOfz2OaJqlUqqrAc8ct+3gIK4hk/cUqrzSq8j9heiJypQDJ\ncjV/YMghAUGojYhUhmjFFOSZz+fdGWLii8Qfycqa3VgsRiKRqOoukiNgf2fRbIU/qgxrnzKf9UN0\nXQ9G+JwahF/iLP0fwZkA8EngL2wPhiqdvEHqCfnlNtNGj+kG5GPIs7UEeUAl1xiPx2sWzWTCgmqS\ntSyLsy6tdHEFEWpMbiutQ6jXf6aziE3YIyqKwsjIiGdOvThfwzAwTdNDsiJaFYjFYl6/WcmMBMKz\n1euX5f9cQ48KVXngfwXcf3TAfXPHUEUgLPF/rTbTeo9p9vxaUSfIhCDSD6JLSyaGUqnE4OBgYOGh\nFvwka1kWt/37kIdkRW+5pmkuIQ0MDBCPx7tGIrquk8/n3S8Of2QVj8fdcxYkK74cgkhWfo3E0lds\nKzTG7Yw76Ta6KakqlUqhphVmCubsmJTeNuY0qcrkJXKVQ0NDVR/qoMf0AlNTU276QVjAiUga6Kgd\nViCIZGUHJMBdOotcZ9i6TFHRb9ZpLIhk5ejbT7KAW8QT1+x3fQoadzIbSDYMiM9GOp3ue9s/cCbk\n9jNmPanKkqp2bPwsy3I1d7XaTP2PCcMvoBYEyQBudCjGboiiXFA0FxZENGwYBolEgkQi4d7O5XKe\nSFbYGrZ7HvJyv5MviCDnJj/JitdARNuCYEUOsx2S7ScvAUWZG67/AF2ekt51zHpShfaiR7GEFBGS\nMJ1o9rGtnl8zj5GLUVDuUCq/g+oVo8KCbduuukFOK4gKvDhHQVidkKxY7icSiZae+2Ygk6zwZhDE\nKV5z2XvUn54JIlm/d2m/FL5gbg39g2j53zO0YuMnJq2KZWItSVWt43QD/mJUOp12yUCcZzeHGAp5\nkG3bdaPGoHSBiAabIVmRzyyVSm0bizeLWnlaOZIVv+uRrF/iJA/uA0cGFVa6oJvFr3Q6PTdItTfV\n/65h1pOqeAM2Gw0Wi0V30moymXSX2q0cL8xI1badYYWGYXiKUalUimKx6EZV8iQB8RPWh09Ene1E\njaqqegjHT7JCOyoIVkR7YeSDa6ERcddKF8gpA5lk5QKhQCKRcAt7sk5YbC9rZWcS8vturkSqhtmT\nFUIc+AHwJpyhfl8BXmB7MVSBxmQn8neGYbgmKIZhdKQa6JTUZKKsVYwS0iI5uhJfDIKsxO9Wz0cm\nn1ZVBLVQi2R1XXc70VRVdXWoYRe+2snTyiSbTCabIlm/v60/kq3lwj9TJCuW/3OhUNWjSPV0YDNO\nE8AOwPPAH9leDFWgPqmKpbWYZtpqdOs/Tqfn5lcbiNyfMBQJyjXWK8b4SVYQbb1zDatI1My1izxs\nKpVyo+6gSLZTku0k4vafs59kxZeDLMsC3LSCX8bVLMn6TWLCXv7L+5szy//e5FRvwxH3gyPq14GD\nCMFQZdaTqv8NKcOv8/RHYp12YrXz5vebWosPLFSKUc3kGoNIVnzghQ9ALZKtpwkNE7XytM2mC5ol\n2dq72s8AACAASURBVFoFtrAgE2EsFnM77WTtK+CJRmV1gT8nK75khBNXr6LYbDbLLrvs0tVj9AKG\n0ZPlvxh8N4JDsFcA/yb9f+4bqvg/eM22mYbRNNDM+Ymldi6Xc6VS7lTUMvl0UoyqJZA3DIN8Pu8K\n3QGXuMMmHxnNRo2t5GRrFb56oYyAypfRwMCAe87+SFZEpYAnGvXnZMVrJVYnMsn6C19hdX3NlZyq\nGUJO9eU//5aX/7uhocpC4Hbgu8D/Bq6V/te2oUpfkCrgWYLVazP1PwbaG1PdCsSHLp/PV3VG6bru\ndiyF2e3iJ1lBcuAQWS6XC01vKqPTPG0tkjUMw+NMJXLIhUKBWCzWVWVEM4Uv//A9v0kM1CdZ8ToI\nnwOZZP2Fr1auU35vZzKZOZFTDUOn+uZ9j+bN+x7t3v6vX37Zv8kuwErgQuA35fv+iGNY/QiwHMdQ\n5SngqzjFrAFgX5wiVk30Famapsn09HTDNlP5Me0eq9lIVUTMQFc7o+qhVCpVNQ2EpTeV0awsqxUI\nkhVEK0i2VCq5y26x/O9G4UukkFq5Jplkg4xegkg2yL9AXLOIZHVdb+jEVQ9RpNoSLsNZxn+p/AOO\nqcp1zHVDFQHxhhXRabNvtHbzo41IVS5GDQ4OurldUTnulvDdfw61lsa19KZBEWEzZCXIWUzx7NY1\niS9PITsTha92z7seRApCmGZ38iUskyx4n29ZhSJSAjLJ2rbdNsn6l/9zIVI1jJ5Uqj5Z/vHj6ID7\n5p6hSjqdxrIsV3vaKsJWAPiLUZZlEY/H3YgHcKOvbpGPIIRm87S1IkJRtQY8RS/x4e12kUhGLcVC\nrfPuhGSD8qdhQjzf8XicfD6PYRgkk8kqA27x5Qd4VAey3aHfiauW3eFc6f3vUaTaNfQFqaZSKQqF\nQttzqtp5TC0irlWMEmJxuX0yk8m4VXxZIN8JZJLrhBBkkhUfXEFWstGKuL5upzBaLXzVI1n/8z1T\nHV9+q0P5POTCl/AhqOcpK5t5+0lWURRuueUWd9ZXv6PfSXXWz6gC3A9HJ/KoTiH69kUxSvY91XXd\nJdpUKkUymWRoaIiRkRGGhoZcMXw6nSadTrsmza2el/iQikkFYUVYiqK4ZCXOe2BgwM0N2rZNJpMh\nl8u5BBAWZNXE4OBgy8tw/3kPDw97PAHS6TS5XI5isehaP4rutm4SqvhSjcVigfPOxHkPDg4yMjLC\nyMiI+3qK7i1/84pIi4god2BgwC3orVu3jueee463vOUtLFmyhL/85S8A/PrXv+b000939/HEE09w\n+OGHc+SRR3LVVVe591955ZUcdthhLF68mKeffhqALVu2cPzxx7N06VL+/u//3q0RdBuGYYX+00v0\nRaQKvR9TLT9GnmHlL0YVCoWaRQ451yZ38oioqhVBf69ymnIkLGRZsqRIfODDiMDlnHC3C1+y1WEs\nFutaxxdUUgutpEuCVBH15nyJlYWIVL/0pS/xxBNP8Kc//YknnniC3XbbjU9+8pOsXLmSAw880N3v\nBRdcwO23386iRYs46aSTeO6557Asi1WrVvHkk0+ybt06TjnlFJ566imuuuoqzjjjDM4880y+9rWv\ncfPNN1dNae0GzD53VOkbUoX2NKedkKos32q2M6rRfmt1TdUS9AOht5rWgqiEW5blIbmgLweZrPL5\nvOv8JOdk66HVnHC7EKRpmqY79ysol1wrXdAK5NRCp5raWj64MskqisKWLVt45ZVXyGazjI+PMzQ0\nxPHHHw84o6g/9KEPcfPNNwPOCOpisciiRYsAOOGEE3jooYdIJpPuYxYuXIhhGGzZsoXHHnuMK664\nAoDly5dz2WWX9YRUrT5f/vcFqXYqkG4HlmW58i1/Z1Srpsu1UKtrShb0i+0EIXQLciW80XjuWhG4\nyA+KXvpa5jDdLhIJ1MqfNlOwa5Vk25FmtQKZZEUqStM01q9fz/nnn8/69esZGhpi4cKF7LjjjqxY\nsYK/+7u/47e//a27j+npac/wzJGREV5++WUGBgZYsGCB5/6pqSmmp6cZG3Oah4aHh5makhuLugdD\n75lN1WHAvwLLgL0IwUwF+oRUoXfLfzl6FJFhUGeUv/AQBmRBv8jTyiL4MOVEAmEUvoJ66YN8C0Th\nS+Q0u1lUaZbk2lVFyBBWk5qmNfxC6hQiDZRMJlFVlbvuuov3vve9XH311Tz11FNs3LiRs88+O/Cx\no6OjrmE7OCQ7b94814pSIJ1OM2/ePEZHR5menmannXZy7+sFelSouhQ4AxAGx98kBDMV6JNCFfSG\nVGUfVrkyDpViVDKZZHBwsOvaUzEaOZVKeYowYlKAXIRpt3gkjiWWq2EWvoT2c3h4mNHRURKJhMfJ\nKp/PBxZjwoAoEqmq6mpdm0WtwpcocsnPudCSZjIZt+jUTUIV78HBwUFKpRJnnHEGixYt4sYbb2TB\nggUsX768JqEC7uvw8ssvY9s2K1euZOnSpSxevJgHHngA27ZZu3Yttm2zYMECFi9ezH333QfA/fff\nz9KlS7t2bTJM0wr9JwAvASdTGVvtN1M5FmcstTBTmaZiplIXfRGpiuV/N0lVLkYlk0l0XUfXdRRF\noVgsYtt213vPGzlL1YuqRPHIH8nWQq9ymuJYhULBzT+L++rlkts9nzBTC+J9V096JlYPooutG4Uv\nf652w4YNnH322XzmM5/hQx/6UMNUjfz/m266idNPPx3TNDnhhBM45JBDAFiyZAlHHHEElmXx3e9+\nF4ArrriCs846i1tuuYWddtqJn/3sZ6FeVy1YvSlU3Q68WbotP4ltm6n4d1QFO+wQok1YlkWpVGJi\nYoL58+e39FjRDz80NBT4f7+XgKZpbnVeRFGCzLpVLYbgVtNWIBeP5LlN/rymbdtuJbwXOc1mGgdk\nohK52VZJtpf6U6H60HWdwcFBz/lD43RBq8eSu+aee+45PvWpT3HTTTdx8MEHh3VJoUAJ54Nhn/lP\nGzreycZXH2fjmsfd26tXfQOq+e7NOEYqRwDrcAxWwFn6H4vjDXAiTn4VHCL+CvBsvWP3RaQqox1z\nlFrfDfIyUS5GyR+EwcFBgMAcW1hi/jBcmBoVj3K5nHuutm33hHhEsa1R4cZvDhNUsJOJKmhAXzeL\nRP7rEl/Ucl49yANAlnC1Q7LyyiWVSnHPPffw7//+7/z6179m9913784FzgKEIanaaeHh7LTwcPd2\nmVTrIRQzFegTUhVLmHb6+IMcg0RUI7SEsVisYTFK/tDUkhK16s7fzSW4v3gkChxC6C8KK2Esuf2Q\nryuVSrW8Xz/JykQl8sfy810oFLqu34XGXgGNjFb8JCvOP+ic5WMlEgmuu+46nnrqKe6///450Ypa\nDz1a/guIiOszwC10aKYCfUKqAmEI+UUxyrIslzSDbPqE8YV/X7XE/K248/uX4EHHChMitSAv90U0\nKJte14sGOzlWp6hlDiMXvkSKqNuC/lauq12SFYQqBlZecskljI2N8atf/WpOtKE2gqEbvTrUq8C7\ny3+/SAhmKrCdkaqo1CaTSVKpVGBnVCtL8GbE/EGpgl6ZLtdLLdRbcvujwWaISs4zdvu6xBehf4RL\ntwT9codZp7rkZkjWtm0ef/xxdtttN/7lX/6FD3zgA1xwwQU912rPFKwet5WGjb4i1XYh8mByMaqT\nzqhaqCfmF51KgKtn7Gbur9XUQtCSO8ioJGjZWs84JGzUyp82qzWtt+QOOlbYbbQyZJL1u1n96le/\n4r777iOZTPKGN7yBZcuWse+++7Z8jGuuuYa7774bXdf5xCc+wVlnnRXqNXQDspFMP6IvSFV8ANqJ\nVMUHTFGUrnVG1TvveDxOLBZzl8UiQhHWgWEWvQQ6VRJAY/mWOHdVVSkWi64t40zmNIPOvZkld9Dz\n7pe39fKL4sknn+TFF1/k0UcfJZFI8Jvf/MYtmLaC3/72t/z+97/n8ccfJ5vNcu211zZ+0CxAj3Oq\noaMvSBVa16rKxSjR5ukvRnV7Pr18LNu23XHU4vzCLHqJfQpBfdhLcD9RCes5EQkK161me/9bRbv6\n01pLbr85jJwLF1963TYZB2831uDgILfddhs//OEPueeee9whfm9961vb2vfKlSt5+9vfzgc/+EGm\np6f5+te/Huapdw2Grs/0KXSEviFVaD5SlYtRQ0ND5HI5tx9dLAl7USCq5xEaVtFLQERx4oui2/k3\n0RAhF/tkfW+nXxACYetPg553/5cbVHKyrapNWoHojBNm1l/72td48cUXuf/++9uKTP3YvHkz69at\n45577uHll1/m/e9/v2sJOJsR5VR7iGZItVQqkc1m3WKUKBbJJtfJZLKjD3ojyETQrLNUO0Uvcf69\nGkkNtZfgYX5BCPRCfypIVvj1Cs8HUaAK8wtChmwPaJomH//4x/mbv/kbfvazn4V2nTvuuCP77rsv\nsViMvffem4GBAbZs2cKOO+4Yyv67hR7lVFXgBpy20yLwMeCvYey4b0i10fJffADl6rMoRsXjcQzD\nIB6Pu/dnMo6Pgsh5hrVkbdRq2iwaFb1Ee6QgsG6PpIbm5VLNfEE0Itmw5kc1A5m85RRNLQ/cTkjW\nryaYmJjg7LPP5qyzzuLMM88M9TqPPPJIvvOd7/DpT3+a9evXk81mPW5UsxVmb5b/H8TRpL4bx63q\nG+X7OkbfkCrUjlSF2YWqqoyMjDRVjJKXfSIi6VQM382I0V+dl0dSK4riThMIu+gFnedq631B+Dum\nYrGYq53tdhstNHaYqvcF4Y/Cxe9ar7v8PA4PD/M///M/nH/++Vx77bUcffTRoV/bSSedxKpVqzj0\n0EOxLIsbbrihL2RZptGTSHUx8J/lv58E3hXWjvuOVOXuqGY6o2oVo+rlNBstt/2QNZrdbv+EavIW\n1xtm0UugG1XwWh1TovnCH4V3y29BttFr9kuwFZKVv5xF8Us8j6tWreLKK6/kJz/5CXvvvXfo1ybw\nta99rWv77has3iz/R3GcpwRMnJRAxwndviFV//K/mc6oTj8s/uV2kAxHLhD1QqNZi7y7kdNsdhhf\npxCkWSqVUFWVgYEB90uiG34LUElldDpNodb7Ru5UEz6ymzdvZrfdduNHP/oRt99+O/fee29fLMd7\njUfvWNKN3aZ9t6cBud83FEKFPiJVGf5ilL8zSsyM70RSVE8ML2Q4onmgFxrNVnK1nRS9xPZhdRE1\ng1r5U78ESn7u5S+IVki2m7IzqH7fCA9UTdP49re/zc9//nPGxsa48MIL2bx5c9uk+vrrr3PwwQfz\n8MMPdzXSnQH0Kj/xGPA+4DbgcGB1WDvuO1IVHy5/MUqQTjwe74r7uqzTFKkFEYWISZ2d5GProdNc\nbbNFL7GNkBV1W8MLjfWncppGnHu78q1eCvqhEg0PDQ1RKpWYnJzks5/9LO985zv57W9/yx//+Ef2\n2Weflver6zof//jHSaVSXTjr7Qa/Bo7DIVeA2u7eLaIv/FTBKThNTU1h27bbGSVOr1gsut6W3a6A\ny+2fwuldjgTF0q+Vvvla6JVHaJBBiVBFhF30EvAbL7cbMQY990Gpjl6rCeRr27x5M2eddRYXXXQR\np512WsfHvuSSS/jbv/1brrnmGm6++eZZE6kq/VAF6wH6JlK1LItEIkGxWPREp2I52AsfzVqznPyR\noNwWWS8f2+h6w5BmNQM5PyxmyXej6CUQpv60mVSHqqru+6cXhCr7yP75z3/mE5/4BNdddx1HHHFE\nx/tfsWIFO+20E8cffzzXXHNNy23bEbqPvolURdEik8lg244bfy/zmaLVdHBwsOWoSs4JCh+CeiQl\nyKwXbZJyjnFoaKjq2pqNBJvFTESMxWLRVYa06r7VCsQXoSi2Pfjgg3z961/npz/9qTsWulMcddRR\nbj7/ueee461vfSt33nmn29I6k4giVQd9Q6pf/OIXWb16NYcffjgvvvgiZ511Fm9/+9vdSCTsjhcB\nEW2GZYLsb4uUSUqMcumVNEuOhpvNQ3eS6ujVaGpxnrLtoYiG5VWEGJcTxoRaueU0kUjwH//xHzz8\n8MP89Kc/7doU0mXLlkXL/1mIviFV27a5/fbbOe+889hnn32wLIt99tmHY445hqOPPppUKtW1fGY3\nc7V+H1PAtYILO5KS0Y5GMwjy+dciKSCU/GmzkCPGRhNO/asIaF2+JX9ZqKrK5z//eRRF4Tvf+U5X\nc/wRqc5O9A2pAtx8883sscceLF++HMuyWL16NStXruThhx8ml8txxBFHcNxxx3HQQQcBuB/ydvOZ\nQNd9T8V5Cj2oGEHdyYe8Hrpd/AoiKYFeRN+daGv9NoEiVVNvQq1ILwjjnnPOOYdjjz2WSy65pC+6\nl8JERKoO+opU6yGXy/Hoo4/ywAMP8OSTTzJv3jyOOeYYjjvuOHbffXd3CN5sy2fWi4b9Gs1mzr/R\n8USBqJdfFiLa7pY5iUBYgn4B//Mvn79I1Yj0wvj4OGeffTZf+MIXeN/73rfdESpEpCowZ0hVhm3b\nbNiwgQcffJCVK1fy4osv8ra3vY1ly5axbNkyT6pALLU1TXN1j73KZ4riV7ME10nRqJcFIgjOn4Zd\n9BIIS57VzHFkcxXbtvnKV75CoVDg0UcfZcWKFbz73e9uvKMA6LrORz/6UdasWUOxWOSKK67gfe97\nX8hX0F1EpOpgTpKqH41SBVNTU66JcSwW8+Qzu4Gw2j/9+cxale1uDOOrd07NElwY+t5eR9+iPToW\nc6ac3nzzzdxxxx3ous6f//xnrrvuOj760Y+2vN8VK1awevVqvvnNbzIxMcE73/lO1qxZ04Ur6B4i\nUnWwXZCqH3Kq4N5772XTpk187GMf48Mf/jALFy70jGAJW58ptK7dKH4F5TNFc0IvGiPaib5lNFP0\nkl8Dv2t+tz/TcnEvFovxne98h2effZYf//jHpFIpMpkMuq6zww47tLzvbDbr6na3bt3KoYceyl//\nGoq9Z88QkaqDvhH/h4mhoSFOOOEEXnvtNe6++25+/vOfs2nTJq699tqqVEE8Hq8yJYnH4y1X5WXC\n6ZaYX26lFct9cNQEnfqANkIY6YV6fgt+YxWg4zlcrUDO19q2zUUXXcSOO+7Ibbfd5kbjw8PDbe9f\ntJym02lOO+00vvrVr4Zy3hF6j+0yUhWYnp5GUZwJoALdUBWErXVthCCvgG7lM6F58+pO4O/5tyzL\nJeFufEnIx5XTGVNTU5x99tmceuqpnHfeeaEec926dZx88sn84z/+Ix/5yEdC22+vEEWqDrZrUm0G\ntVQFxx57LHvssYdLVEGpgm4v9/1oRS7VaKndTLGnVwUi+Xii+0vMcOrGl4R8PNFyOjQ0xCuvvMLH\nPvYxvvzlL3P88ceHcUkuNm3axNFHH80NN9zAsmXLQt13rxCRqoOIVFtAq6oC8fQFtX9249w6KdjU\nEsELZYR/f53mT1tFo+6vsE1t/Md7/PHHufzyy7n11lt529veFvbl8clPfpLbbrvNMzn1/vvvZ2Bg\nIPRjdQsRqTroC1I1TZNPf/rTPPPMM5RKJa666ipOPPHEmT4tN1XwwAMP8F//9V9uqmDvvffmhRde\n4LOf/aw7UC5MAb8fYculgvSZchQIkM/neybPauf6Wi16BR0vHo+TSCT4xS9+wU9+8hN+8YtfsPPO\nO4d9eXMGEak66AtSXbFiBU8//TTf/e53Wb9+Pb/4xS/41Kc+NdOnVYVsNsull17KihUrWLZsGbZt\nN50qaBe9ymeKc9d1Hcuy3KJYN1tpITy/gGbbUUX+W7h1XX311bz66qv84Ac/6KuocSYQkaqDvqj+\nr1y5kv3335/3vve92LbN9ddfP9OnFAhFUdi8eTPPP/88e+65p5sqaFZV0EousNsO9v7r0jQNXdex\nbZtUKuVGgu1aGzZC2NMHZGWE39RG2BuKri/Rqnr++eez995785Of/KSta7IsiwsvvJDVq1eTTCb5\n3ve+x5577tnRdUSY/Zh1ker3v/99vv3tb3vu22mnnVi0aBHf//73WbVqFf/0T//EI4880utT6wi1\nUgXHHnssBx98MNC8qqAdd6lOz71e/rRVa8NG8BeIepGvFY5Wr7/+Ou9+97uZP38+Bx54IJ/61KdY\nvHhxW0XG22+/nXvuuYcf/OAHPPnkk1xzzTXccccdXbiC2YEoUnUw60g1CP/wD//Aaaf9/+3de0hU\neRvA8e+YZJm4Fa/UdFFaDNugEiQUu2xtpdEbGEOKbrVMSkYUSpdd6EoUFW9tRhHlLr2kW9CV0i4G\nhpuF1PSSYEZl2j9lVNYfpXbT0eb94+w5TKY5zpxxzjjPBwTHP875Dchzfuf5Pb/nl4rFYgHAbDbz\n4sULH4/KM+5WFbS1tXntGOzOqC3tXC0H6y4f291MvCcdpvTQcYHv0aNHrFy5kvT0dBoaGigrK+PS\npUtu5VLXrl1LfHw8aWlpAIwaNYpnz57p/RUMQ4Kqwi9e/6dOnUpJSQkWi4W7d+8SFRXl6yF5TN2A\nkJyc/EVVwbdSBeoRx+qKvLe5k69VUwXuHP2t1/ZdVznvyAoNDeXatWvs2LGDY8eOMXbsWI+v39TU\nRHh4uPZZPVXV2zNv4Vt+MVNtbW1lxYoVPHjwAIDDhw8TGxvr8XVrampISEjg1atXXt8T3xMdUwWN\njY3Y7XZiYmI4cOCAlvtTV7T17lWg5mvtdrvu+drOmkSr+VK1Obe363nh66bSBQUFXLx4kRMnTjB0\n6FBd7rF27VoSEhJITU0FYPTo0dTX1+tybSOSmarCL4KqNzQ1NZGRkUFlZSVPnz41VFB1VltbS3Jy\nMnFxcYwePZrbt28zZMgQr1UV9Hb9aXt7u7bgBnh1K61KXZwaOHAgQUFBbNmyhcbGRvLz83X9Pzh3\n7hwXL17k6NGj2Gw2tm/fzuXLl3W7vtFIUFUEZFB1OBz8/PPPrF+/npSUFB49emTYoNrc3Ex5ebnW\nBs6VDQhqkO1pVUFP86ee6pjPNP1zmKO7+VhX7udcUdDS0kJ2djbx8fH89ttvuj9AHA6HtvoPcPTo\nUcN06fcGCaqKPh9UO6smiIqKIj09ncWLFzNmzBhqamoICQnx0Qg942pVgXNbQLUhjLPebA+ojltt\noddVAFfzserR2Z4c2tfxzKqGhgasVis5OTksXLgwIJtK602CqqLPB9XOjB07llGjRgFgs9mIj4+n\nvLzct4PSiXNVgc1m6zZVoHaw7416V5VzC72ePMzcPU/K4XBoi3yhoaFUV1eTk5PDwYMHiY+P1+U7\nCQmqqoAMqs7GjBnj8et/Y2Mjixcvprm5mdbWVvLy8khISNBxlO7pLlUASnphyJAhBAUFaQteejQj\n6YrzmU6eFPS7etSM8xbXkJAQrly5wr59+zhx4kSfqCIxEgmqioAPqt9//z01NTUeBdWtW7cydOhQ\ncnJyqK2t1RbAjMY5VVBUVERtbS1z5swhMzOzy1SBXttQnXeAeaPBTGcNVYKCgvj8+TOvX78mMjKS\nI0eOcP36dY4fP853333n0f2M+iD1JQmqioAPqnpobGwkJCSEAQMGcP/+fZYvX05FRYWvh9Wluro6\nEhMT+f333xk+fHi3qQLAo76lvb0DDJQZ8adPnwgODiYrK4vy8nIiIiLIzc0lJSXF41mqvzxIe5ME\nVYVfFP8bSWcLXwUFBcTFxfHy5UuWLFnC/v37fTQ610RHR1NZWUlkZCSASxsQ+vfvT2tra497FTh3\nfOqNgn7nHq9hYWG8e/eOtrY21q9fT2RkJGVlZQwePJhffvnFo/usXr1aywfb7Xatv6sQMlPVyb17\n98jIyGDv3r0kJyf7ejge666qwGQyaR2rukoV6NVhylUdS7Tq6+vJzMxk48aNzJ8/3+3rdvcgnTdv\nHvv372fatGmefgW/JjNVhQRVHTx48ACLxcKZM2eYMGGCr4fjFV1VFcyaNYuoqKgvUgXBwcFaF6tB\ngwZ5/bhv+LpnwJ07d1i3bh1Hjhxh0qRJXrlnX3uQekqCqkKCqg4WLFhAdXW1lqcbPHgw58+fd+ta\n/tAuzuFw8Pz5c65evcrVq1epq6tj/Pjx/PTTTyQmJmKz2ZgxY4bWA0DPI04603HLaVFREX/++Scn\nT55kxIgRut8PAuNB2lMSVBUSVA3GH9vFqamC06dPk5+fT0xMDFOmTCEpKUlLFehxxElnnFMMwcHB\n5OXlUV1dzV9//UVoaKhO3/Brej5I+woJqgoJqgbjz+3iZs6cydy5c1m1ahUVFRUupwrcaW7dcctp\ne3s7ubm5mM1mdu7c2SubGMSXJKgqZPXfYPy5XVxJSYm2Cu7c1lBNFezZs+eLVIFaVaDONl1NFTjX\nvIaFhfH27VusVivp6elkZWXJllPhUxJUDSY8PJzm5mbts78EVKDTsiKTycTIkSOxWq1YrdYvqgqy\nsrL4+PHjV70KvtV3VV3hBwgLC+Px48dkZ2ezY8cOZs+e3avfV4jOyOu/wQRau7ieVBX069eP9vZ2\nHA4H4eHhVFRUsHnzZgoLC/nhhx90GY9Re+z6A3n9V0hQNRhvtIuz2+1kZmby5MkTWlpa2LRpk9ZK\n0EicUwWlpaU8fvxYSxUMGzaMhoYGkpOTWbJkCc+ePePDhw/s27ePefPm6dJlzF967BqVBFWFBNUA\nUFBQQHV1NXl5ebx584bY2FiePHni62F1S00V7N69m6KiImbNmsW4ceN4+fIlLS0tREdH8/fffzN9\n+nR2797t0b38qceuUUlQVUhONQCkpqaycOFCAG0HlD8ICgrCbDZTVVWFzWYjOjqasrIyiouLKSws\n1HLNPX32f6vH7sSJE926phAqmakGkObmZlJSUsjOziY9Pd3Xw3FZe3u710uk+nKP3d4iM1WFBNUA\nUV9fj8ViYeXKlVitVl8Px9D06LEbiCSoKvzjPVB4pKGhgaSkJA4dOqQ1pxZdk9ggPCEz1QCQm5vL\nmTNniImJ0f525coVBgwY4PG1X716RVxcHGVlZX36UDvRPZmpKiSoCrfZ7XbS0tJ4+PAhFy5crxEh\noQAAAZ1JREFUkKAa4CSoKvxjq44wpF9//ZUVK1ZgNpt9PRQhDEOCqnBLQUEBERERJCUlAVKCJIRK\nXv+FW3788UdMJhMmk4mqqipiYmIoLi5m2LBhvh4aoJRhrVmzhsrKSlpbW9m2bRtz58719bD6NHn9\nV8jqv3DL9evXtd9nzpzJH3/8YZiACnDs2DHa2tqoqKjg+fPnnDp1SoKq6BXy+i8MZ9euXSQmJjJ5\n8mQKCwvdukZpaSkjR45k/vz5LFu2jJSUFJ1HKUTnZKYqPHbt2jXdrlVeXs6tW7e4efMm79+/d2lP\nf2fbTiMiIhg4cCCXLl3ixo0bLF269IvZtRDeIjlVYSgbNmzAZDJx//59mpqa2LNnj9ZntScyMjJI\nTU3FYrEAYDabefHihd7DFU4kp6qQ139hKK9fv6ayspKzZ8+Sn5/PokWL3LrO1KlTKSkpAeDu3bva\nWVJCCBFodgFrnD5XAf9y4zr9gf8Ct/75ifV8aEII4X/+DZT+8/sIoI5u0lRCCCG+7T/A/4A7wBwf\nj0UIIYQQQgghhBBCCCGEEF7yf3MlhlIXxaWQAAAAAElFTkSuQmCC\n",
      "text/plain": [
       "<matplotlib.figure.Figure at 0x7fdb71ac0a90>"
      ]
     },
     "metadata": {},
     "output_type": "display_data"
    }
   ],
   "source": [
    "import numpy as np\n",
    "import scipy.optimize as optimize\n",
    "\n",
    "\n",
    "def f(x):   # The rosenbrock function\n",
    "    return .5*(1 - x[0])**2 + (x[1] - x[0]**2)**2\n",
    "def fprime(x):\n",
    "    return np.array((-2*.5*(1 - x[0]) - 4*x[0]*(x[1] - x[0]**2), 2*(x[1] - x[0]**2)))\n",
    "print optimize.fmin_ncg(f, [2, 2], fprime=fprime)\n",
    "\n",
    "def hessian(x): # Computed with sympy\n",
    "    return np.array(((1 - 4*x[1] + 12*x[0]**2, -4*x[0]), (-4*x[0], 2)))\n",
    "print optimize.fmin_ncg(f, [2, 2], fprime=fprime, fhess=hessian)\n",
    "\n",
    "%matplotlib inline\n",
    "from matplotlib import cm\n",
    "import matplotlib.pyplot as plt\n",
    "from mpl_toolkits.mplot3d import Axes3D\n",
    "\n",
    "fig = plt.figure()\n",
    "ax = fig.gca(projection='3d')\n",
    "X = np.arange(-5, 5, 0.25)\n",
    "Y = np.arange(-5, 5, 0.25)\n",
    "X, Y = np.meshgrid(X, Y)\n",
    "Z = .5*(1 - X)**2 + (Y - X**2)**2\n",
    "surf = ax.plot_surface(X, Y, Z, rstride=1, cstride=1, cmap=cm.coolwarm,\n",
    "        linewidth=0, antialiased=False)\n",
    "ax.set_zlim(-1000.01, 1000.01)\n",
    "fig.colorbar(surf, shrink=0.5, aspect=5)\n",
    "plt.show()"
   ]
  },
  {
   "cell_type": "markdown",
   "metadata": {},
   "source": [
    "###### scipy.interpolate: Cubic interpolation"
   ]
  },
  {
   "cell_type": "markdown",
   "metadata": {},
   "source": [
    "Interpolation is useful when we have sampled a function but want to approximate its values on different points. A well known class of interpolation functions are the splines, most commonly three spline curves are combined in order to interpolate a smooth curved line between two datapoints. "
   ]
  },
  {
   "cell_type": "code",
   "execution_count": 13,
   "metadata": {
    "collapsed": false
   },
   "outputs": [
    {
     "data": {
      "text/plain": [
       "<matplotlib.legend.Legend at 0x7ff9bfdf8cd0>"
      ]
     },
     "execution_count": 13,
     "metadata": {},
     "output_type": "execute_result"
    },
    {
     "data": {
      "image/png": "iVBORw0KGgoAAAANSUhEUgAAAXoAAAD/CAYAAAD/qh1PAAAABHNCSVQICAgIfAhkiAAAAAlwSFlz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\nedsAAAAASUVORK5CYII=\n",
      "text/plain": [
       "<matplotlib.figure.Figure at 0x7ff9bf678e10>"
      ]
     },
     "metadata": {},
     "output_type": "display_data"
    }
   ],
   "source": [
    "%matplotlib inline\n",
    "import numpy as np\n",
    "from scipy.interpolate import interp1d\n",
    "import pylab as pl\n",
    "\n",
    "measured_time = np.linspace(0, 1, 10)\n",
    "noise = 0.1 * np.random.randn(10)\n",
    "measures = np.sin(2 * np.pi * measured_time) + noise\n",
    "\n",
    "linear_interp = interp1d(measured_time, measures)\n",
    "computed_time = np.linspace(0, 1, 50)\n",
    "linear_results = linear_interp(computed_time)\n",
    "cubic_interp = interp1d(measured_time, measures, kind='cubic')\n",
    "cubic_results = cubic_interp(computed_time)\n",
    "\n",
    "pl.plot(measured_time, measures, 'o', ms=6, label='measures')\n",
    "pl.plot(computed_time, linear_results, label='linear interp')\n",
    "pl.plot(computed_time, cubic_results, label='cubic interp')\n",
    "pl.legend()"
   ]
  },
  {
   "cell_type": "markdown",
   "metadata": {},
   "source": [
    "###### scipy.integrate: Integration and ODE solvers"
   ]
  },
  {
   "cell_type": "markdown",
   "metadata": {},
   "source": [
    "This submodule is useful for summing up function values over intervals (integration) and solving ordinary differential equations. Partial differential equations are not covered and require other Python packages. As a quick example, we solve a case of Michaelis-Menten enzime kinetics."
   ]
  },
  {
   "cell_type": "code",
   "execution_count": 4,
   "metadata": {
    "collapsed": false
   },
   "outputs": [
    {
     "ename": "NameError",
     "evalue": "name 'array' is not defined",
     "output_type": "error",
     "traceback": [
      "\u001b[0;31m---------------------------------------------------------------------------\u001b[0m",
      "\u001b[0;31mNameError\u001b[0m                                 Traceback (most recent call last)",
      "\u001b[0;32m<ipython-input-4-8000a877f302>\u001b[0m in \u001b[0;36m<module>\u001b[0;34m()\u001b[0m\n\u001b[1;32m     26\u001b[0m \u001b[0;34m\u001b[0m\u001b[0m\n\u001b[1;32m     27\u001b[0m \u001b[0;31m#Initial concentrations:\u001b[0m\u001b[0;34m\u001b[0m\u001b[0;34m\u001b[0m\u001b[0m\n\u001b[0;32m---> 28\u001b[0;31m y0 = array([#E\n\u001b[0m\u001b[1;32m     29\u001b[0m \u001b[0;36m0.6\u001b[0m\u001b[0;34m,\u001b[0m\u001b[0;31m\\\u001b[0m\u001b[0;34m\u001b[0m\u001b[0m\n\u001b[1;32m     30\u001b[0m \u001b[0;31m#S\u001b[0m\u001b[0;34m\u001b[0m\u001b[0;34m\u001b[0m\u001b[0m\n",
      "\u001b[0;31mNameError\u001b[0m: name 'array' is not defined"
     ]
    }
   ],
   "source": [
    "%matplotlib inline\n",
    "#from scipy import *\n",
    "import scipy.integrate as integrate\n",
    "\n",
    "'''\n",
    "Slightly modified from a sample code generated by this program, \n",
    "that formulates a solver for different cases of enzime reactions:\n",
    "http://code.google.com/p/kinpy/\n",
    "\n",
    "## Reaction ##\n",
    "\n",
    "#Michaelis-Menten enzyme kinetics.\n",
    "\n",
    "E + S <-> ES\n",
    "ES <-> E + P\n",
    "\n",
    "## Mapping ##\n",
    "\n",
    "E       0        -1*v_0(y[1], y[0], y[2]) +1*v_1(y[3], y[0], y[2])\n",
    "S       1        -1*v_0(y[1], y[0], y[2])\n",
    "ES      2        +1*v_0(y[1], y[0], y[2]) -1*v_1(y[3], y[0], y[2])\n",
    "P       3        +1*v_1(y[3], y[0], y[2])\n",
    "'''\n",
    "\n",
    "dy = lambda y, t: array([\\\n",
    " -1*v_0(y[1], y[0], y[2]) +1*v_1(y[3], y[0], y[2]),\\\n",
    " -1*v_0(y[1], y[0], y[2]),\\\n",
    " +1*v_0(y[1], y[0], y[2]) -1*v_1(y[3], y[0], y[2]),\\\n",
    " +1*v_1(y[3], y[0], y[2])\\\n",
    "])\n",
    "\n",
    "#Initial concentrations:\n",
    "y0 = array([\\\n",
    "#E\n",
    "0.6,\\\n",
    "#S\n",
    "1.2,\\\n",
    "#ES\n",
    "3.0,\\\n",
    "#P\n",
    "0.2,\\\n",
    "])\n",
    "\n",
    "#E + S <-> ES\n",
    "v_0 = lambda S, E, ES : k0 * E**1 * S**1 - k0r * ES**1\n",
    "k0 = 1.2\n",
    "k0r = 1.5\n",
    "\n",
    "#ES <-> E + P\n",
    "v_1 = lambda P, E, ES : k1 * ES**1 - k1r * E**1 * P**1\n",
    "k1 = 0.9\n",
    "k1r = 1.9\n",
    "\n",
    "t = arange(0, 10, 0.01)\n",
    "Y = integrate.odeint(dy, y0, t)\n",
    "\n",
    "import pylab as pl\n",
    "\n",
    "pl.plot(t, Y, label='y')"
   ]
  },
  {
   "cell_type": "markdown",
   "metadata": {},
   "source": [
    "###### scipy.ndimage - Image processing"
   ]
  },
  {
   "cell_type": "markdown",
   "metadata": {},
   "source": [
    "This module is useful for containing functions for multidimensional image manipulation, butthere image processing is deloped in scikit-learn and there are also independent packages for image manipulation. My favourite is PIL, but if falls out of the scope of this course."
   ]
  },
  {
   "cell_type": "code",
   "execution_count": 18,
   "metadata": {
    "collapsed": false
   },
   "outputs": [
    {
     "ename": "RuntimeError",
     "evalue": "lena() is no longer included in SciPy, please use ascent() or face() instead",
     "output_type": "error",
     "traceback": [
      "\u001b[1;31m---------------------------------------------------------------------------\u001b[0m",
      "\u001b[1;31mRuntimeError\u001b[0m                              Traceback (most recent call last)",
      "\u001b[1;32m<ipython-input-18-dc28677dbe8c>\u001b[0m in \u001b[0;36m<module>\u001b[1;34m()\u001b[0m\n\u001b[0;32m      7\u001b[0m \u001b[1;32mimport\u001b[0m \u001b[0mpylab\u001b[0m \u001b[1;32mas\u001b[0m \u001b[0mpl\u001b[0m\u001b[1;33m\u001b[0m\u001b[0m\n\u001b[0;32m      8\u001b[0m \u001b[1;33m\u001b[0m\u001b[0m\n\u001b[1;32m----> 9\u001b[1;33m \u001b[0mlena\u001b[0m \u001b[1;33m=\u001b[0m \u001b[0mmisc\u001b[0m\u001b[1;33m.\u001b[0m\u001b[0mlena\u001b[0m\u001b[1;33m(\u001b[0m\u001b[1;33m)\u001b[0m\u001b[1;33m\u001b[0m\u001b[0m\n\u001b[0m\u001b[0;32m     10\u001b[0m \u001b[0mshifted_lena\u001b[0m \u001b[1;33m=\u001b[0m \u001b[0mndimage\u001b[0m\u001b[1;33m.\u001b[0m\u001b[0mshift\u001b[0m\u001b[1;33m(\u001b[0m\u001b[0mlena\u001b[0m\u001b[1;33m,\u001b[0m \u001b[1;33m(\u001b[0m\u001b[1;36m50\u001b[0m\u001b[1;33m,\u001b[0m \u001b[1;36m50\u001b[0m\u001b[1;33m)\u001b[0m\u001b[1;33m)\u001b[0m\u001b[1;33m\u001b[0m\u001b[0m\n\u001b[0;32m     11\u001b[0m \u001b[0mshifted_lena2\u001b[0m \u001b[1;33m=\u001b[0m \u001b[0mndimage\u001b[0m\u001b[1;33m.\u001b[0m\u001b[0mshift\u001b[0m\u001b[1;33m(\u001b[0m\u001b[0mlena\u001b[0m\u001b[1;33m,\u001b[0m \u001b[1;33m(\u001b[0m\u001b[1;36m50\u001b[0m\u001b[1;33m,\u001b[0m \u001b[1;36m50\u001b[0m\u001b[1;33m)\u001b[0m\u001b[1;33m,\u001b[0m \u001b[0mmode\u001b[0m\u001b[1;33m=\u001b[0m\u001b[1;34m'nearest'\u001b[0m\u001b[1;33m)\u001b[0m\u001b[1;33m\u001b[0m\u001b[0m\n",
      "\u001b[1;32m/home/sergiun/programs/anaconda3/envs/py35/lib/python3.5/site-packages/scipy/misc/common.py\u001b[0m in \u001b[0;36mlena\u001b[1;34m()\u001b[0m\n\u001b[0;32m    374\u001b[0m     \u001b[0mface\u001b[0m\u001b[1;33m,\u001b[0m \u001b[0mascent\u001b[0m\u001b[1;33m\u001b[0m\u001b[0m\n\u001b[0;32m    375\u001b[0m     \"\"\"\n\u001b[1;32m--> 376\u001b[1;33m     raise RuntimeError('lena() is no longer included in SciPy, please use '\n\u001b[0m\u001b[0;32m    377\u001b[0m                        'ascent() or face() instead')\n\u001b[0;32m    378\u001b[0m \u001b[1;33m\u001b[0m\u001b[0m\n",
      "\u001b[1;31mRuntimeError\u001b[0m: lena() is no longer included in SciPy, please use ascent() or face() instead"
     ]
    }
   ],
   "source": [
    "%matplotlib inline\n",
    "import numpy as np\n",
    "from scipy import ndimage\n",
    "from scipy import misc\n",
    "import matplotlib.pyplot as plt\n",
    "from matplotlib import cm\n",
    "import pylab as pl\n",
    "\n",
    "lena = misc.lena()\n",
    "shifted_lena = ndimage.shift(lena, (50, 50))\n",
    "shifted_lena2 = ndimage.shift(lena, (50, 50), mode='nearest')\n",
    "rotated_lena = ndimage.rotate(lena, 30)\n",
    "cropped_lena = lena[50:-50, 50:-50]\n",
    "zoomed_lena = ndimage.zoom(lena, 2)\n",
    "zoomed_lena.shape\n",
    "noisy_lena = np.copy(lena).astype(np.float)\n",
    "noisy_lena += lena.std()*0.5*np.random.standard_normal(lena.shape)\n",
    "blurred_lena = ndimage.gaussian_filter(noisy_lena, sigma=3)\n",
    "median_lena = ndimage.median_filter(blurred_lena, size=5)\n",
    "from scipy import signal\n",
    "wiener_lena = signal.wiener(blurred_lena, (5,5))\n",
    "\n",
    "fig = plt.figure()\n",
    "ax1 = fig.add_subplot(111)\n",
    "pl.imshow(blurred_lena, cmap=cm.gray)\n",
    "\n"
   ]
  },
  {
   "cell_type": "markdown",
   "metadata": {},
   "source": [
    "### Sympy"
   ]
  },
  {
   "cell_type": "markdown",
   "metadata": {},
   "source": [
    "Symbolic math is sometimes important, especially if we are weak at calculus or if we need to perform automated calculus on long formulas. We are briefly going through a few test cases, to get the feel of it. Symbolic math is especially developed for [Mathematica](http://www.wolfram.com/mathematica/?source=nav), or [Sage](http://www.sagemath.org/) which is an open-source equivalent."
   ]
  },
  {
   "cell_type": "code",
   "execution_count": 5,
   "metadata": {
    "collapsed": false
   },
   "outputs": [
    {
     "ename": "SyntaxError",
     "evalue": "invalid syntax (<ipython-input-5-75d42e05088a>, line 2)",
     "output_type": "error",
     "traceback": [
      "\u001b[0;36m  File \u001b[0;32m\"<ipython-input-5-75d42e05088a>\"\u001b[0;36m, line \u001b[0;32m2\u001b[0m\n\u001b[0;31m    print sympy.sqrt(8)\u001b[0m\n\u001b[0m              ^\u001b[0m\n\u001b[0;31mSyntaxError\u001b[0m\u001b[0;31m:\u001b[0m invalid syntax\n"
     ]
    }
   ],
   "source": [
    "import sympy\n",
    "print sympy.sqrt(8)\n",
    "import math\n",
    "print math.sqrt(8)"
   ]
  },
  {
   "cell_type": "code",
   "execution_count": 11,
   "metadata": {
    "collapsed": false
   },
   "outputs": [
    {
     "name": "stdout",
     "output_type": "stream",
     "text": [
      "x + 2*y\n",
      "x*(x + 2*y)\n",
      "x**2 + 2*x*y\n",
      "x*(x + 2*y)\n",
      "2*y*z**t + z**(2*t)\n",
      "z**t*(2*y + z**t)\n"
     ]
    }
   ],
   "source": [
    "from sympy import symbols\n",
    "x, y, z, t = symbols('x y z t')\n",
    "expr = x + 2*y\n",
    "print expr\n",
    "print x * expr\n",
    "from sympy import expand, factor, simplify\n",
    "expanded_expr = expand(x*expr)\n",
    "print expanded_expr\n",
    "print factor(expanded_expr)\n",
    "exp = expanded_expr.subs(x, z**t)\n",
    "print exp\n",
    "print simplify(exp)"
   ]
  },
  {
   "cell_type": "markdown",
   "metadata": {},
   "source": [
    "In the scipy.optimize paragraph we needed the Hessian matrix for a function f. Here is how you can obtain it in sympy:"
   ]
  },
  {
   "cell_type": "code",
   "execution_count": 3,
   "metadata": {
    "collapsed": false
   },
   "outputs": [
    {
     "name": "stdout",
     "output_type": "stream",
     "text": [
      "Matrix([[12*x**2 - 4*y + 1.0, -4*x], [-4*x, 2]])\n"
     ]
    },
    {
     "data": {
      "text/latex": [
       "\\left[\\begin{matrix}12 x^{2} - 4 y + 1.0 & - 4 x\\\\- 4 x & 2\\end{matrix}\\right]"
      ],
      "text/plain": [
       "<IPython.core.display.Latex object>"
      ]
     },
     "execution_count": 3,
     "metadata": {},
     "output_type": "execute_result"
    }
   ],
   "source": [
    "import sympy\n",
    "x, y = sympy.symbols('x y')\n",
    "f = .5*(1 - x)**2 + (y - x**2)**2\n",
    "h = sympy.hessian(f, [x,y])\n",
    "print(h)\n",
    "from IPython.display import Latex\n",
    "Latex(sympy.latex(h))\n"
   ]
  },
  {
   "cell_type": "code",
<<<<<<< HEAD
   "execution_count": 1,
   "metadata": {
    "collapsed": false
   },
=======
   "execution_count": 4,
   "metadata": {},
>>>>>>> upstream/master
   "outputs": [
    {
     "data": {
      "text/html": [
       "<iframe src=http://en.wikipedia.org/wiki/Hessian_matrix width=700 height=350></iframe>"
      ],
      "text/plain": [
       "<IPython.core.display.HTML object>"
      ]
     },
     "execution_count": 4,
     "metadata": {},
     "output_type": "execute_result"
    }
   ],
   "source": [
    "from IPython.display import HTML\n",
    "HTML('<iframe src=http://en.wikipedia.org/wiki/Hessian_matrix width=700 height=350></iframe>')"
   ]
  },
  {
   "cell_type": "code",
   "execution_count": null,
   "metadata": {
    "collapsed": true
   },
   "outputs": [],
   "source": []
  }
 ],
 "metadata": {
  "anaconda-cloud": {},
  "kernelspec": {
   "display_name": "Python [pycourse]",
   "language": "python",
   "name": "Python [pycourse]"
  },
  "language_info": {
   "codemirror_mode": {
    "name": "ipython",
    "version": 3
   },
   "file_extension": ".py",
   "mimetype": "text/x-python",
   "name": "python",
   "nbconvert_exporter": "python",
   "pygments_lexer": "ipython3",
   "version": "3.5.2"
  }
 },
 "nbformat": 4,
 "nbformat_minor": 1
}
