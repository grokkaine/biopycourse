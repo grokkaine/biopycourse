{
 "cells": [
  {
   "cell_type": "markdown",
   "metadata": {},
   "source": []
  },
  {
   "cell_type": "markdown",
   "metadata": {},
   "source": [
    "**Statistics libraries**\n",
    "\n",
    "A number of python lybraries are widely used for statistical computation. Here is a small list:\n",
    "\n",
    "- As Python comes with battery included, it has its own [statistics functions](https://docs.python.org/3/library/statistics.html).\n",
    "- For basic statistics one need not go further than [Pandas](http://pandas.pydata.org/pandas-docs/dev/api.html), a module designed precisely for managing data that comes in a any tabular form.\n",
    "- [numpy/scipy.stats](http://docs.scipy.org/doc/scipy/reference/stats.html) is a submodule dealing exclusively with statistics.\n",
    "- The [scikits](http://scikits.appspot.com/scikits) stack, useful for many research fields, many of which have their own statistics submodules. Scikit-learn is leaned upon machine learning, but some of its modules, like the [generalized linear models](http://scikit-learn.org/stable/modules/linear_model.html) are part of some statistics textbooks.\n",
    "- [Statsmodels](http://statsmodels.sourceforge.net/) While still in beta, this is probably the most convenient library for the programming agnostic. We did not use it because practicing with scipy is more important for this short course.\n",
    "- PyMC is targeted towards Bayesian statistics and MCMC estimation, but one can use scikit-learn instead. This also goes for a number of other machine learning related small packages, but hey the Python world is free for your taking, and sometimes they hold hidden gems not found in the main libraries.\n",
    "- A popular way of doing statistics in Python is also running R statistics packages from withing Python, using Rpy2. We will get to that in another chapter."
   ]
  },
  {
   "cell_type": "markdown",
   "metadata": {},
   "source": [
    "### Statistical data structures with Pandas: Series and Dataframes"
   ]
  },
  {
   "cell_type": "markdown",
   "metadata": {},
   "source": [
    "Languages developed primarily for statistics are using rich data structures that are available also in Python. One of the most important modules to use in Pandas. Let us have a look at Pandas API index.\n",
    "\n",
    "http://pandas.pydata.org/pandas-docs/dev/api.html\n",
    "\n",
    "Do you recognize some of these structures and can you name equivalent functionality from other languages like R or tabular computing programs like Excel? Pandas can do everything Excel does and then some more, like SQL interogation and advanced statistics through its scipy/numpy modules integration and matplotlib visualization. Moreover, for those with a background into R, Pandas has a similar synthax and can be used interchangeably with R in Python itself through the rpy2 module. We will investigate Rpy in the Python extension chapter, now we will focus on Pandas.\n",
    "\n",
    "http://pandas.pydata.org/pandas-docs/dev/comparison_with_r.html\n",
    "\n",
    "http://pandas.pydata.org/pandas-docs/dev/r_interface.html\n",
    "\n",
    "Next is a small hands-on introduction, with tips on creation, selection, filtering and grouping.\n",
    "\n",
    "TODO:\n",
    "add small pivoting example\n",
    "http://stackoverflow.com/questions/19961490/construct-pandas-dataframe-from-list-of-tuples"
   ]
  },
  {
   "cell_type": "code",
   "execution_count": 2,
   "metadata": {},
   "outputs": [
    {
     "name": "stdout",
     "output_type": "stream",
     "text": [
      "  cathegories      dates  floats  integers  number string\n",
      "0        test 2015-07-20    0.25         3     1.0    foo\n",
      "1       train 2015-07-21    0.25         3     1.0    foo\n",
      "2        test 2015-07-22    0.25         3     1.0    foo\n",
      "3       train 2015-07-23    0.25         3     1.0    foo\n"
     ]
    }
   ],
   "source": [
    "import pandas as pd\n",
    "import numpy as np\n",
    "import matplotlib.pyplot as plt\n",
    "\n",
    "s = pd.Series([1, 9, 2, 10, np.nan, 6])\n",
    "df1 = pd.DataFrame(np.random.randn(3,5),index=s[1:4],columns=list('ABCDF'))\n",
    "df2 = pd.DataFrame({'number' : 1.,\n",
    "                    'dates' : pd.date_range('20150720',periods=4),\n",
    "                    'floats' : pd.Series(0.25,index=list(range(4)),dtype='float32'),\n",
    "                    'integers' : np.array([3] * 4,dtype='int32'),\n",
    "                    'cathegories' : pd.Categorical([\"test\",\"train\",\"test\",\"train\"]),\n",
    "                    'string' : 'foo' })\n",
    "\n",
    "print(df2)"
   ]
  },
  {
   "cell_type": "code",
   "execution_count": 15,
   "metadata": {},
   "outputs": [
    {
     "data": {
      "text/html": [
       "<div style=\"max-height:1000px;max-width:1500px;overflow:auto;\">\n",
       "<table border=\"1\" class=\"dataframe\">\n",
       "  <thead>\n",
       "    <tr style=\"text-align: right;\">\n",
       "      <th></th>\n",
       "      <th>A</th>\n",
       "      <th>B</th>\n",
       "      <th>C</th>\n",
       "      <th>D</th>\n",
       "      <th>F</th>\n",
       "    </tr>\n",
       "  </thead>\n",
       "  <tbody>\n",
       "    <tr>\n",
       "      <th>10</th>\n",
       "      <td> 0.939892</td>\n",
       "      <td>-1.073998</td>\n",
       "      <td>-0.463096</td>\n",
       "      <td> 0.049837</td>\n",
       "      <td> 0.240060</td>\n",
       "    </tr>\n",
       "    <tr>\n",
       "      <th>2 </th>\n",
       "      <td> 1.152203</td>\n",
       "      <td>-0.740541</td>\n",
       "      <td>-0.565459</td>\n",
       "      <td>-0.775712</td>\n",
       "      <td> 0.928403</td>\n",
       "    </tr>\n",
       "    <tr>\n",
       "      <th>9 </th>\n",
       "      <td>-0.291012</td>\n",
       "      <td>-0.726169</td>\n",
       "      <td>-0.753784</td>\n",
       "      <td> 0.499030</td>\n",
       "      <td> 0.229992</td>\n",
       "    </tr>\n",
       "  </tbody>\n",
       "</table>\n",
       "</div>"
      ],
      "text/plain": [
       "           A         B         C         D         F\n",
       "10  0.939892 -1.073998 -0.463096  0.049837  0.240060\n",
       "2   1.152203 -0.740541 -0.565459 -0.775712  0.928403\n",
       "9  -0.291012 -0.726169 -0.753784  0.499030  0.229992"
      ]
     },
     "execution_count": 15,
     "metadata": {},
     "output_type": "execute_result"
    }
   ],
   "source": [
    "df1.sort(columns='B')"
   ]
  },
  {
   "cell_type": "code",
   "execution_count": 7,
   "metadata": {},
   "outputs": [
    {
     "name": "stdout",
     "output_type": "stream",
     "text": [
      "             A         B         C         D         F\n",
      "10.0 -0.312356  1.970467 -0.043003  0.159953  0.882028\n",
      "9.0  -0.111822  2.404463 -0.766551 -0.366889 -0.534442\n",
      "2.0   1.681985  0.112361  1.344568  0.830033 -0.335651\n",
      "             A         B         C         D         F\n",
      "2.0   1.681985  0.112361  1.344568  0.830033 -0.335651\n",
      "10.0 -0.312356  1.970467 -0.043003  0.159953  0.882028\n",
      "9.0  -0.111822  2.404463 -0.766551 -0.366889 -0.534442\n"
     ]
    },
    {
     "name": "stderr",
     "output_type": "stream",
     "text": [
      "/home/sergiun/programs/anaconda3/envs/py35/lib/python3.5/site-packages/ipykernel/__main__.py:12: FutureWarning: sort(columns=....) is deprecated, use sort_values(by=.....)\n"
     ]
    }
   ],
   "source": [
    "# Description\n",
    "\n",
    "df2.dtypes\n",
    "#try tab completion, column labels can be easily retrieved\n",
    "#df2.\n",
    "df2.head(2)\n",
    "df1.describe()\n",
    "df1.T\n",
    "#sort by axis\n",
    "print(df1.sort_index(axis=0, ascending=False))\n",
    "#sort by values\n",
    "print(df1.sort(columns='B'))"
   ]
  },
  {
   "cell_type": "code",
   "execution_count": 6,
   "metadata": {},
   "outputs": [
    {
     "data": {
      "text/html": [
       "<div>\n",
       "<table border=\"1\" class=\"dataframe\">\n",
       "  <thead>\n",
       "    <tr style=\"text-align: right;\">\n",
       "      <th></th>\n",
       "      <th>9.0</th>\n",
       "      <th>2.0</th>\n",
       "      <th>10.0</th>\n",
       "    </tr>\n",
       "  </thead>\n",
       "  <tbody>\n",
       "    <tr>\n",
       "      <th>A</th>\n",
       "      <td>-0.111822</td>\n",
       "      <td>1.681985</td>\n",
       "      <td>-0.312356</td>\n",
       "    </tr>\n",
       "    <tr>\n",
       "      <th>B</th>\n",
       "      <td>2.404463</td>\n",
       "      <td>0.112361</td>\n",
       "      <td>1.970467</td>\n",
       "    </tr>\n",
       "    <tr>\n",
       "      <th>C</th>\n",
       "      <td>-0.766551</td>\n",
       "      <td>1.344568</td>\n",
       "      <td>-0.043003</td>\n",
       "    </tr>\n",
       "    <tr>\n",
       "      <th>D</th>\n",
       "      <td>-0.366889</td>\n",
       "      <td>0.830033</td>\n",
       "      <td>0.159953</td>\n",
       "    </tr>\n",
       "    <tr>\n",
       "      <th>F</th>\n",
       "      <td>-0.534442</td>\n",
       "      <td>-0.335651</td>\n",
       "      <td>0.882028</td>\n",
       "    </tr>\n",
       "  </tbody>\n",
       "</table>\n",
       "</div>"
      ],
      "text/plain": [
       "       9.0       2.0       10.0\n",
       "A -0.111822  1.681985 -0.312356\n",
       "B  2.404463  0.112361  1.970467\n",
       "C -0.766551  1.344568 -0.043003\n",
       "D -0.366889  0.830033  0.159953\n",
       "F -0.534442 -0.335651  0.882028"
      ]
     },
     "execution_count": 6,
     "metadata": {},
     "output_type": "execute_result"
    }
   ],
   "source": [
    "df1.T"
   ]
  },
  {
   "cell_type": "code",
   "execution_count": 13,
   "metadata": {},
   "outputs": [
    {
     "data": {
      "text/html": [
       "<div>\n",
       "<table border=\"1\" class=\"dataframe\">\n",
       "  <thead>\n",
       "    <tr style=\"text-align: right;\">\n",
       "      <th></th>\n",
       "      <th>A</th>\n",
       "      <th>B</th>\n",
       "    </tr>\n",
       "  </thead>\n",
       "  <tbody>\n",
       "    <tr>\n",
       "      <th>2.0</th>\n",
       "      <td>0.776222</td>\n",
       "      <td>1.519814</td>\n",
       "    </tr>\n",
       "    <tr>\n",
       "      <th>10.0</th>\n",
       "      <td>0.385811</td>\n",
       "      <td>0.044610</td>\n",
       "    </tr>\n",
       "  </tbody>\n",
       "</table>\n",
       "</div>"
      ],
      "text/plain": [
       "             A         B\n",
       "2.0   0.776222  1.519814\n",
       "10.0  0.385811  0.044610"
      ]
     },
     "execution_count": 13,
     "metadata": {},
     "output_type": "execute_result"
    }
   ],
   "source": [
    "# Selection and slicing. And filtering.\n",
    "df1 = pd.DataFrame(np.random.randn(3,5),index=s[1:4],columns=list('ABCDF'))\n",
    "# selection by labels\n",
    "#df1\n",
    "#df1['A']\n",
    "#df1.A\n",
    "#print(df1[0:2])\n",
    "df1.loc[2:10,['A','B']]\n",
    "#print df1.loc[2,'A']"
   ]
  },
  {
   "cell_type": "code",
   "execution_count": 23,
   "metadata": {},
   "outputs": [
    {
     "data": {
      "text/html": [
       "<div style=\"max-height:1000px;max-width:1500px;overflow:auto;\">\n",
       "<table border=\"1\" class=\"dataframe\">\n",
       "  <thead>\n",
       "    <tr style=\"text-align: right;\">\n",
       "      <th></th>\n",
       "      <th>A</th>\n",
       "      <th>B</th>\n",
       "    </tr>\n",
       "  </thead>\n",
       "  <tbody>\n",
       "    <tr>\n",
       "      <th>2 </th>\n",
       "      <td>-0.679790</td>\n",
       "      <td>-1.774782</td>\n",
       "    </tr>\n",
       "    <tr>\n",
       "      <th>10</th>\n",
       "      <td> 0.761237</td>\n",
       "      <td>-0.367952</td>\n",
       "    </tr>\n",
       "  </tbody>\n",
       "</table>\n",
       "</div>"
      ],
      "text/plain": [
       "           A         B\n",
       "2  -0.679790 -1.774782\n",
       "10  0.761237 -0.367952"
      ]
     },
     "execution_count": 23,
     "metadata": {},
     "output_type": "execute_result"
    }
   ],
   "source": [
    "df1.loc[2:10,['A','B']]"
   ]
  },
  {
   "cell_type": "code",
   "execution_count": 19,
   "metadata": {},
   "outputs": [
    {
     "name": "stdout",
     "output_type": "stream",
     "text": [
      "             A         B         C         D         F\n",
      "9.0   1.489061  0.233563 -1.425374 -1.935047  0.314065\n",
      "2.0   0.776222  1.519814 -0.838998  0.398798 -1.709546\n",
      "10.0  0.385811  0.044610 -1.041533  1.266857  1.133820\n"
     ]
    },
    {
     "data": {
      "text/plain": [
       "1.5198138664523637"
      ]
     },
     "execution_count": 19,
     "metadata": {},
     "output_type": "execute_result"
    }
   ],
   "source": [
    "# selection by position\n",
    "#df1\n",
    "#df1.iloc[2]\n",
    "#df1.iloc[0:2,0:3]\n",
    "#df1.iloc[[1,2,],[0,2]]\n",
    "print(df1)\n",
    "df1.iloc[1,1]"
   ]
  },
  {
   "cell_type": "code",
   "execution_count": 21,
   "metadata": {},
   "outputs": [
    {
     "name": "stdout",
     "output_type": "stream",
     "text": [
      "            A         B         C         D         F\n",
      "9.0  1.489061  0.233563 -1.425374 -1.935047  0.314065\n",
      "2.0  0.776222  1.519814 -0.838998  0.398798 -1.709546\n"
     ]
    }
   ],
   "source": [
    "# filter by boolean test\n",
    "#print df1\n",
    "#print df1[df1.A > 0.1]\n",
    "#print df1[df1 > 0.1]\n",
    "print(df1[(df1['A'] > 0.1) & (df1['B']>0.2)])"
   ]
  },
  {
   "cell_type": "code",
   "execution_count": 22,
   "metadata": {},
   "outputs": [
    {
     "name": "stdout",
     "output_type": "stream",
     "text": [
      "             A         B         C         D         F mask  test\n",
      "9.0   0.860532 -0.016485  2.227145  0.446174 -0.964432  one     1\n",
      "2.0   0.963801 -1.618940 -1.333987 -0.398223 -0.244665  one     2\n",
      "10.0 -0.766295 -1.518846  1.198762 -0.071410 -0.568117  two     3\n",
      "            A         B         C         D         F mask  test\n",
      "9.0  0.860532 -0.016485  2.227145  0.446174 -0.964432  one     1\n",
      "2.0  0.963801 -1.618940 -1.333987 -0.398223 -0.244665  one     2\n"
     ]
    }
   ],
   "source": [
    "s = pd.Series([1, 9, 2, 10, np.nan, 6])\n",
    "df1 = pd.DataFrame(np.random.randn(3,5),index=s[1:4],columns=list('ABCDF'))\n",
    "# filter by values\n",
    "df3 = df1.copy()\n",
    "df3['mask']=['one','one','two']\n",
    "df3['test'] = [1, 2, 3]\n",
    "print(df3)\n",
    "print(df3[df3['mask'].isin(['one'])])\n",
    "#df1.dropna()\n",
    "\n",
    "df1['test2'] = df3['test']\n",
    "#print df1"
   ]
  },
  {
   "cell_type": "code",
   "execution_count": 31,
   "metadata": {},
   "outputs": [
    {
     "name": "stdout",
     "output_type": "stream",
     "text": [
      "    A         B         C   D         F\n",
      "9   0  5.000000  0.659238  10  0.268067\n",
      "2   0  0.068065  0.537079  10 -0.930164\n",
      "10  0  0.277067 -0.435075  10  0.519541\n"
     ]
    }
   ],
   "source": [
    "# Setting values by label, position and numpy array\n",
    "\n",
    "df1.loc[:,'A'] = 0\n",
    "df1.iat[0,1] = 5\n",
    "df1.loc[:,'D'] = np.array([10] * len(df1))\n",
    "print df1"
   ]
  },
  {
   "cell_type": "code",
   "execution_count": 41,
   "metadata": {},
   "outputs": [
    {
     "name": "stdout",
     "output_type": "stream",
     "text": [
      "           A         B         C         D         F mask vtype\n",
      "9  -0.969339 -1.247162 -0.172333 -1.604282 -0.720619  one   one\n",
      "2  -1.096683  0.984533  0.228007  1.707215  0.884176  one   one\n",
      "10 -0.208973 -0.147277 -0.031264 -0.524877 -0.172902  two   two\n",
      "9     one\n",
      "2     one\n",
      "10    two\n",
      "Name: vtype, dtype: category\n",
      "Categories (2, object): [one < two]\n",
      "           A         B         C         D         F mask  vtype\n",
      "9  -0.969339 -1.247162 -0.172333 -1.604282 -0.720619  one   nice\n",
      "2  -1.096683  0.984533  0.228007  1.707215  0.884176  one   nice\n",
      "10 -0.208973 -0.147277 -0.031264 -0.524877 -0.172902  two  nasty\n",
      "vtype\n",
      "nice     2\n",
      "nasty    1\n",
      "dtype: int64\n"
     ]
    }
   ],
   "source": [
    "# Categories and grouping\n",
    "s = pd.Series([1, 9, 2, 10, np.nan, 6])\n",
    "df1 = pd.DataFrame(np.random.randn(3,5),index=s[1:4],columns=list('ABCDF'))\n",
    "df3 = df1.copy()\n",
    "df3['mask']=['one', 'one','two']\n",
    "df3[\"vtype\"] = df3[\"mask\"].astype(\"category\")\n",
    "print df3\n",
    "print df3[\"vtype\"]\n",
    "df3[\"vtype\"].cat.categories = [\"nice\", \"nasty\"]\n",
    "print df3\n",
    "print df3.groupby(\"vtype\").size()"
   ]
  },
  {
   "cell_type": "code",
   "execution_count": 28,
   "metadata": {},
   "outputs": [
    {
     "name": "stdout",
     "output_type": "stream",
     "text": [
      "           A         B         C         D        F      diff\n",
      "9   0.866943  0.542561  1.018572       NaN      NaN  0.676178\n",
      "2   0.643135  0.705118  0.953981  0.264569      NaN       NaN\n",
      "10  1.205045  1.545023       NaN       NaN  0.55412       NaN\n",
      "           A         B         C         D        F      diff\n",
      "9   0.866943  0.542561  1.018572       NaN      NaN  0.676178\n",
      "2   0.643135  0.705118  0.953981  0.264569      NaN       NaN\n",
      "10  1.205045  1.545023       NaN       NaN  0.55412       NaN\n",
      "9    -0.499315\n",
      "2     1.365650\n",
      "10    1.990501\n",
      "dtype: float64\n"
     ]
    }
   ],
   "source": [
    "# Basic operations\n",
    "s = pd.Series([1, 9, 2, 10, np.nan, 6])\n",
    "df1 = pd.DataFrame(np.random.randn(3,5),index=s[1:4],columns=list('ABCDF'))\n",
    "df1['diff'] = df1.A - df1.B\n",
    "df1['A'].map(lambda x : 10 * x)\n",
    "print df1.applymap(np.sqrt)\n",
    "print df1.apply(np.sqrt, axis = 1)\n",
    "print df1.apply(np.sum, axis = 1)"
   ]
  },
  {
   "cell_type": "markdown",
   "metadata": {},
   "source": [
    "### SciPy: more advanced statistics"
   ]
  },
  {
   "cell_type": "markdown",
   "metadata": {},
   "source": [
    "SciPy is one of the most popular scientific computing libraries for Python. It is part of the so called \"NumPy stack\" of modules for scientific computing, along with NumPy, SymPy, Matplotlib and Pandas. SciPy does much more than just statistics, one could view it as a free and arguably more popular alternative to MatLab, one of the private scientific computing environments. Scipy can do pretty much anything that needs numerical computing, but in this chapter we will only use it for statistics.\n",
    "\n",
    "**T-test**\n",
    "\n",
    "One of the basic application of statistics is testing if a null hypothesis is true. In the previous application of Pandas for gene expression studies we observed that the data was normalized, with its averages matching closely. Suppose we want to know if in statistical terms these averages are matching sufficiently close. A simple way to check this is to compute all pair t-tests and see of all our obtained P - values are falling under the 0.005 bar.\n",
    "\n",
    "http://docs.scipy.org/doc/scipy-0.14.0/reference/generated/scipy.stats.ttest_ind.html\n"
   ]
  },
  {
   "cell_type": "code",
   "execution_count": 24,
   "metadata": {},
   "outputs": [
    {
     "name": "stdout",
     "output_type": "stream",
     "text": [
      "          GeneID  GSM21712  GSM21713  GSM21714  GSM21715  GSM21716  GSM21718\n",
      "ID                                                                          \n",
      "1007_s_at    780  7.002916  7.018323  6.742437  6.725877  7.051872  6.883046\n",
      "1053_at     5982  5.912374  5.905245  5.678275  5.765487  5.652194  5.845824\n",
      "117_at      3310  4.623223  4.572847  4.841309  4.319575  4.489222  4.573047\n",
      "121_at      7849  7.619362  7.573693  7.405601  7.552200  7.675400  7.223818\n",
      "[[  0.00e+00   4.55e-06   7.28e-09   5.75e-16   2.26e-03   7.81e-06]\n",
      " [  4.55e-06   0.00e+00   2.54e-01   4.74e-04   1.33e-01   9.50e-01]\n",
      " [  7.28e-09   2.54e-01   0.00e+00   1.66e-02   7.92e-03   2.34e-01]\n",
      " [  5.75e-16   4.74e-04   1.66e-02   0.00e+00   6.26e-07   4.32e-04]\n",
      " [  2.26e-03   1.33e-01   7.92e-03   6.26e-07   0.00e+00   1.54e-01]\n",
      " [  7.81e-06   9.50e-01   2.34e-01   4.32e-04   1.54e-01   0.00e+00]]\n"
     ]
    },
    {
     "name": "stderr",
     "output_type": "stream",
     "text": [
      "/home/sergiun/programs/anaconda3/envs/py35/lib/python3.5/site-packages/ipykernel/__main__.py:33: FutureWarning: \n",
      "The default value for 'return_type' will change to 'axes' in a future release.\n",
      " To use the future behavior now, set return_type='axes'.\n",
      " To keep the previous behavior and silence this warning, set return_type='dict'.\n"
     ]
    },
    {
     "data": {
      "text/plain": [
       "{'boxes': [<matplotlib.lines.Line2D at 0x7fcf2ddc7390>,\n",
       "  <matplotlib.lines.Line2D at 0x7fcf2dd657f0>,\n",
       "  <matplotlib.lines.Line2D at 0x7fcf2dd7b160>,\n",
       "  <matplotlib.lines.Line2D at 0x7fcf2dd8da90>,\n",
       "  <matplotlib.lines.Line2D at 0x7fcf2dd23400>,\n",
       "  <matplotlib.lines.Line2D at 0x7fcf2dd34d30>],\n",
       " 'caps': [<matplotlib.lines.Line2D at 0x7fcf2dd5ae10>,\n",
       "  <matplotlib.lines.Line2D at 0x7fcf2dd5af28>,\n",
       "  <matplotlib.lines.Line2D at 0x7fcf2dd70780>,\n",
       "  <matplotlib.lines.Line2D at 0x7fcf2dd70f98>,\n",
       "  <matplotlib.lines.Line2D at 0x7fcf2dd81fd0>,\n",
       "  <matplotlib.lines.Line2D at 0x7fcf2dd88908>,\n",
       "  <matplotlib.lines.Line2D at 0x7fcf2dd18a20>,\n",
       "  <matplotlib.lines.Line2D at 0x7fcf2dd18b38>,\n",
       "  <matplotlib.lines.Line2D at 0x7fcf2dd29c50>,\n",
       "  <matplotlib.lines.Line2D at 0x7fcf2dd2eba8>,\n",
       "  <matplotlib.lines.Line2D at 0x7fcf2dd40cc0>,\n",
       "  <matplotlib.lines.Line2D at 0x7fcf2dd40dd8>],\n",
       " 'fliers': [<matplotlib.lines.Line2D at 0x7fcf2dd60f98>,\n",
       "  <matplotlib.lines.Line2D at 0x7fcf2dd76ef0>,\n",
       "  <matplotlib.lines.Line2D at 0x7fcf2dd8d978>,\n",
       "  <matplotlib.lines.Line2D at 0x7fcf2dd1dba8>,\n",
       "  <matplotlib.lines.Line2D at 0x7fcf2dd34c18>,\n",
       "  <matplotlib.lines.Line2D at 0x7fcf2dd45e48>],\n",
       " 'means': [],\n",
       " 'medians': [<matplotlib.lines.Line2D at 0x7fcf2dd60780>,\n",
       "  <matplotlib.lines.Line2D at 0x7fcf2dd760f0>,\n",
       "  <matplotlib.lines.Line2D at 0x7fcf2dd88a20>,\n",
       "  <matplotlib.lines.Line2D at 0x7fcf2dd1d390>,\n",
       "  <matplotlib.lines.Line2D at 0x7fcf2dd2ecc0>,\n",
       "  <matplotlib.lines.Line2D at 0x7fcf2dd45630>],\n",
       " 'whiskers': [<matplotlib.lines.Line2D at 0x7fcf2ddc7da0>,\n",
       "  <matplotlib.lines.Line2D at 0x7fcf2ddc7eb8>,\n",
       "  <matplotlib.lines.Line2D at 0x7fcf2dd65fd0>,\n",
       "  <matplotlib.lines.Line2D at 0x7fcf2dd69f28>,\n",
       "  <matplotlib.lines.Line2D at 0x7fcf2dd7bf60>,\n",
       "  <matplotlib.lines.Line2D at 0x7fcf2dd81898>,\n",
       "  <matplotlib.lines.Line2D at 0x7fcf2dd129b0>,\n",
       "  <matplotlib.lines.Line2D at 0x7fcf2dd12ac8>,\n",
       "  <matplotlib.lines.Line2D at 0x7fcf2dd23be0>,\n",
       "  <matplotlib.lines.Line2D at 0x7fcf2dd29b38>,\n",
       "  <matplotlib.lines.Line2D at 0x7fcf2dd38c50>,\n",
       "  <matplotlib.lines.Line2D at 0x7fcf2dd38d68>]}"
      ]
     },
     "execution_count": 24,
     "metadata": {},
     "output_type": "execute_result"
    },
    {
     "data": {
      "image/png": "[encoded data removed]",
      "text/plain": [
       "<matplotlib.figure.Figure at 0x7fcf2ce93e80>"
      ]
     },
     "metadata": {},
     "output_type": "display_data"
    }
   ],
   "source": [
    "%matplotlib inline\n",
    "import pandas as pd\n",
    "import numpy as np\n",
    "from scipy import stats\n",
    "\n",
    "df = pd.read_csv('data/gex.txt', sep = '\\t', index_col = 0)\n",
    "print(df.head(4))\n",
    "#df.iloc[:,1:].astype(float)\n",
    "#print df.dtypes\n",
    "#print type(df.GSM21712.values)\n",
    "\n",
    "pmatrix = np.zeros((6,6))# the P-value matrix\n",
    "i = -1\n",
    "for ci in df.columns[1:]:\n",
    "    i += 1\n",
    "    a = df[ci].values\n",
    "    a = a[~np.isnan(a)]#Removing undefined elements\n",
    "    #a = df[ci].values.astype(float)\n",
    "    #print a.dtype, type(a[0])\n",
    "    j = -1\n",
    "    for cj in df.columns[1:]:\n",
    "        j += 1\n",
    "        if ci == cj: continue\n",
    "        b = df[cj].values\n",
    "        b = b[~np.isnan(b)]\n",
    "        t, p = stats.ttest_ind(a, b, equal_var = False)\n",
    "        #print np.isnan(a).any(), np.isnan(b).any()\n",
    "        pmatrix[i,j]=p\n",
    "\n",
    "np.set_printoptions(linewidth=200)\n",
    "np.set_printoptions(precision=2)\n",
    "print(pmatrix)\n",
    "df.boxplot()"
   ]
  },
  {
   "cell_type": "markdown",
   "metadata": {},
   "source": [
    "**ANOVA**\n",
    "\n",
    ".. But, in order not to get incidentally murdered by a reviewer with background in statistics, one should use a single test to rule them all, popularly called ANOVA.\n"
   ]
  },
  {
   "cell_type": "code",
   "execution_count": 45,
   "metadata": {},
   "outputs": [
    {
     "name": "stdout",
     "output_type": "stream",
     "text": [
      "(14.440905160749136, 3.5930324483772904e-14)\n"
     ]
    }
   ],
   "source": [
    "import pandas as pd\n",
    "import numpy as np\n",
    "from scipy import stats\n",
    "\n",
    "df = pd.read_csv('data/gex.txt', sep = '\\t', index_col = 0)\n",
    "\n",
    "sl = [] #sample list\n",
    "for ci in df.columns[1:]:\n",
    "    a = df[ci].values\n",
    "    a = a[~np.isnan(a)]#Removing undefined elements\n",
    "    sl.append(a)\n",
    "\n",
    "print stats.f_oneway(*sl)"
   ]
  },
  {
   "cell_type": "markdown",
   "metadata": {},
   "source": [
    "**Linear regression**\n",
    "\n",
    "Ever felt the need to fit a straight trendline to a number of points in a scatter plot? This is called linear regression. Here is how you can do LR with numpy. As a useful exercise, let us generate our own dataset.\n",
    "\n",
    "How is the line fitted? The most basic methodology is least square minimization of the squared standard error. One can do least square fitting directly in numpy or scikit-learn to obtain the same results."
   ]
  },
  {
   "cell_type": "code",
   "execution_count": 46,
   "metadata": {},
   "outputs": [
    {
     "data": {
      "text/plain": [
       "[<matplotlib.lines.Line2D at 0x7f0d3501bed0>,\n",
       " <matplotlib.lines.Line2D at 0x7f0d35029190>,\n",
       " <matplotlib.lines.Line2D at 0x7f0d35029850>]"
      ]
     },
     "execution_count": 46,
     "metadata": {},
     "output_type": "execute_result"
    },
    {
     "data": {
      "image/png": "[encoded data removed]",
      "text/plain": [
       "<matplotlib.figure.Figure at 0x7f0d34998810>"
      ]
     },
     "metadata": {},
     "output_type": "display_data"
    }
   ],
   "source": [
    "%matplotlib inline\n",
    "\n",
    "import numpy as np\n",
    "import pylab as plt\n",
    "from scipy import stats\n",
    "\n",
    "nsamp = 30\n",
    "x = np.linspace(0, 3, nsamp)\n",
    "y = -0.5*x + 1 #next line randomizes these aligned datapoints\n",
    "yr = y + .5*np.random.normal(size=nsamp)\n",
    "\n",
    "slope, intercept, r_value, p_value, std_err = stats.linregress(x,yr)\n",
    "line = slope*x+intercept\n",
    "\n",
    "plt.plot(x,line,'r-', x,yr,'o', x,y,'b-')"
   ]
  },
  {
   "cell_type": "markdown",
   "metadata": {},
   "source": [
    "**Curve fitting and parameter estimation**\n",
    "\n",
    "When the data points are multidimensional you will use more complex multivariate regression techniques, but we will discuss that at more length in the machine learning chapter. For the moment, let us use a similar exercise as before, but fit a curve instead. While not strictly statistics related, this exercise can be useful for example if we want to decide how a probability distribution fits our data. We will use the least-square again, through the optimization module of scipy."
   ]
  },
  {
   "cell_type": "code",
   "execution_count": 27,
   "metadata": {},
   "outputs": [
    {
     "name": "stdout",
     "output_type": "stream",
     "text": [
      "Optimization terminated successfully.\n",
      "         Current function value: 13.261850\n",
      "         Iterations: 68\n",
      "         Function evaluations: 129\n",
      "estimated vs real [ -0.6   21.56] (1, 20)\n"
     ]
    },
    {
     "data": {
      "text/plain": [
       "[<matplotlib.lines.Line2D at 0x7fcf2d754ef0>,\n",
       " <matplotlib.lines.Line2D at 0x7fcf2d75b0f0>,\n",
       " <matplotlib.lines.Line2D at 0x7fcf2d75bac8>]"
      ]
     },
     "execution_count": 27,
     "metadata": {},
     "output_type": "execute_result"
    },
    {
     "data": {
      "image/png": "[encoded data removed]",
      "text/plain": [
       "<matplotlib.figure.Figure at 0x7fcf2d808ac8>"
      ]
     },
     "metadata": {},
     "output_type": "display_data"
    }
   ],
   "source": [
    "%matplotlib inline\n",
    "import numpy as np\n",
    "import pylab as plt\n",
    "from scipy import optimize\n",
    "\n",
    "nsamp = 30\n",
    "x = np.linspace(0,1,nsamp)\n",
    "\"\"\"\n",
    "y = -0.5*x**2 + 7*sin(x)\n",
    "This is what we try to fit against. Suppose we know our function is generated\n",
    "by this law and want to find the (-0.5, 7) parameters. Alternatively we might\n",
    "not know anything about this dataset but just want to fit this curve to it.\n",
    "\"\"\"\n",
    "\n",
    "f = lambda p, x: p[0]*x*x + p[1]*np.sin(x)\n",
    "#Exercise: define a normal Python function f() instead!\n",
    "\n",
    "testp = (1, 20)\n",
    "y = f(testp,x)\n",
    "yr = y + .5*np.random.normal(size=nsamp)\n",
    "\n",
    "e = lambda p, x, y: (abs((f(p,x)-y))).sum()\n",
    "\n",
    "p0 = (5, 20) # initial parameter value\n",
    "p = optimize.fmin(e, p0, args=(x,yr))\n",
    "yp = f(p,x)\n",
    "\n",
    "print(\"estimated vs real\", p, testp)\n",
    "plt.plot(x,yp,'r-', x,yr,'o', x,y,'b-')\n"
   ]
  },
  {
   "cell_type": "markdown",
   "metadata": {},
   "source": [
    "### Exercise: Statistical enrichment analysis"
   ]
  },
  {
   "cell_type": "markdown",
   "metadata": {},
   "source": [
    "**What is enrichment?**\n",
    "Before we move on, we should get back to something that is always obsessing biologists with data: putting a P-value on your findings. If all you have is a series of numbers of a series of series it may be that the T-tests and ANOVA will be quite good, but what if you have cathegorical data, as many times it happens in biology? What if the question is \"I have a bag of vegetables, to which of the following vegetable racks is my bag belonging more?\". If the answer also takes into account how many items each of the vegetable racks is holding then you can sove it with statistical enrichment testing. Of course no one at this course will argue with your shopping habits if you don't think the number of vegies on a store racks is important! As there are many cathegorical sets of functional annotations in biology, we will only focus on [Gene Ontology](http://geneontology.org/)\n",
    "\n",
    "**Gene Ontology**\n",
    "To use the GO annotations we typically need to know if the genes/protein of a specific organism are annotated with a certain GO label (GO id), while concurrent labels are possible for every gene/protein since each can have multiple roles in biology. The annotations are structured in a tree, with the branches having inherited all annotations from the leafs. You can read more about it [here](http://en.wikipedia.org/wiki/Gene_ontology).\n",
    "\n",
    "Extra task: Download raw annotation files and program your own Python GO module. One key aspect is annotations must be inherited through the tree. The elegant way to achieve the tree traversal is using a recursive function. This is a hard task, that needs hours to complete but it can be very instructive.\n",
    "\n",
    "For the purpose of this course in order to parse the GO annotations we will use a Python library called [Orange](http://pythonhosted.org/Orange-Bioinformatics/index.html), that has other useful modules as well. Other alternatives are calling an R package from within Python (recomending [topGO](http://www.bioconductor.org/packages/release/bioc/html/topGO.html) for enrichment and GO.db for interogation) or if you are a Perl senior then call a BIO::Perl module. BioPython is also preparing a GO module so be sure to check their package once every couple of years.\n",
    "\n",
    "**Enrichment test**\n",
    "\n",
    "In the figure below you can see that there are four sets forming up when we intersect our custom set of genes with the annotation database. The purpose of the enrichment test is to tell how likely is the four sets overlap. To answer this a hypergeometric test is commonly used, known as Fischer's exact test. Let us put it into Python!\n",
    "\n",
    "[http://en.wikipedia.org/wiki/Fisher%27s_exact_test](http://en.wikipedia.org/wiki/Fisher%27s_exact_test)\n",
    "\n",
    "Note that multiple testing corrections like the [Bonferroni correction](http://en.wikipedia.org/wiki/Bonferroni_correction) must also be executed, but obtaining the raw P-values is sufficient for the purpose of this course.\n"
   ]
  },
  {
   "cell_type": "code",
   "execution_count": 1,
   "metadata": {},
   "outputs": [
    {
     "data": {
      "image/svg+xml": [
       "<svg height=\"500\" version=\"1.1\" width=\"600\" xmlns=\"http://www.w3.org/2000/svg\"><g style=\"fill-opacity:1.0; stroke:black; stroke-width:1;\"><text font-size=\"24\" x=\"50\" y=\"50\">GO enrichment schema</text><circle cx=\"170\" cy=\"200\" r=\"35\" style=\"fill:#666; fill-opacity:0.5;\" /><text font-size=\"11\" x=\"190\" y=\"160\">G: genes annotated to GO_id</text><circle cx=\"200\" cy=\"200\" r=\"80\" style=\"fill:#ccc; fill-opacity:0.1;\" /><text font-size=\"11\" x=\"190\" y=\"110\">X: all annotated genes</text><circle cx=\"100\" cy=\"200\" r=\"50\" style=\"fill:#666; fill-opacity:0.5;\" /><text font-size=\"11\" x=\"50\" y=\"140\">T: test gene set</text><text font-size=\"11\" x=\"170\" y=\"200\">a</text><text font-size=\"11\" x=\"140\" y=\"200\">b</text><text font-size=\"11\" x=\"125\" y=\"200\">c</text><text font-size=\"11\" x=\"250\" y=\"200\">d</text></g></svg>"
      ],
      "text/plain": [
       "<__main__.SVGScene instance at 0x7f2a581bf758>"
      ]
     },
     "execution_count": 1,
     "metadata": {},
     "output_type": "execute_result"
    }
   ],
   "source": [
    "%run ./lib/svgoutput.py\n",
    "\"\"\"\n",
    "GO enrichment figure displayed using IPython's native SVG frontend\n",
    "\"\"\"\n",
    "scene = SVGScene(500,600)\n",
    "scene.text((50,50),\"GO enrichment schema\")\n",
    "\n",
    "\n",
    "scene.circle((170,200),35,(100,100,100), 0.5)\n",
    "scene.text((190,160),\"G: genes annotated to GO_id\",size = 11)\n",
    "scene.circle((200,200),80,(200,200,200), 0.1)\n",
    "scene.text((190,110),\"X: all annotated genes\",size = 11)\n",
    "scene.circle((100,200),50,(100,100,100), 0.5)\n",
    "scene.text((50,140),\"T: test gene set\",size = 11)\n",
    "\n",
    "scene.text((170,200),\"a\", size = 11)\n",
    "scene.text((140,200),\"b\", size = 11)\n",
    "scene.text((125,200),\"c\", size = 11)\n",
    "scene.text((250,200),\"d\", size = 11)\n",
    "\n",
    "scene"
   ]
  },
  {
   "cell_type": "code",
   "execution_count": null,
   "metadata": {},
   "outputs": [],
   "source": []
  },
  {
   "cell_type": "markdown",
   "metadata": {},
   "source": [
    "Perform the statistical test\n",
    "\n",
    "                    In Set  Outside Set\n",
    "        GOid ann.     b       a\n",
    "    Not GOid ann.     c       d\n",
    "\n",
    "Read the docs:\n",
    "[http://docs.scipy.org/doc/scipy/reference/generated/scipy.stats.fisher_exact.html](http://docs.scipy.org/doc/scipy/reference/generated/scipy.stats.fisher_exact.html)\n"
   ]
  },
  {
   "cell_type": "code",
   "execution_count": null,
   "metadata": {},
   "outputs": [],
   "source": [
    "\"\"\"\n",
    "Using R to get the annotations and perform GO enrichment\n",
    "TODO: not finished, only for reference\n",
    "See here something similar:\n",
    "http://bcb.io/2009/10/18/gene-ontology-analysis-with-python-and-bioconductor/\n",
    "\"\"\"\n",
    "\n",
    "import rpy2.robjects as robjects\n",
    "def get_go_children(go_term, go_term_type):\n",
    "    robjects.r('''\n",
    "        library(GO.db)\n",
    "    ''')\n",
    "    child_map = robjects.r[\"GO%sCHILDREN\" % (go_term_type)]\n",
    "    children = []\n",
    "    to_check = [go_term]\n",
    "    while len(to_check) > 0:\n",
    "        new_children = []\n",
    "        for check_term in to_check:\n",
    "            new_children.extend(list(robjects.r.get(check_term, child_map)))\n",
    "        new_children = list(set([c for c in new_children if c]))\n",
    "        children.extend(new_children)\n",
    "        to_check = new_children\n",
    "    children = list(set(children))\n",
    "    return children"
   ]
  },
  {
   "cell_type": "code",
   "execution_count": 48,
   "metadata": {},
   "outputs": [
    {
     "name": "stdout",
     "output_type": "stream",
     "text": [
      "7886\n"
     ]
    }
   ],
   "source": [
    "\"\"\"\n",
    "Using Orange to get annotations\n",
    "\"\"\"\n",
    "from orangecontrib.bio import go\n",
    "import sys\n",
    "\n",
    "ontology = go.Ontology()\n",
    "# Print names and definitions of all terms with \"apoptosis\" in the name\n",
    "terms = [term for term in ontology.terms.values() if \"apoptosis\" in term.name.lower()]\n",
    "#for term in terms: print term.id, term.name, term.def_\n",
    "##Catch question: Why def_?\n",
    "# Load annotations for yeast.\n",
    "annotations = go.Annotations(\"sgd\", ontology=ontology)\n",
    "\n",
    "#Review: Object introspection\n",
    "#print dir(annotations)\n",
    "#print go.__file__\n",
    "#print dir(annotations.get_all_annotations)\n",
    "#print annotations.get_all_annotations.__doc__\n",
    "#print dir(ontology.terms)\n",
    "#print ontology.terms.values()[0]\n",
    "#print annotations.get_annotated_terms.__doc__\n",
    "\n",
    "go = {}\n",
    "for term in ontology.terms.values():\n",
    "    ants = annotations.get_all_annotations(term.id)\n",
    "    gs = set([a.gene_name for a in ants])\n",
    "    if len(gs)>0: go[term.id] = gs\n",
    "\n",
    "print len(go)\n",
    "\n",
    "\n",
    "        # res = annotations.get_enriched_terms([\"YGR270W\", \"YIL075C\", \"YDL007W\"])\n",
    "\n",
    "# gene = annotations.alias_mapper[\"YIL075C\"]\n",
    "# print(gene + \" (YIL075C) directly annotated to the following terms:\")\n",
    "# for a in annotations.gene_annotations[gene]:\n",
    "#     print(ontology[a.GO_ID].name + \" with evidence code \" + a.Evidence_Code)\n",
    "\n",
    "# # Get all genes annotated to the same terms as YIL075C\n",
    "# ids = set([a.GO_ID for a in annotations.gene_annotations[gene]])\n",
    "# for termid in ids:\n",
    "#     ants = annotations.get_all_annotations(termid)\n",
    "#     genes = set([a.DB_Object_Symbol for a in ants])\n",
    "#     print(\", \".join(genes) +\" annotated to \" + termid + \" \" + ontology[termid].name)\n"
   ]
  },
  {
   "cell_type": "markdown",
   "metadata": {},
   "source": [
    "Now we want to choose a set of genes to test enrichment, so we output a few terms together with their annotated genes:"
   ]
  },
  {
   "cell_type": "code",
   "execution_count": null,
   "metadata": {},
   "outputs": [],
   "source": [
    "for gid in go:\n",
    "    if len(go[gid])>5 and len(go[gid])<20:\n",
    "        print gid, ontology[gid].name, go[gid]"
   ]
  },
  {
   "cell_type": "code",
   "execution_count": 48,
   "metadata": {},
   "outputs": [],
   "source": [
    "\n"
   ]
  },
  {
   "cell_type": "code",
   "execution_count": 49,
   "metadata": {},
   "outputs": [
    {
     "name": "stdout",
     "output_type": "stream",
     "text": [
      "Total number of annotated genes: 6380\n"
     ]
    },
    {
     "data": {
      "text/html": [
       "<div style=\"max-height:1000px;max-width:1500px;overflow:auto;\">\n",
       "<table border=\"1\" class=\"dataframe\">\n",
       "  <thead>\n",
       "    <tr style=\"text-align: right;\">\n",
       "      <th></th>\n",
       "      <th>0</th>\n",
       "      <th>1</th>\n",
       "      <th>2</th>\n",
       "    </tr>\n",
       "  </thead>\n",
       "  <tbody>\n",
       "    <tr>\n",
       "      <th>43  </th>\n",
       "      <td> GO:0006620</td>\n",
       "      <td>   posttranslational protein targeting to membrane</td>\n",
       "      <td> 4.809643e-47</td>\n",
       "    </tr>\n",
       "    <tr>\n",
       "      <th>3887</th>\n",
       "      <td> GO:0045047</td>\n",
       "      <td>                           protein targeting to ER</td>\n",
       "      <td> 1.778213e-37</td>\n",
       "    </tr>\n",
       "    <tr>\n",
       "      <th>4639</th>\n",
       "      <td> GO:0072599</td>\n",
       "      <td> establishment of protein localization to endop...</td>\n",
       "      <td> 2.916269e-37</td>\n",
       "    </tr>\n",
       "    <tr>\n",
       "      <th>2949</th>\n",
       "      <td> GO:0070972</td>\n",
       "      <td>     protein localization to endoplasmic reticulum</td>\n",
       "      <td> 6.379422e-36</td>\n",
       "    </tr>\n",
       "    <tr>\n",
       "      <th>3873</th>\n",
       "      <td> GO:0006612</td>\n",
       "      <td>                     protein targeting to membrane</td>\n",
       "      <td> 3.103997e-34</td>\n",
       "    </tr>\n",
       "    <tr>\n",
       "      <th>7252</th>\n",
       "      <td> GO:0090150</td>\n",
       "      <td> establishment of protein localization to membrane</td>\n",
       "      <td> 1.226710e-29</td>\n",
       "    </tr>\n",
       "    <tr>\n",
       "      <th>257 </th>\n",
       "      <td> GO:0072657</td>\n",
       "      <td>                  protein localization to membrane</td>\n",
       "      <td> 1.975087e-29</td>\n",
       "    </tr>\n",
       "    <tr>\n",
       "      <th>7646</th>\n",
       "      <td> GO:0006605</td>\n",
       "      <td>                                 protein targeting</td>\n",
       "      <td> 1.247136e-22</td>\n",
       "    </tr>\n",
       "    <tr>\n",
       "      <th>4641</th>\n",
       "      <td> GO:0072594</td>\n",
       "      <td> establishment of protein localization to organ...</td>\n",
       "      <td> 1.767239e-22</td>\n",
       "    </tr>\n",
       "    <tr>\n",
       "      <th>5884</th>\n",
       "      <td> GO:0044802</td>\n",
       "      <td>             single-organism membrane organization</td>\n",
       "      <td> 1.981671e-22</td>\n",
       "    </tr>\n",
       "    <tr>\n",
       "      <th>6783</th>\n",
       "      <td> GO:0061024</td>\n",
       "      <td>                             membrane organization</td>\n",
       "      <td> 2.485697e-22</td>\n",
       "    </tr>\n",
       "    <tr>\n",
       "      <th>5266</th>\n",
       "      <td> GO:0031204</td>\n",
       "      <td> posttranslational protein targeting to membran...</td>\n",
       "      <td> 1.706860e-21</td>\n",
       "    </tr>\n",
       "    <tr>\n",
       "      <th>1692</th>\n",
       "      <td> GO:0033365</td>\n",
       "      <td>                 protein localization to organelle</td>\n",
       "      <td> 4.011794e-21</td>\n",
       "    </tr>\n",
       "    <tr>\n",
       "      <th>1518</th>\n",
       "      <td> GO:0006886</td>\n",
       "      <td>                   intracellular protein transport</td>\n",
       "      <td> 1.311140e-20</td>\n",
       "    </tr>\n",
       "    <tr>\n",
       "      <th>398 </th>\n",
       "      <td> GO:1902580</td>\n",
       "      <td>             single-organism cellular localization</td>\n",
       "      <td> 2.956570e-20</td>\n",
       "    </tr>\n",
       "    <tr>\n",
       "      <th>1851</th>\n",
       "      <td> GO:0034613</td>\n",
       "      <td>                     cellular protein localization</td>\n",
       "      <td> 1.468180e-18</td>\n",
       "    </tr>\n",
       "    <tr>\n",
       "      <th>1378</th>\n",
       "      <td> GO:0070727</td>\n",
       "      <td>               cellular macromolecule localization</td>\n",
       "      <td> 2.966828e-18</td>\n",
       "    </tr>\n",
       "    <tr>\n",
       "      <th>811 </th>\n",
       "      <td> GO:0016482</td>\n",
       "      <td>                             cytoplasmic transport</td>\n",
       "      <td> 7.606578e-18</td>\n",
       "    </tr>\n",
       "    <tr>\n",
       "      <th>4945</th>\n",
       "      <td> GO:0015031</td>\n",
       "      <td>                                 protein transport</td>\n",
       "      <td> 1.319491e-17</td>\n",
       "    </tr>\n",
       "    <tr>\n",
       "      <th>3728</th>\n",
       "      <td> GO:0045184</td>\n",
       "      <td>             establishment of protein localization</td>\n",
       "      <td> 2.508306e-17</td>\n",
       "    </tr>\n",
       "    <tr>\n",
       "      <th>397 </th>\n",
       "      <td> GO:1902582</td>\n",
       "      <td>           single-organism intracellular transport</td>\n",
       "      <td> 7.233926e-17</td>\n",
       "    </tr>\n",
       "    <tr>\n",
       "      <th>2796</th>\n",
       "      <td> GO:0046907</td>\n",
       "      <td>                           intracellular transport</td>\n",
       "      <td> 3.367064e-16</td>\n",
       "    </tr>\n",
       "    <tr>\n",
       "      <th>7499</th>\n",
       "      <td> GO:0008104</td>\n",
       "      <td>                              protein localization</td>\n",
       "      <td> 4.977274e-16</td>\n",
       "    </tr>\n",
       "    <tr>\n",
       "      <th>7734</th>\n",
       "      <td> GO:0051649</td>\n",
       "      <td>             establishment of localization in cell</td>\n",
       "      <td> 1.490948e-15</td>\n",
       "    </tr>\n",
       "    <tr>\n",
       "      <th>7050</th>\n",
       "      <td> GO:0033036</td>\n",
       "      <td>                        macromolecule localization</td>\n",
       "      <td> 7.195909e-15</td>\n",
       "    </tr>\n",
       "    <tr>\n",
       "      <th>6762</th>\n",
       "      <td> GO:0071702</td>\n",
       "      <td>                       organic substance transport</td>\n",
       "      <td> 9.396642e-15</td>\n",
       "    </tr>\n",
       "    <tr>\n",
       "      <th>7739</th>\n",
       "      <td> GO:0051641</td>\n",
       "      <td>                             cellular localization</td>\n",
       "      <td> 2.312074e-14</td>\n",
       "    </tr>\n",
       "    <tr>\n",
       "      <th>4381</th>\n",
       "      <td> GO:0030867</td>\n",
       "      <td>              rough endoplasmic reticulum membrane</td>\n",
       "      <td> 3.932540e-14</td>\n",
       "    </tr>\n",
       "    <tr>\n",
       "      <th>6806</th>\n",
       "      <td> GO:0005791</td>\n",
       "      <td>                       rough endoplasmic reticulum</td>\n",
       "      <td> 3.932540e-14</td>\n",
       "    </tr>\n",
       "    <tr>\n",
       "      <th>6576</th>\n",
       "      <td> GO:0044765</td>\n",
       "      <td>                         single-organism transport</td>\n",
       "      <td> 4.021301e-13</td>\n",
       "    </tr>\n",
       "    <tr>\n",
       "      <th>...</th>\n",
       "      <td>...</td>\n",
       "      <td>...</td>\n",
       "      <td>...</td>\n",
       "    </tr>\n",
       "    <tr>\n",
       "      <th>2679</th>\n",
       "      <td> GO:0033592</td>\n",
       "      <td>                     RNA strand annealing activity</td>\n",
       "      <td> 1.000000e+00</td>\n",
       "    </tr>\n",
       "    <tr>\n",
       "      <th>2706</th>\n",
       "      <td> GO:0034982</td>\n",
       "      <td>                  mitochondrial protein processing</td>\n",
       "      <td> 1.000000e+00</td>\n",
       "    </tr>\n",
       "    <tr>\n",
       "      <th>2705</th>\n",
       "      <td> GO:0007039</td>\n",
       "      <td>          protein catabolic process in the vacuole</td>\n",
       "      <td> 1.000000e+00</td>\n",
       "    </tr>\n",
       "    <tr>\n",
       "      <th>2704</th>\n",
       "      <td> GO:0007035</td>\n",
       "      <td>                            vacuolar acidification</td>\n",
       "      <td> 1.000000e+00</td>\n",
       "    </tr>\n",
       "    <tr>\n",
       "      <th>2703</th>\n",
       "      <td> GO:0007034</td>\n",
       "      <td>                                vacuolar transport</td>\n",
       "      <td> 1.000000e+00</td>\n",
       "    </tr>\n",
       "    <tr>\n",
       "      <th>2702</th>\n",
       "      <td> GO:0008453</td>\n",
       "      <td>          alanine-glyoxylate transaminase activity</td>\n",
       "      <td> 1.000000e+00</td>\n",
       "    </tr>\n",
       "    <tr>\n",
       "      <th>2701</th>\n",
       "      <td> GO:0007031</td>\n",
       "      <td>                           peroxisome organization</td>\n",
       "      <td> 1.000000e+00</td>\n",
       "    </tr>\n",
       "    <tr>\n",
       "      <th>2700</th>\n",
       "      <td> GO:0007030</td>\n",
       "      <td>                                Golgi organization</td>\n",
       "      <td> 1.000000e+00</td>\n",
       "    </tr>\n",
       "    <tr>\n",
       "      <th>2699</th>\n",
       "      <td> GO:0007033</td>\n",
       "      <td>                              vacuole organization</td>\n",
       "      <td> 1.000000e+00</td>\n",
       "    </tr>\n",
       "    <tr>\n",
       "      <th>2698</th>\n",
       "      <td> GO:0007032</td>\n",
       "      <td>                             endosome organization</td>\n",
       "      <td> 1.000000e+00</td>\n",
       "    </tr>\n",
       "    <tr>\n",
       "      <th>2697</th>\n",
       "      <td> GO:0005868</td>\n",
       "      <td>                        cytoplasmic dynein complex</td>\n",
       "      <td> 1.000000e+00</td>\n",
       "    </tr>\n",
       "    <tr>\n",
       "      <th>2696</th>\n",
       "      <td> GO:0005869</td>\n",
       "      <td>                                  dynactin complex</td>\n",
       "      <td> 1.000000e+00</td>\n",
       "    </tr>\n",
       "    <tr>\n",
       "      <th>2695</th>\n",
       "      <td> GO:0016129</td>\n",
       "      <td>                 phytosteroid biosynthetic process</td>\n",
       "      <td> 1.000000e+00</td>\n",
       "    </tr>\n",
       "    <tr>\n",
       "      <th>2694</th>\n",
       "      <td> GO:0016128</td>\n",
       "      <td>                    phytosteroid metabolic process</td>\n",
       "      <td> 1.000000e+00</td>\n",
       "    </tr>\n",
       "    <tr>\n",
       "      <th>2693</th>\n",
       "      <td> GO:0016125</td>\n",
       "      <td>                          sterol metabolic process</td>\n",
       "      <td> 1.000000e+00</td>\n",
       "    </tr>\n",
       "    <tr>\n",
       "      <th>2692</th>\n",
       "      <td> GO:0015138</td>\n",
       "      <td>       fumarate transmembrane transporter activity</td>\n",
       "      <td> 1.000000e+00</td>\n",
       "    </tr>\n",
       "    <tr>\n",
       "      <th>2691</th>\n",
       "      <td> GO:0016126</td>\n",
       "      <td>                       sterol biosynthetic process</td>\n",
       "      <td> 1.000000e+00</td>\n",
       "    </tr>\n",
       "    <tr>\n",
       "      <th>2690</th>\n",
       "      <td> GO:0001786</td>\n",
       "      <td>                        phosphatidylserine binding</td>\n",
       "      <td> 1.000000e+00</td>\n",
       "    </tr>\n",
       "    <tr>\n",
       "      <th>2689</th>\n",
       "      <td> GO:0015168</td>\n",
       "      <td>       glycerol transmembrane transporter activity</td>\n",
       "      <td> 1.000000e+00</td>\n",
       "    </tr>\n",
       "    <tr>\n",
       "      <th>2688</th>\n",
       "      <td> GO:0015169</td>\n",
       "      <td> glycerol-3-phosphate transmembrane transporter...</td>\n",
       "      <td> 1.000000e+00</td>\n",
       "    </tr>\n",
       "    <tr>\n",
       "      <th>2687</th>\n",
       "      <td> GO:0015165</td>\n",
       "      <td> pyrimidine nucleotide-sugar transmembrane tran...</td>\n",
       "      <td> 1.000000e+00</td>\n",
       "    </tr>\n",
       "    <tr>\n",
       "      <th>2686</th>\n",
       "      <td> GO:0071577</td>\n",
       "      <td>                  zinc ion transmembrane transport</td>\n",
       "      <td> 1.000000e+00</td>\n",
       "    </tr>\n",
       "    <tr>\n",
       "      <th>2685</th>\n",
       "      <td> GO:0051575</td>\n",
       "      <td>         5'-deoxyribose-5-phosphate lyase activity</td>\n",
       "      <td> 1.000000e+00</td>\n",
       "    </tr>\n",
       "    <tr>\n",
       "      <th>2684</th>\n",
       "      <td> GO:0019388</td>\n",
       "      <td>                       galactose catabolic process</td>\n",
       "      <td> 1.000000e+00</td>\n",
       "    </tr>\n",
       "    <tr>\n",
       "      <th>2683</th>\n",
       "      <td> GO:0033048</td>\n",
       "      <td> negative regulation of mitotic sister chromati...</td>\n",
       "      <td> 1.000000e+00</td>\n",
       "    </tr>\n",
       "    <tr>\n",
       "      <th>2682</th>\n",
       "      <td> GO:0033043</td>\n",
       "      <td>              regulation of organelle organization</td>\n",
       "      <td> 1.000000e+00</td>\n",
       "    </tr>\n",
       "    <tr>\n",
       "      <th>2681</th>\n",
       "      <td> GO:2000200</td>\n",
       "      <td> regulation of ribosomal subunit export from nu...</td>\n",
       "      <td> 1.000000e+00</td>\n",
       "    </tr>\n",
       "    <tr>\n",
       "      <th>2680</th>\n",
       "      <td> GO:2000203</td>\n",
       "      <td> regulation of ribosomal large subunit export f...</td>\n",
       "      <td> 1.000000e+00</td>\n",
       "    </tr>\n",
       "    <tr>\n",
       "      <th>2773</th>\n",
       "      <td> GO:0005528</td>\n",
       "      <td>                                     FK506 binding</td>\n",
       "      <td> 1.000000e+00</td>\n",
       "    </tr>\n",
       "    <tr>\n",
       "      <th>7885</th>\n",
       "      <td> GO:0070525</td>\n",
       "      <td>      threonylcarbamoyladenosine metabolic process</td>\n",
       "      <td> 1.000000e+00</td>\n",
       "    </tr>\n",
       "  </tbody>\n",
       "</table>\n",
       "<p>7886 rows × 3 columns</p>\n",
       "</div>"
      ],
      "text/plain": [
       "               0                                                  1  \\\n",
       "43    GO:0006620    posttranslational protein targeting to membrane   \n",
       "3887  GO:0045047                            protein targeting to ER   \n",
       "4639  GO:0072599  establishment of protein localization to endop...   \n",
       "2949  GO:0070972      protein localization to endoplasmic reticulum   \n",
       "3873  GO:0006612                      protein targeting to membrane   \n",
       "7252  GO:0090150  establishment of protein localization to membrane   \n",
       "257   GO:0072657                   protein localization to membrane   \n",
       "7646  GO:0006605                                  protein targeting   \n",
       "4641  GO:0072594  establishment of protein localization to organ...   \n",
       "5884  GO:0044802              single-organism membrane organization   \n",
       "6783  GO:0061024                              membrane organization   \n",
       "5266  GO:0031204  posttranslational protein targeting to membran...   \n",
       "1692  GO:0033365                  protein localization to organelle   \n",
       "1518  GO:0006886                    intracellular protein transport   \n",
       "398   GO:1902580              single-organism cellular localization   \n",
       "1851  GO:0034613                      cellular protein localization   \n",
       "1378  GO:0070727                cellular macromolecule localization   \n",
       "811   GO:0016482                              cytoplasmic transport   \n",
       "4945  GO:0015031                                  protein transport   \n",
       "3728  GO:0045184              establishment of protein localization   \n",
       "397   GO:1902582            single-organism intracellular transport   \n",
       "2796  GO:0046907                            intracellular transport   \n",
       "7499  GO:0008104                               protein localization   \n",
       "7734  GO:0051649              establishment of localization in cell   \n",
       "7050  GO:0033036                         macromolecule localization   \n",
       "6762  GO:0071702                        organic substance transport   \n",
       "7739  GO:0051641                              cellular localization   \n",
       "4381  GO:0030867               rough endoplasmic reticulum membrane   \n",
       "6806  GO:0005791                        rough endoplasmic reticulum   \n",
       "6576  GO:0044765                          single-organism transport   \n",
       "...          ...                                                ...   \n",
       "2679  GO:0033592                      RNA strand annealing activity   \n",
       "2706  GO:0034982                   mitochondrial protein processing   \n",
       "2705  GO:0007039           protein catabolic process in the vacuole   \n",
       "2704  GO:0007035                             vacuolar acidification   \n",
       "2703  GO:0007034                                 vacuolar transport   \n",
       "2702  GO:0008453           alanine-glyoxylate transaminase activity   \n",
       "2701  GO:0007031                            peroxisome organization   \n",
       "2700  GO:0007030                                 Golgi organization   \n",
       "2699  GO:0007033                               vacuole organization   \n",
       "2698  GO:0007032                              endosome organization   \n",
       "2697  GO:0005868                         cytoplasmic dynein complex   \n",
       "2696  GO:0005869                                   dynactin complex   \n",
       "2695  GO:0016129                  phytosteroid biosynthetic process   \n",
       "2694  GO:0016128                     phytosteroid metabolic process   \n",
       "2693  GO:0016125                           sterol metabolic process   \n",
       "2692  GO:0015138        fumarate transmembrane transporter activity   \n",
       "2691  GO:0016126                        sterol biosynthetic process   \n",
       "2690  GO:0001786                         phosphatidylserine binding   \n",
       "2689  GO:0015168        glycerol transmembrane transporter activity   \n",
       "2688  GO:0015169  glycerol-3-phosphate transmembrane transporter...   \n",
       "2687  GO:0015165  pyrimidine nucleotide-sugar transmembrane tran...   \n",
       "2686  GO:0071577                   zinc ion transmembrane transport   \n",
       "2685  GO:0051575          5'-deoxyribose-5-phosphate lyase activity   \n",
       "2684  GO:0019388                        galactose catabolic process   \n",
       "2683  GO:0033048  negative regulation of mitotic sister chromati...   \n",
       "2682  GO:0033043               regulation of organelle organization   \n",
       "2681  GO:2000200  regulation of ribosomal subunit export from nu...   \n",
       "2680  GO:2000203  regulation of ribosomal large subunit export f...   \n",
       "2773  GO:0005528                                      FK506 binding   \n",
       "7885  GO:0070525       threonylcarbamoyladenosine metabolic process   \n",
       "\n",
       "                 2  \n",
       "43    4.809643e-47  \n",
       "3887  1.778213e-37  \n",
       "4639  2.916269e-37  \n",
       "2949  6.379422e-36  \n",
       "3873  3.103997e-34  \n",
       "7252  1.226710e-29  \n",
       "257   1.975087e-29  \n",
       "7646  1.247136e-22  \n",
       "4641  1.767239e-22  \n",
       "5884  1.981671e-22  \n",
       "6783  2.485697e-22  \n",
       "5266  1.706860e-21  \n",
       "1692  4.011794e-21  \n",
       "1518  1.311140e-20  \n",
       "398   2.956570e-20  \n",
       "1851  1.468180e-18  \n",
       "1378  2.966828e-18  \n",
       "811   7.606578e-18  \n",
       "4945  1.319491e-17  \n",
       "3728  2.508306e-17  \n",
       "397   7.233926e-17  \n",
       "2796  3.367064e-16  \n",
       "7499  4.977274e-16  \n",
       "7734  1.490948e-15  \n",
       "7050  7.195909e-15  \n",
       "6762  9.396642e-15  \n",
       "7739  2.312074e-14  \n",
       "4381  3.932540e-14  \n",
       "6806  3.932540e-14  \n",
       "6576  4.021301e-13  \n",
       "...            ...  \n",
       "2679  1.000000e+00  \n",
       "2706  1.000000e+00  \n",
       "2705  1.000000e+00  \n",
       "2704  1.000000e+00  \n",
       "2703  1.000000e+00  \n",
       "2702  1.000000e+00  \n",
       "2701  1.000000e+00  \n",
       "2700  1.000000e+00  \n",
       "2699  1.000000e+00  \n",
       "2698  1.000000e+00  \n",
       "2697  1.000000e+00  \n",
       "2696  1.000000e+00  \n",
       "2695  1.000000e+00  \n",
       "2694  1.000000e+00  \n",
       "2693  1.000000e+00  \n",
       "2692  1.000000e+00  \n",
       "2691  1.000000e+00  \n",
       "2690  1.000000e+00  \n",
       "2689  1.000000e+00  \n",
       "2688  1.000000e+00  \n",
       "2687  1.000000e+00  \n",
       "2686  1.000000e+00  \n",
       "2685  1.000000e+00  \n",
       "2684  1.000000e+00  \n",
       "2683  1.000000e+00  \n",
       "2682  1.000000e+00  \n",
       "2681  1.000000e+00  \n",
       "2680  1.000000e+00  \n",
       "2773  1.000000e+00  \n",
       "7885  1.000000e+00  \n",
       "\n",
       "[7886 rows x 3 columns]"
      ]
     },
     "execution_count": 49,
     "metadata": {},
     "output_type": "execute_result"
    }
   ],
   "source": [
    "testset = set(['KAR2', 'EGD1', 'EGD2', 'YBR137W', 'MDY2', 'SEC72', 'SGT2', 'SEC66', 'SEC61', 'SEC62', 'SEC63', 'LHS1', 'SSS1', 'BTT1', 'GET3', 'GET4'])\n",
    "testGO = 'GO:0006620'# posttranslational protein targeting to membrane set\n",
    "\n",
    "#testset = set(['ENV9', 'VPS41', 'ENV7', 'ATG15', 'ATG18', 'ENV11'])\n",
    "#testGO = 'GO:0006624'#GO:0006624 vacuolar protein processing set\n",
    "\n",
    "#annotatios.get_enriched_terms(genes, aspect=[\"P\"])\n",
    "#res = annotations.get_enriched_terms(list(testset), use_fdr = False)\n",
    "\n",
    "# print(\"Enriched terms:\")\n",
    "# for go_id, (genes, p_value, ref) in res.items():\n",
    "#     if p_value < 0.05:\n",
    "#         print(go_id + \" \" + ontology[go_id].name + \" with p-value: %.4f \" % p_value + \", \".join(genes))\n",
    "#print [(gid,ontology[gid].name,res[gid]) for gid in res.keys() if 'protein' in ontology[gid].name]\n",
    "#print [(gid,ontology[gid].name,res[gid]) for gid in res.keys()[0:10]]\n",
    "#import pandas as pd\n",
    "#df = pd.DataFrame([(gid,ontology[gid].name, res[gid][1]) for gid in res.keys()])\n",
    "#df.sort(columns = 2)\n",
    "##TODO: Best GO enrichment in Orange has no members in the test set. Is Orange broken?\n",
    "#print go['GO:0006595']\n",
    "\n",
    "import numpy as np\n",
    "from scipy import stats\n",
    "\n",
    "T = testset\n",
    "X = set()\n",
    "for goid in go:\n",
    "    X = X | go[goid]\n",
    "print \"Total number of annotated genes:\", len(X)\n",
    "\n",
    "rec = []#will hold the results tupple\n",
    "for goid in go:\n",
    "    G = go[goid]\n",
    "    a = G - T\n",
    "    b = T & G\n",
    "    c = (X & T) - G\n",
    "    d = X - T - G\n",
    "    oddsratio, pvalue = stats.fisher_exact([[len(b), len(a)], [len(c), len(d)]])\n",
    "    rec.append((goid, ontology[goid].name, pvalue))\n",
    "\n",
    "df = pd.DataFrame(rec)\n",
    "df.sort(columns = 2)"
   ]
  },
  {
   "cell_type": "code",
   "execution_count": null,
   "metadata": {},
   "outputs": [],
   "source": []
  }
 ],
 "metadata": {
  "kernelspec": {
   "display_name": "Python 3",
   "language": "python",
   "name": "python3"
  },
  "language_info": {
   "codemirror_mode": {
    "name": "ipython",
    "version": 3
   },
   "file_extension": ".py",
   "mimetype": "text/x-python",
   "name": "python",
   "nbconvert_exporter": "python",
   "pygments_lexer": "ipython3",
   "version": "3.5.3"
  }
 },
 "nbformat": 4,
 "nbformat_minor": 1
}
