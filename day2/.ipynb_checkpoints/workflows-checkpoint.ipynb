{
 "cells": [
  {
   "cell_type": "markdown",
   "metadata": {},
   "source": [
    "# Snakemake\n",
    "\n",
    "```\n",
    "conda install -c bioconda snakemake\n",
    "conda install graphviz\n",
    "```"
   ]
  },
  {
   "cell_type": "code",
   "execution_count": null,
   "metadata": {
    "collapsed": true
   },
   "outputs": [],
   "source": [
    "SAMPLES = ['ctl1', 'ctl2']\n",
    "\n",
    "wdir = \"/home/sergiu/data/work/course/short/data/snake/\"\n",
    "\n",
    "rule all:\n",
    "    input:\n",
    "        'merged.txt'\n",
    "\n",
    "rule acounts:\n",
    "    input:\n",
    "        file='{sample}.fastq'\n",
    "    output:\n",
    "        '{sample}_counts.txt'\n",
    "    run:\n",
    "        with open(input.file, 'r') as f:\n",
    "            nc = [str(l.count('A')) for l in f if not l[0]=='@']\n",
    "        data = ', '.join(nc)+'\\n'\n",
    "        with open(output[0], 'w') as f: f.write(data)\n",
    "\n",
    "rule merge:\n",
    "    input:\n",
    "        counts=expand('{sample}_counts.txt',sample=SAMPLES)\n",
    "    output:\n",
    "        'merged.txt'\n",
    "    shell:\n",
    "        \"\"\"\n",
    "        for f in {input.counts}\n",
    "        do\n",
    "\t\t\tcat $f >> {output}\n",
    "\t\tdone\n",
    "        \"\"\""
   ]
  },
  {
   "cell_type": "code",
   "execution_count": null,
   "metadata": {
    "collapsed": true
   },
   "outputs": [],
   "source": [
    "snakemake --dag merged.txt | dot -Tsvg > dag.svg"
   ]
  }
 ],
 "metadata": {
  "kernelspec": {
   "display_name": "Python 3",
   "language": "python",
   "name": "python3"
  },
  "language_info": {
   "codemirror_mode": {
    "name": "ipython",
    "version": 3
   },
   "file_extension": ".py",
   "mimetype": "text/x-python",
   "name": "python",
   "nbconvert_exporter": "python",
   "pygments_lexer": "ipython3",
   "version": "3.5.3"
  }
 },
 "nbformat": 4,
 "nbformat_minor": 2
}
