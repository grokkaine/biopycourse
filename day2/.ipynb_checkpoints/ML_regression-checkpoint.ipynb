{
 "cells": [
  {
   "cell_type": "markdown",
   "metadata": {},
   "source": [
    "Regression problems generally deal with estimating a set of unknown parameters ($\\beta$) from a set of known \"independent\" variables $X$ such that an arbitrary function $f(X,\\beta)$ (the model) can approximate a set of \"dependent\" variables $Y$, or $f(X,\\beta)\\approx Y$.\n",
    "\n",
    "Many algorithms exists depending on $f$ being linear of non-linear, or the particularities of X and Y datasets.\n",
    "\n",
    "**Diabetes dataset**\n",
    "\n",
    "Most ML algorithm classes are improved to fit general datasets. Some famous standard datasets exists, such as the diabetes datasets. While many things can be learned from it, it is used especially as an example for simple regression.\n",
    "\n",
    "> Ten baseline variables, age, sex, body mass index, average blood pressure, and six blood serum measurements were obtained for each of n = 442 diabetes patients, as well as the response of interest, a quantitative measure of disease \n",
    "progression one year after baseline.\n",
    "\n",
    "- features: 10 physiological variables (age, sex, weight, blood pressure) \n",
    "- dimensions: 442 patients\n",
    "- target (response): an indication of disease progression after one year 20-260\n",
    "\n",
    "**Linear regression**\n",
    "\n",
    "In the example below, a linear regression model is used to predict diabete. Which feature does better at predicting diabetes?"
   ]
  },
  {
   "cell_type": "code",
   "execution_count": 2,
   "metadata": {
    "scrolled": true
   },
   "outputs": [
    {
     "name": "stdout",
     "output_type": "stream",
     "text": [
      "(442, 10) (442,)\n",
      "[[ 0.03807591  0.05068012  0.06169621]\n",
      " [-0.00188202 -0.04464164 -0.05147406]\n",
      " [ 0.08529891  0.05068012  0.04445121]\n",
      " [-0.08906294 -0.04464164 -0.01159501]\n",
      " [ 0.00538306 -0.04464164 -0.03638469]]\n",
      "[ 151.   75.  141.  206.  135.   97.  138.   63.  110.  310.  101.   69.\n",
      "  179.  185.  118.  171.  166.  144.   97.  168.   68.   49.   68.  245.\n",
      "  184.  202.  137.   85.  131.  283.  129.   59.  341.   87.   65.  102.\n",
      "  265.  276.  252.   90.  100.   55.   61.   92.  259.   53.  190.  142.\n",
      "   75.  142.  155.  225.   59.  104.  182.  128.   52.   37.  170.  170.\n",
      "   61.  144.   52.  128.   71.  163.  150.   97.  160.  178.   48.  270.\n",
      "  202.  111.   85.   42.  170.  200.  252.  113.  143.   51.   52.  210.\n",
      "   65.  141.   55.  134.   42.  111.   98.  164.   48.   96.   90.  162.\n",
      "  150.  279.   92.   83.  128.  102.  302.  198.   95.   53.  134.  144.\n",
      "  232.   81.  104.   59.  246.  297.  258.  229.  275.  281.  179.  200.\n",
      "  200.  173.  180.   84.  121.  161.   99.  109.  115.  268.  274.  158.\n",
      "  107.   83.  103.  272.   85.  280.  336.  281.  118.  317.  235.   60.\n",
      "  174.  259.  178.  128.   96.  126.  288.   88.  292.   71.  197.  186.\n",
      "   25.   84.   96.  195.   53.  217.  172.  131.  214.   59.   70.  220.\n",
      "  268.  152.   47.   74.  295.  101.  151.  127.  237.  225.   81.  151.\n",
      "  107.   64.  138.  185.  265.  101.  137.  143.  141.   79.  292.  178.\n",
      "   91.  116.   86.  122.   72.  129.  142.   90.  158.   39.  196.  222.\n",
      "  277.   99.  196.  202.  155.   77.  191.   70.   73.   49.   65.  263.\n",
      "  248.  296.  214.  185.   78.   93.  252.  150.   77.  208.   77.  108.\n",
      "  160.   53.  220.  154.  259.   90.  246.  124.   67.   72.  257.  262.\n",
      "  275.  177.   71.   47.  187.  125.   78.   51.  258.  215.  303.  243.\n",
      "   91.  150.  310.  153.  346.   63.   89.   50.   39.  103.  308.  116.\n",
      "  145.   74.   45.  115.  264.   87.  202.  127.  182.  241.   66.   94.\n",
      "  283.   64.  102.  200.  265.   94.  230.  181.  156.  233.   60.  219.\n",
      "   80.   68.  332.  248.   84.  200.   55.   85.   89.   31.  129.   83.\n",
      "  275.   65.  198.  236.  253.  124.   44.  172.  114.  142.  109.  180.\n",
      "  144.  163.  147.   97.  220.  190.  109.  191.  122.  230.  242.  248.\n",
      "  249.  192.  131.  237.   78.  135.  244.  199.  270.  164.   72.   96.\n",
      "  306.   91.  214.   95.  216.  263.  178.  113.  200.  139.  139.   88.\n",
      "  148.   88.  243.   71.   77.  109.  272.   60.   54.  221.   90.  311.\n",
      "  281.  182.  321.   58.  262.  206.  233.  242.  123.  167.   63.  197.\n",
      "   71.  168.  140.  217.  121.  235.  245.   40.   52.  104.  132.   88.\n",
      "   69.  219.   72.  201.  110.   51.  277.   63.  118.   69.  273.  258.\n",
      "   43.  198.  242.  232.  175.   93.  168.  275.  293.  281.   72.  140.\n",
      "  189.  181.  209.  136.  261.  113.  131.  174.  257.   55.   84.   42.\n",
      "  146.  212.  233.   91.  111.  152.  120.   67.  310.   94.  183.   66.\n",
      "  173.   72.   49.   64.   48.  178.  104.  132.  220.   57.]\n"
     ]
    }
   ],
   "source": [
    "%matplotlib inline\n",
    "import matplotlib.pyplot as plt\n",
    "import numpy as np\n",
    "from sklearn import datasets, linear_model\n",
    "\n",
    "\n",
    "diabetes = datasets.load_diabetes()\n",
    "#diabetes\n",
    "print(diabetes.data.shape, diabetes.target.shape)\n",
    "print(diabetes.data[:5,:3])\n",
    "print(diabetes.target)\n",
    "\n",
    "ft = 2 # feature type 0 - age, 1 - sex, 2 - bmi\n",
    "\n",
    "X = diabetes.data[:, np.newaxis] #expand the new\n",
    "#print \"Expansion:\", diabetes.data.shape, X.shape\n",
    "#print X[0]\n",
    "#print X[0, 0, ft]\n",
    "\n",
    "Xt = X[:, :, ft]\n",
    "#print Xt.shape\n",
    "#print Xt[:5]"
   ]
  },
  {
   "cell_type": "markdown",
   "metadata": {},
   "source": [
    "\n",
    "**Crossvalidation**\n",
    "\n",
    "Crosvalidation is a general validation method that uses a part of the dataset for training (training data) a model while the remaining rest is used to estimate how efective the model is at predicting (test data). This will split X and Y into four groups, training X, Y and testing X, Y. Usually several crossvalidation tests are done by randomly picking training variables and the training set is by convenience at 80% of the whole data.\n",
    "\n",
    "**Goodness of fit**\n",
    "\n",
    "1. *Residual sum of squares* (mean square error), $v = \\sum (y_t - \\langle y_t \\rangle )^2$.\n",
    "2. *Regression sum of squares* $u = \\sum (y_t - y_p)^2$.\n",
    "3. *R^2, the coefficient of determination*,  defined as (1 - u/v). Best possible score is 1.0, lower values are worse.\n",
    "\n",
    "**Task**\n",
    "\n",
    "Modify the script to perform crossvalidation on 100 randomly picked training sets. Design a crosvalidation function of your own and afterwards look for the scikit-learn's own function and use it instead. What is KFold crossvalidation?"
   ]
  },
  {
   "cell_type": "code",
   "execution_count": 24,
   "metadata": {},
   "outputs": [
    {
     "name": "stdout",
     "output_type": "stream",
     "text": [
      "Betas (regression coefficients): \n",
      "[ 306.72757499]\n",
      "Residual sum of squares (mean square error): 5472.26\n",
      "Variance score: -0.13\n"
     ]
    },
    {
     "data": {
      "text/plain": [
       "[<matplotlib.lines.Line2D at 0x7f95b899e250>]"
      ]
     },
     "execution_count": 24,
     "metadata": {},
     "output_type": "execute_result"
    },
    {
     "data": {
      "image/png": "[encoded data removed]",
      "text/plain": [
       "<matplotlib.figure.Figure at 0x7f95b87da190>"
      ]
     },
     "metadata": {},
     "output_type": "display_data"
    }
   ],
   "source": [
    "#Split the data into training/testing sets\n",
    "X_train = Xt[:-20]\n",
    "X_test = Xt[-20:]\n",
    "\n",
    "#Split the targets into training/testing sets\n",
    "y_train = diabetes.target[:-20]\n",
    "y_test = diabetes.target[-20:]\n",
    "\n",
    "regr = linear_model.LinearRegression()\n",
    "regr.fit(X_train, y_train)\n",
    "y_predict = regr.predict(X_test)\n",
    "score = regr.score(X_test, y_test)\n",
    "\n",
    "print 'Betas (regression coefficients): \\n', regr.coef_\n",
    "print(\"Mean square error: %.2f\" % np.mean((y_predict - y_test) ** 2))\n",
    "print('Variance score: %.2f' % score)\n",
    "\n",
    "plt.scatter(X_test, y_test,  color='black')\n",
    "plt.plot(X_test, y_predict, color='blue', linewidth=3)\n"
   ]
  },
  {
   "cell_type": "code",
   "execution_count": 29,
   "metadata": {},
   "outputs": [
    {
     "name": "stdout",
     "output_type": "stream",
     "text": [
      "('Coefficients: \\n', array([  3.03499549e-01,  -2.37639315e+02,   5.10530605e+02,\n",
      "         3.27736980e+02,  -8.14131709e+02,   4.92814588e+02,\n",
      "         1.02848452e+02,   1.84606489e+02,   7.43519617e+02,\n",
      "         7.60951722e+01]))\n",
      "Mean square error: 2004.57\n",
      "Variance score: 0.59\n"
     ]
    }
   ],
   "source": [
    "%matplotlib inline\n",
    "import matplotlib.pyplot as plt\n",
    "import numpy as np\n",
    "from sklearn import datasets, linear_model\n",
    "\n",
    "diabetes = datasets.load_diabetes()\n",
    "X = diabetes.data\n",
    "\n",
    "#Split the data into training/testing sets\n",
    "X_train = X[:-20]\n",
    "X_test = X[-20:]\n",
    "\n",
    "#Split the targets into training/testing sets\n",
    "y_train = diabetes.target[:-20]\n",
    "y_test = diabetes.target[-20:]\n",
    "\n",
    "regr = linear_model.LinearRegression()\n",
    "regr.fit(X_train, y_train)\n",
    "y_predict = regr.predict(X_test)\n",
    "score = regr.score(X_test, y_test)\n",
    "\n",
    "print('Coefficients: \\n', regr.coef_)\n",
    "print(\"Mean square error: %.2f\"% np.mean((y_predict - y_test) ** 2))\n",
    "print('Variance score: %.2f' % score)\n"
   ]
  },
  {
   "cell_type": "markdown",
   "metadata": {},
   "source": [
    "**Multivariate case, a PLS Regression example**\n",
    "\n",
    "So far our regression target was unidimensional. The hardcore regression however involves multiple target vectors, also called multiple regression. One can still use linear regression techniques, with different corrections that take into account for many exceptions, one such being that the X matrix must be full rank in order for the least square optimization (the engine of linear regression) to work. There are also many other techniques, one my favorites being partial least least squares regression (PLS-R), which I choose to exemplify.\n",
    "\n",
    "PLS is also called projection to *latent* structures, which mignt be more apropriate, since the multiple regression problem\n",
    "\n",
    "$Y = XB + E$\n",
    "\n",
    ", is solved by projecting the X and Y matrices into latent (hidden) lower dimensional space that is describing them. Just as with least square fitting ,it is difficult to explain how this is done, and it requires knowledge of [factor analysis](http://en.wikipedia.org/wiki/Factor_analysis). The end result is a decomposition into a product of score and loading matrices like this:\n",
    "\n",
    "$X = T P^{\\top} + E$\n",
    "\n",
    "$Y = U Q^{\\top} + F$\n",
    "\n",
    ", from which the coeficient matrix B is estimated."
   ]
  },
  {
   "cell_type": "markdown",
   "metadata": {},
   "source": [
    "**Multivariate case, a PLS Regression example**\n",
    "\n",
    "So far our regression target was unidimensional. The hardcore regression however involves multiple target vectors, also called multiple regression. One can still use linear regression techniques, with different corrections that take into account for many exceptions, one such being that the X matrix must be full rank in order for the least square optimization (the engine of linear regression) to work. There are also many other techniques, one my favorites being partial least least squares regression (PLS-R), which I choose to exemplify.\n",
    "\n",
    "PLS is also called projection to *latent* structures, which mignt be more apropriate, since the multiple regression problem\n",
    "\n",
    "$Y = XB + E$\n",
    "\n",
    ", is solved by projecting the X and Y matrices into latent (hidden) lower dimensional space that is describing them. Just as with least square fitting ,it is difficult to explain how this is done, and it requires knowledge of [factor analysis](http://en.wikipedia.org/wiki/Factor_analysis). The end result is a decomposition into a product of score and loading matrices like this:\n",
    "\n",
    "$X = T P^{\\top} + E$\n",
    "\n",
    "$Y = U Q^{\\top} + F$\n",
    "\n",
    ", from which the coeficient matrix B is estimated."
   ]
  },
  {
   "cell_type": "code",
   "execution_count": 5,
   "metadata": {},
   "outputs": [
    {
     "name": "stdout",
     "output_type": "stream",
     "text": [
      "True B (such that: Y = XB + Err)\n",
      "[[1 1 1]\n",
      " [2 2 2]\n",
      " [0 0 0]\n",
      " [0 0 0]\n",
      " [0 0 0]\n",
      " [0 0 0]\n",
      " [0 0 0]\n",
      " [0 0 0]\n",
      " [0 0 0]\n",
      " [0 0 0]]\n",
      "Estimated B\n",
      "[[ 1.  1.  1.]\n",
      " [ 2.  2.  2.]\n",
      " [-0.  0.  0.]\n",
      " [-0. -0. -0.]\n",
      " [-0. -0. -0.]\n",
      " [-0. -0. -0.]\n",
      " [-0. -0. -0.]\n",
      " [ 0.  0.  0.]\n",
      " [ 0.  0.  0.]\n",
      " [-0. -0. -0.]]\n",
      "R2 0.841716030032\n"
     ]
    },
    {
     "data": {
      "text/plain": [
       "<matplotlib.text.Text at 0x7feb7df8c4d0>"
      ]
     },
     "execution_count": 5,
     "metadata": {},
     "output_type": "execute_result"
    },
    {
     "data": {
      "image/png": "[encoded data removed]",
      "text/plain": [
       "<matplotlib.figure.Figure at 0x7feb7dfe7110>"
      ]
     },
     "metadata": {},
     "output_type": "display_data"
    }
   ],
   "source": [
    "from  sklearn.cross_decomposition import PLSRegression\n",
    "\n",
    "n = 1000\n",
    "q = 3\n",
    "p = 10\n",
    "X = np.random.normal(size=n * p).reshape((n, p))\n",
    "B = np.array([[1, 2] + [0] * (p - 2)] * q).T\n",
    "# each Yj = 1*X1 + 2*X2 + noize\n",
    "#B = np.array([[1, 0.5, 2, 4] + [0] * (p - 4)] * q).T\n",
    "\n",
    "Y = np.dot(X, B) + np.random.normal(size=n * q).reshape((n, q)) + 5\n",
    "\n",
    "pls2 = PLSRegression(n_components=2)\n",
    "pls2.fit(X, Y)\n",
    "print(\"True B (such that: Y = XB + Err)\")\n",
    "print(B)\n",
    "# compare pls2.coefs with B\n",
    "print(\"Estimated B\")\n",
    "print(np.round(pls2.coefs, 1))\n",
    "Yp = pls2.predict(X)\n",
    "from sklearn.metrics import r2_score\n",
    "print \"R2\",r2_score(Y, Yp)\n",
    "\n",
    "T, U = pls2.transform(X, Y) #Apply the dimension reduction learned on the training data\n",
    "\n",
    "## Notice that the first component is usually well correlated with all the columns in X\n",
    "cp = 0# 0 - first component, 1 -second component, etc\n",
    "xc = 0# X matrix columns\n",
    "import matplotlib.pyplot as plt\n",
    "#plt.title(title)\n",
    "plt.plot(T[:, cp], X[:,1], \"ob\")\n",
    "#plt.plot(T[:, cp], X, \"ob\")\n",
    "plt.title(\"T vs X, component \"+str(cp+1))\n",
    "plt.ylabel('matrix')\n",
    "plt.xlabel('latent matrix scores')"
   ]
  },
  {
   "cell_type": "code",
   "execution_count": null,
   "metadata": {},
   "outputs": [],
   "source": []
  }
 ],
 "metadata": {
  "kernelspec": {
   "display_name": "Python 3",
   "language": "python",
   "name": "python3"
  },
  "language_info": {
   "codemirror_mode": {
    "name": "ipython",
    "version": 3
   },
   "file_extension": ".py",
   "mimetype": "text/x-python",
   "name": "python",
   "nbconvert_exporter": "python",
   "pygments_lexer": "ipython3",
   "version": "3.7.3"
  }
 },
 "nbformat": 4,
 "nbformat_minor": 2
}
