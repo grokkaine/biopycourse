{
 "cells": [
  {
   "cell_type": "markdown",
   "id": "a45a2911-309d-48c0-ae4c-4ce79deaf53c",
   "metadata": {},
   "source": [
    "## Pandas - Dataframes\n",
    "\n",
    "- [Pandas](#Pandas): Python's most important dataframing library\n",
    "- [Tidiness and method chaining](#Tidiness-and-method-chaining)"
   ]
  },
  {
   "cell_type": "markdown",
   "id": "6a6837df-830b-4beb-bd44-e56e4a807f17",
   "metadata": {},
   "source": [
    "Languages developed primarily for statistics are using rich data structures that are available also in Python. One of the most important modules to use in Pandas. First have a look at [Pandas API][1]. Do you recognize some of these structures and can you name equivalent functionality from other languages like R or tabular computing programs like Excel? Pandas can do everything Excel does and then some more, like SQL interogation and advanced statistics through its scipy/numpy modules integration and matplotlib visualization. Moreover, for those with a background into R, Pandas has a similar synthax and can be used interchangeably with R in Python itself through the rpy2 module.\n",
    "\n",
    "R related functionality:\n",
    "- http://pandas.pydata.org/pandas-docs/dev/comparison_with_r.html\n",
    "- http://pandas.pydata.org/pandas-docs/dev/r_interface.html\n",
    "\n",
    "Main documentation entry points:\n",
    "- https://pandas.pydata.org/pandas-docs/stable/user_guide/index.html \n",
    "\n",
    "\n",
    "Next is a small hands-on introduction, with tips on creation, selection, filtering and grouping.\n",
    "\n",
    "[1]: http://pandas.pydata.org/pandas-docs/dev/api.html"
   ]
  },
  {
   "cell_type": "code",
   "execution_count": 4,
   "id": "dec7444d-6f3c-4cf6-ac22-b3c9d8240db4",
   "metadata": {},
   "outputs": [
    {
     "name": "stdout",
     "output_type": "stream",
     "text": [
      "   number      dates  floats  integers cathegories string\n",
      "0     1.0 2015-07-20    0.25         3        test    foo\n",
      "1     1.0 2015-07-21    0.25         3       train    foo\n",
      "2     1.0 2015-07-22    0.25         3        test    foo\n",
      "3     1.0 2015-07-23    0.25         3       train    foo\n",
      "<class 'numpy.ndarray'>\n"
     ]
    }
   ],
   "source": [
    "import pandas as pd\n",
    "import numpy as np\n",
    "import matplotlib.pyplot as plt\n",
    "\n",
    "s = pd.Series([1, 9, 2, 10, np.nan, 6])\n",
    "df1 = pd.DataFrame(np.random.randn(3,5),index=s[1:4],columns=list('ABCDF'))\n",
    "df2 = pd.DataFrame({'number' : 1.,\n",
    "                    'dates' : pd.date_range('20150720',periods=4),\n",
    "                    'floats' : pd.Series(0.25,index=list(range(4)),dtype='float32'),\n",
    "                    'integers' : np.array([3] * 4,dtype='int32'),\n",
    "                    'cathegories' : pd.Categorical([\"test\",\"train\",\"test\",\"train\"]),\n",
    "                    'string' : 'foo' })\n",
    "\n",
    "print(df2)\n",
    "print(type(df2.values))"
   ]
  },
  {
   "cell_type": "code",
   "execution_count": 6,
   "id": "ba5916c6-76fa-42c3-b3e7-75f679a5c7e8",
   "metadata": {},
   "outputs": [
    {
     "data": {
      "text/html": [
       "<div>\n",
       "<style>\n",
       "    .dataframe thead tr:only-child th {\n",
       "        text-align: right;\n",
       "    }\n",
       "\n",
       "    .dataframe thead th {\n",
       "        text-align: left;\n",
       "    }\n",
       "\n",
       "    .dataframe tbody tr th {\n",
       "        vertical-align: top;\n",
       "    }\n",
       "</style>\n",
       "<table border=\"1\" class=\"dataframe\">\n",
       "  <thead>\n",
       "    <tr style=\"text-align: right;\">\n",
       "      <th></th>\n",
       "      <th>A</th>\n",
       "      <th>B</th>\n",
       "      <th>C</th>\n",
       "      <th>D</th>\n",
       "      <th>F</th>\n",
       "    </tr>\n",
       "  </thead>\n",
       "  <tbody>\n",
       "    <tr>\n",
       "      <th>2.0</th>\n",
       "      <td>-0.179413</td>\n",
       "      <td>0.175344</td>\n",
       "      <td>-0.853393</td>\n",
       "      <td>0.058743</td>\n",
       "      <td>-0.928096</td>\n",
       "    </tr>\n",
       "    <tr>\n",
       "      <th>10.0</th>\n",
       "      <td>-0.562923</td>\n",
       "      <td>0.427126</td>\n",
       "      <td>-0.606615</td>\n",
       "      <td>-0.314992</td>\n",
       "      <td>0.499882</td>\n",
       "    </tr>\n",
       "    <tr>\n",
       "      <th>9.0</th>\n",
       "      <td>-1.116116</td>\n",
       "      <td>1.048214</td>\n",
       "      <td>-0.829268</td>\n",
       "      <td>-0.450177</td>\n",
       "      <td>2.937480</td>\n",
       "    </tr>\n",
       "  </tbody>\n",
       "</table>\n",
       "</div>"
      ],
      "text/plain": [
       "             A         B         C         D         F\n",
       "2.0  -0.179413  0.175344 -0.853393  0.058743 -0.928096\n",
       "10.0 -0.562923  0.427126 -0.606615 -0.314992  0.499882\n",
       "9.0  -1.116116  1.048214 -0.829268 -0.450177  2.937480"
      ]
     },
     "execution_count": 6,
     "metadata": {},
     "output_type": "execute_result"
    }
   ],
   "source": [
    "df1.sort_values(by='B')"
   ]
  },
  {
   "cell_type": "code",
   "execution_count": 5,
   "id": "410ef753-6578-4f82-954d-78d446dcf619",
   "metadata": {},
   "outputs": [
    {
     "name": "stdout",
     "output_type": "stream",
     "text": [
      "number                float64\n",
      "dates          datetime64[ns]\n",
      "floats                float32\n",
      "integers                int32\n",
      "cathegories          category\n",
      "string                 object\n",
      "dtype: object\n"
     ]
    },
    {
     "data": {
      "text/html": [
       "<div>\n",
       "<style scoped>\n",
       "    .dataframe tbody tr th:only-of-type {\n",
       "        vertical-align: middle;\n",
       "    }\n",
       "\n",
       "    .dataframe tbody tr th {\n",
       "        vertical-align: top;\n",
       "    }\n",
       "\n",
       "    .dataframe thead th {\n",
       "        text-align: right;\n",
       "    }\n",
       "</style>\n",
       "<table border=\"1\" class=\"dataframe\">\n",
       "  <thead>\n",
       "    <tr style=\"text-align: right;\">\n",
       "      <th></th>\n",
       "      <th>9.0</th>\n",
       "      <th>2.0</th>\n",
       "      <th>10.0</th>\n",
       "    </tr>\n",
       "  </thead>\n",
       "  <tbody>\n",
       "    <tr>\n",
       "      <th>A</th>\n",
       "      <td>-0.787454</td>\n",
       "      <td>-0.765480</td>\n",
       "      <td>-2.033847</td>\n",
       "    </tr>\n",
       "    <tr>\n",
       "      <th>B</th>\n",
       "      <td>-0.190877</td>\n",
       "      <td>0.261963</td>\n",
       "      <td>0.150793</td>\n",
       "    </tr>\n",
       "    <tr>\n",
       "      <th>C</th>\n",
       "      <td>0.594649</td>\n",
       "      <td>0.856377</td>\n",
       "      <td>0.195765</td>\n",
       "    </tr>\n",
       "    <tr>\n",
       "      <th>D</th>\n",
       "      <td>-0.635522</td>\n",
       "      <td>0.273237</td>\n",
       "      <td>-0.563028</td>\n",
       "    </tr>\n",
       "    <tr>\n",
       "      <th>F</th>\n",
       "      <td>0.304887</td>\n",
       "      <td>-1.044408</td>\n",
       "      <td>0.874286</td>\n",
       "    </tr>\n",
       "  </tbody>\n",
       "</table>\n",
       "</div>"
      ],
      "text/plain": [
       "       9.0       2.0       10.0\n",
       "A -0.787454 -0.765480 -2.033847\n",
       "B -0.190877  0.261963  0.150793\n",
       "C  0.594649  0.856377  0.195765\n",
       "D -0.635522  0.273237 -0.563028\n",
       "F  0.304887 -1.044408  0.874286"
      ]
     },
     "execution_count": 5,
     "metadata": {},
     "output_type": "execute_result"
    }
   ],
   "source": [
    "# Description\n",
    "\n",
    "print(df2.dtypes)\n",
    "#try tab completion, column labels can be easily retrieved\n",
    "#df2.\n",
    "df2.head(2)\n",
    "df1.describe()\n",
    "df1.T\n",
    "#sort by axis\n",
    "#print(df1.sort_index(axis=0, ascending=False))\n",
    "#sort by values\n",
    "#print(df1.sort(columns='B'))"
   ]
  },
  {
   "cell_type": "code",
   "execution_count": 13,
   "id": "ba2a6cec-9c4e-44d6-b494-9432feb9cf53",
   "metadata": {},
   "outputs": [
    {
     "data": {
      "text/html": [
       "<div>\n",
       "<table border=\"1\" class=\"dataframe\">\n",
       "  <thead>\n",
       "    <tr style=\"text-align: right;\">\n",
       "      <th></th>\n",
       "      <th>A</th>\n",
       "      <th>B</th>\n",
       "    </tr>\n",
       "  </thead>\n",
       "  <tbody>\n",
       "    <tr>\n",
       "      <th>2.0</th>\n",
       "      <td>0.776222</td>\n",
       "      <td>1.519814</td>\n",
       "    </tr>\n",
       "    <tr>\n",
       "      <th>10.0</th>\n",
       "      <td>0.385811</td>\n",
       "      <td>0.044610</td>\n",
       "    </tr>\n",
       "  </tbody>\n",
       "</table>\n",
       "</div>"
      ],
      "text/plain": [
       "             A         B\n",
       "2.0   0.776222  1.519814\n",
       "10.0  0.385811  0.044610"
      ]
     },
     "execution_count": 13,
     "metadata": {},
     "output_type": "execute_result"
    }
   ],
   "source": [
    "# Selection and slicing. And filtering.\n",
    "df1 = pd.DataFrame(np.random.randn(3,5),index=s[1:4],columns=list('ABCDF'))\n",
    "# selection by labels\n",
    "#df1\n",
    "#df1['A']\n",
    "#df1.A\n",
    "#print(df1[0:2])\n",
    "df1.loc[2:10,['A','B']]\n",
    "#print df1.loc[2,'A']"
   ]
  },
  {
   "cell_type": "code",
   "execution_count": 23,
   "id": "0d30f636-c13e-4649-88d6-9c0a7a3cf85b",
   "metadata": {},
   "outputs": [
    {
     "data": {
      "text/html": [
       "<div style=\"max-height:1000px;max-width:1500px;overflow:auto;\">\n",
       "<table border=\"1\" class=\"dataframe\">\n",
       "  <thead>\n",
       "    <tr style=\"text-align: right;\">\n",
       "      <th></th>\n",
       "      <th>A</th>\n",
       "      <th>B</th>\n",
       "    </tr>\n",
       "  </thead>\n",
       "  <tbody>\n",
       "    <tr>\n",
       "      <th>2 </th>\n",
       "      <td>-0.679790</td>\n",
       "      <td>-1.774782</td>\n",
       "    </tr>\n",
       "    <tr>\n",
       "      <th>10</th>\n",
       "      <td> 0.761237</td>\n",
       "      <td>-0.367952</td>\n",
       "    </tr>\n",
       "  </tbody>\n",
       "</table>\n",
       "</div>"
      ],
      "text/plain": [
       "           A         B\n",
       "2  -0.679790 -1.774782\n",
       "10  0.761237 -0.367952"
      ]
     },
     "execution_count": 23,
     "metadata": {},
     "output_type": "execute_result"
    }
   ],
   "source": [
    "df1.loc[2:10,['A','B']]"
   ]
  },
  {
   "cell_type": "code",
   "execution_count": 19,
   "id": "69b98e13-127b-43e9-b4ac-d56ef7d55d72",
   "metadata": {},
   "outputs": [
    {
     "name": "stdout",
     "output_type": "stream",
     "text": [
      "             A         B         C         D         F\n",
      "9.0   1.489061  0.233563 -1.425374 -1.935047  0.314065\n",
      "2.0   0.776222  1.519814 -0.838998  0.398798 -1.709546\n",
      "10.0  0.385811  0.044610 -1.041533  1.266857  1.133820\n"
     ]
    },
    {
     "data": {
      "text/plain": [
       "1.5198138664523637"
      ]
     },
     "execution_count": 19,
     "metadata": {},
     "output_type": "execute_result"
    }
   ],
   "source": [
    "# selection by position\n",
    "#df1\n",
    "#df1.iloc[2]\n",
    "#df1.iloc[0:2,0:3]\n",
    "#df1.iloc[[1,2,],[0,2]]\n",
    "print(df1)\n",
    "df1.iloc[1,1]"
   ]
  },
  {
   "cell_type": "code",
   "execution_count": 21,
   "id": "fe817620-2a22-4abc-94ba-81b3c80470ad",
   "metadata": {},
   "outputs": [
    {
     "name": "stdout",
     "output_type": "stream",
     "text": [
      "            A         B         C         D         F\n",
      "9.0  1.489061  0.233563 -1.425374 -1.935047  0.314065\n",
      "2.0  0.776222  1.519814 -0.838998  0.398798 -1.709546\n"
     ]
    }
   ],
   "source": [
    "# filter by boolean test\n",
    "#print df1\n",
    "#print df1[df1.A > 0.1]\n",
    "#print df1[df1 > 0.1]\n",
    "print(df1[(df1['A'] > 0.1) & (df1['B']>0.2)])"
   ]
  },
  {
   "cell_type": "code",
   "execution_count": 22,
   "id": "c821916f-4216-4f6c-836b-e5cc6bfdaf1b",
   "metadata": {},
   "outputs": [
    {
     "name": "stdout",
     "output_type": "stream",
     "text": [
      "             A         B         C         D         F mask  test\n",
      "9.0   0.860532 -0.016485  2.227145  0.446174 -0.964432  one     1\n",
      "2.0   0.963801 -1.618940 -1.333987 -0.398223 -0.244665  one     2\n",
      "10.0 -0.766295 -1.518846  1.198762 -0.071410 -0.568117  two     3\n",
      "            A         B         C         D         F mask  test\n",
      "9.0  0.860532 -0.016485  2.227145  0.446174 -0.964432  one     1\n",
      "2.0  0.963801 -1.618940 -1.333987 -0.398223 -0.244665  one     2\n"
     ]
    }
   ],
   "source": [
    "s = pd.Series([1, 9, 2, 10, np.nan, 6])\n",
    "df1 = pd.DataFrame(np.random.randn(3,5),index=s[1:4],columns=list('ABCDF'))\n",
    "# filter by values\n",
    "df3 = df1.copy()\n",
    "df3['mask']=['one','one','two']\n",
    "df3['test'] = [1, 2, 3]\n",
    "print(df3)\n",
    "print(df3[df3['mask'].isin(['one'])])\n",
    "#df1.dropna()\n",
    "\n",
    "df1['test2'] = df3['test']\n",
    "#print df1"
   ]
  },
  {
   "cell_type": "code",
   "execution_count": 31,
   "id": "d35c5a76-e8db-4dfc-b7ec-122db897b294",
   "metadata": {},
   "outputs": [
    {
     "name": "stdout",
     "output_type": "stream",
     "text": [
      "    A         B         C   D         F\n",
      "9   0  5.000000  0.659238  10  0.268067\n",
      "2   0  0.068065  0.537079  10 -0.930164\n",
      "10  0  0.277067 -0.435075  10  0.519541\n"
     ]
    }
   ],
   "source": [
    "# Setting values by label, position and numpy array\n",
    "\n",
    "df1.loc[:,'A'] = 0\n",
    "df1.iat[0,1] = 5\n",
    "df1.loc[:,'D'] = np.array([10] * len(df1))\n",
    "print df1"
   ]
  },
  {
   "cell_type": "code",
   "execution_count": 41,
   "id": "ebe24000-9951-4ff3-90fe-2430b2032380",
   "metadata": {},
   "outputs": [
    {
     "name": "stdout",
     "output_type": "stream",
     "text": [
      "           A         B         C         D         F mask vtype\n",
      "9  -0.969339 -1.247162 -0.172333 -1.604282 -0.720619  one   one\n",
      "2  -1.096683  0.984533  0.228007  1.707215  0.884176  one   one\n",
      "10 -0.208973 -0.147277 -0.031264 -0.524877 -0.172902  two   two\n",
      "9     one\n",
      "2     one\n",
      "10    two\n",
      "Name: vtype, dtype: category\n",
      "Categories (2, object): [one < two]\n",
      "           A         B         C         D         F mask  vtype\n",
      "9  -0.969339 -1.247162 -0.172333 -1.604282 -0.720619  one   nice\n",
      "2  -1.096683  0.984533  0.228007  1.707215  0.884176  one   nice\n",
      "10 -0.208973 -0.147277 -0.031264 -0.524877 -0.172902  two  nasty\n",
      "vtype\n",
      "nice     2\n",
      "nasty    1\n",
      "dtype: int64\n"
     ]
    }
   ],
   "source": [
    "# Categories and grouping\n",
    "s = pd.Series([1, 9, 2, 10, np.nan, 6])\n",
    "df1 = pd.DataFrame(np.random.randn(3,5),index=s[1:4],columns=list('ABCDF'))\n",
    "df3 = df1.copy()\n",
    "df3['mask']=['one', 'one','two']\n",
    "df3[\"vtype\"] = df3[\"mask\"].astype(\"category\")\n",
    "print df3\n",
    "print df3[\"vtype\"]\n",
    "df3[\"vtype\"].cat.categories = [\"nice\", \"nasty\"]\n",
    "print df3\n",
    "print df3.groupby(\"vtype\").size()"
   ]
  },
  {
   "cell_type": "code",
   "execution_count": 28,
   "id": "a77b919d-dcf0-4aba-a128-8ead30424497",
   "metadata": {},
   "outputs": [
    {
     "name": "stdout",
     "output_type": "stream",
     "text": [
      "           A         B         C         D        F      diff\n",
      "9   0.866943  0.542561  1.018572       NaN      NaN  0.676178\n",
      "2   0.643135  0.705118  0.953981  0.264569      NaN       NaN\n",
      "10  1.205045  1.545023       NaN       NaN  0.55412       NaN\n",
      "           A         B         C         D        F      diff\n",
      "9   0.866943  0.542561  1.018572       NaN      NaN  0.676178\n",
      "2   0.643135  0.705118  0.953981  0.264569      NaN       NaN\n",
      "10  1.205045  1.545023       NaN       NaN  0.55412       NaN\n",
      "9    -0.499315\n",
      "2     1.365650\n",
      "10    1.990501\n",
      "dtype: float64\n"
     ]
    }
   ],
   "source": [
    "# Basic operations\n",
    "s = pd.Series([1, 9, 2, 10, np.nan, 6])\n",
    "df1 = pd.DataFrame(np.random.randn(3,5),index=s[1:4],columns=list('ABCDF'))\n",
    "df1['diff'] = df1.A - df1.B\n",
    "df1['A'].map(lambda x : 10 * x)\n",
    "print df1.applymap(np.sqrt)\n",
    "print df1.apply(np.sqrt, axis = 1)\n",
    "print df1.apply(np.sum, axis = 1)"
   ]
  },
  {
   "cell_type": "markdown",
   "id": "4d90441b-0b46-4029-9b77-d6d67d6cd080",
   "metadata": {},
   "source": [
    "Task:\n",
    "- Write a function to create a dataframe out of this gene dictionary below, using the name as an index.\n",
    "- Remove genes having undefined expression.\n",
    "- Add a \"seq_quality\" column what will place an additional \"yes/no\" mask to genes whose read counts are above 1.\n",
    "- Filter out genes that fail on both the qualify and seq quality.\n",
    "\n",
    "For the finer points, try to be as short as possible! Lots of code makes room for errors and it is hard to read/reproduce."
   ]
  },
  {
   "cell_type": "code",
   "execution_count": 2,
   "id": "d110165d-d1bd-4b88-8de9-02252f76d8d0",
   "metadata": {},
   "outputs": [],
   "source": [
    "import numpy as np\n",
    "\n",
    "gene_table = {'name': [\"G\"+str(i) for i in range(10)],\n",
    "'expression': [12.5, 9, 16.5, np.nan, 9, 20, 14.5, np.nan, 8, 19],\n",
    "'read_counts': [1, 3, 2, 3, 2, 3, 1, 1, 2, 1],\n",
    "'qualify': ['yes', 'no', 'yes', 'no', 'no', 'yes', 'yes', 'no', 'no', 'yes']}\n"
   ]
  },
  {
   "cell_type": "markdown",
   "id": "fe238cd4-0c3a-4dc4-8dd4-d6ae6f8ba69a",
   "metadata": {},
   "source": [
    "## Tidiness and method chaining\n",
    "\n",
    "As data science became a thing and armies of analists entered the workforce, python and r dataframes developed two new concepts. Tidiness was a [well known concept][1] to database programmers, but data scientists were either inexperienced programmers or people from other backgrounds who started to program.\n",
    "\n",
    "Tidiness rules are as follows:\n",
    "- Each variable forms a column\n",
    "- Each observation forms a row\n",
    "- Each type of observational unit forms a table\n",
    "\n",
    "The general idea is that when working with input data you should not use the garbled mess in which the data is at first loaded. Instead you should extract the pieces of information that are needed for your study, and multiple types of observational units must form different dataframes. Why is this so important after all? Because computers are not statisticians, the dataframe concept is unnatural to them. What they can work much better with are memory addresses and values. Having a tidy dataframe eases their work, and it affects reproducibility as well! Getting to a tidy format early on is also useful to separate data munging from data analysis, leading to a cleaner and faster workflow.\n",
    "\n",
    "While tidiness has to do with data, the second concept of method chaining has to do with a cleaner syntax. The best way to understand how that works is by using the task completed above on following template:\n",
    "\n",
    "[1]: https://en.wikipedia.org/wiki/First_normal_form"
   ]
  },
  {
   "cell_type": "code",
   "execution_count": null,
   "id": "d676171a-e0f5-41cf-ad52-3109ae7e1b47",
   "metadata": {},
   "outputs": [],
   "source": [
    "import pandas as pd\n",
    "\n",
    "def proccess(dict):\n",
    "    df = (pd.Dataframe()\n",
    "            .pipe(create_matrix)\n",
    "            .pipe(rem_undefined)\n",
    "            .pipe(add_seq_quality)\n",
    "            .pipe(filter_qualify_seq_quality))    \n",
    "    return df\n",
    "\n",
    "def create_matrix(df, d=None):\n",
    "    return df\n",
    "\n",
    "def rem_undefined(df):\n",
    "    return df\n",
    "\n",
    "def add_seq_quality(df):\n",
    "    return df\n",
    "\n",
    "def filter_qualify_seq_quality(df):\n",
    "    return df\n",
    "\n",
    "df = proccess(gene_table)\n",
    "df"
   ]
  },
  {
   "cell_type": "markdown",
   "id": "fc3789da-dd92-442c-8d44-e5b878bdd8f2",
   "metadata": {},
   "source": [
    "Now, if some of your functions contain a single instruction that doesn't require a lot of coding you can actually replace the pipeline function with the dataframe function itself. This is recommended for readability. Try it!"
   ]
  }
 ],
 "metadata": {
  "kernelspec": {
   "display_name": "Python 3",
   "language": "python",
   "name": "python3"
  },
  "language_info": {
   "codemirror_mode": {
    "name": "ipython",
    "version": 3
   },
   "file_extension": ".py",
   "mimetype": "text/x-python",
   "name": "python",
   "nbconvert_exporter": "python",
   "pygments_lexer": "ipython3",
   "version": "3.7.10"
  }
 },
 "nbformat": 4,
 "nbformat_minor": 5
}
