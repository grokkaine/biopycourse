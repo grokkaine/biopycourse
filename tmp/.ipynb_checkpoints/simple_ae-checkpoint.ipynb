{
 "cells": [
  {
   "cell_type": "markdown",
   "metadata": {},
   "source": [
    "# Simple autoencoder"
   ]
  },
  {
   "cell_type": "raw",
   "metadata": {},
   "source": [
    "dim reduction study:\n",
    "\n",
    "- article: https://towardsdatascience.com/autoencoder-on-dimension-reduction-100f2c98608c\n",
    "- notebook: https://github.com/MJeremy2017/machine-learning-models/blob/master/AutoEncoder/autoencoder.ipynb\n",
    "- data: https://meatba11.medium.com/kaggle-competition-ncaa-match-prediction-65b46b8f3892\n",
    "- cll data: /media/sergiun/workpc/tmp/iomics/cll_data\n",
    "\n",
    "https://www.kaggle.com/saivarunk/dimensionality-reduction-using-keras-auto-encoder"
   ]
  },
  {
   "cell_type": "code",
   "execution_count": 1,
   "metadata": {},
   "outputs": [],
   "source": [
    "%matplotlib inline\n",
    "\n",
    "from keras.layers import Input, Dense\n",
    "from keras.models import Model\n",
    "\n",
    "import numpy as np\n",
    "import matplotlib.pyplot as plt\n",
    "\n",
    "import pandas as pd\n",
    "from sklearn.model_selection import train_test_split"
   ]
  },
  {
   "cell_type": "code",
   "execution_count": 2,
   "metadata": {},
   "outputs": [
    {
     "name": "stdout",
     "output_type": "stream",
     "text": [
      "(9248, 135)\n"
     ]
    }
   ],
   "source": [
    "data_loc = \"/media/sergiun/workpc/tmp/iomics/cll_data/\"\n",
    "import pandas as pd\n",
    "df_meth = pd.read_csv(data_loc + \"CLL_data_Methylation.csv\", index_col=0)\n",
    "df_mrna = pd.read_csv(data_loc + \"CLL_data_mRNA.csv\", index_col=0)\n",
    "\n",
    "# drop nans by column\n",
    "df_mrna = df_mrna.dropna(axis='columns')\n",
    "df_meth = df_meth.dropna(axis='columns')\n",
    "\n",
    "X = pd.concat([df_mrna, df_meth])\n",
    "X = X.dropna(axis='columns')\n",
    "print(X.shape)\n",
    "\n",
    "#cols = [\"Methylation.\" + column[5:] for column in df_mrna.columns.values]\n",
    "#df_meth = df_meth.filter(cols)\n",
    "#cols = [\"mRNA.\" + column[12:] for column in df_meth.columns.values]\n",
    "#df_mrna = df_mrna.filter(cols)\n",
    "#print(df_meth.shape, df_mrna.shape)\n",
    "\n",
    "#s1_train = df_mrna.transpose()\n",
    "#s2_train = df_meth.transpose()\n",
    "\n",
    "#print(pd.isnull(s1_train).sum().sum(),pd.isnull(s2_train).sum().sum())\n",
    "#X = np.concatenate((s1_train,s2_train), axis=-1)\n",
    "\n",
    "X_train, X_test = train_test_split(X)"
   ]
  },
  {
   "cell_type": "code",
   "execution_count": 3,
   "metadata": {},
   "outputs": [
    {
     "name": "stdout",
     "output_type": "stream",
     "text": [
      "(6936, 135) (2312, 135)\n"
     ]
    }
   ],
   "source": [
    "print(X_train.shape, X_test.shape)"
   ]
  },
  {
   "cell_type": "code",
   "execution_count": 12,
   "metadata": {},
   "outputs": [
    {
     "data": {
      "text/html": [
       "<div>\n",
       "<style scoped>\n",
       "    .dataframe tbody tr th:only-of-type {\n",
       "        vertical-align: middle;\n",
       "    }\n",
       "\n",
       "    .dataframe tbody tr th {\n",
       "        vertical-align: top;\n",
       "    }\n",
       "\n",
       "    .dataframe thead th {\n",
       "        text-align: right;\n",
       "    }\n",
       "</style>\n",
       "<table border=\"1\" class=\"dataframe\">\n",
       "  <thead>\n",
       "    <tr style=\"text-align: right;\">\n",
       "      <th></th>\n",
       "      <th>Unnamed: 0</th>\n",
       "      <th>H045</th>\n",
       "      <th>H109</th>\n",
       "      <th>H024</th>\n",
       "      <th>H056</th>\n",
       "      <th>H079</th>\n",
       "      <th>H164</th>\n",
       "      <th>H059</th>\n",
       "      <th>H167</th>\n",
       "      <th>H113</th>\n",
       "      <th>...</th>\n",
       "      <th>H178</th>\n",
       "      <th>H166</th>\n",
       "      <th>H174</th>\n",
       "      <th>H177</th>\n",
       "      <th>H259</th>\n",
       "      <th>H175</th>\n",
       "      <th>H179</th>\n",
       "      <th>H050</th>\n",
       "      <th>H180</th>\n",
       "      <th>H229</th>\n",
       "    </tr>\n",
       "  </thead>\n",
       "  <tbody>\n",
       "    <tr>\n",
       "      <th>0</th>\n",
       "      <td>cg10146935</td>\n",
       "      <td>1.811086</td>\n",
       "      <td>-3.997508</td>\n",
       "      <td>-2.844313</td>\n",
       "      <td>-3.338656</td>\n",
       "      <td>-0.019362</td>\n",
       "      <td>-2.485997</td>\n",
       "      <td>-1.460211</td>\n",
       "      <td>-4.952291</td>\n",
       "      <td>-2.980209</td>\n",
       "      <td>...</td>\n",
       "      <td>-5.077259</td>\n",
       "      <td>-0.625954</td>\n",
       "      <td>-4.918812</td>\n",
       "      <td>-4.727493</td>\n",
       "      <td>-5.193812</td>\n",
       "      <td>-4.437189</td>\n",
       "      <td>-5.060459</td>\n",
       "      <td>NaN</td>\n",
       "      <td>NaN</td>\n",
       "      <td>NaN</td>\n",
       "    </tr>\n",
       "    <tr>\n",
       "      <th>1</th>\n",
       "      <td>cg26837773</td>\n",
       "      <td>-5.172572</td>\n",
       "      <td>1.594870</td>\n",
       "      <td>0.161170</td>\n",
       "      <td>-2.093433</td>\n",
       "      <td>3.748980</td>\n",
       "      <td>0.060530</td>\n",
       "      <td>-3.472232</td>\n",
       "      <td>0.547577</td>\n",
       "      <td>2.440098</td>\n",
       "      <td>...</td>\n",
       "      <td>-4.821910</td>\n",
       "      <td>-0.858200</td>\n",
       "      <td>3.214163</td>\n",
       "      <td>2.036858</td>\n",
       "      <td>-0.816088</td>\n",
       "      <td>4.043775</td>\n",
       "      <td>-2.345652</td>\n",
       "      <td>NaN</td>\n",
       "      <td>NaN</td>\n",
       "      <td>NaN</td>\n",
       "    </tr>\n",
       "    <tr>\n",
       "      <th>2</th>\n",
       "      <td>cg17801765</td>\n",
       "      <td>5.411526</td>\n",
       "      <td>5.412693</td>\n",
       "      <td>0.365706</td>\n",
       "      <td>0.373634</td>\n",
       "      <td>5.412010</td>\n",
       "      <td>5.268908</td>\n",
       "      <td>-4.989999</td>\n",
       "      <td>5.337081</td>\n",
       "      <td>0.749546</td>\n",
       "      <td>...</td>\n",
       "      <td>4.873615</td>\n",
       "      <td>0.753594</td>\n",
       "      <td>-0.628446</td>\n",
       "      <td>-4.584779</td>\n",
       "      <td>0.547390</td>\n",
       "      <td>4.086683</td>\n",
       "      <td>0.135581</td>\n",
       "      <td>NaN</td>\n",
       "      <td>NaN</td>\n",
       "      <td>NaN</td>\n",
       "    </tr>\n",
       "    <tr>\n",
       "      <th>3</th>\n",
       "      <td>cg13244315</td>\n",
       "      <td>-0.118825</td>\n",
       "      <td>1.043871</td>\n",
       "      <td>-4.219236</td>\n",
       "      <td>-1.592196</td>\n",
       "      <td>1.416418</td>\n",
       "      <td>4.659831</td>\n",
       "      <td>-0.461120</td>\n",
       "      <td>-1.918861</td>\n",
       "      <td>-1.237015</td>\n",
       "      <td>...</td>\n",
       "      <td>4.069311</td>\n",
       "      <td>3.287555</td>\n",
       "      <td>2.059305</td>\n",
       "      <td>2.244938</td>\n",
       "      <td>-0.210781</td>\n",
       "      <td>1.388141</td>\n",
       "      <td>-3.354897</td>\n",
       "      <td>NaN</td>\n",
       "      <td>NaN</td>\n",
       "      <td>NaN</td>\n",
       "    </tr>\n",
       "    <tr>\n",
       "      <th>4</th>\n",
       "      <td>cg06181703</td>\n",
       "      <td>5.120384</td>\n",
       "      <td>1.279480</td>\n",
       "      <td>0.721100</td>\n",
       "      <td>4.047059</td>\n",
       "      <td>5.237422</td>\n",
       "      <td>1.761247</td>\n",
       "      <td>4.543997</td>\n",
       "      <td>4.939463</td>\n",
       "      <td>4.781683</td>\n",
       "      <td>...</td>\n",
       "      <td>4.123456</td>\n",
       "      <td>2.817449</td>\n",
       "      <td>2.874335</td>\n",
       "      <td>-3.451370</td>\n",
       "      <td>-0.025308</td>\n",
       "      <td>4.143205</td>\n",
       "      <td>-3.581970</td>\n",
       "      <td>NaN</td>\n",
       "      <td>NaN</td>\n",
       "      <td>NaN</td>\n",
       "    </tr>\n",
       "  </tbody>\n",
       "</table>\n",
       "<p>5 rows × 201 columns</p>\n",
       "</div>"
      ],
      "text/plain": [
       "   Unnamed: 0      H045      H109      H024      H056      H079      H164  \\\n",
       "0  cg10146935  1.811086 -3.997508 -2.844313 -3.338656 -0.019362 -2.485997   \n",
       "1  cg26837773 -5.172572  1.594870  0.161170 -2.093433  3.748980  0.060530   \n",
       "2  cg17801765  5.411526  5.412693  0.365706  0.373634  5.412010  5.268908   \n",
       "3  cg13244315 -0.118825  1.043871 -4.219236 -1.592196  1.416418  4.659831   \n",
       "4  cg06181703  5.120384  1.279480  0.721100  4.047059  5.237422  1.761247   \n",
       "\n",
       "       H059      H167      H113  ...      H178      H166      H174      H177  \\\n",
       "0 -1.460211 -4.952291 -2.980209  ... -5.077259 -0.625954 -4.918812 -4.727493   \n",
       "1 -3.472232  0.547577  2.440098  ... -4.821910 -0.858200  3.214163  2.036858   \n",
       "2 -4.989999  5.337081  0.749546  ...  4.873615  0.753594 -0.628446 -4.584779   \n",
       "3 -0.461120 -1.918861 -1.237015  ...  4.069311  3.287555  2.059305  2.244938   \n",
       "4  4.543997  4.939463  4.781683  ...  4.123456  2.817449  2.874335 -3.451370   \n",
       "\n",
       "       H259      H175      H179  H050  H180  H229  \n",
       "0 -5.193812 -4.437189 -5.060459   NaN   NaN   NaN  \n",
       "1 -0.816088  4.043775 -2.345652   NaN   NaN   NaN  \n",
       "2  0.547390  4.086683  0.135581   NaN   NaN   NaN  \n",
       "3 -0.210781  1.388141 -3.354897   NaN   NaN   NaN  \n",
       "4 -0.025308  4.143205 -3.581970   NaN   NaN   NaN  \n",
       "\n",
       "[5 rows x 201 columns]"
      ]
     },
     "execution_count": 12,
     "metadata": {},
     "output_type": "execute_result"
    }
   ],
   "source": [
    "data_loc = \"/media/sergiun/workpc/tmp/iomics/cll_data/\"\n",
    "import pandas as pd\n",
    "df_meth = pd.read_csv(data_loc + \"CLL_data_Methylation.csv\")\n",
    "df_meth.head()"
   ]
  },
  {
   "cell_type": "code",
   "execution_count": 4,
   "metadata": {},
   "outputs": [],
   "source": []
  },
  {
   "cell_type": "code",
   "execution_count": 6,
   "metadata": {},
   "outputs": [],
   "source": [
    "# reduce to 40 features\n",
    "encoding_dim = 20\n",
    "\n",
    "input_df = Input(shape=(135,))\n",
    "encoded = Dense(encoding_dim, activation='relu')(input_df)\n",
    "decoded = Dense(135, activation='sigmoid')(encoded)\n",
    "\n",
    "# encoder\n",
    "autoencoder = Model(input_df, decoded)\n",
    "\n",
    "# intermediate result\n",
    "encoder = Model(input_df, encoded)\n",
    "\n",
    "autoencoder.compile(optimizer='adadelta', loss='mean_squared_error')"
   ]
  },
  {
   "cell_type": "code",
   "execution_count": null,
   "metadata": {},
   "outputs": [],
   "source": [
    "history = autoencoder.fit(X_train, X_train,\n",
    "                epochs=450,\n",
    "                batch_size=256,\n",
    "                shuffle=True,\n",
    "                validation_data=(X_test, X_test))"
   ]
  },
  {
   "cell_type": "code",
   "execution_count": 8,
   "metadata": {},
   "outputs": [
    {
     "data": {
      "text/plain": [
       "<tf.Tensor 'dense_4/Relu:0' shape=(None, 20) dtype=float32>"
      ]
     },
     "execution_count": 8,
     "metadata": {},
     "output_type": "execute_result"
    }
   ],
   "source": [
    "encoded"
   ]
  },
  {
   "cell_type": "code",
   "execution_count": 9,
   "metadata": {},
   "outputs": [
    {
     "ename": "AttributeError",
     "evalue": "'Tensor' object has no attribute 'get_weights'",
     "output_type": "error",
     "traceback": [
      "\u001b[0;31m---------------------------------------------------------------------------\u001b[0m",
      "\u001b[0;31mAttributeError\u001b[0m                            Traceback (most recent call last)",
      "\u001b[0;32m<ipython-input-9-195716015f28>\u001b[0m in \u001b[0;36m<module>\u001b[0;34m\u001b[0m\n\u001b[0;32m----> 1\u001b[0;31m \u001b[0mencoded\u001b[0m\u001b[0;34m.\u001b[0m\u001b[0mget_weights\u001b[0m\u001b[0;34m(\u001b[0m\u001b[0;34m)\u001b[0m\u001b[0;34m\u001b[0m\u001b[0;34m\u001b[0m\u001b[0m\n\u001b[0m",
      "\u001b[0;31mAttributeError\u001b[0m: 'Tensor' object has no attribute 'get_weights'"
     ]
    }
   ],
   "source": [
    "encoded.get_weights()"
   ]
  },
  {
   "cell_type": "code",
   "execution_count": 12,
   "metadata": {},
   "outputs": [
    {
     "data": {
      "text/plain": [
       "<tensorflow.python.keras.engine.functional.Functional at 0x7f3b297ebd60>"
      ]
     },
     "execution_count": 12,
     "metadata": {},
     "output_type": "execute_result"
    }
   ],
   "source": [
    "encoder"
   ]
  },
  {
   "cell_type": "code",
   "execution_count": 13,
   "metadata": {},
   "outputs": [
    {
     "data": {
      "text/plain": [
       "<tensorflow.python.keras.engine.functional.Functional at 0x7f3b29943340>"
      ]
     },
     "execution_count": 13,
     "metadata": {},
     "output_type": "execute_result"
    }
   ],
   "source": [
    "autoencoder"
   ]
  },
  {
   "cell_type": "code",
   "execution_count": 16,
   "metadata": {},
   "outputs": [
    {
     "data": {
      "text/plain": [
       "[<tensorflow.python.keras.engine.input_layer.InputLayer at 0x7f3b297eb1c0>,\n",
       " <tensorflow.python.keras.layers.core.Dense at 0x7f3b297eb1f0>,\n",
       " <tensorflow.python.keras.layers.core.Dense at 0x7f3b297ebac0>]"
      ]
     },
     "execution_count": 16,
     "metadata": {},
     "output_type": "execute_result"
    }
   ],
   "source": [
    "autoencoder.layers"
   ]
  },
  {
   "cell_type": "code",
   "execution_count": 14,
   "metadata": {},
   "outputs": [],
   "source": [
    "weights = [layer.get_weights() for layer in autoencoder.layers]"
   ]
  },
  {
   "cell_type": "code",
   "execution_count": 27,
   "metadata": {},
   "outputs": [
    {
     "name": "stdout",
     "output_type": "stream",
     "text": [
      "weights\n",
      "2\n",
      "135 (135, 20) [[ 0.10079226  0.1901159   0.10887439 ...  0.0257957  -0.0048612\n",
      "  -0.03749699]\n",
      " [-0.07228259 -0.15518847  0.16159578 ...  0.05914636  0.05390287\n",
      "  -0.06334154]\n",
      " [-0.13028744  0.14800234 -0.04570466 ... -0.03677541  0.18893497\n",
      "   0.00967223]\n",
      " ...\n",
      " [ 0.04784469 -0.03089605  0.12845954 ...  0.10411295  0.1297238\n",
      "  -0.03053636]\n",
      " [ 0.01112589  0.01996259  0.19052981 ... -0.07620179  0.16358472\n",
      "  -0.09604552]\n",
      " [ 0.125139    0.08153974  0.05731371 ... -0.11809239 -0.11167922\n",
      "  -0.07032198]]\n",
      "20 (20,) [ 2.26381253e-02 -2.83680880e-03  1.49067258e-02  9.63987876e-03\n",
      " -6.62457955e-04  1.11966282e-02 -1.51424843e-03  4.75568260e-04\n",
      " -1.44357206e-02  1.68226510e-02  8.67040799e-05  4.66341339e-03\n",
      "  1.24121234e-02  7.66261423e-04 -1.24689145e-02 -1.00893471e-02\n",
      "  7.33122043e-03  1.99186634e-02  2.97983028e-02  1.35804024e-02]\n",
      "weights\n",
      "2\n",
      "20 (20, 135) [[ 0.14339943 -0.01015244  0.12258269 ...  0.02744631  0.18035385\n",
      "   0.18661772]\n",
      " [ 0.04609731  0.07309844 -0.04638461 ...  0.01742407 -0.05459707\n",
      "  -0.0206424 ]\n",
      " [ 0.10657506  0.01646407  0.11988455 ...  0.17912397  0.0147047\n",
      "  -0.11429995]\n",
      " ...\n",
      " [-0.0166788  -0.19702952 -0.13929793 ... -0.10939875 -0.1933316\n",
      "   0.13721061]\n",
      " [ 0.01265118  0.07452213  0.1486507  ... -0.15229343  0.04386226\n",
      "  -0.00594159]\n",
      " [ 0.14136308 -0.11412515 -0.04344475 ...  0.12416889  0.03746138\n",
      "  -0.21346323]]\n",
      "135 (135,) [ 7.31909741e-03  1.37187457e-02 -1.23918857e-02  3.31842783e-03\n",
      "  8.20962340e-03 -3.52868391e-03 -4.41330997e-03  7.92436581e-03\n",
      "  2.33277003e-03  3.80177493e-03 -8.36284086e-03 -4.21597110e-03\n",
      " -1.37914289e-02 -1.11412210e-02  1.10397814e-03  3.56851233e-04\n",
      " -9.81054828e-03  4.17862041e-03  8.79995897e-03  2.94301799e-03\n",
      "  4.86916909e-03  6.73302077e-03  1.02736624e-02  6.38103066e-03\n",
      "  4.42615664e-03 -8.41429937e-06  2.08146987e-04 -9.49528068e-03\n",
      " -1.54684950e-02 -4.15321719e-03 -3.69311287e-03  7.56058376e-03\n",
      " -2.05931347e-02 -6.96165534e-03 -7.06122071e-03  4.88330331e-03\n",
      "  7.04696029e-03 -8.77544342e-04  1.77077588e-03 -9.87235364e-03\n",
      " -1.30064758e-02 -9.81974695e-03  1.66380610e-02 -5.68029704e-03\n",
      " -1.07711041e-03 -1.48073991e-03  9.54604615e-03  3.72848008e-03\n",
      "  1.79249309e-02  1.33592011e-02 -2.02834047e-03 -1.13372160e-02\n",
      "  6.77471608e-03  7.44842971e-03  3.92762432e-03  2.22149398e-03\n",
      "  1.82038371e-03  1.85885245e-03 -9.32672340e-03  9.10964049e-03\n",
      "  1.20186908e-02 -1.19037917e-02 -1.04281260e-03 -1.72725599e-02\n",
      "  1.21861706e-02  2.02577375e-03  9.05363075e-03  1.14791992e-03\n",
      " -6.45228801e-03  1.52661512e-03 -1.33799473e-02 -3.30142886e-03\n",
      " -2.31649424e-03 -3.70196765e-03 -5.32009546e-03  3.67856422e-03\n",
      "  1.26528079e-02  4.44872119e-03 -4.09385219e-04  1.67594030e-02\n",
      "  9.90765821e-03 -2.59879977e-03  1.08207238e-03  4.29297425e-03\n",
      "  6.78937184e-03 -5.93864778e-03 -7.21865613e-03 -2.04508379e-03\n",
      "  3.36052245e-03 -6.05645403e-03 -4.41341149e-03  1.10131945e-03\n",
      " -1.69024698e-03  3.20645398e-03 -1.31324427e-02 -1.46484086e-02\n",
      " -6.26464142e-03  5.30927256e-03  1.43461395e-02  1.23962518e-02\n",
      "  7.87266809e-03 -8.14220030e-03  6.07408723e-03 -1.34203152e-03\n",
      "  4.69711516e-03  1.20894741e-02  2.42089402e-04 -1.03377989e-02\n",
      "  7.67678116e-03 -5.37259690e-03  6.85185660e-03  1.22481678e-02\n",
      " -2.04644259e-03  1.15266591e-02  1.05123837e-02  8.48802831e-03\n",
      " -5.18537126e-03 -3.22314445e-03  5.87757863e-03 -5.67342713e-03\n",
      " -1.58083870e-03  1.37913851e-02  7.87025411e-03  1.18027152e-02\n",
      " -6.40079333e-03 -6.45828666e-04  3.62172327e-03  1.28990635e-02\n",
      "  1.18896607e-02 -3.98756564e-03  1.05100293e-02 -5.47138834e-03\n",
      "  8.95645935e-03 -1.24001671e-02  1.48302019e-02]\n"
     ]
    }
   ],
   "source": [
    "for w in weights:\n",
    "    if len(w)>1:\n",
    "        print(\"weights\")\n",
    "        print(len(w))\n",
    "        print(len(w[0]), w[0].shape, w[0])\n",
    "        print(len(w[1]), w[1].shape, w[1])\n",
    "    "
   ]
  },
  {
   "cell_type": "code",
   "execution_count": 30,
   "metadata": {},
   "outputs": [
    {
     "name": "stdout",
     "output_type": "stream",
     "text": [
      "dense_4/kernel:0 (135, 20)\n",
      "dense_4/kernel:0 [[ 0.10079226  0.1901159   0.10887439 ...  0.0257957  -0.0048612\n",
      "  -0.03749699]\n",
      " [-0.07228259 -0.15518847  0.16159578 ...  0.05914636  0.05390287\n",
      "  -0.06334154]\n",
      " [-0.13028744  0.14800234 -0.04570466 ... -0.03677541  0.18893497\n",
      "   0.00967223]\n",
      " ...\n",
      " [ 0.04784469 -0.03089605  0.12845954 ...  0.10411295  0.1297238\n",
      "  -0.03053636]\n",
      " [ 0.01112589  0.01996259  0.19052981 ... -0.07620179  0.16358472\n",
      "  -0.09604552]\n",
      " [ 0.125139    0.08153974  0.05731371 ... -0.11809239 -0.11167922\n",
      "  -0.07032198]]\n",
      "dense_4/bias:0 (20,)\n",
      "dense_4/bias:0 [ 2.26381253e-02 -2.83680880e-03  1.49067258e-02  9.63987876e-03\n",
      " -6.62457955e-04  1.11966282e-02 -1.51424843e-03  4.75568260e-04\n",
      " -1.44357206e-02  1.68226510e-02  8.67040799e-05  4.66341339e-03\n",
      "  1.24121234e-02  7.66261423e-04 -1.24689145e-02 -1.00893471e-02\n",
      "  7.33122043e-03  1.99186634e-02  2.97983028e-02  1.35804024e-02]\n",
      "dense_5/kernel:0 (20, 135)\n",
      "dense_5/kernel:0 [[ 0.14339943 -0.01015244  0.12258269 ...  0.02744631  0.18035385\n",
      "   0.18661772]\n",
      " [ 0.04609731  0.07309844 -0.04638461 ...  0.01742407 -0.05459707\n",
      "  -0.0206424 ]\n",
      " [ 0.10657506  0.01646407  0.11988455 ...  0.17912397  0.0147047\n",
      "  -0.11429995]\n",
      " ...\n",
      " [-0.0166788  -0.19702952 -0.13929793 ... -0.10939875 -0.1933316\n",
      "   0.13721061]\n",
      " [ 0.01265118  0.07452213  0.1486507  ... -0.15229343  0.04386226\n",
      "  -0.00594159]\n",
      " [ 0.14136308 -0.11412515 -0.04344475 ...  0.12416889  0.03746138\n",
      "  -0.21346323]]\n",
      "dense_5/bias:0 (135,)\n",
      "dense_5/bias:0 [ 7.31909741e-03  1.37187457e-02 -1.23918857e-02  3.31842783e-03\n",
      "  8.20962340e-03 -3.52868391e-03 -4.41330997e-03  7.92436581e-03\n",
      "  2.33277003e-03  3.80177493e-03 -8.36284086e-03 -4.21597110e-03\n",
      " -1.37914289e-02 -1.11412210e-02  1.10397814e-03  3.56851233e-04\n",
      " -9.81054828e-03  4.17862041e-03  8.79995897e-03  2.94301799e-03\n",
      "  4.86916909e-03  6.73302077e-03  1.02736624e-02  6.38103066e-03\n",
      "  4.42615664e-03 -8.41429937e-06  2.08146987e-04 -9.49528068e-03\n",
      " -1.54684950e-02 -4.15321719e-03 -3.69311287e-03  7.56058376e-03\n",
      " -2.05931347e-02 -6.96165534e-03 -7.06122071e-03  4.88330331e-03\n",
      "  7.04696029e-03 -8.77544342e-04  1.77077588e-03 -9.87235364e-03\n",
      " -1.30064758e-02 -9.81974695e-03  1.66380610e-02 -5.68029704e-03\n",
      " -1.07711041e-03 -1.48073991e-03  9.54604615e-03  3.72848008e-03\n",
      "  1.79249309e-02  1.33592011e-02 -2.02834047e-03 -1.13372160e-02\n",
      "  6.77471608e-03  7.44842971e-03  3.92762432e-03  2.22149398e-03\n",
      "  1.82038371e-03  1.85885245e-03 -9.32672340e-03  9.10964049e-03\n",
      "  1.20186908e-02 -1.19037917e-02 -1.04281260e-03 -1.72725599e-02\n",
      "  1.21861706e-02  2.02577375e-03  9.05363075e-03  1.14791992e-03\n",
      " -6.45228801e-03  1.52661512e-03 -1.33799473e-02 -3.30142886e-03\n",
      " -2.31649424e-03 -3.70196765e-03 -5.32009546e-03  3.67856422e-03\n",
      "  1.26528079e-02  4.44872119e-03 -4.09385219e-04  1.67594030e-02\n",
      "  9.90765821e-03 -2.59879977e-03  1.08207238e-03  4.29297425e-03\n",
      "  6.78937184e-03 -5.93864778e-03 -7.21865613e-03 -2.04508379e-03\n",
      "  3.36052245e-03 -6.05645403e-03 -4.41341149e-03  1.10131945e-03\n",
      " -1.69024698e-03  3.20645398e-03 -1.31324427e-02 -1.46484086e-02\n",
      " -6.26464142e-03  5.30927256e-03  1.43461395e-02  1.23962518e-02\n",
      "  7.87266809e-03 -8.14220030e-03  6.07408723e-03 -1.34203152e-03\n",
      "  4.69711516e-03  1.20894741e-02  2.42089402e-04 -1.03377989e-02\n",
      "  7.67678116e-03 -5.37259690e-03  6.85185660e-03  1.22481678e-02\n",
      " -2.04644259e-03  1.15266591e-02  1.05123837e-02  8.48802831e-03\n",
      " -5.18537126e-03 -3.22314445e-03  5.87757863e-03 -5.67342713e-03\n",
      " -1.58083870e-03  1.37913851e-02  7.87025411e-03  1.18027152e-02\n",
      " -6.40079333e-03 -6.45828666e-04  3.62172327e-03  1.28990635e-02\n",
      "  1.18896607e-02 -3.98756564e-03  1.05100293e-02 -5.47138834e-03\n",
      "  8.95645935e-03 -1.24001671e-02  1.48302019e-02]\n"
     ]
    }
   ],
   "source": [
    "model = autoencoder\n",
    "names = [weight.name for layer in model.layers for weight in layer.weights]\n",
    "weights = model.get_weights()\n",
    "\n",
    "for name, weight in zip(names, weights):\n",
    "    print(name, weight.shape)\n",
    "    print(name, weight)"
   ]
  },
  {
   "cell_type": "raw",
   "metadata": {},
   "source": [
    "https://datascience.stackexchange.com/questions/47895/getting-the-weights-of-intermediate-layer-in-keras\n"
   ]
  },
  {
   "cell_type": "code",
   "execution_count": 32,
   "metadata": {},
   "outputs": [
    {
     "name": "stdout",
     "output_type": "stream",
     "text": [
      "dict_keys(['loss', 'val_loss'])\n"
     ]
    },
    {
     "ename": "KeyError",
     "evalue": "'accuracy'",
     "output_type": "error",
     "traceback": [
      "\u001b[0;31m---------------------------------------------------------------------------\u001b[0m",
      "\u001b[0;31mKeyError\u001b[0m                                  Traceback (most recent call last)",
      "\u001b[0;32m<ipython-input-32-1a908943a52d>\u001b[0m in \u001b[0;36m<module>\u001b[0;34m\u001b[0m\n\u001b[1;32m      4\u001b[0m \u001b[0mprint\u001b[0m\u001b[0;34m(\u001b[0m\u001b[0mhistory\u001b[0m\u001b[0;34m.\u001b[0m\u001b[0mhistory\u001b[0m\u001b[0;34m.\u001b[0m\u001b[0mkeys\u001b[0m\u001b[0;34m(\u001b[0m\u001b[0;34m)\u001b[0m\u001b[0;34m)\u001b[0m\u001b[0;34m\u001b[0m\u001b[0;34m\u001b[0m\u001b[0m\n\u001b[1;32m      5\u001b[0m \u001b[0;31m# summarize history for accuracy\u001b[0m\u001b[0;34m\u001b[0m\u001b[0;34m\u001b[0m\u001b[0;34m\u001b[0m\u001b[0m\n\u001b[0;32m----> 6\u001b[0;31m \u001b[0mplt\u001b[0m\u001b[0;34m.\u001b[0m\u001b[0mplot\u001b[0m\u001b[0;34m(\u001b[0m\u001b[0mhistory\u001b[0m\u001b[0;34m.\u001b[0m\u001b[0mhistory\u001b[0m\u001b[0;34m[\u001b[0m\u001b[0;34m'accuracy'\u001b[0m\u001b[0;34m]\u001b[0m\u001b[0;34m)\u001b[0m\u001b[0;34m\u001b[0m\u001b[0;34m\u001b[0m\u001b[0m\n\u001b[0m\u001b[1;32m      7\u001b[0m \u001b[0mplt\u001b[0m\u001b[0;34m.\u001b[0m\u001b[0mplot\u001b[0m\u001b[0;34m(\u001b[0m\u001b[0mhistory\u001b[0m\u001b[0;34m.\u001b[0m\u001b[0mhistory\u001b[0m\u001b[0;34m[\u001b[0m\u001b[0;34m'val_accuracy'\u001b[0m\u001b[0;34m]\u001b[0m\u001b[0;34m)\u001b[0m\u001b[0;34m\u001b[0m\u001b[0;34m\u001b[0m\u001b[0m\n\u001b[1;32m      8\u001b[0m \u001b[0mplt\u001b[0m\u001b[0;34m.\u001b[0m\u001b[0mtitle\u001b[0m\u001b[0;34m(\u001b[0m\u001b[0;34m'model accuracy'\u001b[0m\u001b[0;34m)\u001b[0m\u001b[0;34m\u001b[0m\u001b[0;34m\u001b[0m\u001b[0m\n",
      "\u001b[0;31mKeyError\u001b[0m: 'accuracy'"
     ]
    }
   ],
   "source": [
    "import matplotlib.pyplot as plt\n",
    "print(history.history.keys())\n",
    "#  \"Accuracy\"\n",
    "plt.plot(history.history['acc'])\n",
    "plt.plot(history.history['val_acc'])\n",
    "plt.title('model accuracy')\n",
    "plt.ylabel('accuracy')\n",
    "plt.xlabel('epoch')\n",
    "plt.legend(['train', 'validation'], loc='upper left')\n",
    "plt.show()\n",
    "# \"Loss\"\n",
    "plt.plot(history.history['loss'])\n",
    "plt.plot(history.history['val_loss'])\n",
    "plt.title('model loss')\n",
    "plt.ylabel('loss')\n",
    "plt.xlabel('epoch')\n",
    "plt.legend(['train', 'validation'], loc='upper left')\n",
    "plt.show()"
   ]
  },
  {
   "cell_type": "code",
   "execution_count": 35,
   "metadata": {},
   "outputs": [
    {
     "name": "stdout",
     "output_type": "stream",
     "text": [
      "dict_keys(['loss', 'val_loss'])\n"
     ]
    },
    {
     "data": {
      "image/png": "[encoded data removed]",
      "text/plain": [
       "<Figure size 432x288 with 1 Axes>"
      ]
     },
     "metadata": {
      "needs_background": "light"
     },
     "output_type": "display_data"
    }
   ],
   "source": [
    "import matplotlib.pyplot as plt\n",
    "print(history.history.keys())\n",
    "\n",
    "# \"Loss\"\n",
    "plt.plot(history.history['loss'])\n",
    "plt.plot(history.history['val_loss'])\n",
    "plt.title('model loss')\n",
    "plt.ylabel('loss')\n",
    "plt.xlabel('epoch')\n",
    "plt.legend(['train', 'validation'], loc='upper left')\n",
    "plt.show()"
   ]
  },
  {
   "cell_type": "code",
   "execution_count": null,
   "metadata": {},
   "outputs": [],
   "source": [
    "history.history"
   ]
  },
  {
   "cell_type": "code",
   "execution_count": null,
   "metadata": {},
   "outputs": [],
   "source": []
  }
 ],
 "metadata": {
  "kernelspec": {
   "display_name": "Python 3",
   "language": "python",
   "name": "python3"
  },
  "language_info": {
   "codemirror_mode": {
    "name": "ipython",
    "version": 3
   },
   "file_extension": ".py",
   "mimetype": "text/x-python",
   "name": "python",
   "nbconvert_exporter": "python",
   "pygments_lexer": "ipython3",
   "version": "3.7.10"
  }
 },
 "nbformat": 4,
 "nbformat_minor": 4
}
